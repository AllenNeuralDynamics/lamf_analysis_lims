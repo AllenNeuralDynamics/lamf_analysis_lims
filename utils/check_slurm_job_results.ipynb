{
 "cells": [
  {
   "cell_type": "markdown",
   "metadata": {},
   "source": [
    "# Check slurm job"
   ]
  },
  {
   "cell_type": "code",
   "execution_count": 2,
   "metadata": {},
   "outputs": [],
   "source": [
    "import os\n",
    "from pathlib import Path\n",
    "import numpy as np\n",
    "from datetime import datetime\n",
    "from pprint import pprint"
   ]
  },
  {
   "cell_type": "code",
   "execution_count": 21,
   "metadata": {},
   "outputs": [],
   "source": [
    "# job_records_dir = Path(r'\\\\allen\\programs\\mindscope\\workgroups\\learning\\ophys\\zdrift\\job_records')\n",
    "job_records_dir = Path(r'\\\\allen\\programs\\mindscope\\workgroups\\learning\\qc_pupil\\job_records')\n",
    "\n",
    "# filter by created time, if needed\n",
    "time_since = datetime(2024, 4, 1, 0, 0, 0)\n",
    "# from job_dir get files created after time_since\n",
    "files = [f for f in job_records_dir.glob('**/*') if f.is_file() and f.stat().st_ctime > time_since.timestamp()]"
   ]
  },
  {
   "cell_type": "code",
   "execution_count": 22,
   "metadata": {},
   "outputs": [
    {
     "data": {
      "text/plain": [
       "304"
      ]
     },
     "execution_count": 22,
     "metadata": {},
     "output_type": "execute_result"
    }
   ],
   "source": [
    "len(files)"
   ]
  },
  {
   "cell_type": "code",
   "execution_count": 5,
   "metadata": {},
   "outputs": [],
   "source": [
    "file = files[0]\n",
    "with open(file, 'r') as f:\n",
    "    lines = f.readlines()"
   ]
  },
  {
   "cell_type": "code",
   "execution_count": 9,
   "metadata": {},
   "outputs": [
    {
     "data": {
      "text/plain": [
       "True"
      ]
     },
     "execution_count": 9,
     "metadata": {},
     "output_type": "execute_result"
    }
   ],
   "source": [
    "success_word = 'total time ='\n",
    "np.array([success_word in l for l in lines]).any()"
   ]
  },
  {
   "cell_type": "code",
   "execution_count": 13,
   "metadata": {},
   "outputs": [
    {
     "data": {
      "text/plain": [
       "1170189893"
      ]
     },
     "execution_count": 13,
     "metadata": {},
     "output_type": "execute_result"
    }
   ],
   "source": [
    "int(file.name.split('_')[-1].split('.')[0])"
   ]
  },
  {
   "cell_type": "code",
   "execution_count": 23,
   "metadata": {},
   "outputs": [
    {
     "data": {
      "text/plain": [
       "244"
      ]
     },
     "execution_count": 23,
     "metadata": {},
     "output_type": "execute_result"
    }
   ],
   "source": [
    "# read and find the ones that failed\n",
    "failed_files = []\n",
    "succeeded_osids = []\n",
    "failed_osids = []\n",
    "success_word = 'total time ='\n",
    "for file in files:\n",
    "    with open(file, 'r') as f:\n",
    "        lines = f.readlines()\n",
    "        if np.array([success_word in l for l in lines]).any():\n",
    "            succeeded_osids.append(int(file.name.split('_')[-1].split('.')[0]))\n",
    "        else:\n",
    "            failed_files.append(file)\n",
    "            failed_osids.append(int(file.name.split('_')[-1].split('.')[0]))\n",
    "len(succeeded_osids)\n"
   ]
  },
  {
   "cell_type": "code",
   "execution_count": 24,
   "metadata": {},
   "outputs": [
    {
     "data": {
      "text/plain": [
       "60"
      ]
     },
     "execution_count": 24,
     "metadata": {},
     "output_type": "execute_result"
    }
   ],
   "source": [
    "len(failed_files)"
   ]
  },
  {
   "cell_type": "code",
   "execution_count": 25,
   "metadata": {},
   "outputs": [
    {
     "data": {
      "text/plain": [
       "array([ 839208243,  839514418,  840490733,  841778484,  842023261,\n",
       "        842364341,  843059122,  844469521,  845235947,  846871218,\n",
       "        847758278,  848401585,  848983781,  849304162,  850667270,\n",
       "        850894918,  851740017,  852070825,  853177377,  853416532,\n",
       "        855711263,  856201876,  863815473,  864458864,  865024413,\n",
       "        865854762,  866197765,  867027875,  868688430,  870352564,\n",
       "        870762788,  871526950,  871906231,  873247524,  874070091,\n",
       "        874616920,  875259383,  875508749,  876303107,  880498009,\n",
       "        880709154,  881094781,  882386411,  882674040,  882756028,\n",
       "        883619540,  884451806,  884613038,  885303356,  885557130,\n",
       "        885653926,  886130638,  886367984,  886806800,  887031077,\n",
       "        888009781,  888171877,  889042121,  889467038, 1240766002])"
      ]
     },
     "execution_count": 25,
     "metadata": {},
     "output_type": "execute_result"
    }
   ],
   "source": [
    "np.sort(failed_osids)"
   ]
  },
  {
   "cell_type": "code",
   "execution_count": 30,
   "metadata": {},
   "outputs": [
    {
     "name": "stdout",
     "output_type": "stream",
     "text": [
      "['==========================================\\n',\n",
      " 'SLURM_JOB_ID = 15552490\\n',\n",
      " 'Username = jinho.kim\\n',\n",
      " 'Group = 10513\\n',\n",
      " 'SLURM_JOB_NODELIST = n115\\n',\n",
      " '==========================================\\n',\n",
      " 'Traceback (most recent call last):\\n',\n",
      " '  File '\n",
      " '\"/home/jinho.kim/anaconda3/envs/allenhpc/lib/python3.8/site-packages/pandas/core/indexes/base.py\", '\n",
      " 'line 3803, in get_loc\\n',\n",
      " '    return self._engine.get_loc(casted_key)\\n',\n",
      " '  File \"pandas/_libs/index.pyx\", line 138, in '\n",
      " 'pandas._libs.index.IndexEngine.get_loc\\n',\n",
      " '  File \"pandas/_libs/index.pyx\", line 165, in '\n",
      " 'pandas._libs.index.IndexEngine.get_loc\\n',\n",
      " '  File \"pandas/_libs/hashtable_class_helper.pxi\", line 5745, in '\n",
      " 'pandas._libs.hashtable.PyObjectHashTable.get_item\\n',\n",
      " '  File \"pandas/_libs/hashtable_class_helper.pxi\", line 5753, in '\n",
      " 'pandas._libs.hashtable.PyObjectHashTable.get_item\\n',\n",
      " \"KeyError: 'filepath'\\n\",\n",
      " '\\n',\n",
      " 'The above exception was the direct cause of the following exception:\\n',\n",
      " '\\n',\n",
      " 'Traceback (most recent call last):\\n',\n",
      " '  File '\n",
      " '\"/home/jinho.kim/Github/lamf_ophys_analysis_dev/qc/behavior_data/save_pupil_movie_dlc_overlaid.py\", '\n",
      " 'line 82, in <module>\\n',\n",
      " '    create_save_pupil_dlc_movie(osid, save_dir)\\n',\n",
      " '  File '\n",
      " '\"/home/jinho.kim/Github/lamf_ophys_analysis_dev/qc/behavior_data/save_pupil_movie_dlc_overlaid.py\", '\n",
      " 'line 23, in create_save_pupil_dlc_movie\\n',\n",
      " '    df = '\n",
      " 'annotation_tools.read_DLC_h5file(from_lims.get_deepcut_h5_filepath(osid))\\n',\n",
      " '  File '\n",
      " '\"/home/jinho.kim/Github/mindscope_qc/brain_observatory_qc/data_access/from_lims.py\", '\n",
      " 'line 1944, in get_deepcut_h5_filepath\\n',\n",
      " '    filepath = get_well_known_file_path(\"\\'EyeDlcOutputFile\\'\", '\n",
      " 'ophys_session_id)\\n',\n",
      " '  File '\n",
      " '\"/home/jinho.kim/Github/mindscope_qc/brain_observatory_qc/data_access/from_lims.py\", '\n",
      " 'line 1473, in get_well_known_file_path\\n',\n",
      " '    filepath = get_filepath_from_realdict_object(RealDict_object)\\n',\n",
      " '  File '\n",
      " '\"/home/jinho.kim/Github/mindscope_qc/brain_observatory_qc/data_access/from_lims.py\", '\n",
      " 'line 1465, in get_filepath_from_realdict_object\\n',\n",
      " \"    filepath = realdict_object['filepath'][0]\\n\",\n",
      " '  File '\n",
      " '\"/home/jinho.kim/anaconda3/envs/allenhpc/lib/python3.8/site-packages/pandas/core/frame.py\", '\n",
      " 'line 3804, in __getitem__\\n',\n",
      " '    indexer = self.columns.get_loc(key)\\n',\n",
      " '  File '\n",
      " '\"/home/jinho.kim/anaconda3/envs/allenhpc/lib/python3.8/site-packages/pandas/core/indexes/base.py\", '\n",
      " 'line 3805, in get_loc\\n',\n",
      " '    raise KeyError(key) from err\\n',\n",
      " \"KeyError: 'filepath'\\n\"]\n"
     ]
    }
   ],
   "source": [
    "target_osid = 1240766002\n",
    "fn = [f for f in failed_files if target_osid == int(f.name.split('_')[-1].split('.')[0])][0]\n",
    "with open(fn, 'r') as f:    \n",
    "    lines = f.readlines()\n",
    "pprint(lines)\n"
   ]
  },
  {
   "cell_type": "code",
   "execution_count": null,
   "metadata": {},
   "outputs": [],
   "source": [
    "for file in files:\n",
    "    with open(file, 'r') as f:\n",
    "        lines = f.readlines()\n",
    "        if np.array([success_word in l for l in lines]).any():\n",
    "            succeeded_osids.append(int(file.name.split('_')[-1].split('.')[0]))\n",
    "        else:\n",
    "            failed_files.append(file)\n",
    "            failed_osids.append(int(file.name.split('_')[-1].split('.')[0]))"
   ]
  }
 ],
 "metadata": {
  "kernelspec": {
   "display_name": "allenvisb",
   "language": "python",
   "name": "python3"
  },
  "language_info": {
   "codemirror_mode": {
    "name": "ipython",
    "version": 3
   },
   "file_extension": ".py",
   "mimetype": "text/x-python",
   "name": "python",
   "nbconvert_exporter": "python",
   "pygments_lexer": "ipython3",
   "version": "3.8.18"
  }
 },
 "nbformat": 4,
 "nbformat_minor": 2
}
