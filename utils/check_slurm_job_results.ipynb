{
 "cells": [
  {
   "cell_type": "markdown",
   "metadata": {},
   "source": [
    "# Check slurm job"
   ]
  },
  {
   "cell_type": "code",
   "execution_count": 2,
   "metadata": {},
   "outputs": [],
   "source": [
    "import os\n",
    "from pathlib import Path\n",
    "import numpy as np\n",
    "from datetime import datetime\n",
    "from pprint import pprint"
   ]
  },
  {
   "cell_type": "code",
   "execution_count": 3,
   "metadata": {},
   "outputs": [],
   "source": [
    "job_records_dir = Path(r'\\\\allen\\programs\\mindscope\\workgroups\\learning\\ophys\\zdrift\\job_records')\n",
    "# job_records_dir = Path(r'\\\\allen\\programs\\mindscope\\workgroups\\learning\\qc_pupil\\job_records')\n",
    "\n",
    "# filter by created time, if needed\n",
    "time_since = datetime(2024, 4, 22, 0, 0, 0)\n",
    "# from job_dir get files created after time_since\n",
    "files = [f for f in job_records_dir.glob('**/*') if f.is_file() and f.stat().st_ctime > time_since.timestamp()]"
   ]
  },
  {
   "cell_type": "code",
   "execution_count": 4,
   "metadata": {},
   "outputs": [
    {
     "data": {
      "text/plain": [
       "84"
      ]
     },
     "execution_count": 4,
     "metadata": {},
     "output_type": "execute_result"
    }
   ],
   "source": [
    "len(files)"
   ]
  },
  {
   "cell_type": "code",
   "execution_count": 5,
   "metadata": {},
   "outputs": [],
   "source": [
    "file = files[0]\n",
    "with open(file, 'r') as f:\n",
    "    lines = f.readlines()"
   ]
  },
  {
   "cell_type": "code",
   "execution_count": 9,
   "metadata": {},
   "outputs": [
    {
     "data": {
      "text/plain": [
       "True"
      ]
     },
     "execution_count": 9,
     "metadata": {},
     "output_type": "execute_result"
    }
   ],
   "source": [
    "success_word = 'total time ='\n",
    "np.array([success_word in l for l in lines]).any()"
   ]
  },
  {
   "cell_type": "code",
   "execution_count": 13,
   "metadata": {},
   "outputs": [
    {
     "data": {
      "text/plain": [
       "1170189893"
      ]
     },
     "execution_count": 13,
     "metadata": {},
     "output_type": "execute_result"
    }
   ],
   "source": [
    "int(file.name.split('_')[-1].split('.')[0])"
   ]
  },
  {
   "cell_type": "code",
   "execution_count": 5,
   "metadata": {},
   "outputs": [
    {
     "data": {
      "text/plain": [
       "83"
      ]
     },
     "execution_count": 5,
     "metadata": {},
     "output_type": "execute_result"
    }
   ],
   "source": [
    "# read and find the ones that failed\n",
    "failed_files = []\n",
    "succeeded_osids = []\n",
    "failed_osids = []\n",
    "success_word = 'total time ='\n",
    "for file in files:\n",
    "    with open(file, 'r') as f:\n",
    "        lines = f.readlines()\n",
    "        if np.array([success_word in l for l in lines]).any():\n",
    "            succeeded_osids.append(int(file.name.split('_')[-1].split('.')[0]))\n",
    "        else:\n",
    "            failed_files.append(file)\n",
    "            failed_osids.append(int(file.name.split('_')[-1].split('.')[0]))\n",
    "len(succeeded_osids)\n"
   ]
  },
  {
   "cell_type": "code",
   "execution_count": 6,
   "metadata": {},
   "outputs": [
    {
     "data": {
      "text/plain": [
       "1"
      ]
     },
     "execution_count": 6,
     "metadata": {},
     "output_type": "execute_result"
    }
   ],
   "source": [
    "len(failed_files)"
   ]
  },
  {
   "cell_type": "code",
   "execution_count": 7,
   "metadata": {},
   "outputs": [
    {
     "data": {
      "text/plain": [
       "array([1194558613])"
      ]
     },
     "execution_count": 7,
     "metadata": {},
     "output_type": "execute_result"
    }
   ],
   "source": [
    "np.sort(failed_osids)"
   ]
  },
  {
   "cell_type": "code",
   "execution_count": 9,
   "metadata": {},
   "outputs": [
    {
     "name": "stdout",
     "output_type": "stream",
     "text": [
      "['==========================================\\n',\n",
      " 'SLURM_JOB_ID = 15976862\\n',\n",
      " 'Username = jinho.kim\\n',\n",
      " 'Group = 10513\\n',\n",
      " 'SLURM_JOB_NODELIST = n209\\n',\n",
      " '==========================================\\n',\n",
      " 'multiprocessing.pool.RemoteTraceback: \\n',\n",
      " '\"\"\"\\n',\n",
      " 'Traceback (most recent call last):\\n',\n",
      " '  File '\n",
      " '\"/home/jinho.kim/anaconda3/envs/allenhpc/lib/python3.8/site-packages/pandas/core/indexes/base.py\", '\n",
      " 'line 3803, in get_loc\\n',\n",
      " '    return self._engine.get_loc(casted_key)\\n',\n",
      " '  File \"pandas/_libs/index.pyx\", line 138, in '\n",
      " 'pandas._libs.index.IndexEngine.get_loc\\n',\n",
      " '  File \"pandas/_libs/index.pyx\", line 165, in '\n",
      " 'pandas._libs.index.IndexEngine.get_loc\\n',\n",
      " '  File \"pandas/_libs/hashtable_class_helper.pxi\", line 5745, in '\n",
      " 'pandas._libs.hashtable.PyObjectHashTable.get_item\\n',\n",
      " '  File \"pandas/_libs/hashtable_class_helper.pxi\", line 5753, in '\n",
      " 'pandas._libs.hashtable.PyObjectHashTable.get_item\\n',\n",
      " \"KeyError: 'filepath'\\n\",\n",
      " '\\n',\n",
      " 'The above exception was the direct cause of the following exception:\\n',\n",
      " '\\n',\n",
      " 'Traceback (most recent call last):\\n',\n",
      " '  File '\n",
      " '\"/home/jinho.kim/anaconda3/envs/allenhpc/lib/python3.8/multiprocessing/pool.py\", '\n",
      " 'line 125, in worker\\n',\n",
      " '    result = (True, func(*args, **kwds))\\n',\n",
      " '  File '\n",
      " '\"/home/jinho.kim/anaconda3/envs/allenhpc/lib/python3.8/multiprocessing/pool.py\", '\n",
      " 'line 51, in starmapstar\\n',\n",
      " '    return list(itertools.starmap(args[0], args[1]))\\n',\n",
      " '  File '\n",
      " '\"/home/jinho.kim/Github/lamf_ophys_analysis_dev/qc/2p_data/z_drift/scripts/multi_plane_zdrift.py\", '\n",
      " 'line 21, in save_experiment_zdrift\\n',\n",
      " '    _ = dem.get_experiment_zdrift(oeid, ref_oeid=oeid, save_dir=save_dir, '\n",
      " 'rerun=False)\\n',\n",
      " '  File '\n",
      " '\"/home/jinho.kim/Github/mindscope_qc/brain_observatory_qc/pipeline_dev/scripts/depth_estimation_module.py\", '\n",
      " 'line 1065, in get_experiment_zdrift\\n',\n",
      " '    range_y, range_x = get_motion_correction_crop_xy_range(\\n',\n",
      " '  File '\n",
      " '\"/home/jinho.kim/Github/mindscope_qc/brain_observatory_qc/pipeline_dev/scripts/depth_estimation_module.py\", '\n",
      " 'line 236, in get_motion_correction_crop_xy_range\\n',\n",
      " '    motion_df = pd.read_csv(from_lims.get_motion_xy_offset_filepath(oeid))\\n',\n",
      " '  File '\n",
      " '\"/home/jinho.kim/Github/visual_behavior_analysis/visual_behavior/data_access/from_lims.py\", '\n",
      " 'line 1518, in get_motion_xy_offset_filepath\\n',\n",
      " '    filepath = get_well_known_file_path(\"\\'OphysMotionXyOffsetData\\'\", '\n",
      " 'ophys_experiment_id)\\n',\n",
      " '  File '\n",
      " '\"/home/jinho.kim/Github/visual_behavior_analysis/visual_behavior/data_access/from_lims.py\", '\n",
      " 'line 1418, in get_well_known_file_path\\n',\n",
      " '    filepath = '\n",
      " 'lims_utils.get_filepath_from_realdict_object(RealDict_object)\\n',\n",
      " '  File '\n",
      " '\"/home/jinho.kim/Github/visual_behavior_analysis/visual_behavior/data_access/from_lims_utilities.py\", '\n",
      " 'line 25, in get_filepath_from_realdict_object\\n',\n",
      " \"    filepath = realdict_object['filepath'][0]\\n\",\n",
      " '  File '\n",
      " '\"/home/jinho.kim/anaconda3/envs/allenhpc/lib/python3.8/site-packages/pandas/core/frame.py\", '\n",
      " 'line 3804, in __getitem__\\n',\n",
      " '    indexer = self.columns.get_loc(key)\\n',\n",
      " '  File '\n",
      " '\"/home/jinho.kim/anaconda3/envs/allenhpc/lib/python3.8/site-packages/pandas/core/indexes/base.py\", '\n",
      " 'line 3805, in get_loc\\n',\n",
      " '    raise KeyError(key) from err\\n',\n",
      " \"KeyError: 'filepath'\\n\",\n",
      " '\"\"\"\\n',\n",
      " '\\n',\n",
      " 'The above exception was the direct cause of the following exception:\\n',\n",
      " '\\n',\n",
      " 'Traceback (most recent call last):\\n',\n",
      " '  File '\n",
      " '\"/home/jinho.kim/Github/lamf_ophys_analysis_dev/qc/2p_data/z_drift/scripts/multi_plane_zdrift.py\", '\n",
      " 'line 37, in <module>\\n',\n",
      " '    pool.starmap(save_experiment_zdrift, [(oeid, save_dir) for oeid in '\n",
      " 'oeids])\\n',\n",
      " '  File '\n",
      " '\"/home/jinho.kim/anaconda3/envs/allenhpc/lib/python3.8/multiprocessing/pool.py\", '\n",
      " 'line 372, in starmap\\n',\n",
      " '    return self._map_async(func, iterable, starmapstar, chunksize).get()\\n',\n",
      " '  File '\n",
      " '\"/home/jinho.kim/anaconda3/envs/allenhpc/lib/python3.8/multiprocessing/pool.py\", '\n",
      " 'line 771, in get\\n',\n",
      " '    raise self._value\\n',\n",
      " \"KeyError: 'filepath'\\n\"]\n"
     ]
    }
   ],
   "source": [
    "target_osid = 1194558613\n",
    "fn = [f for f in failed_files if target_osid == int(f.name.split('_')[-1].split('.')[0])][0]\n",
    "with open(fn, 'r') as f:    \n",
    "    lines = f.readlines()\n",
    "pprint(lines)\n"
   ]
  },
  {
   "cell_type": "code",
   "execution_count": null,
   "metadata": {},
   "outputs": [],
   "source": [
    "for file in files:\n",
    "    with open(file, 'r') as f:\n",
    "        lines = f.readlines()\n",
    "        if np.array([success_word in l for l in lines]).any():\n",
    "            succeeded_osids.append(int(file.name.split('_')[-1].split('.')[0]))\n",
    "        else:\n",
    "            failed_files.append(file)\n",
    "            failed_osids.append(int(file.name.split('_')[-1].split('.')[0]))"
   ]
  }
 ],
 "metadata": {
  "kernelspec": {
   "display_name": "allenvisb",
   "language": "python",
   "name": "python3"
  },
  "language_info": {
   "codemirror_mode": {
    "name": "ipython",
    "version": 3
   },
   "file_extension": ".py",
   "mimetype": "text/x-python",
   "name": "python",
   "nbconvert_exporter": "python",
   "pygments_lexer": "ipython3",
   "version": "3.8.18"
  }
 },
 "nbformat": 4,
 "nbformat_minor": 2
}
