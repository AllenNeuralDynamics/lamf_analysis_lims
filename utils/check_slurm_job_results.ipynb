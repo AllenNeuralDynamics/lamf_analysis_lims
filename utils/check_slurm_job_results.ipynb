{
 "cells": [
  {
   "cell_type": "markdown",
   "metadata": {},
   "source": [
    "# Check slurm job"
   ]
  },
  {
   "cell_type": "code",
   "execution_count": 1,
   "metadata": {},
   "outputs": [],
   "source": [
    "import os\n",
    "from pathlib import Path\n",
    "import numpy as np\n",
    "from datetime import datetime"
   ]
  },
  {
   "cell_type": "code",
   "execution_count": 2,
   "metadata": {},
   "outputs": [],
   "source": [
    "job_records_dir = Path(r'\\\\allen\\programs\\mindscope\\workgroups\\learning\\ophys\\zdrift\\job_records')\n",
    "\n",
    "# filter by created time, if needed\n",
    "time_since = datetime(2024, 2, 22, 0, 0, 0)\n",
    "# from job_dir get files created after time_since\n",
    "files = [f for f in job_records_dir.glob('**/*') if f.is_file() and f.stat().st_ctime > time_since.timestamp()]"
   ]
  },
  {
   "cell_type": "code",
   "execution_count": 3,
   "metadata": {},
   "outputs": [
    {
     "data": {
      "text/plain": [
       "170"
      ]
     },
     "execution_count": 3,
     "metadata": {},
     "output_type": "execute_result"
    }
   ],
   "source": [
    "len(files)"
   ]
  },
  {
   "cell_type": "code",
   "execution_count": 5,
   "metadata": {},
   "outputs": [],
   "source": [
    "file = files[0]\n",
    "with open(file, 'r') as f:\n",
    "    lines = f.readlines()"
   ]
  },
  {
   "cell_type": "code",
   "execution_count": 9,
   "metadata": {},
   "outputs": [
    {
     "data": {
      "text/plain": [
       "True"
      ]
     },
     "execution_count": 9,
     "metadata": {},
     "output_type": "execute_result"
    }
   ],
   "source": [
    "success_word = 'total time ='\n",
    "np.array([success_word in l for l in lines]).any()"
   ]
  },
  {
   "cell_type": "code",
   "execution_count": 13,
   "metadata": {},
   "outputs": [
    {
     "data": {
      "text/plain": [
       "1170189893"
      ]
     },
     "execution_count": 13,
     "metadata": {},
     "output_type": "execute_result"
    }
   ],
   "source": [
    "int(file.name.split('_')[-1].split('.')[0])"
   ]
  },
  {
   "cell_type": "code",
   "execution_count": 16,
   "metadata": {},
   "outputs": [],
   "source": [
    "# read and find the ones that failed\n",
    "failed_files = []\n",
    "succeeded_osids = []\n",
    "failed_osids = []\n",
    "success_word = 'total time ='\n",
    "for file in files:\n",
    "    with open(file, 'r') as f:\n",
    "        lines = f.readlines()\n",
    "        if np.array([success_word in l for l in lines]).any():\n",
    "            succeeded_osids.append(int(file.name.split('_')[-1].split('.')[0]))\n",
    "        else:\n",
    "            failed_files.append(file)\n",
    "            failed_osids.append(int(file.name.split('_')[-1].split('.')[0]))\n",
    "\n"
   ]
  },
  {
   "cell_type": "code",
   "execution_count": 17,
   "metadata": {},
   "outputs": [
    {
     "data": {
      "text/plain": [
       "[1170189893,\n",
       " 1241060845,\n",
       " 1241714299,\n",
       " 1241992295,\n",
       " 1242254491,\n",
       " 1242515304,\n",
       " 1242776382,\n",
       " 1243457604,\n",
       " 1243753586,\n",
       " 1244004563,\n",
       " 1244496471,\n",
       " 1245180582,\n",
       " 1245485702,\n",
       " 1245723917,\n",
       " 1256304054,\n",
       " 1256313839,\n",
       " 1256562516,\n",
       " 1256562528,\n",
       " 1256835093,\n",
       " 1256839013,\n",
       " 1257437115,\n",
       " 1258020361,\n",
       " 1258347281,\n",
       " 1258651330,\n",
       " 1259364032,\n",
       " 1275039517,\n",
       " 1282665200,\n",
       " 1282892466,\n",
       " 1282906613,\n",
       " 1283445129,\n",
       " 1283795099,\n",
       " 1283799929,\n",
       " 1284023397,\n",
       " 1284023946,\n",
       " 1284288805,\n",
       " 1284562743,\n",
       " 1285165806,\n",
       " 1285169105,\n",
       " 1286031935,\n",
       " 1286777141,\n",
       " 1287477900,\n",
       " 1287701514,\n",
       " 1288489973,\n",
       " 1288745071,\n",
       " 1289930478,\n",
       " 1290486915,\n",
       " 1290764503,\n",
       " 1291730361,\n",
       " 1292208956,\n",
       " 1292415143,\n",
       " 1292661041,\n",
       " 1296101170,\n",
       " 1296630484,\n",
       " 1298434214,\n",
       " 1298664530,\n",
       " 1299452583,\n",
       " 1299986341,\n",
       " 1300206865,\n",
       " 1300441205,\n",
       " 1303442750,\n",
       " 1313930792,\n",
       " 1314667317,\n",
       " 1315610616,\n",
       " 1315948257,\n",
       " 1316158004,\n",
       " 1316180619,\n",
       " 1316397007,\n",
       " 1316967819,\n",
       " 1317164333,\n",
       " 1317188386,\n",
       " 1317413890,\n",
       " 1317435205,\n",
       " 1317628827,\n",
       " 1317652681,\n",
       " 1317839158,\n",
       " 1318473952,\n",
       " 1318738409,\n",
       " 1319182745,\n",
       " 1325702798,\n",
       " 1326968345,\n",
       " 1327350251,\n",
       " 1327592860,\n",
       " 1327858060,\n",
       " 1327887497,\n",
       " 1328177343,\n",
       " 1328512625,\n",
       " 1328518742,\n",
       " 1328804699,\n",
       " 1328827878,\n",
       " 1329555156,\n",
       " 1330132892,\n",
       " 1330149196,\n",
       " 1330660575,\n",
       " 1330933579,\n",
       " 1330991697,\n",
       " 1331156068,\n",
       " 1331164473,\n",
       " 1331772571,\n",
       " 1331788264,\n",
       " 1332031199,\n",
       " 1332293271,\n",
       " 1332300891,\n",
       " 1332481792,\n",
       " 1332498813,\n",
       " 1332777799]"
      ]
     },
     "execution_count": 17,
     "metadata": {},
     "output_type": "execute_result"
    }
   ],
   "source": [
    "succeeded_osids"
   ]
  },
  {
   "cell_type": "code",
   "execution_count": 15,
   "metadata": {},
   "outputs": [
    {
     "data": {
      "text/plain": [
       "65"
      ]
     },
     "execution_count": 15,
     "metadata": {},
     "output_type": "execute_result"
    }
   ],
   "source": [
    "len(failed_osids)"
   ]
  }
 ],
 "metadata": {
  "kernelspec": {
   "display_name": "allenvisb",
   "language": "python",
   "name": "python3"
  },
  "language_info": {
   "codemirror_mode": {
    "name": "ipython",
    "version": 3
   },
   "file_extension": ".py",
   "mimetype": "text/x-python",
   "name": "python",
   "nbconvert_exporter": "python",
   "pygments_lexer": "ipython3",
   "version": "3.8.18"
  }
 },
 "nbformat": 4,
 "nbformat_minor": 2
}
