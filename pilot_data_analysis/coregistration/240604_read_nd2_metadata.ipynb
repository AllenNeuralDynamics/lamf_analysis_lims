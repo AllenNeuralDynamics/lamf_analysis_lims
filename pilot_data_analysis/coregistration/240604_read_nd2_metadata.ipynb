{
 "cells": [
  {
   "cell_type": "code",
   "execution_count": 4,
   "metadata": {},
   "outputs": [],
   "source": [
    "from pathlib import Path\n",
    "from nd2reader import ND2Reader\n",
    "from pprint import pprint"
   ]
  },
  {
   "cell_type": "code",
   "execution_count": 10,
   "metadata": {},
   "outputs": [
    {
     "name": "stdout",
     "output_type": "stream",
     "text": [
      "{'channels': ['488'],\n",
      " 'date': datetime.datetime(2024, 5, 28, 11, 47, 36),\n",
      " 'events': [],\n",
      " 'experiment': {'description': '', 'loops': []},\n",
      " 'fields_of_view': [0],\n",
      " 'frames': [0],\n",
      " 'height': 4374,\n",
      " 'num_frames': 1,\n",
      " 'pixel_microns': 0.32642875590235,\n",
      " 'total_images_per_channel': 625,\n",
      " 'width': 4364,\n",
      " 'z_coordinates': None,\n",
      " 'z_levels': range(0, 625)}\n",
      "{b'SLxExperiment': {b'aMeasProbesBase64': b'',\n",
      "                    b'bControlLight': 0,\n",
      "                    b'bControlShutter': 1,\n",
      "                    b'bKeepObject': 0,\n",
      "                    b'bTriggeredStimulation': 0,\n",
      "                    b'bUseHWSequencer': 0,\n",
      "                    b'bUseIntenzityCorrection': 0,\n",
      "                    b'bUsePFS': 0,\n",
      "                    b'bUseTiRecipe': 0,\n",
      "                    b'bUseTriggeredAcquisition': 0,\n",
      "                    b'bUseWatterSupply': 1,\n",
      "                    b'eType': 4,\n",
      "                    b'sAutoFocusBeforeLoop': {b'aFocusPlane': {b'iDegree': 0,\n",
      "                                                               b'pCoeff': {},\n",
      "                                                               b'uiValues': 0},\n",
      "                                              b'bPiezoZTriggered': 0,\n",
      "                                              b'dOffset': 0.0,\n",
      "                                              b'dPrecision': 0.0,\n",
      "                                              b'dRange': 0.0,\n",
      "                                              b'dSpeed': 0.0,\n",
      "                                              b'dStep': 0.0,\n",
      "                                              b'eType': 0,\n",
      "                                              b'iFocusCriterion': 0,\n",
      "                                              b'sZDrive': b'',\n",
      "                                              b'uiFlags': 0,\n",
      "                                              b'wszOptConf': b'',\n",
      "                                              b'wszPreferedAFChannel': b''},\n",
      "                    b'sParallelExperiment': {b'uiTaskCount': 0},\n",
      "                    b'uLoopPars': {b'bAbsolute': 1,\n",
      "                                   b'bTIRF': 0,\n",
      "                                   b'bTriggeredPiezo': 0,\n",
      "                                   b'bZInverted': 0,\n",
      "                                   b'dReferencePosition': 0.0,\n",
      "                                   b'dTIRFPFSOffset': -1.0,\n",
      "                                   b'dTIRFPosition': 0.000333,\n",
      "                                   b'dZHigh': 5079.6,\n",
      "                                   b'dZHome': 4892.5,\n",
      "                                   b'dZLow': [4705.400000000001,\n",
      "                                              4705.400000000001],\n",
      "                                   b'dZStep': 0.6,\n",
      "                                   b'iType': 0,\n",
      "                                   b'uiCount': 625,\n",
      "                                   b'wsCommandAfterCapture': b'',\n",
      "                                   b'wsCommandBeforeCapture': b'',\n",
      "                                   b'wsZDevice': b'Ti2 ZDrive'},\n",
      "                    b'uiNextLevelCount': 0,\n",
      "                    b'uiRepeatCount': 1,\n",
      "                    b'vectStimulationConfigurationsSize': 0,\n",
      "                    b'wsApplicationDesc': b'',\n",
      "                    b'wsCameraName': b'',\n",
      "                    b'wsCommandAfterCapture': b'',\n",
      "                    b'wsCommandAfterLoop': b'',\n",
      "                    b'wsCommandBeforeCapture': b'',\n",
      "                    b'wsCommandBeforeLoop': b'',\n",
      "                    b'wsUserDesc': b''}}\n"
     ]
    }
   ],
   "source": [
    "data_dir = Path(r'\\\\allen\\programs\\mindscope\\workgroups\\learning\\coreg\\multi-slice pilot\\718431\\confocal\\SpinningDisk_W1')\n",
    "data_fn = data_dir / '718431_confocal_20xAir_top_section.nd2'\n",
    "with ND2Reader(str(data_fn)) as nd2:\n",
    "    pprint(nd2.metadata)\n",
    "    pprint(nd2.parser._raw_metadata.image_metadata)\n"
   ]
  }
 ],
 "metadata": {
  "kernelspec": {
   "display_name": "napari-matplotlib",
   "language": "python",
   "name": "python3"
  },
  "language_info": {
   "codemirror_mode": {
    "name": "ipython",
    "version": 3
   },
   "file_extension": ".py",
   "mimetype": "text/x-python",
   "name": "python",
   "nbconvert_exporter": "python",
   "pygments_lexer": "ipython3",
   "version": "3.9.17"
  }
 },
 "nbformat": 4,
 "nbformat_minor": 2
}
