{
 "cells": [
  {
   "cell_type": "code",
   "execution_count": 2,
   "metadata": {
    "metadata": {}
   },
   "outputs": [],
   "source": [
    "import numpy as np\n",
    "import pandas as pd\n",
    "from pathlib import Path\n",
    "import matplotlib.pyplot as plt\n",
    "import tifffile as tf\n",
    "from skimage import io\n",
    "from PIL import Image\n",
    "import sys\n",
    "sys.path.append(r'C:\\Users\\jinho.kim\\Github\\lamf_analysis_lims')\n",
    "from utils import zstack_reg\n",
    "\n",
    "def get_zstack_reg(zstack, num_slices, ref_ind, proj='mean'):\n",
    "    plane_reg_imgs = np.zeros((num_slices, zstack.shape[1], zstack.shape[2]))\n",
    "    shift_all_planes = []\n",
    "    for plane_ind in range(num_slices):\n",
    "        temp_imgs = zstack[plane_ind::num_slices]\n",
    "        if proj == 'mean':\n",
    "            reg_img, shift_all = zstack_reg.average_reg_plane(temp_imgs)\n",
    "        elif proj == 'max':\n",
    "            reg_img, shift_all = zstack_reg.maxproj_reg_plane(temp_imgs)\n",
    "        else:\n",
    "            raise ValueError('proj should be either mean or max')\n",
    "        plane_reg_imgs[plane_ind] = reg_img\n",
    "        shift_all_planes.append(shift_all)\n",
    "    between_plane_reg_imgs, shift_all_between_planes = zstack_reg.reg_between_planes(np.array(plane_reg_imgs), ref_ind=ref_ind)\n",
    "    return between_plane_reg_imgs, shift_all_planes, shift_all_between_planes\n",
    "\n",
    "def get_zstack_reg_using_shifts(zstack, num_slices, shift_all_planes, shift_all_between_planes,\n",
    "                                proj='mean'):\n",
    "    plane_reg_imgs = np.zeros((num_slices, zstack.shape[1], zstack.shape[2]))\n",
    "    for plane_ind in range(num_slices):\n",
    "        temp_imgs = zstack[plane_ind::num_slices]\n",
    "        if proj == 'mean':\n",
    "            reg_img = zstack_reg.maxproj_reg_plane_using_shift_info(temp_imgs, shift_all_planes[plane_ind])\n",
    "        elif proj == 'max':\n",
    "            reg_img = zstack_reg.maxproj_reg_plane_using_shift_info(temp_imgs, shift_all_planes[plane_ind])\n",
    "        else:\n",
    "            raise ValueError('proj should be either mean or max')\n",
    "        plane_reg_imgs[plane_ind] = reg_img\n",
    "    between_plane_reg_imgs = zstack_reg.reg_between_planes_using_shift_info(np.array(plane_reg_imgs), shift_all_between_planes)\n",
    "    return between_plane_reg_imgs\n",
    "\n",
    "def save_zstack_reg(zstack_fn, save_dir, ref_ind=60):\n",
    "    si_metadata = zstack_reg.read_si_stack_metadata(zstack_fn)\n",
    "    zstack = tf.imread(zstack_fn)\n",
    "    assert zstack.shape[0] == si_metadata['num_slices'] * si_metadata['num_volumes']\n",
    "    num_slices = si_metadata['num_slices']\n",
    "    assert len(zstack.shape) == 3\n",
    "\n",
    "    zstack_registered, shift_all_planes, shift_all_between_planes = get_zstack_reg(zstack, num_slices, ref_ind,\n",
    "                                                                                   proj='mean')\n",
    "    tf.imsave(save_dir / f'{zstack_fn.stem}_reg_mean.tif', zstack_registered)\n",
    "    shift_info = {'shift_all_planes': shift_all_planes, 'shift_all_between_planes': shift_all_between_planes}\n",
    "    np.save(save_dir / f'{zstack_fn.stem}_reg_shift_info.npy', shift_info)\n",
    "\n",
    "    zstack_ch_reg = get_zstack_reg_using_shifts(zstack, num_slices, shift_all_planes, shift_all_between_planes,\n",
    "                                                proj='max')\n",
    "    tf.imsave(save_dir / f'{zstack_fn.stem}_reg_max.tif', zstack_ch_reg)"
   ]
  },
  {
   "cell_type": "code",
   "execution_count": 5,
   "metadata": {
    "metadata": {}
   },
   "outputs": [],
   "source": [
    "si_metadata = zstack_reg.read_si_stack_metadata(cortical_zstack_fn)"
   ]
  },
  {
   "cell_type": "code",
   "execution_count": 8,
   "metadata": {
    "metadata": {}
   },
   "outputs": [
    {
     "data": {
      "text/plain": [
       "100"
      ]
     },
     "execution_count": 8,
     "metadata": {},
     "output_type": "execute_result"
    }
   ],
   "source": [
    "si_metadata['num_volumes']"
   ]
  },
  {
   "cell_type": "code",
   "execution_count": 9,
   "metadata": {
    "metadata": {}
   },
   "outputs": [
    {
     "name": "stdout",
     "output_type": "stream",
     "text": [
      "(40000, 512, 512)\n"
     ]
    }
   ],
   "source": [
    "zstack = tf.imread(cortical_zstack_fn)\n",
    "print(zstack.shape)"
   ]
  },
  {
   "cell_type": "code",
   "execution_count": 16,
   "metadata": {
    "metadata": {}
   },
   "outputs": [
    {
     "data": {
      "text/plain": [
       "<module 'utils.zstack_reg' from 'C:\\\\Users\\\\jinho.kim\\\\Github\\\\lamf_ophys_analysis_dev\\\\utils\\\\zstack_reg.py'>"
      ]
     },
     "execution_count": 16,
     "metadata": {},
     "output_type": "execute_result"
    }
   ],
   "source": [
    "from importlib import reload\n",
    "reload(zstack_reg)"
   ]
  },
  {
   "cell_type": "code",
   "execution_count": null,
   "metadata": {
    "metadata": {}
   },
   "outputs": [],
   "source": [
    "# About 70 min\n",
    "cortical_zstack_fn = Path(r'\\\\allen\\programs\\mindscope\\production\\omfish\\prod0\\specimen_1291107612\\ophys_session_1325739462\\1325739462_cortical_z_stack0.tiff')\n",
    "save_dir = Path(r'\\\\allen\\programs\\mindscope\\workgroups\\learning\\coreg\\multi-slice pilot\\693124')\n",
    "save_zstack_reg(cortical_zstack_fn, save_dir)"
   ]
  },
  {
   "cell_type": "code",
   "execution_count": 17,
   "metadata": {
    "metadata": {}
   },
   "outputs": [],
   "source": [
    "shift_info = np.load(save_dir / f'{cortical_zstack_fn.stem}_reg_shift_info.npy', allow_pickle=True).item()"
   ]
  },
  {
   "cell_type": "code",
   "execution_count": 25,
   "metadata": {
    "metadata": {}
   },
   "outputs": [],
   "source": [
    "shift_all_planes = shift_info['shift_all_planes']\n",
    "shift_all_between_planes = shift_info['shift_all_between_planes']"
   ]
  },
  {
   "cell_type": "code",
   "execution_count": 23,
   "metadata": {
    "metadata": {}
   },
   "outputs": [],
   "source": [
    "num_slices = len(shift_info['shift_all_between_planes'])"
   ]
  },
  {
   "cell_type": "code",
   "execution_count": 30,
   "metadata": {
    "metadata": {}
   },
   "outputs": [],
   "source": [
    "zstack_ch_reg = get_zstack_reg_using_shifts(zstack, num_slices, shift_all_planes, shift_all_between_planes,\n",
    "                                                proj='max')"
   ]
  },
  {
   "cell_type": "code",
   "execution_count": null,
   "metadata": {
    "metadata": {}
   },
   "outputs": [
    {
     "name": "stderr",
     "output_type": "stream",
     "text": [
      "C:\\Users\\jinho.kim\\AppData\\Local\\Temp\\ipykernel_43548\\3355411629.py:1: DeprecationWarning: <tifffile.imsave> is deprecated. Use tifffile.imwrite\n",
      "  tf.imsave(save_dir / f'{cortical_zstack_fn.stem}_reg_max.tif', zstack_ch_reg)\n"
     ]
    }
   ],
   "source": [
    "tf.imsave(save_dir / f'{cortical_zstack_fn.stem}_reg_max.tif', zstack_ch_reg)"
   ]
  },
  {
   "cell_type": "markdown",
   "metadata": {},
   "source": [
    "# Including searching for z-stack given mouse ID"
   ]
  },
  {
   "cell_type": "code",
   "execution_count": 3,
   "metadata": {},
   "outputs": [],
   "source": [
    "from brain_observatory_qc.data_access import from_lims"
   ]
  },
  {
   "cell_type": "code",
   "execution_count": 28,
   "metadata": {},
   "outputs": [],
   "source": [
    "from lamf_analysis.ophys import zstack"
   ]
  },
  {
   "cell_type": "code",
   "execution_count": 38,
   "metadata": {},
   "outputs": [
    {
     "name": "stdout",
     "output_type": "stream",
     "text": [
      "1\n"
     ]
    }
   ],
   "source": [
    "mouse_id = 724567\n",
    "oeid_table = from_lims.get_imaging_ids_for_mouse_id(mouse_id)\n",
    "specimen_id = from_lims.get_all_ids_for_ophys_experiment_id(oeid_table.ophys_experiment_id.values[0]).specimen_id.values[0]\n",
    "cortical_zstack_paths = from_lims.get_cortical_zstack_filepaths(specimen_id).filepath.values\n",
    "print(len(cortical_zstack_paths))"
   ]
  },
  {
   "cell_type": "code",
   "execution_count": 53,
   "metadata": {},
   "outputs": [],
   "source": [
    "filepaths = (from_lims.get_well_known_file_realdict(\"'cortical_z_stacks'\", specimen_id))"
   ]
  },
  {
   "cell_type": "code",
   "execution_count": 54,
   "metadata": {},
   "outputs": [
    {
     "data": {
      "text/plain": [
       "0"
      ]
     },
     "execution_count": 54,
     "metadata": {},
     "output_type": "execute_result"
    }
   ],
   "source": [
    "len(filepaths)"
   ]
  },
  {
   "cell_type": "code",
   "execution_count": 57,
   "metadata": {},
   "outputs": [
    {
     "name": "stdout",
     "output_type": "stream",
     "text": [
      "Specimen 1333456325 does not have cortical z-stacks\n"
     ]
    }
   ],
   "source": [
    "reload(from_lims)\n",
    "filepaths = from_lims.get_cortical_zstack_filepaths(specimen_id)"
   ]
  },
  {
   "cell_type": "code",
   "execution_count": 44,
   "metadata": {},
   "outputs": [
    {
     "ename": "KeyError",
     "evalue": "'filepath'",
     "output_type": "error",
     "traceback": [
      "\u001b[1;31m---------------------------------------------------------------------------\u001b[0m",
      "\u001b[1;31mKeyError\u001b[0m                                  Traceback (most recent call last)",
      "File \u001b[1;32m~\\AppData\\Roaming\\Python\\Python38\\site-packages\\pandas\\core\\indexes\\base.py:3629\u001b[0m, in \u001b[0;36mIndex.get_loc\u001b[1;34m(self, key, method, tolerance)\u001b[0m\n\u001b[0;32m   3628\u001b[0m \u001b[38;5;28;01mtry\u001b[39;00m:\n\u001b[1;32m-> 3629\u001b[0m     \u001b[38;5;28;01mreturn\u001b[39;00m \u001b[38;5;28;43mself\u001b[39;49m\u001b[38;5;241;43m.\u001b[39;49m\u001b[43m_engine\u001b[49m\u001b[38;5;241;43m.\u001b[39;49m\u001b[43mget_loc\u001b[49m\u001b[43m(\u001b[49m\u001b[43mcasted_key\u001b[49m\u001b[43m)\u001b[49m\n\u001b[0;32m   3630\u001b[0m \u001b[38;5;28;01mexcept\u001b[39;00m \u001b[38;5;167;01mKeyError\u001b[39;00m \u001b[38;5;28;01mas\u001b[39;00m err:\n",
      "File \u001b[1;32m~\\AppData\\Roaming\\Python\\Python38\\site-packages\\pandas\\_libs\\index.pyx:136\u001b[0m, in \u001b[0;36mpandas._libs.index.IndexEngine.get_loc\u001b[1;34m()\u001b[0m\n",
      "File \u001b[1;32m~\\AppData\\Roaming\\Python\\Python38\\site-packages\\pandas\\_libs\\index.pyx:163\u001b[0m, in \u001b[0;36mpandas._libs.index.IndexEngine.get_loc\u001b[1;34m()\u001b[0m\n",
      "File \u001b[1;32mpandas\\_libs\\hashtable_class_helper.pxi:5198\u001b[0m, in \u001b[0;36mpandas._libs.hashtable.PyObjectHashTable.get_item\u001b[1;34m()\u001b[0m\n",
      "File \u001b[1;32mpandas\\_libs\\hashtable_class_helper.pxi:5206\u001b[0m, in \u001b[0;36mpandas._libs.hashtable.PyObjectHashTable.get_item\u001b[1;34m()\u001b[0m\n",
      "\u001b[1;31mKeyError\u001b[0m: 'filepath'",
      "\nThe above exception was the direct cause of the following exception:\n",
      "\u001b[1;31mKeyError\u001b[0m                                  Traceback (most recent call last)",
      "Cell \u001b[1;32mIn[44], line 1\u001b[0m\n\u001b[1;32m----> 1\u001b[0m \u001b[43mfrom_lims\u001b[49m\u001b[38;5;241;43m.\u001b[39;49m\u001b[43mget_cortical_zstack_filepaths\u001b[49m\u001b[43m(\u001b[49m\u001b[43mspecimen_id\u001b[49m\u001b[43m)\u001b[49m\u001b[38;5;241m.\u001b[39mfilepath\u001b[38;5;241m.\u001b[39mvalues\n",
      "File \u001b[1;32mc:\\users\\jinho.kim\\github\\brain_observatory_qc\\brain_observatory_qc\\data_access\\from_lims.py:1517\u001b[0m, in \u001b[0;36mget_cortical_zstack_filepaths\u001b[1;34m(specimen_id)\u001b[0m\n\u001b[0;32m   1515\u001b[0m lims_utils\u001b[38;5;241m.\u001b[39mvalidate_LIMS_id_type(\u001b[38;5;124m\"\u001b[39m\u001b[38;5;124mspecimen_id\u001b[39m\u001b[38;5;124m\"\u001b[39m, specimen_id)\n\u001b[0;32m   1516\u001b[0m filepaths \u001b[38;5;241m=\u001b[39m get_well_known_file_realdict(\u001b[38;5;124m\"\u001b[39m\u001b[38;5;124m'\u001b[39m\u001b[38;5;124mcortical_z_stacks\u001b[39m\u001b[38;5;124m'\u001b[39m\u001b[38;5;124m\"\u001b[39m, specimen_id)\n\u001b[1;32m-> 1517\u001b[0m \u001b[43mutils\u001b[49m\u001b[38;5;241;43m.\u001b[39;49m\u001b[43mcorrect_dataframe_filepath\u001b[49m\u001b[43m(\u001b[49m\u001b[43mfilepaths\u001b[49m\u001b[43m,\u001b[49m\u001b[43m \u001b[49m\u001b[38;5;124;43m\"\u001b[39;49m\u001b[38;5;124;43mfilepath\u001b[39;49m\u001b[38;5;124;43m\"\u001b[39;49m\u001b[43m)\u001b[49m\n\u001b[0;32m   1518\u001b[0m \u001b[38;5;28;01mreturn\u001b[39;00m filepaths\n",
      "File \u001b[1;32mc:\\users\\jinho.kim\\github\\brain_observatory_qc\\brain_observatory_qc\\data_access\\utilities.py:330\u001b[0m, in \u001b[0;36mcorrect_dataframe_filepath\u001b[1;34m(df, column)\u001b[0m\n\u001b[0;32m    311\u001b[0m \u001b[38;5;28;01mdef\u001b[39;00m \u001b[38;5;21mcorrect_dataframe_filepath\u001b[39m(df:pd\u001b[38;5;241m.\u001b[39mDataFrame, column: \u001b[38;5;28mstr\u001b[39m) \u001b[38;5;241m-\u001b[39m\u001b[38;5;241m>\u001b[39m pd\u001b[38;5;241m.\u001b[39mDataFrame:\n\u001b[0;32m    312\u001b[0m \u001b[38;5;250m    \u001b[39m\u001b[38;5;124;03m\"\"\"applies the correct_filepath function to a given dataframe\u001b[39;00m\n\u001b[0;32m    313\u001b[0m \u001b[38;5;124;03m    column, replacing the filepath in that column in place\u001b[39;00m\n\u001b[0;32m    314\u001b[0m \n\u001b[1;32m   (...)\u001b[0m\n\u001b[0;32m    328\u001b[0m \u001b[38;5;124;03m        column 'corrected' for the users operating system, in place\u001b[39;00m\n\u001b[0;32m    329\u001b[0m \u001b[38;5;124;03m    \"\"\"\u001b[39;00m\n\u001b[1;32m--> 330\u001b[0m     df[column] \u001b[38;5;241m=\u001b[39m \u001b[43mdf\u001b[49m\u001b[43m[\u001b[49m\u001b[43mcolumn\u001b[49m\u001b[43m]\u001b[49m\u001b[38;5;241m.\u001b[39mapply(\u001b[38;5;28;01mlambda\u001b[39;00m x: correct_filepath(x))\n\u001b[0;32m    331\u001b[0m     \u001b[38;5;28;01mreturn\u001b[39;00m df\n",
      "File \u001b[1;32m~\\AppData\\Roaming\\Python\\Python38\\site-packages\\pandas\\core\\frame.py:3505\u001b[0m, in \u001b[0;36mDataFrame.__getitem__\u001b[1;34m(self, key)\u001b[0m\n\u001b[0;32m   3503\u001b[0m \u001b[38;5;28;01mif\u001b[39;00m \u001b[38;5;28mself\u001b[39m\u001b[38;5;241m.\u001b[39mcolumns\u001b[38;5;241m.\u001b[39mnlevels \u001b[38;5;241m>\u001b[39m \u001b[38;5;241m1\u001b[39m:\n\u001b[0;32m   3504\u001b[0m     \u001b[38;5;28;01mreturn\u001b[39;00m \u001b[38;5;28mself\u001b[39m\u001b[38;5;241m.\u001b[39m_getitem_multilevel(key)\n\u001b[1;32m-> 3505\u001b[0m indexer \u001b[38;5;241m=\u001b[39m \u001b[38;5;28;43mself\u001b[39;49m\u001b[38;5;241;43m.\u001b[39;49m\u001b[43mcolumns\u001b[49m\u001b[38;5;241;43m.\u001b[39;49m\u001b[43mget_loc\u001b[49m\u001b[43m(\u001b[49m\u001b[43mkey\u001b[49m\u001b[43m)\u001b[49m\n\u001b[0;32m   3506\u001b[0m \u001b[38;5;28;01mif\u001b[39;00m is_integer(indexer):\n\u001b[0;32m   3507\u001b[0m     indexer \u001b[38;5;241m=\u001b[39m [indexer]\n",
      "File \u001b[1;32m~\\AppData\\Roaming\\Python\\Python38\\site-packages\\pandas\\core\\indexes\\base.py:3631\u001b[0m, in \u001b[0;36mIndex.get_loc\u001b[1;34m(self, key, method, tolerance)\u001b[0m\n\u001b[0;32m   3629\u001b[0m     \u001b[38;5;28;01mreturn\u001b[39;00m \u001b[38;5;28mself\u001b[39m\u001b[38;5;241m.\u001b[39m_engine\u001b[38;5;241m.\u001b[39mget_loc(casted_key)\n\u001b[0;32m   3630\u001b[0m \u001b[38;5;28;01mexcept\u001b[39;00m \u001b[38;5;167;01mKeyError\u001b[39;00m \u001b[38;5;28;01mas\u001b[39;00m err:\n\u001b[1;32m-> 3631\u001b[0m     \u001b[38;5;28;01mraise\u001b[39;00m \u001b[38;5;167;01mKeyError\u001b[39;00m(key) \u001b[38;5;28;01mfrom\u001b[39;00m \u001b[38;5;21;01merr\u001b[39;00m\n\u001b[0;32m   3632\u001b[0m \u001b[38;5;28;01mexcept\u001b[39;00m \u001b[38;5;167;01mTypeError\u001b[39;00m:\n\u001b[0;32m   3633\u001b[0m     \u001b[38;5;66;03m# If we have a listlike key, _check_indexing_error will raise\u001b[39;00m\n\u001b[0;32m   3634\u001b[0m     \u001b[38;5;66;03m#  InvalidIndexError. Otherwise we fall through and re-raise\u001b[39;00m\n\u001b[0;32m   3635\u001b[0m     \u001b[38;5;66;03m#  the TypeError.\u001b[39;00m\n\u001b[0;32m   3636\u001b[0m     \u001b[38;5;28mself\u001b[39m\u001b[38;5;241m.\u001b[39m_check_indexing_error(key)\n",
      "\u001b[1;31mKeyError\u001b[0m: 'filepath'"
     ]
    }
   ],
   "source": [
    "from_lims.get_cortical_zstack_filepaths(specimen_id).filepath.values"
   ]
  },
  {
   "cell_type": "code",
   "execution_count": 74,
   "metadata": {},
   "outputs": [
    {
     "data": {
      "text/html": [
       "<div>\n",
       "<style scoped>\n",
       "    .dataframe tbody tr th:only-of-type {\n",
       "        vertical-align: middle;\n",
       "    }\n",
       "\n",
       "    .dataframe tbody tr th {\n",
       "        vertical-align: top;\n",
       "    }\n",
       "\n",
       "    .dataframe thead th {\n",
       "        text-align: right;\n",
       "    }\n",
       "</style>\n",
       "<table border=\"1\" class=\"dataframe\">\n",
       "  <thead>\n",
       "    <tr style=\"text-align: right;\">\n",
       "      <th></th>\n",
       "      <th>filepath</th>\n",
       "    </tr>\n",
       "  </thead>\n",
       "  <tbody>\n",
       "    <tr>\n",
       "      <th>0</th>\n",
       "      <td>\\\\allen\\programs\\mindscope\\production\\learning...</td>\n",
       "    </tr>\n",
       "  </tbody>\n",
       "</table>\n",
       "</div>"
      ],
      "text/plain": [
       "                                            filepath\n",
       "0  \\\\allen\\programs\\mindscope\\production\\learning..."
      ]
     },
     "execution_count": 74,
     "metadata": {},
     "output_type": "execute_result"
    }
   ],
   "source": [
    "reload(from_lims)\n",
    "mouse_id = 724567\n",
    "oeid_table = from_lims.get_imaging_ids_for_mouse_id(mouse_id)\n",
    "specimen_id = from_lims.get_all_ids_for_ophys_experiment_id(oeid_table.ophys_experiment_id.values[0]).specimen_id.values[0]\n",
    "filepaths = from_lims.get_cortical_zstack_filepaths(specimen_id)\n",
    "filepaths"
   ]
  },
  {
   "cell_type": "code",
   "execution_count": 63,
   "metadata": {},
   "outputs": [],
   "source": [
    "filepaths = from_lims.get_well_known_file_realdict(\"'cortical_z_stacks'\", specimen_id)"
   ]
  },
  {
   "cell_type": "code",
   "execution_count": 66,
   "metadata": {},
   "outputs": [],
   "source": [
    "from brain_observatory_qc.data_access import from_lims_utilities\n",
    "from_lims_utilities.validate_LIMS_id_type(\"specimen_id\", specimen_id)"
   ]
  },
  {
   "cell_type": "code",
   "execution_count": 72,
   "metadata": {},
   "outputs": [
    {
     "data": {
      "text/html": [
       "<div>\n",
       "<style scoped>\n",
       "    .dataframe tbody tr th:only-of-type {\n",
       "        vertical-align: middle;\n",
       "    }\n",
       "\n",
       "    .dataframe tbody tr th {\n",
       "        vertical-align: top;\n",
       "    }\n",
       "\n",
       "    .dataframe thead th {\n",
       "        text-align: right;\n",
       "    }\n",
       "</style>\n",
       "<table border=\"1\" class=\"dataframe\">\n",
       "  <thead>\n",
       "    <tr style=\"text-align: right;\">\n",
       "      <th></th>\n",
       "      <th>filepath</th>\n",
       "    </tr>\n",
       "  </thead>\n",
       "  <tbody>\n",
       "    <tr>\n",
       "      <th>0</th>\n",
       "      <td>\\\\allen\\programs\\mindscope\\production\\learning...</td>\n",
       "    </tr>\n",
       "  </tbody>\n",
       "</table>\n",
       "</div>"
      ],
      "text/plain": [
       "                                            filepath\n",
       "0  \\\\allen\\programs\\mindscope\\production\\learning..."
      ]
     },
     "execution_count": 72,
     "metadata": {},
     "output_type": "execute_result"
    }
   ],
   "source": [
    "from brain_observatory_qc.data_access import utilities\n",
    "utilities.correct_dataframe_filepath(filepaths, \"filepath\")"
   ]
  },
  {
   "cell_type": "code",
   "execution_count": null,
   "metadata": {},
   "outputs": [],
   "source": [
    "from importlib import reload\n",
    "reload(zstack)\n",
    "mouse_ids = [724567, 721291, 721292, 727604, 736963, 739564, 741863, 741865, 741866]\n",
    "output_dir_base = Path(r'\\\\allen\\programs\\mindscope\\workgroups\\learning\\coreg\\cortical_zstacks')\n",
    "    \n",
    "for mouse_id in mouse_ids[1:]:\n",
    "    oeid_table = from_lims.get_imaging_ids_for_mouse_id(mouse_id)\n",
    "    specimen_id = from_lims.get_all_ids_for_ophys_experiment_id(oeid_table.ophys_experiment_id.values[0]).specimen_id.values[0]\n",
    "    filepaths = from_lims.get_cortical_zstack_filepaths(specimen_id)\n",
    "    if filepaths is not None:\n",
    "        cortical_zstack_paths = list(from_lims.get_cortical_zstack_filepaths(specimen_id).filepath.values)\n",
    "    else:\n",
    "        cortical_zstack_paths = []\n",
    "    specimen_dir = '/' + oeid_table.experiment_storage_directory.values[0].split('ophys_session')[0]\n",
    "    cortical_zstack_paths += from_lims.get_cortical_zstack_filepaths_from_specimen_dir(specimen_dir)\n",
    "    for czp in cortical_zstack_paths:\n",
    "        output_dir = output_dir_base / f'{mouse_id}'\n",
    "        # if ~check_zstack_regged(output_dir):\n",
    "        zstack.register_cortical_stack(czp, save=True, output_dir=output_dir, qc_plots=True)\n",
    "    "
   ]
  }
 ],
 "metadata": {
  "kernelspec": {
   "display_name": "allenvisb",
   "language": "python",
   "name": "python3"
  },
  "language_info": {
   "codemirror_mode": {
    "name": "ipython",
    "version": 3
   },
   "file_extension": ".py",
   "mimetype": "text/x-python",
   "name": "python",
   "nbconvert_exporter": "python",
   "pygments_lexer": "ipython3",
   "version": "3.8.18"
  }
 },
 "nbformat": 4,
 "nbformat_minor": 2
}
