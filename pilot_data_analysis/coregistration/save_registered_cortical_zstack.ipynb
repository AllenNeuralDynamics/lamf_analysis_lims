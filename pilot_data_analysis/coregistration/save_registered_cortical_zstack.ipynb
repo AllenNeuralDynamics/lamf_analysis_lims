{
 "cells": [
  {
   "cell_type": "code",
   "execution_count": 29,
   "metadata": {
    "metadata": {}
   },
   "outputs": [],
   "source": [
    "import numpy as np\n",
    "import pandas as pd\n",
    "from pathlib import Path\n",
    "import matplotlib.pyplot as plt\n",
    "import tifffile as tf\n",
    "from skimage import io\n",
    "from PIL import Image\n",
    "import sys\n",
    "sys.path.append(r'C:\\Users\\jinho.kim\\Github\\lamf_ophys_analysis_dev')\n",
    "from utils import zstack_reg\n",
    "\n",
    "def get_zstack_reg(zstack, num_slices, ref_ind, proj='mean'):\n",
    "    plane_reg_imgs = np.zeros((num_slices, zstack.shape[1], zstack.shape[2]))\n",
    "    shift_all_planes = []\n",
    "    for plane_ind in range(num_slices):\n",
    "        temp_imgs = zstack[plane_ind::num_slices]\n",
    "        if proj == 'mean':\n",
    "            reg_img, shift_all = zstack_reg.average_reg_plane(temp_imgs)\n",
    "        elif proj == 'max':\n",
    "            reg_img, shift_all = zstack_reg.maxproj_reg_plane(temp_imgs)\n",
    "        else:\n",
    "            raise ValueError('proj should be either mean or max')\n",
    "        plane_reg_imgs[plane_ind] = reg_img\n",
    "        shift_all_planes.append(shift_all)\n",
    "    between_plane_reg_imgs, shift_all_between_planes = zstack_reg.reg_between_planes(np.array(plane_reg_imgs), ref_ind=ref_ind)\n",
    "    return between_plane_reg_imgs, shift_all_planes, shift_all_between_planes\n",
    "\n",
    "def get_zstack_reg_using_shifts(zstack, num_slices, shift_all_planes, shift_all_between_planes,\n",
    "                                proj='mean'):\n",
    "    plane_reg_imgs = np.zeros((num_slices, zstack.shape[1], zstack.shape[2]))\n",
    "    for plane_ind in range(num_slices):\n",
    "        temp_imgs = zstack[plane_ind::num_slices]\n",
    "        if proj == 'mean':\n",
    "            reg_img = zstack_reg.maxproj_reg_plane_using_shift_info(temp_imgs, shift_all_planes[plane_ind])\n",
    "        elif proj == 'max':\n",
    "            reg_img = zstack_reg.maxproj_reg_plane_using_shift_info(temp_imgs, shift_all_planes[plane_ind])\n",
    "        else:\n",
    "            raise ValueError('proj should be either mean or max')\n",
    "        plane_reg_imgs[plane_ind] = reg_img\n",
    "    between_plane_reg_imgs = zstack_reg.reg_between_planes_using_shift_info(np.array(plane_reg_imgs), shift_all_between_planes)\n",
    "    return between_plane_reg_imgs\n",
    "\n",
    "def save_zstack_reg(zstack_fn, save_dir, ref_ind=60):\n",
    "    si_metadata = zstack_reg.read_si_stack_metadata(zstack_fn)\n",
    "    zstack = tf.imread(zstack_fn)\n",
    "    assert zstack.shape[0] == si_metadata['num_slices'] * si_metadata['num_volumes']\n",
    "    num_slices = si_metadata['num_slices']\n",
    "    assert len(zstack.shape) == 3\n",
    "\n",
    "    zstack_registered, shift_all_planes, shift_all_between_planes = get_zstack_reg(zstack, num_slices, ref_ind,\n",
    "                                                                                   proj='mean')\n",
    "    tf.imsave(save_dir / f'{zstack_fn.stem}_reg_mean.tif', zstack_registered)\n",
    "    shift_info = {'shift_all_planes': shift_all_planes, 'shift_all_between_planes': shift_all_between_planes}\n",
    "    np.save(save_dir / f'{zstack_fn.stem}_reg_shift_info.npy', shift_info)\n",
    "\n",
    "    zstack_ch_reg = get_zstack_reg_using_shifts(zstack, num_slices, shift_all_planes, shift_all_between_planes,\n",
    "                                                proj='max')\n",
    "    tf.imsave(save_dir / f'{zstack_fn.stem}_reg_max.tif', zstack_ch_reg)"
   ]
  },
  {
   "cell_type": "code",
   "execution_count": 5,
   "metadata": {
    "metadata": {}
   },
   "outputs": [],
   "source": [
    "si_metadata = zstack_reg.read_si_stack_metadata(cortical_zstack_fn)"
   ]
  },
  {
   "cell_type": "code",
   "execution_count": 8,
   "metadata": {
    "metadata": {}
   },
   "outputs": [
    {
     "data": {
      "text/plain": [
       "100"
      ]
     },
     "execution_count": 8,
     "metadata": {},
     "output_type": "execute_result"
    }
   ],
   "source": [
    "si_metadata['num_volumes']"
   ]
  },
  {
   "cell_type": "code",
   "execution_count": 9,
   "metadata": {
    "metadata": {}
   },
   "outputs": [
    {
     "name": "stdout",
     "output_type": "stream",
     "text": [
      "(40000, 512, 512)\n"
     ]
    }
   ],
   "source": [
    "zstack = tf.imread(cortical_zstack_fn)\n",
    "print(zstack.shape)"
   ]
  },
  {
   "cell_type": "code",
   "execution_count": 16,
   "metadata": {
    "metadata": {}
   },
   "outputs": [
    {
     "data": {
      "text/plain": [
       "<module 'utils.zstack_reg' from 'C:\\\\Users\\\\jinho.kim\\\\Github\\\\lamf_ophys_analysis_dev\\\\utils\\\\zstack_reg.py'>"
      ]
     },
     "execution_count": 16,
     "metadata": {},
     "output_type": "execute_result"
    }
   ],
   "source": [
    "from importlib import reload\n",
    "reload(zstack_reg)"
   ]
  },
  {
   "cell_type": "code",
   "execution_count": null,
   "metadata": {
    "metadata": {}
   },
   "outputs": [],
   "source": [
    "# About 70 min\n",
    "cortical_zstack_fn = Path(r'\\\\allen\\programs\\mindscope\\production\\omfish\\prod0\\specimen_1291107612\\ophys_session_1325739462\\1325739462_cortical_z_stack0.tiff')\n",
    "save_dir = Path(r'\\\\allen\\programs\\mindscope\\workgroups\\learning\\coreg\\multi-slice pilot\\693124')\n",
    "save_zstack_reg(cortical_zstack_fn, save_dir)"
   ]
  },
  {
   "cell_type": "code",
   "execution_count": 17,
   "metadata": {
    "metadata": {}
   },
   "outputs": [],
   "source": [
    "shift_info = np.load(save_dir / f'{cortical_zstack_fn.stem}_reg_shift_info.npy', allow_pickle=True).item()"
   ]
  },
  {
   "cell_type": "code",
   "execution_count": 25,
   "metadata": {
    "metadata": {}
   },
   "outputs": [],
   "source": [
    "shift_all_planes = shift_info['shift_all_planes']\n",
    "shift_all_between_planes = shift_info['shift_all_between_planes']"
   ]
  },
  {
   "cell_type": "code",
   "execution_count": 23,
   "metadata": {
    "metadata": {}
   },
   "outputs": [],
   "source": [
    "num_slices = len(shift_info['shift_all_between_planes'])"
   ]
  },
  {
   "cell_type": "code",
   "execution_count": 30,
   "metadata": {
    "metadata": {}
   },
   "outputs": [],
   "source": [
    "zstack_ch_reg = get_zstack_reg_using_shifts(zstack, num_slices, shift_all_planes, shift_all_between_planes,\n",
    "                                                proj='max')"
   ]
  },
  {
   "cell_type": "code",
   "execution_count": 31,
   "metadata": {
    "metadata": {}
   },
   "outputs": [
    {
     "name": "stderr",
     "output_type": "stream",
     "text": [
      "C:\\Users\\jinho.kim\\AppData\\Local\\Temp\\ipykernel_43548\\3355411629.py:1: DeprecationWarning: <tifffile.imsave> is deprecated. Use tifffile.imwrite\n",
      "  tf.imsave(save_dir / f'{cortical_zstack_fn.stem}_reg_max.tif', zstack_ch_reg)\n"
     ]
    }
   ],
   "source": [
    "tf.imsave(save_dir / f'{cortical_zstack_fn.stem}_reg_max.tif', zstack_ch_reg)"
   ]
  }
 ],
 "metadata": {
  "kernelspec": {
   "display_name": "allenvisb",
   "language": "python",
   "name": "python3"
  },
  "language_info": {
   "codemirror_mode": {
    "name": "ipython",
    "version": 3
   },
   "file_extension": ".py",
   "mimetype": "text/x-python",
   "name": "python",
   "nbconvert_exporter": "python",
   "pygments_lexer": "ipython3",
   "version": "3.8.18"
  }
 },
 "nbformat": 4,
 "nbformat_minor": 2
}
