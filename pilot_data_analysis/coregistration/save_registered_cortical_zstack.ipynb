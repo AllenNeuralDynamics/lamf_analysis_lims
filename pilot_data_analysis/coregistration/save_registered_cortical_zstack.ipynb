{
 "cells": [
  {
   "cell_type": "code",
   "execution_count": 4,
   "metadata": {},
   "outputs": [],
   "source": [
    "import numpy as np\n",
    "import pandas as pd\n",
    "from pathlib import Path\n",
    "import matplotlib.pyplot as plt\n",
    "import tifffile as tf\n",
    "from skimage import io\n",
    "from PIL import Image\n",
    "from lamf_analysis.ophys import zstack\n",
    "\n",
    "%load_ext autoreload\n",
    "%autoreload 2"
   ]
  },
  {
   "cell_type": "code",
   "execution_count": 28,
   "metadata": {},
   "outputs": [
    {
     "name": "stdout",
     "output_type": "stream",
     "text": [
      "Loading stack from: \\\\allen\\programs\\mindscope\\production\\learning\\prod1\\specimen_1385236652\\20240927_743116_visp_week1_retake_redgreen_00001.tif\n"
     ]
    },
    {
     "ename": "KeyboardInterrupt",
     "evalue": "",
     "output_type": "error",
     "traceback": [
      "\u001b[1;31m---------------------------------------------------------------------------\u001b[0m",
      "\u001b[1;31mKeyboardInterrupt\u001b[0m                         Traceback (most recent call last)",
      "Cell \u001b[1;32mIn[28], line 24\u001b[0m\n\u001b[0;32m     22\u001b[0m \u001b[38;5;66;03m# saving\u001b[39;00m\n\u001b[0;32m     23\u001b[0m output_dir \u001b[38;5;241m=\u001b[39m output_dir_base \u001b[38;5;241m/\u001b[39m mouse_id\n\u001b[1;32m---> 24\u001b[0m \u001b[43mzstack\u001b[49m\u001b[38;5;241;43m.\u001b[39;49m\u001b[43mregister_cortical_stack\u001b[49m\u001b[43m(\u001b[49m\u001b[43mczp\u001b[49m\u001b[43m,\u001b[49m\u001b[43m \u001b[49m\u001b[43msave\u001b[49m\u001b[38;5;241;43m=\u001b[39;49m\u001b[38;5;28;43;01mTrue\u001b[39;49;00m\u001b[43m,\u001b[49m\u001b[43m \u001b[49m\u001b[43moutput_dir\u001b[49m\u001b[38;5;241;43m=\u001b[39;49m\u001b[43moutput_dir\u001b[49m\u001b[43m,\u001b[49m\u001b[43m \u001b[49m\u001b[43mqc_plots\u001b[49m\u001b[38;5;241;43m=\u001b[39;49m\u001b[38;5;28;43;01mTrue\u001b[39;49;00m\u001b[43m,\u001b[49m\n\u001b[0;32m     25\u001b[0m \u001b[43m                               \u001b[49m\u001b[43mref_channel\u001b[49m\u001b[38;5;241;43m=\u001b[39;49m\u001b[38;5;241;43m1\u001b[39;49m\u001b[43m)\u001b[49m\n",
      "File \u001b[1;32mc:\\users\\jinho.kim\\github\\lamf-analysis\\src\\lamf_analysis\\ophys\\zstack.py:178\u001b[0m, in \u001b[0;36mregister_cortical_stack\u001b[1;34m(zstack_path, save, output_dir, qc_plots, stack_metadata, reference_plane, ref_channel)\u001b[0m\n\u001b[0;32m    175\u001b[0m \u001b[38;5;28mprint\u001b[39m(\u001b[38;5;124mf\u001b[39m\u001b[38;5;124m\"\u001b[39m\u001b[38;5;124mLoading stack from: \u001b[39m\u001b[38;5;132;01m{\u001b[39;00mzstack_path\u001b[38;5;132;01m}\u001b[39;00m\u001b[38;5;124m\"\u001b[39m)\n\u001b[0;32m    176\u001b[0m new_time \u001b[38;5;241m=\u001b[39m time\u001b[38;5;241m.\u001b[39mtime()\n\u001b[1;32m--> 178\u001b[0m stack \u001b[38;5;241m=\u001b[39m \u001b[43mimread\u001b[49m\u001b[43m(\u001b[49m\u001b[43mPath\u001b[49m\u001b[43m(\u001b[49m\u001b[43mzstack_path\u001b[49m\u001b[43m)\u001b[49m\u001b[43m)\u001b[49m\n\u001b[0;32m    179\u001b[0m \u001b[38;5;28mprint\u001b[39m(\u001b[38;5;124mf\u001b[39m\u001b[38;5;124m\"\u001b[39m\u001b[38;5;124mStack shape: \u001b[39m\u001b[38;5;132;01m{\u001b[39;00mstack\u001b[38;5;241m.\u001b[39mshape\u001b[38;5;132;01m}\u001b[39;00m\u001b[38;5;124m read in \u001b[39m\u001b[38;5;132;01m{\u001b[39;00mnp\u001b[38;5;241m.\u001b[39mround(time\u001b[38;5;241m.\u001b[39mtime()\u001b[38;5;250m \u001b[39m\u001b[38;5;241m-\u001b[39m\u001b[38;5;250m \u001b[39mnew_time,\u001b[38;5;250m \u001b[39m\u001b[38;5;241m2\u001b[39m)\u001b[38;5;132;01m}\u001b[39;00m\u001b[38;5;124m s\u001b[39m\u001b[38;5;124m\"\u001b[39m)\n\u001b[0;32m    181\u001b[0m \u001b[38;5;66;03m# 2. load and parse key metadata\u001b[39;00m\n",
      "File \u001b[1;32mc:\\Users\\jinho.kim\\Anaconda3\\envs\\allenvisb\\lib\\site-packages\\tifffile\\tifffile.py:1121\u001b[0m, in \u001b[0;36mimread\u001b[1;34m(files, selection, aszarr, key, series, level, squeeze, maxworkers, mode, name, offset, size, pattern, axesorder, categories, imread, sort, container, chunkshape, dtype, axestiled, ioworkers, chunkmode, fillvalue, zattrs, multiscales, omexml, out, out_inplace, _multifile, _useframes, **kwargs)\u001b[0m\n\u001b[0;32m   1119\u001b[0m                     \u001b[38;5;28;01mreturn\u001b[39;00m store\n\u001b[0;32m   1120\u001b[0m                 \u001b[38;5;28;01mreturn\u001b[39;00m zarr_selection(store, selection)\n\u001b[1;32m-> 1121\u001b[0m             \u001b[38;5;28;01mreturn\u001b[39;00m \u001b[43mtif\u001b[49m\u001b[38;5;241;43m.\u001b[39;49m\u001b[43masarray\u001b[49m\u001b[43m(\u001b[49m\n\u001b[0;32m   1122\u001b[0m \u001b[43m                \u001b[49m\u001b[43mkey\u001b[49m\u001b[38;5;241;43m=\u001b[39;49m\u001b[43mkey\u001b[49m\u001b[43m,\u001b[49m\n\u001b[0;32m   1123\u001b[0m \u001b[43m                \u001b[49m\u001b[43mseries\u001b[49m\u001b[38;5;241;43m=\u001b[39;49m\u001b[43mseries\u001b[49m\u001b[43m,\u001b[49m\n\u001b[0;32m   1124\u001b[0m \u001b[43m                \u001b[49m\u001b[43mlevel\u001b[49m\u001b[38;5;241;43m=\u001b[39;49m\u001b[43mlevel\u001b[49m\u001b[43m,\u001b[49m\n\u001b[0;32m   1125\u001b[0m \u001b[43m                \u001b[49m\u001b[43msqueeze\u001b[49m\u001b[38;5;241;43m=\u001b[39;49m\u001b[43msqueeze\u001b[49m\u001b[43m,\u001b[49m\n\u001b[0;32m   1126\u001b[0m \u001b[43m                \u001b[49m\u001b[43mmaxworkers\u001b[49m\u001b[38;5;241;43m=\u001b[39;49m\u001b[43mmaxworkers\u001b[49m\u001b[43m,\u001b[49m\n\u001b[0;32m   1127\u001b[0m \u001b[43m                \u001b[49m\u001b[43mout\u001b[49m\u001b[38;5;241;43m=\u001b[39;49m\u001b[43mout\u001b[49m\u001b[43m,\u001b[49m\n\u001b[0;32m   1128\u001b[0m \u001b[43m            \u001b[49m\u001b[43m)\u001b[49m\n\u001b[0;32m   1130\u001b[0m \u001b[38;5;28;01melif\u001b[39;00m \u001b[38;5;28misinstance\u001b[39m(files, (FileHandle, BinaryIO)):\n\u001b[0;32m   1131\u001b[0m     \u001b[38;5;28;01mraise\u001b[39;00m \u001b[38;5;167;01mValueError\u001b[39;00m(\u001b[38;5;124m'\u001b[39m\u001b[38;5;124mBinaryIO not supported\u001b[39m\u001b[38;5;124m'\u001b[39m)\n",
      "File \u001b[1;32mc:\\Users\\jinho.kim\\Anaconda3\\envs\\allenvisb\\lib\\site-packages\\tifffile\\tifffile.py:4255\u001b[0m, in \u001b[0;36mTiffFile.asarray\u001b[1;34m(self, key, series, level, squeeze, out, maxworkers)\u001b[0m\n\u001b[0;32m   4253\u001b[0m \u001b[38;5;28;01melse\u001b[39;00m:\n\u001b[0;32m   4254\u001b[0m     \u001b[38;5;28;01mif\u001b[39;00m \u001b[38;5;129;01mnot\u001b[39;00m \u001b[38;5;28misinstance\u001b[39m(series, TiffPageSeries):\n\u001b[1;32m-> 4255\u001b[0m         series \u001b[38;5;241m=\u001b[39m \u001b[38;5;28;43mself\u001b[39;49m\u001b[38;5;241;43m.\u001b[39;49m\u001b[43mseries\u001b[49m[series]\n\u001b[0;32m   4256\u001b[0m     \u001b[38;5;28;01mif\u001b[39;00m level \u001b[38;5;129;01mis\u001b[39;00m \u001b[38;5;129;01mnot\u001b[39;00m \u001b[38;5;28;01mNone\u001b[39;00m:\n\u001b[0;32m   4257\u001b[0m         series \u001b[38;5;241m=\u001b[39m series\u001b[38;5;241m.\u001b[39mlevels[level]\n",
      "File \u001b[1;32mc:\\Users\\jinho.kim\\Anaconda3\\envs\\allenvisb\\lib\\functools.py:967\u001b[0m, in \u001b[0;36mcached_property.__get__\u001b[1;34m(self, instance, owner)\u001b[0m\n\u001b[0;32m    965\u001b[0m val \u001b[38;5;241m=\u001b[39m cache\u001b[38;5;241m.\u001b[39mget(\u001b[38;5;28mself\u001b[39m\u001b[38;5;241m.\u001b[39mattrname, _NOT_FOUND)\n\u001b[0;32m    966\u001b[0m \u001b[38;5;28;01mif\u001b[39;00m val \u001b[38;5;129;01mis\u001b[39;00m _NOT_FOUND:\n\u001b[1;32m--> 967\u001b[0m     val \u001b[38;5;241m=\u001b[39m \u001b[38;5;28;43mself\u001b[39;49m\u001b[38;5;241;43m.\u001b[39;49m\u001b[43mfunc\u001b[49m\u001b[43m(\u001b[49m\u001b[43minstance\u001b[49m\u001b[43m)\u001b[49m\n\u001b[0;32m    968\u001b[0m     \u001b[38;5;28;01mtry\u001b[39;00m:\n\u001b[0;32m    969\u001b[0m         cache[\u001b[38;5;28mself\u001b[39m\u001b[38;5;241m.\u001b[39mattrname] \u001b[38;5;241m=\u001b[39m val\n",
      "File \u001b[1;32mc:\\Users\\jinho.kim\\Anaconda3\\envs\\allenvisb\\lib\\site-packages\\tifffile\\tifffile.py:4435\u001b[0m, in \u001b[0;36mTiffFile.series\u001b[1;34m(self)\u001b[0m\n\u001b[0;32m   4414\u001b[0m \u001b[38;5;28;01mfor\u001b[39;00m kind \u001b[38;5;129;01min\u001b[39;00m (\n\u001b[0;32m   4415\u001b[0m     \u001b[38;5;124m'\u001b[39m\u001b[38;5;124mshaped\u001b[39m\u001b[38;5;124m'\u001b[39m,\n\u001b[0;32m   4416\u001b[0m     \u001b[38;5;124m'\u001b[39m\u001b[38;5;124mlsm\u001b[39m\u001b[38;5;124m'\u001b[39m,\n\u001b[1;32m   (...)\u001b[0m\n\u001b[0;32m   4432\u001b[0m     \u001b[38;5;124m'\u001b[39m\u001b[38;5;124muniform\u001b[39m\u001b[38;5;124m'\u001b[39m,\n\u001b[0;32m   4433\u001b[0m ):\n\u001b[0;32m   4434\u001b[0m     \u001b[38;5;28;01mif\u001b[39;00m \u001b[38;5;28mgetattr\u001b[39m(\u001b[38;5;28mself\u001b[39m, \u001b[38;5;124m'\u001b[39m\u001b[38;5;124mis_\u001b[39m\u001b[38;5;124m'\u001b[39m \u001b[38;5;241m+\u001b[39m kind, \u001b[38;5;28;01mFalse\u001b[39;00m):\n\u001b[1;32m-> 4435\u001b[0m         series \u001b[38;5;241m=\u001b[39m \u001b[38;5;28;43mgetattr\u001b[39;49m\u001b[43m(\u001b[49m\u001b[38;5;28;43mself\u001b[39;49m\u001b[43m,\u001b[49m\u001b[43m \u001b[49m\u001b[38;5;124;43m'\u001b[39;49m\u001b[38;5;124;43m_series_\u001b[39;49m\u001b[38;5;124;43m'\u001b[39;49m\u001b[43m \u001b[49m\u001b[38;5;241;43m+\u001b[39;49m\u001b[43m \u001b[49m\u001b[43mkind\u001b[49m\u001b[43m)\u001b[49m\u001b[43m(\u001b[49m\u001b[43m)\u001b[49m\n\u001b[0;32m   4436\u001b[0m         \u001b[38;5;28;01mif\u001b[39;00m \u001b[38;5;129;01mnot\u001b[39;00m series:\n\u001b[0;32m   4437\u001b[0m             \u001b[38;5;28;01mif\u001b[39;00m kind \u001b[38;5;241m==\u001b[39m \u001b[38;5;124m'\u001b[39m\u001b[38;5;124mome\u001b[39m\u001b[38;5;124m'\u001b[39m \u001b[38;5;129;01mand\u001b[39;00m \u001b[38;5;28mself\u001b[39m\u001b[38;5;241m.\u001b[39mis_imagej:\n\u001b[0;32m   4438\u001b[0m                 \u001b[38;5;66;03m# try ImageJ series if OME series fails.\u001b[39;00m\n\u001b[0;32m   4439\u001b[0m                 \u001b[38;5;66;03m# clear pages cache since _series_ome() might leave\u001b[39;00m\n\u001b[0;32m   4440\u001b[0m                 \u001b[38;5;66;03m# some frames without keyframe\u001b[39;00m\n",
      "File \u001b[1;32mc:\\Users\\jinho.kim\\Anaconda3\\envs\\allenvisb\\lib\\site-packages\\tifffile\\tifffile.py:4881\u001b[0m, in \u001b[0;36mTiffFile._series_scanimage\u001b[1;34m(self)\u001b[0m\n\u001b[0;32m   4879\u001b[0m \u001b[38;5;28;01mdef\u001b[39;00m \u001b[38;5;21m_series_scanimage\u001b[39m(\u001b[38;5;28mself\u001b[39m) \u001b[38;5;241m-\u001b[39m\u001b[38;5;241m>\u001b[39m \u001b[38;5;28mlist\u001b[39m[TiffPageSeries] \u001b[38;5;241m|\u001b[39m \u001b[38;5;28;01mNone\u001b[39;00m:\n\u001b[0;32m   4880\u001b[0m \u001b[38;5;250m    \u001b[39m\u001b[38;5;124;03m\"\"\"Return image series in ScanImage file.\"\"\"\u001b[39;00m\n\u001b[1;32m-> 4881\u001b[0m     pages \u001b[38;5;241m=\u001b[39m \u001b[38;5;28;43mself\u001b[39;49m\u001b[38;5;241;43m.\u001b[39;49m\u001b[43mpages\u001b[49m\u001b[38;5;241;43m.\u001b[39;49m\u001b[43m_getlist\u001b[49m\u001b[43m(\u001b[49m\u001b[43mvalidate\u001b[49m\u001b[38;5;241;43m=\u001b[39;49m\u001b[38;5;28;43;01mFalse\u001b[39;49;00m\u001b[43m)\u001b[49m\n\u001b[0;32m   4882\u001b[0m     page \u001b[38;5;241m=\u001b[39m \u001b[38;5;28mself\u001b[39m\u001b[38;5;241m.\u001b[39mpages\u001b[38;5;241m.\u001b[39mfirst\n\u001b[0;32m   4883\u001b[0m     dtype \u001b[38;5;241m=\u001b[39m page\u001b[38;5;241m.\u001b[39mdtype\n",
      "File \u001b[1;32mc:\\Users\\jinho.kim\\Anaconda3\\envs\\allenvisb\\lib\\site-packages\\tifffile\\tifffile.py:7494\u001b[0m, in \u001b[0;36mTiffPages._getlist\u001b[1;34m(self, key, useframes, validate)\u001b[0m\n\u001b[0;32m   7491\u001b[0m _useframes \u001b[38;5;241m=\u001b[39m \u001b[38;5;28mself\u001b[39m\u001b[38;5;241m.\u001b[39museframes\n\u001b[0;32m   7493\u001b[0m \u001b[38;5;28;01mif\u001b[39;00m key \u001b[38;5;129;01mis\u001b[39;00m \u001b[38;5;28;01mNone\u001b[39;00m:\n\u001b[1;32m-> 7494\u001b[0m     key \u001b[38;5;241m=\u001b[39m \u001b[38;5;28miter\u001b[39m(\u001b[38;5;28mrange\u001b[39m(\u001b[38;5;28;43mlen\u001b[39;49m\u001b[43m(\u001b[49m\u001b[38;5;28;43mself\u001b[39;49m\u001b[43m)\u001b[49m))\n\u001b[0;32m   7495\u001b[0m \u001b[38;5;28;01melif\u001b[39;00m \u001b[38;5;28misinstance\u001b[39m(key, collections\u001b[38;5;241m.\u001b[39mabc\u001b[38;5;241m.\u001b[39mIterable):\n\u001b[0;32m   7496\u001b[0m     key \u001b[38;5;241m=\u001b[39m \u001b[38;5;28miter\u001b[39m(key)\n",
      "File \u001b[1;32mc:\\Users\\jinho.kim\\Anaconda3\\envs\\allenvisb\\lib\\site-packages\\tifffile\\tifffile.py:7629\u001b[0m, in \u001b[0;36mTiffPages.__len__\u001b[1;34m(self)\u001b[0m\n\u001b[0;32m   7627\u001b[0m \u001b[38;5;250m\u001b[39m\u001b[38;5;124;03m\"\"\"Return number of pages in file.\"\"\"\u001b[39;00m\n\u001b[0;32m   7628\u001b[0m \u001b[38;5;28;01mif\u001b[39;00m \u001b[38;5;129;01mnot\u001b[39;00m \u001b[38;5;28mself\u001b[39m\u001b[38;5;241m.\u001b[39m_indexed:\n\u001b[1;32m-> 7629\u001b[0m     \u001b[38;5;28;43mself\u001b[39;49m\u001b[38;5;241;43m.\u001b[39;49m\u001b[43m_seek\u001b[49m\u001b[43m(\u001b[49m\u001b[38;5;241;43m-\u001b[39;49m\u001b[38;5;241;43m1\u001b[39;49m\u001b[43m)\u001b[49m\n\u001b[0;32m   7630\u001b[0m \u001b[38;5;28;01mreturn\u001b[39;00m \u001b[38;5;28mlen\u001b[39m(\u001b[38;5;28mself\u001b[39m\u001b[38;5;241m.\u001b[39mpages)\n",
      "File \u001b[1;32mc:\\Users\\jinho.kim\\Anaconda3\\envs\\allenvisb\\lib\\site-packages\\tifffile\\tifffile.py:7427\u001b[0m, in \u001b[0;36mTiffPages._seek\u001b[1;34m(self, index)\u001b[0m\n\u001b[0;32m   7425\u001b[0m \u001b[38;5;66;03m# skip tags\u001b[39;00m\n\u001b[0;32m   7426\u001b[0m \u001b[38;5;28;01mtry\u001b[39;00m:\n\u001b[1;32m-> 7427\u001b[0m     tagno \u001b[38;5;241m=\u001b[39m \u001b[38;5;28mint\u001b[39m(unpack(tagnoformat, \u001b[43mfh\u001b[49m\u001b[38;5;241;43m.\u001b[39;49m\u001b[43mread\u001b[49m\u001b[43m(\u001b[49m\u001b[43mtagnosize\u001b[49m\u001b[43m)\u001b[49m)[\u001b[38;5;241m0\u001b[39m])\n\u001b[0;32m   7428\u001b[0m     \u001b[38;5;28;01mif\u001b[39;00m tagno \u001b[38;5;241m>\u001b[39m \u001b[38;5;241m4096\u001b[39m:\n\u001b[0;32m   7429\u001b[0m         \u001b[38;5;28;01mraise\u001b[39;00m TiffFileError(\u001b[38;5;124mf\u001b[39m\u001b[38;5;124m'\u001b[39m\u001b[38;5;124msuspicious number of tags \u001b[39m\u001b[38;5;132;01m{\u001b[39;00mtagno\u001b[38;5;132;01m!r}\u001b[39;00m\u001b[38;5;124m'\u001b[39m)\n",
      "File \u001b[1;32mc:\\Users\\jinho.kim\\Anaconda3\\envs\\allenvisb\\lib\\site-packages\\tifffile\\tifffile.py:14191\u001b[0m, in \u001b[0;36mFileHandle.read\u001b[1;34m(self, size)\u001b[0m\n\u001b[0;32m  14189\u001b[0m     size \u001b[38;5;241m=\u001b[39m \u001b[38;5;28mself\u001b[39m\u001b[38;5;241m.\u001b[39m_size\n\u001b[0;32m  14190\u001b[0m \u001b[38;5;28;01massert\u001b[39;00m \u001b[38;5;28mself\u001b[39m\u001b[38;5;241m.\u001b[39m_fh \u001b[38;5;129;01mis\u001b[39;00m \u001b[38;5;129;01mnot\u001b[39;00m \u001b[38;5;28;01mNone\u001b[39;00m\n\u001b[1;32m> 14191\u001b[0m \u001b[38;5;28;01mreturn\u001b[39;00m \u001b[38;5;28;43mself\u001b[39;49m\u001b[38;5;241;43m.\u001b[39;49m\u001b[43m_fh\u001b[49m\u001b[38;5;241;43m.\u001b[39;49m\u001b[43mread\u001b[49m\u001b[43m(\u001b[49m\u001b[43msize\u001b[49m\u001b[43m)\u001b[49m\n",
      "\u001b[1;31mKeyboardInterrupt\u001b[0m: "
     ]
    }
   ],
   "source": [
    "# 1 hour per stack (2 channels, ref ch 1)\n",
    "output_dir_base = Path(r'\\\\allen\\programs\\mindscope\\workgroups\\learning\\coreg\\cortical_zstacks')\n",
    "# cortical_zstack_paths = [r\"\\\\allen\\programs\\braintv\\workgroups\\ophysdev\\OPhysCore\\operator_files\\sam_seid\\Mesoscope\\stacks\\dextran\\741865_red\\20241111_741865_dextran_redgreen_v1_00001.tif\",\n",
    "#                          r\"\\\\allen\\programs\\braintv\\workgroups\\ophysdev\\OPhysCore\\operator_files\\sam_seid\\Mesoscope\\stacks\\dextran\\741866_red\\20241111_741866_dextran_redgreen_v1_00001.tif\",\n",
    "#                          r\"\\\\allen\\programs\\braintv\\workgroups\\ophysdev\\OPhysCore\\operator_files\\sam_seid\\Mesoscope\\stacks\\dextran\\743116_red\\20241113_743116_redgreen_visp_dextran_00001.tif\",\n",
    "#                          r\"\\\\allen\\programs\\braintv\\workgroups\\ophysdev\\OPhysCore\\operator_files\\sam_seid\\Mesoscope\\stacks\\dextran\\753014_red\\20241112_753014_dextran_visp_redgreen_00001.tif\",\n",
    "#                          r\"\\\\allen\\programs\\braintv\\workgroups\\ophysdev\\OPhysCore\\operator_files\\sam_seid\\Mesoscope\\stacks\\dextran\\753016_red\\20241112_753016_dextran_visp_redgreen_00001.tif\"]\n",
    "cortical_zstack_paths = [r\"\\\\allen\\programs\\mindscope\\production\\learning\\prod1\\specimen_1385236652\\20240927_743116_visp_week1_retake_redgreen_00001.tif\",\n",
    "r\"\\\\allen\\programs\\mindscope\\production\\learning\\prod1\\specimen_1385236652\\20241021_743116_week4_visp_redgreen_00001.tif\",\n",
    "r\"\\\\allen\\programs\\mindscope\\production\\learning\\prod1\\specimen_1381875512\\20240930_753014_visp_week1_cortical_redgreen_00001.tif\",\n",
    "r\"\\\\allen\\programs\\mindscope\\production\\learning\\prod1\\specimen_1381875512\\20241021_753014_week4_visp_redgreen_00001.tif\",\n",
    "r\"\\\\allen\\programs\\mindscope\\production\\learning\\prod1\\specimen_1384824885\\20240930_753016_visp_week1_cortical_redgreen_00001.tif\",\n",
    "r\"\\\\allen\\programs\\mindscope\\production\\learning\\prod1\\specimen_1384824885\\20241021_753016_week4_visp_redgreen_00001.tif\"]\n",
    "\n",
    "for czp in cortical_zstack_paths:\n",
    "    #####\n",
    "    ## Manual correction for getting mouse ID\n",
    "    #####\n",
    "    name = Path(czp).stem\n",
    "    mouse_id = name.split('_')[1]\n",
    "\n",
    "    # saving\n",
    "    output_dir = output_dir_base / mouse_id\n",
    "    zstack.register_cortical_stack(czp, save=True, output_dir=output_dir, qc_plots=True,\n",
    "                                   ref_channel=1)"
   ]
  }
 ],
 "metadata": {
  "kernelspec": {
   "display_name": "allenvisb",
   "language": "python",
   "name": "python3"
  },
  "language_info": {
   "codemirror_mode": {
    "name": "ipython",
    "version": 3
   },
   "file_extension": ".py",
   "mimetype": "text/x-python",
   "name": "python",
   "nbconvert_exporter": "python",
   "pygments_lexer": "ipython3",
   "version": "3.8.18"
  }
 },
 "nbformat": 4,
 "nbformat_minor": 2
}
