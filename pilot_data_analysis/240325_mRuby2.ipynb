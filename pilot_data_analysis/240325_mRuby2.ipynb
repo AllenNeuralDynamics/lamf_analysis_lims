{
 "cells": [
  {
   "cell_type": "markdown",
   "metadata": {},
   "source": [
    "# Purpose:\n",
    "- To visualize mRuby2 z-stacks"
   ]
  },
  {
   "cell_type": "code",
   "execution_count": 1,
   "metadata": {},
   "outputs": [],
   "source": [
    "import numpy as np\n",
    "import pandas as pd\n",
    "from pathlib import Path\n",
    "import matplotlib.pyplot as plt\n",
    "import tifffile as tf\n",
    "from skimage import io\n",
    "from PIL import Image\n",
    "import sys\n",
    "sys.path.append(r'C:\\Users\\jinho.kim\\Github\\lamf_ophys_analysis_dev')\n",
    "from utils import zstack_reg"
   ]
  },
  {
   "cell_type": "code",
   "execution_count": 2,
   "metadata": {},
   "outputs": [],
   "source": [
    "data_dir = Path(r'\\\\meso2acq\\data\\20240322_stacks')"
   ]
  },
  {
   "cell_type": "code",
   "execution_count": 11,
   "metadata": {},
   "outputs": [],
   "source": [
    "zstack_fn_list = [data_dir / '718733_week2_redandgreen_visp_00001.tif',\n",
    "                data_dir / '718732_week2_redandgreen_visp_00001.tif',\n",
    "                data_dir / '712733_week3_redandgreen_visp_00001.tif',\n",
    "                data_dir / '712732_week3_redandgreen_visp_00001.tif']\n"
   ]
  },
  {
   "cell_type": "code",
   "execution_count": 7,
   "metadata": {},
   "outputs": [],
   "source": [
    "def get_zstack_reg(zstack, num_slices, ref_ind):\n",
    "    plane_reg_imgs = np.zeros((num_slices, zstack.shape[1], zstack.shape[2]))\n",
    "    shift_all_planes = []\n",
    "    for plane_ind in range(num_slices):\n",
    "        temp_imgs = zstack[plane_ind::num_slices]\n",
    "        reg_img, shift_all = zstack_reg.average_reg_plane(temp_imgs)\n",
    "        plane_reg_imgs[plane_ind] = reg_img\n",
    "        shift_all_planes.append(shift_all)\n",
    "    between_plane_reg_imgs, shift_all_between_planes = zstack_reg.reg_between_planes(np.array(plane_reg_imgs), ref_ind=ref_ind)\n",
    "    return between_plane_reg_imgs, shift_all_planes, shift_all_between_planes\n",
    "\n",
    "def get_zstack_reg_using_shifts(zstack, num_slices, shift_all_planes, shift_all_between_planes):\n",
    "    plane_reg_imgs = np.zeros((num_slices, zstack.shape[1], zstack.shape[2]))\n",
    "    for plane_ind in range(num_slices):\n",
    "        temp_imgs = zstack[plane_ind::num_slices]\n",
    "        reg_img = zstack_reg.average_reg_plane_using_shift_info(temp_imgs, shift_all_planes[plane_ind])\n",
    "        plane_reg_imgs[plane_ind] = reg_img\n",
    "    between_plane_reg_imgs = zstack_reg.reg_between_planes_using_shift_info(np.array(plane_reg_imgs), shift_all_between_planes)\n",
    "    return between_plane_reg_imgs"
   ]
  },
  {
   "cell_type": "code",
   "execution_count": 12,
   "metadata": {},
   "outputs": [
    {
     "name": "stderr",
     "output_type": "stream",
     "text": [
      "C:\\Users\\jinho.kim\\AppData\\Local\\Temp\\ipykernel_9752\\670178550.py:12: DeprecationWarning: <tifffile.imsave> is deprecated. Use tifffile.imwrite\n",
      "  tf.imsave(zstack_fn.parent / f'{zstack_fn.stem}_ch{ch}_reg.tif', zstack_ch_reg)\n",
      "C:\\Users\\jinho.kim\\AppData\\Local\\Temp\\ipykernel_9752\\670178550.py:19: DeprecationWarning: <tifffile.imsave> is deprecated. Use tifffile.imwrite\n",
      "  tf.imsave(zstack_fn.parent / f'{zstack_fn.stem}_ch{ch}_reg_by_ch1.tif', zstack_ch_reg)\n"
     ]
    }
   ],
   "source": [
    "# Takes about 100 min per stack\n",
    "for zstack_fn in zstack_fn_list[2:]:\n",
    "    si_metadata = zstack_reg.read_si_stack_metadata(zstack_fn)\n",
    "    zstack = tf.imread(zstack_fn)\n",
    "    assert zstack.shape[0] == si_metadata['num_slices'] * si_metadata['num_volumes']\n",
    "    num_slices = si_metadata['num_slices']\n",
    "    assert si_metadata['num_channels'] == 2\n",
    "\n",
    "    ch = 1 # reference channel (red)\n",
    "    zstack_ch = np.squeeze(zstack[:,ch,:,:])\n",
    "    zstack_ch_reg, shift_all_planes, shift_all_between_planes = get_zstack_reg(zstack_ch, num_slices, 60)\n",
    "    tf.imsave(zstack_fn.parent / f'{zstack_fn.stem}_ch{ch}_reg.tif', zstack_ch_reg)\n",
    "    shift_info = {'shift_all_planes': shift_all_planes, 'shift_all_between_planes': shift_all_between_planes}\n",
    "    np.save(zstack_fn.parent / f'{zstack_fn.stem}_ch{ch}_reg_shift_info.npy', shift_info)\n",
    "\n",
    "    ch = 0 # target channel (green)\n",
    "    zstack_ch = np.squeeze(zstack[:,ch,:,:])\n",
    "    zstack_ch_reg = get_zstack_reg_using_shifts(zstack_ch, num_slices, shift_all_planes, shift_all_between_planes)\n",
    "    tf.imsave(zstack_fn.parent / f'{zstack_fn.stem}_ch{ch}_reg_by_ch1.tif', zstack_ch_reg)"
   ]
  },
  {
   "cell_type": "code",
   "execution_count": 8,
   "metadata": {},
   "outputs": [
    {
     "name": "stderr",
     "output_type": "stream",
     "text": [
      "C:\\Users\\jinho.kim\\AppData\\Local\\Temp\\ipykernel_9752\\1548072163.py:4: DeprecationWarning: <tifffile.imsave> is deprecated. Use tifffile.imwrite\n",
      "  tf.imsave(zstack_fn.parent / f'{zstack_fn.stem}_ch{ch}_reg_by_ch1.tif', zstack_ch_reg)\n"
     ]
    }
   ],
   "source": [
    "# it took 70 min to run self-registration for ch 1\n",
    "# registration using previous result took 25 min\n",
    "# so each round would take about 100 min\n",
    "ch = 0 # target channel (green)\n",
    "zstack_ch = np.squeeze(zstack[:,ch,:,:])\n",
    "zstack_ch_reg = get_zstack_reg_using_shifts(zstack_ch, num_slices, shift_all_planes, shift_all_between_planes)\n",
    "tf.imsave(zstack_fn.parent / f'{zstack_fn.stem}_ch{ch}_reg_by_ch1.tif', zstack_ch_reg)"
   ]
  },
  {
   "cell_type": "code",
   "execution_count": 12,
   "metadata": {},
   "outputs": [
    {
     "name": "stderr",
     "output_type": "stream",
     "text": [
      "C:\\Users\\jinho.kim\\AppData\\Local\\Temp\\ipykernel_30496\\1218068999.py:4: DeprecationWarning: <tifffile.imsave> is deprecated. Use tifffile.imwrite\n",
      "  tf.imsave(zstack_fn.parent / f'{zstack_fn.stem}_ch{ch}_reg.tif', zstack_ch_reg)\n"
     ]
    }
   ],
   "source": [
    "# it took 100 minutes to run both channels\n",
    "# but ch0 should be registered using ch1 as reference\n",
    "for ch in range(2):\n",
    "    zstack_ch = np.squeeze(zstack[:,ch,:,:])\n",
    "    zstack_ch_reg = get_zstack_reg(zstack_ch, num_slices, 60)\n",
    "    tf.imsave(zstack_fn.parent / f'{zstack_fn.stem}_ch{ch}_reg.tif', zstack_ch_reg)"
   ]
  }
 ],
 "metadata": {
  "kernelspec": {
   "display_name": "allenvisb",
   "language": "python",
   "name": "python3"
  },
  "language_info": {
   "codemirror_mode": {
    "name": "ipython",
    "version": 3
   },
   "file_extension": ".py",
   "mimetype": "text/x-python",
   "name": "python",
   "nbconvert_exporter": "python",
   "pygments_lexer": "ipython3",
   "version": "3.8.18"
  }
 },
 "nbformat": 4,
 "nbformat_minor": 2
}
