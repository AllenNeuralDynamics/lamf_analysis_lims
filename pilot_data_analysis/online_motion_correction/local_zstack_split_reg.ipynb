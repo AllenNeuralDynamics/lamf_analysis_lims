{
 "cells": [
  {
   "cell_type": "markdown",
   "metadata": {},
   "source": [
    "# Purpose:\n",
    "- Split local z-stacks and register\n",
    "- use lamf_analysis cortical_zstack_parallel branch, if not merged yet."
   ]
  },
  {
   "cell_type": "code",
   "execution_count": 2,
   "metadata": {},
   "outputs": [
    {
     "name": "stderr",
     "output_type": "stream",
     "text": [
      "c:\\Users\\jinho.kim\\Anaconda3\\envs\\allenvisb\\lib\\site-packages\\numpy\\_distributor_init.py:30: UserWarning: loaded more than 1 DLL from .libs:\n",
      "c:\\Users\\jinho.kim\\Anaconda3\\envs\\allenvisb\\lib\\site-packages\\numpy\\.libs\\libopenblas.EL2C6PLE4ZYW3ECEVIV3OXXGRN2NRFM2.gfortran-win_amd64.dll\n",
      "c:\\Users\\jinho.kim\\Anaconda3\\envs\\allenvisb\\lib\\site-packages\\numpy\\.libs\\libopenblas.gk7gx5keq4f6uyo3p26ulgbqyhgqo7j4.gfortran-win_amd64.dll\n",
      "c:\\Users\\jinho.kim\\Anaconda3\\envs\\allenvisb\\lib\\site-packages\\numpy\\.libs\\libopenblas64__v0.3.21-gcc_10_3_0.dll\n",
      "  warnings.warn(\"loaded more than 1 DLL from .libs:\"\n"
     ]
    }
   ],
   "source": [
    "from pathlib import Path\n",
    "import numpy as np\n",
    "import pandas as pd\n",
    "from lamf_analysis.ophys import zstack\n",
    "import tifffile\n",
    "import re\n",
    "from ScanImageTiffReader import ScanImageTiffReader\n",
    "from importlib import reload\n",
    "from glob import glob\n",
    "\n",
    "from dask.distributed import Client\n",
    "from dask import delayed, compute"
   ]
  },
  {
   "cell_type": "code",
   "execution_count": 3,
   "metadata": {},
   "outputs": [],
   "source": [
    "zstack_paths = [Path(r\"\\\\allen\\programs\\mindscope\\workgroups\\learning\\pilots\\online_motion_correction\\mouse_746542\\1406177928_local_z_stack0.tiff\"),\n",
    "                Path(r\"\\\\allen\\programs\\mindscope\\workgroups\\learning\\pilots\\online_motion_correction\\mouse_746542\\1406177928_local_z_stack1.tiff\"),\n",
    "                Path(r\"\\\\allen\\programs\\mindscope\\workgroups\\learning\\pilots\\online_motion_correction\\mouse_746542\\1406177928_local_z_stack2.tiff\"),\n",
    "                Path(r\"\\\\allen\\programs\\mindscope\\workgroups\\learning\\pilots\\online_motion_correction\\mouse_746542\\1406177928_local_z_stack3.tiff\")]\n",
    "output_dir = Path(r'\\\\allen\\programs\\mindscope\\workgroups\\learning\\pilots\\online_motion_correction\\mouse_746542\\1406177928')\n",
    "output_dir.mkdir(exist_ok=True, parents=True)"
   ]
  },
  {
   "cell_type": "code",
   "execution_count": 4,
   "metadata": {},
   "outputs": [],
   "source": [
    "# using dask\n",
    "\n",
    "def run_one_stack(zstack_path, output_dir):\n",
    "    zstack_reg, channels_saved = zstack.register_local_zstack_from_raw_tif(zstack_path)\n",
    "    for ch_ind, channel in enumerate(channels_saved):\n",
    "        tifffile.imsave(output_dir / f\"{zstack_path.stem}_reg_ch_{channel}.tif\", zstack_reg[ch_ind])\n",
    "\n",
    "client = Client()\n",
    "tasks = [delayed(run_one_stack)(zstack_path, output_dir) for zstack_path in zstack_paths]\n",
    "results = compute(*tasks)\n",
    "client.close()"
   ]
  },
  {
   "cell_type": "code",
   "execution_count": 5,
   "metadata": {},
   "outputs": [],
   "source": [
    "# data_dir = Path(r'\\\\meso1acq\\data\\1401033078')\n",
    "data_dir = Path(r'\\\\allen\\programs\\mindscope\\workgroups\\learning\\pilots\\online_motion_correction\\mouse_746542\\111324_746542')\n",
    "mouse_id = 746542\n",
    "\n",
    "session_id = data_dir.stem\n",
    "# zstack_paths = data_dir.glob(f'{session_id}_local_z_stack*.tiff')\n",
    "zstack_paths = data_dir.glob('*_local_z_stack*.tiff')\n",
    "\n",
    "output_base_dir = Path(r'\\\\allen\\programs\\mindscope\\workgroups\\learning\\pilots\\online_motion_correction')\n",
    "output_dir = output_base_dir / f'mouse_{mouse_id}/{session_id}'\n",
    "output_dir.mkdir(exist_ok=True, parents=True)"
   ]
  },
  {
   "cell_type": "code",
   "execution_count": 4,
   "metadata": {},
   "outputs": [
    {
     "data": {
      "text/plain": [
       "<generator object Path.glob at 0x000001AFD967D270>"
      ]
     },
     "execution_count": 4,
     "metadata": {},
     "output_type": "execute_result"
    }
   ],
   "source": [
    "zstack_paths."
   ]
  },
  {
   "cell_type": "code",
   "execution_count": 6,
   "metadata": {},
   "outputs": [
    {
     "name": "stderr",
     "output_type": "stream",
     "text": [
      "C:\\Users\\jinho.kim\\AppData\\Local\\Temp\\ipykernel_44868\\4015102887.py:5: DeprecationWarning: <tifffile.imsave> is deprecated. Use tifffile.imwrite\n",
      "  tifffile.imsave(output_dir / f\"{zstack_path.stem}_reg_ch_{channel}.tif\", zstack_reg[ch_ind])\n"
     ]
    }
   ],
   "source": [
    "# each file takes about 5 minutes to process\n",
    "for zstack_path in zstack_paths:\n",
    "    zstack_reg, channels_saved = zstack.register_local_zstack_from_raw_tif(zstack_path)\n",
    "    for ch_ind, channel in enumerate(channels_saved):\n",
    "        tifffile.imsave(output_dir / f\"{zstack_path.stem}_reg_ch_{channel}.tif\", zstack_reg[ch_ind])"
   ]
  },
  {
   "cell_type": "code",
   "execution_count": 85,
   "metadata": {},
   "outputs": [],
   "source": [
    "reload(zstack)\n",
    "zstack_path = zstack_paths[0]\n",
    "zstack_reg, channels_saved = zstack.register_local_zstack_from_raw_tif(zstack_path)"
   ]
  },
  {
   "cell_type": "code",
   "execution_count": 92,
   "metadata": {},
   "outputs": [
    {
     "name": "stderr",
     "output_type": "stream",
     "text": [
      "C:\\Users\\jinho.kim\\AppData\\Local\\Temp\\ipykernel_64560\\3486107564.py:3: DeprecationWarning: <tifffile.imsave> is deprecated. Use tifffile.imwrite\n",
      "  tifffile.imsave(output_dir / f\"{zstack_path.stem}_reg_ch_{channel}.tif\", zstack_reg[ch_ind])\n"
     ]
    }
   ],
   "source": [
    "# save each channel as a separate tiff\n",
    "for ch_ind, channel in enumerate(channels_saved):\n",
    "    tifffile.imsave(output_dir / f\"{zstack_path.stem}_reg_ch_{channel}.tif\", zstack_reg[ch_ind])"
   ]
  }
 ],
 "metadata": {
  "kernelspec": {
   "display_name": "allenvisb",
   "language": "python",
   "name": "python3"
  },
  "language_info": {
   "codemirror_mode": {
    "name": "ipython",
    "version": 3
   },
   "file_extension": ".py",
   "mimetype": "text/x-python",
   "name": "python",
   "nbconvert_exporter": "python",
   "pygments_lexer": "ipython3",
   "version": "3.8.18"
  }
 },
 "nbformat": 4,
 "nbformat_minor": 2
}
