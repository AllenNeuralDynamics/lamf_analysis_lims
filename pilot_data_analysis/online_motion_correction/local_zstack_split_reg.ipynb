{
 "cells": [
  {
   "cell_type": "markdown",
   "metadata": {},
   "source": [
    "# Purpose:\n",
    "- Split local z-stacks and register\n",
    "- use lamf_analysis cortical_zstack_parallel branch, if not merged yet."
   ]
  },
  {
   "cell_type": "code",
   "execution_count": 65,
   "metadata": {},
   "outputs": [],
   "source": [
    "from pathlib import Path\n",
    "import numpy as np\n",
    "import pandas as pd\n",
    "from lamf_analysis.ophys import zstack\n",
    "import tifffile\n",
    "import re\n",
    "from ScanImageTiffReader import ScanImageTiffReader\n",
    "from importlib import reload"
   ]
  },
  {
   "cell_type": "code",
   "execution_count": 91,
   "metadata": {},
   "outputs": [],
   "source": [
    "zstack_paths = [Path(r'\\\\allen\\programs\\mindscope\\workgroups\\learning\\pilots\\online_motion_correction\\mouse_747107\\1398779834\\1398779834_local_z_stack0.tiff'),\n",
    "Path(r'\\\\allen\\programs\\mindscope\\workgroups\\learning\\pilots\\online_motion_correction\\mouse_747107\\1398779834\\1398779834_local_z_stack1.tiff'),\n",
    "Path(r'\\\\allen\\programs\\mindscope\\workgroups\\learning\\pilots\\online_motion_correction\\mouse_747107\\1398779834\\1398779834_local_z_stack2.tiff'),\n",
    "Path(r'\\\\allen\\programs\\mindscope\\workgroups\\learning\\pilots\\online_motion_correction\\mouse_747107\\1398779834\\1398779834_local_z_stack3.tiff')]\n",
    "output_dir = Path(r'\\\\allen\\programs\\mindscope\\workgroups\\learning\\pilots\\online_motion_correction\\mouse_747107\\1398779834')"
   ]
  },
  {
   "cell_type": "code",
   "execution_count": 85,
   "metadata": {},
   "outputs": [],
   "source": [
    "reload(zstack)\n",
    "zstack_path = zstack_paths[0]\n",
    "zstack_reg, channels_saved = zstack.register_local_zstack_from_raw_tif(zstack_path)"
   ]
  },
  {
   "cell_type": "code",
   "execution_count": 92,
   "metadata": {},
   "outputs": [
    {
     "name": "stderr",
     "output_type": "stream",
     "text": [
      "C:\\Users\\jinho.kim\\AppData\\Local\\Temp\\ipykernel_64560\\3486107564.py:3: DeprecationWarning: <tifffile.imsave> is deprecated. Use tifffile.imwrite\n",
      "  tifffile.imsave(output_dir / f\"{zstack_path.stem}_reg_ch_{channel}.tif\", zstack_reg[ch_ind])\n"
     ]
    }
   ],
   "source": [
    "# save each channel as a separate tiff\n",
    "for ch_ind, channel in enumerate(channels_saved):\n",
    "    tifffile.imsave(output_dir / f\"{zstack_path.stem}_reg_ch_{channel}.tif\", zstack_reg[ch_ind])"
   ]
  },
  {
   "cell_type": "code",
   "execution_count": 93,
   "metadata": {},
   "outputs": [
    {
     "name": "stderr",
     "output_type": "stream",
     "text": [
      "C:\\Users\\jinho.kim\\AppData\\Local\\Temp\\ipykernel_64560\\2656878918.py:4: DeprecationWarning: <tifffile.imsave> is deprecated. Use tifffile.imwrite\n",
      "  tifffile.imsave(output_dir / f\"{zstack_path.stem}_reg_ch_{channel}.tif\", zstack_reg[ch_ind])\n"
     ]
    }
   ],
   "source": [
    "# each file takes about 5 minutes to process\n",
    "for zstack_path in zstack_paths:\n",
    "    zstack_reg, channels_saved = zstack.register_local_zstack_from_raw_tif(zstack_path)\n",
    "    for ch_ind, channel in enumerate(channels_saved):\n",
    "        tifffile.imsave(output_dir / f\"{zstack_path.stem}_reg_ch_{channel}.tif\", zstack_reg[ch_ind])"
   ]
  }
 ],
 "metadata": {
  "kernelspec": {
   "display_name": "allenvisb",
   "language": "python",
   "name": "python3"
  },
  "language_info": {
   "codemirror_mode": {
    "name": "ipython",
    "version": 3
   },
   "file_extension": ".py",
   "mimetype": "text/x-python",
   "name": "python",
   "nbconvert_exporter": "python",
   "pygments_lexer": "ipython3",
   "version": "3.8.18"
  }
 },
 "nbformat": 4,
 "nbformat_minor": 2
}
