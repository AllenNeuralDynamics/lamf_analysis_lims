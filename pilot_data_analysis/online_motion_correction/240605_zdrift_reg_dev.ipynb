{
 "cells": [
  {
   "cell_type": "markdown",
   "metadata": {},
   "source": [
    "# Purpose:\n",
    "- Fix registration to z-stack issue.\n",
    "- From 240517_online_motion_correction_analysis.ipynb"
   ]
  },
  {
   "cell_type": "code",
   "execution_count": 5,
   "metadata": {},
   "outputs": [],
   "source": [
    "import numpy as np\n",
    "from pystackreg import StackReg\n",
    "from pathlib import Path\n",
    "from glob import glob\n",
    "import tifffile\n",
    "import h5py\n",
    "import matplotlib.pyplot as plt\n",
    "from dask.distributed import Client\n",
    "from dask import delayed, compute\n",
    "import napari\n",
    "import cv2\n",
    "from tifffile import TiffFile, imread, imsave, read_scanimage_metadata\n",
    "from pprint import pprint"
   ]
  },
  {
   "cell_type": "code",
   "execution_count": 3,
   "metadata": {},
   "outputs": [],
   "source": [
    "def rolling_average_zstack(zstack, rolling_window_flank=2):\n",
    "    new_zstack = np.zeros(zstack.shape)\n",
    "    for i in range(zstack.shape[0]):\n",
    "        new_zstack[i] = np.mean(zstack[max(0, i-rolling_window_flank) : min(zstack.shape[0], i+rolling_window_flank), :, :],\n",
    "                                axis=0)\n",
    "    return new_zstack\n",
    "\n",
    "\n",
    "def get_matched_zstack(emf_fn, ops_fn, zstack_dir, num_planes_around=40):\n",
    "    ''' \n",
    "    \n",
    "    \n",
    "    Notes\n",
    "    - Rolling average of z-stacks was not enough.\n",
    "    '''\n",
    "    ops = np.load(ops_fn, allow_pickle=True).item()\n",
    "    y_roll_bottom = np.min(ops['reg_result'][4][0])\n",
    "    y_roll_top = np.max(ops['reg_result'][4][0])\n",
    "    x_roll_left = np.max(ops['reg_result'][4][1])\n",
    "    x_roll_right = np.min(ops['reg_result'][4][1])\n",
    "    if y_roll_bottom >= 0:\n",
    "        y_roll_bottom = -1\n",
    "    if x_roll_right >= 0:\n",
    "        x_roll_right = -1\n",
    "\n",
    "    zstack_fn_list = glob(str(zstack_dir /'ophys_experiment_*_local_z_stack.tiff'))\n",
    "    center_zstacks = []\n",
    "    for zstack_fn in zstack_fn_list:\n",
    "        zstack = tifffile.imread(zstack_fn)\n",
    "        zstack = med_filt_z_stack(zstack)\n",
    "        new_zstack = rolling_average_zstack(zstack)\n",
    "        center_ind = int(np.floor(new_zstack.shape[0]/2))\n",
    "        center_zstack = new_zstack[center_ind - num_planes_around//2 : center_ind + num_planes_around//2+1]\n",
    "        center_zstack = center_zstack[:, y_roll_top:y_roll_bottom, x_roll_left:x_roll_right]\n",
    "\n",
    "        center_zstacks.append(center_zstack)\n",
    "    first_emf = tifffile.imread(emf_fn)[0, y_roll_top:y_roll_bottom, x_roll_left:x_roll_right]\n",
    "    # first_emf = tifffile.imread(emf_fn)[0]\n",
    "    # first_emf = tifffile.imread(emf_fn)[:, y_roll_top:y_roll_bottom, x_roll_left:x_roll_right].mean(axis=0)\n",
    "\n",
    "    first_emf_clahe = image_normalization_uint16(first_emf)\n",
    "    assert first_emf.min() > 0\n",
    "    valid_pix_threshold = first_emf.min()/10\n",
    "    num_pix_threshold = first_emf.shape[0] * first_emf.shape[1] / 2\n",
    "\n",
    "    sr = StackReg(StackReg.AFFINE)\n",
    "    corrcoef = np.zeros((len(center_zstacks), center_zstacks[0].shape[0]))\n",
    "    \n",
    "    best_tmat_array = []\n",
    "    emf_reg_array = []\n",
    "    for i, zstack in enumerate(center_zstacks):\n",
    "        temp_cc = []\n",
    "        tmat_list = []\n",
    "        for j, zstack_plane in enumerate(zstack):\n",
    "            zstack_plane_clahe = image_normalization_uint16(zstack_plane)            \n",
    "            tmat = sr.register(zstack_plane_clahe, first_emf_clahe)\n",
    "            emf_reg = sr.transform(first_emf, tmat=tmat)            \n",
    "            valid_y, valid_x = np.where(emf_reg > valid_pix_threshold)\n",
    "            if len(valid_y) > num_pix_threshold:\n",
    "                temp_cc.append(np.corrcoef(zstack_plane.flatten(), emf_reg.flatten())[0,1])\n",
    "                tmat_list.append(tmat)\n",
    "            else:\n",
    "                temp_cc.append(0)\n",
    "                tmat_list.append(np.eye(3))\n",
    "        temp_ind = np.argmax(temp_cc)\n",
    "        best_tmat = tmat_list[temp_ind]\n",
    "        emf_reg = sr.transform(first_emf, tmat=best_tmat)\n",
    "        for j, zstack_plane in enumerate(zstack):\n",
    "            corrcoef[i,j] = np.corrcoef(zstack_plane.flatten(), emf_reg.flatten())[0,1]\n",
    "        best_tmat_array.append(best_tmat)\n",
    "        emf_reg_array.append(emf_reg)\n",
    "\n",
    "    matched_ind = np.argmax(np.mean(corrcoef, axis=1))\n",
    "    best_tmat_array = np.array(best_tmat_array)\n",
    "    emf_reg_array = np.array(emf_reg_array)\n",
    "    return matched_ind, zstack_fn_list, corrcoef, best_tmat_array, emf_reg_array\n",
    "\n",
    "\n",
    "def med_filt_z_stack(zstack, kernel_size=5):\n",
    "    \"\"\"Get z-stack with each plane median-filtered\n",
    "\n",
    "    Parameters\n",
    "    ----------\n",
    "    zstack : np.ndarray\n",
    "        z-stack to apply median filtering\n",
    "    kernel_size : int, optional\n",
    "        kernel size for median filtering, by default 5\n",
    "        It seems only certain odd numbers work, e.g., 3, 5, 11, ...\n",
    "\n",
    "    Returns\n",
    "    -------\n",
    "    np.ndarray\n",
    "        median-filtered z-stack\n",
    "    \"\"\"\n",
    "    filtered_z_stack = []\n",
    "    for image in zstack:\n",
    "        filtered_z_stack.append(cv2.medianBlur(\n",
    "            image.astype(np.uint16), kernel_size))\n",
    "    return np.array(filtered_z_stack)\n",
    "\n",
    "\n",
    "def image_normalization_uint16(image, im_thresh=0):\n",
    "    \"\"\"Normalize 2D image and convert to uint16\n",
    "    Prevent saturation.\n",
    "\n",
    "    Args:\n",
    "        image (np.ndarray): input image (2D)\n",
    "                            Just works with 3D data as well.\n",
    "        im_thresh (float, optional): threshold when calculating pixel intensity percentile.\n",
    "                            0 by default\n",
    "    Return:\n",
    "        norm_image (np.ndarray)\n",
    "    \"\"\"\n",
    "    clip_image = np.clip(image, np.percentile(\n",
    "        image[image > im_thresh], 0.2), np.percentile(image[image > im_thresh], 99.8))\n",
    "    norm_image = (clip_image - np.amin(clip_image)) / \\\n",
    "        (np.amax(clip_image) - np.amin(clip_image)) * 0.9\n",
    "    uint16_image = ((norm_image + 0.05) *\n",
    "                    np.iinfo(np.uint16).max * 0.9).astype(np.uint16)\n",
    "    return uint16_image\n",
    "\n",
    "\n",
    "def metadata_from_scanimage_tif(stack_path):\n",
    "    \"\"\"Extract metadata from ScanImage tiff stack\n",
    "\n",
    "    Dev notes:\n",
    "    Seems awkward to parse this way\n",
    "    Depends on ScanImageTiffReader\n",
    "\n",
    "    Parameters\n",
    "    ----------\n",
    "    stack_path : str\n",
    "        Path to tiff stack\n",
    "\n",
    "    Returns\n",
    "    -------\n",
    "    dict\n",
    "        stack_metadata: important metadata extracted from scanimage tiff header\n",
    "    dict\n",
    "        si_metadata: all scanimge metadata. Each value still a string, so convert if needed.\n",
    "    dict\n",
    "        roi_groups_dict: \n",
    "    \"\"\"\n",
    "    with open(stack_path, 'rb') as fh:\n",
    "        metadata = read_scanimage_metadata(fh)\n",
    "\n",
    "    stack_metadata = {}\n",
    "    stack_metadata['num_slices'] = int(metadata[0]['SI.hStackManager.actualNumSlices'])\n",
    "    stack_metadata['num_volumes'] = int(metadata[0]['SI.hStackManager.actualNumVolumes'])\n",
    "    stack_metadata['frames_per_slice'] = int(metadata[0]['SI.hStackManager.framesPerSlice'])\n",
    "    stack_metadata['z_steps'] = metadata[0]['SI.hStackManager.zs']\n",
    "    stack_metadata['actuator'] = metadata[0]['SI.hStackManager.stackActuator']\n",
    "    stack_metadata['num_channels'] = sum((metadata[0]['SI.hPmts.powersOn']))\n",
    "    stack_metadata['z_step_size'] = int(metadata[0]['SI.hStackManager.actualStackZStepSize'])  \n",
    "\n",
    "    roi_groups_dict = metadata[1]\n",
    "\n",
    "    si_metadata = metadata[0]\n",
    "\n",
    "    return stack_metadata, si_metadata, roi_groups_dict"
   ]
  },
  {
   "cell_type": "code",
   "execution_count": 119,
   "metadata": {},
   "outputs": [
    {
     "name": "stdout",
     "output_type": "stream",
     "text": [
      "['1369640314',\n",
      " '1369640314',\n",
      " '1369640317',\n",
      " '1369640317',\n",
      " '1369640321',\n",
      " '1369640321',\n",
      " '1369640324',\n",
      " '1369640324']\n"
     ]
    }
   ],
   "source": [
    "# Results from the previous registration using StackReg\n",
    "data_dir = Path(r'\\\\allen\\programs\\mindscope\\workgroups\\learning\\pilots\\online_motion_correction\\mouse_726433\\test_240531')\n",
    "emf_fn_list = glob(str(data_dir / '*_timeseries_omc_test_00002_*_emf.tif'))\n",
    "\n",
    "omc_parent_opid = []\n",
    "for fn in emf_fn_list:\n",
    "    h5fn = fn.split('.')[0] + '_zdrift.h5'\n",
    "    with h5py.File(h5fn, 'r') as h:\n",
    "        mc_matched_zstack_fn = h['matched_zstack_fn'][()]\n",
    "        parent_opid = Path(mc_matched_zstack_fn.decode('utf-8', errors='replace')).name.split('_')[2]\n",
    "    omc_parent_opid.append(parent_opid)\n",
    "\n",
    "pprint(omc_parent_opid)"
   ]
  },
  {
   "cell_type": "code",
   "execution_count": 120,
   "metadata": {},
   "outputs": [
    {
     "name": "stdout",
     "output_type": "stream",
     "text": [
      "[0.9155909943170593,\n",
      " 0.8679927856831672,\n",
      " 0.9146133190171375,\n",
      " 0.8434830594148753,\n",
      " 0.8953753884488609,\n",
      " 0.8104135336372471,\n",
      " 0.8195972298432874,\n",
      " 0.6863223911348383]\n"
     ]
    }
   ],
   "source": [
    "max_cc_zstack_finding = []\n",
    "for fn in emf_fn_list:\n",
    "    h5fn = fn.split('.')[0] + '_zdrift.h5'\n",
    "    with h5py.File(h5fn, 'r') as h:\n",
    "        # print(h.keys())\n",
    "        # corrcoef = h['corrcoef'][:]\n",
    "        corrcoef_zstack_finding = h['corrcoef_zstack_finding'][:]\n",
    "    max_cc_zstack_finding.append(corrcoef_zstack_finding.max())\n",
    "pprint(max_cc_zstack_finding)"
   ]
  },
  {
   "cell_type": "code",
   "execution_count": 72,
   "metadata": {},
   "outputs": [
    {
     "name": "stdout",
     "output_type": "stream",
     "text": [
      "<KeysViewHDF5 ['corrcoef', 'corrcoef_zstack_finding', 'emf_registered', 'matched_inds', 'matched_zstack_fn', 'tmat', 'tmat_zstack_finding', 'zstack_fn_list']>\n"
     ]
    }
   ],
   "source": [
    "test_fn = emf_fn_list[-1]\n",
    "test_h5fn = test_fn.split('.')[0] + '_zdrift.h5'\n",
    "fn_base = Path(test_fn).name.split('.')[0]\n",
    "ops_fn = Path(test_fn).parent / f'{fn_base[:-3]}ops.npy'\n",
    "ops = np.load(ops_fn, allow_pickle=True).item()\n",
    "y_roll_top = np.max(ops['reg_result'][4][0])\n",
    "y_roll_bottom = np.min(ops['reg_result'][4][0])    \n",
    "x_roll_left = np.max(ops['reg_result'][4][1])\n",
    "x_roll_right = np.min(ops['reg_result'][4][1])\n",
    "if y_roll_bottom >= 0:\n",
    "    y_roll_bottom = -1\n",
    "if x_roll_right >= 0:\n",
    "    x_roll_right = -1\n",
    "\n",
    "with h5py.File(test_h5fn, 'r') as h:\n",
    "    print(h.keys())\n",
    "    tmat = h['tmat'][:]\n",
    "    corrcoef_zstack_finding = h['corrcoef_zstack_finding'][:]\n",
    "    emf_registered = h['emf_registered'][:]\n",
    "    matched_inds = h['matched_inds'][:]\n",
    "    matched_zstack_fn = Path('/' + h['matched_zstack_fn'][()].decode('utf-8', errors='replace'))\n",
    "zstack_ref = tifffile.imread(matched_zstack_fn)[:, y_roll_top:y_roll_bottom, x_roll_left:x_roll_right]\n"
   ]
  },
  {
   "cell_type": "code",
   "execution_count": 73,
   "metadata": {},
   "outputs": [
    {
     "data": {
      "text/plain": [
       "<Image layer 'zstack_ref' at 0x1c39dddab20>"
      ]
     },
     "execution_count": 73,
     "metadata": {},
     "output_type": "execute_result"
    }
   ],
   "source": [
    "viewer = napari.Viewer()\n",
    "for emf in emf_registered:\n",
    "    viewer.add_image(emf)\n",
    "viewer.add_image(zstack_ref)"
   ]
  },
  {
   "cell_type": "code",
   "execution_count": 74,
   "metadata": {},
   "outputs": [
    {
     "data": {
      "text/plain": [
       "False"
      ]
     },
     "execution_count": 74,
     "metadata": {},
     "output_type": "execute_result"
    }
   ],
   "source": [
    "np.array([(tm == np.eye(3)).all() for tm in tmat]).all()"
   ]
  },
  {
   "cell_type": "markdown",
   "metadata": {},
   "source": [
    "# StackReg does not work well\n",
    "- For some cases, (ch2 with the same fastZ values; they had low power)\n",
    "-  Fixed slurm sbatch code.\n",
    "- There is x-y difference between channels.\n",
    "    - How about fixing this first using phase correlation?"
   ]
  },
  {
   "cell_type": "code",
   "execution_count": 79,
   "metadata": {},
   "outputs": [],
   "source": [
    "viewer = napari.Viewer()\n",
    "for fn in emf_fn_list:\n",
    "    emf = tifffile.imread(fn)[0]\n",
    "    viewer.add_image(emf)"
   ]
  },
  {
   "cell_type": "code",
   "execution_count": 88,
   "metadata": {},
   "outputs": [],
   "source": [
    "viewer = napari.Viewer()\n",
    "for fn in emf_fn_list[2:4]:\n",
    "    emf = tifffile.imread(fn)\n",
    "    viewer.add_image(emf)"
   ]
  },
  {
   "cell_type": "code",
   "execution_count": 77,
   "metadata": {},
   "outputs": [],
   "source": [
    "emf_registered_all = []\n",
    "matched_inds_all = []\n",
    "matched_zstack_fn_all = []\n",
    "corrcoef_zstack_finding_all = []\n",
    "for test_fn in emf_fn_list:\n",
    "    test_h5fn = test_fn.split('.')[0] + '_zdrift.h5'\n",
    "    with h5py.File(test_h5fn, 'r') as h:\n",
    "        corrcoef_zstack_finding = h['corrcoef_zstack_finding'][:]\n",
    "        emf_registered = h['emf_registered'][:]\n",
    "        matched_inds = h['matched_inds'][:]\n",
    "        matched_zstack_fn = Path('/' + h['matched_zstack_fn'][()].decode('utf-8', errors='replace'))\n",
    "    emf_registered_all.append(emf_registered)\n",
    "    matched_inds_all.append(matched_inds)\n",
    "    matched_zstack_fn_all.append(matched_zstack_fn)\n",
    "    corrcoef_zstack_finding_all.append(corrcoef_zstack_finding)\n"
   ]
  },
  {
   "cell_type": "code",
   "execution_count": 78,
   "metadata": {},
   "outputs": [],
   "source": [
    "viewer = napari.Viewer()\n",
    "for emf_registered in emf_registered_all:\n",
    "    viewer.add_image(emf_registered[0])\n",
    "# tmats are different between similar planes"
   ]
  },
  {
   "cell_type": "code",
   "execution_count": 108,
   "metadata": {},
   "outputs": [
    {
     "data": {
      "text/plain": [
       "<Image layer 'zstack' at 0x1c4d2414400>"
      ]
     },
     "execution_count": 108,
     "metadata": {},
     "output_type": "execute_result"
    }
   ],
   "source": [
    "emf_fn = emf_fn_list[-1]\n",
    "emf = tifffile.imread(emf_fn)[0]\n",
    "matched_zstack_fn = Path('//allen/programs/mindscope/workgroups/learning/pilots/online_motion_correction/mouse_726433/test_240531/ophys_session_1369518919/ophys_experiment_1369640314_local_z_stack.tiff')\n",
    "zstack = tifffile.imread(matched_zstack_fn)\n",
    "\n",
    "viewer = napari.Viewer()\n",
    "viewer.add_image(emf)\n",
    "viewer.add_image(zstack)"
   ]
  },
  {
   "cell_type": "code",
   "execution_count": 110,
   "metadata": {},
   "outputs": [],
   "source": [
    "# manual matching\n",
    "new_zstack = med_filt_z_stack(zstack)\n",
    "new_zstack = rolling_average_zstack(new_zstack)\n",
    "matched_zplane = new_zstack[46]\n",
    "zplane_clahe = image_normalization_uint16(matched_zplane)\n",
    "emf_clahe = image_normalization_uint16(emf)"
   ]
  },
  {
   "cell_type": "code",
   "execution_count": 111,
   "metadata": {},
   "outputs": [
    {
     "data": {
      "text/plain": [
       "<Image layer 'zplane_clahe' at 0x1c4dbcb4880>"
      ]
     },
     "execution_count": 111,
     "metadata": {},
     "output_type": "execute_result"
    }
   ],
   "source": [
    "sr = StackReg(StackReg.AFFINE)\n",
    "tmat = sr.register(zplane_clahe, emf_clahe)\n",
    "emf_clahe_reg = sr.transform(emf_clahe, tmat=tmat)\n",
    "viewer = napari.Viewer()\n",
    "viewer.add_image(emf_clahe_reg)\n",
    "viewer.add_image(zplane_clahe)"
   ]
  },
  {
   "cell_type": "code",
   "execution_count": 100,
   "metadata": {},
   "outputs": [
    {
     "data": {
      "text/plain": [
       "(512, 512)"
      ]
     },
     "execution_count": 100,
     "metadata": {},
     "output_type": "execute_result"
    }
   ],
   "source": [
    "emf_clahe.shape"
   ]
  },
  {
   "cell_type": "code",
   "execution_count": null,
   "metadata": {},
   "outputs": [],
   "source": [
    "emf_reg = sr.transform(emf, tmat=sr._tmats)"
   ]
  },
  {
   "cell_type": "code",
   "execution_count": 102,
   "metadata": {},
   "outputs": [],
   "source": [
    "def get_correlation_after_reg(fov, zstack, use_clahe=True, sr_method='affine', tmat=None):\n",
    "    if use_clahe:\n",
    "        fov_for_reg = image_normalization_uint16(fov)\n",
    "        zstack_for_reg = np.zeros(zstack.shape)\n",
    "        for zi in range(zstack.shape[0]):\n",
    "            temp_zplane = image_normalization_uint16(zstack[zi])\n",
    "            zstack_for_reg[zi] = temp_zplane\n",
    "    else:\n",
    "        fov_for_reg = fov.copy()\n",
    "        zstack_for_reg = zstack.copy()\n",
    "    \n",
    "    if sr_method == 'affine':\n",
    "        sr = StackReg(StackReg.AFFINE)\n",
    "    elif sr_method == 'rigid_body':\n",
    "        sr = StackReg(StackReg.RIGID_BODY)\n",
    "    else:\n",
    "        raise ValueError('\"sr_method\" should be either \"affine\" or \"rigid_body\"')\n",
    "    \n",
    "    assert fov.min() > 0\n",
    "    valid_pix_threshold = fov.min()/10\n",
    "    num_pix_threshold = fov.shape[0] * fov.shape[1] / 2\n",
    "    \n",
    "    corrcoef = np.zeros(zstack.shape[0])\n",
    "    \n",
    "    if tmat is None:\n",
    "        temp_cc = []\n",
    "        tmat_list = []\n",
    "        for zi in range(zstack_for_reg.shape[0]):\n",
    "            zstack_plane_clahe = zstack_for_reg[zi]\n",
    "            zstack_plane = zstack[zi]\n",
    "            tmat = sr.register(zstack_plane_clahe, fov_for_reg)\n",
    "            fov_reg = sr.transform(fov, tmat=tmat)            \n",
    "            valid_y, valid_x = np.where(fov_reg > valid_pix_threshold)\n",
    "            if len(valid_y) > num_pix_threshold:\n",
    "                temp_cc.append(np.corrcoef(zstack_plane[valid_y, valid_x].flatten(),\n",
    "                                           fov_reg[valid_y, valid_x].flatten())[0,1])\n",
    "                tmat_list.append(tmat)\n",
    "            else:\n",
    "                temp_cc.append(0)\n",
    "                tmat_list.append(np.eye(3))\n",
    "        temp_ind = np.argmax(temp_cc)\n",
    "        best_tmat = tmat_list[temp_ind]\n",
    "    else:\n",
    "        best_tmat = tmat\n",
    "    fov_reg = sr.transform(fov, tmat=best_tmat)\n",
    "    for zi, zstack_plane in enumerate(zstack):\n",
    "        corrcoef[zi] = np.corrcoef(zstack_plane[valid_y, valid_x].flatten(),\n",
    "                                   fov_reg[valid_y, valid_x].flatten())[0,1]\n",
    "    matched_ind = np.argmax(corrcoef)\n",
    "\n",
    "    return matched_ind, corrcoef, fov_reg, best_tmat, tmat_list"
   ]
  },
  {
   "cell_type": "code",
   "execution_count": null,
   "metadata": {},
   "outputs": [],
   "source": []
  },
  {
   "cell_type": "code",
   "execution_count": 112,
   "metadata": {},
   "outputs": [],
   "source": [
    "matched_ind, corrcoef, fov_reg, best_tmat, tmat_list = get_correlation_after_reg(emf, new_zstack)"
   ]
  },
  {
   "cell_type": "code",
   "execution_count": 114,
   "metadata": {},
   "outputs": [
    {
     "data": {
      "text/plain": [
       "<Image layer 'fov_reg' at 0x1c4dbcb41c0>"
      ]
     },
     "execution_count": 114,
     "metadata": {},
     "output_type": "execute_result"
    }
   ],
   "source": [
    "viewer = napari.Viewer()\n",
    "viewer.add_image(fov_reg)"
   ]
  },
  {
   "cell_type": "code",
   "execution_count": 115,
   "metadata": {},
   "outputs": [
    {
     "data": {
      "text/plain": [
       "array([0.15799288, 0.15658885, 0.15544704, 0.15278767, 0.14936238,\n",
       "       0.14548563, 0.14116875, 0.13594433, 0.13198478, 0.12948122,\n",
       "       0.12750878, 0.12702488, 0.12759204, 0.12879196, 0.13159325,\n",
       "       0.13551517, 0.14073303, 0.14710477, 0.15349493, 0.15957989,\n",
       "       0.16604109, 0.1727442 , 0.18013914, 0.18756444, 0.19488358,\n",
       "       0.20102375, 0.20716125, 0.2119622 , 0.21487481, 0.21665308,\n",
       "       0.21657319, 0.21518891, 0.21013952, 0.20329907, 0.19665226,\n",
       "       0.18921109, 0.18115776, 0.17303211, 0.16623403, 0.15940293,\n",
       "       0.15390292, 0.14910624, 0.14466624, 0.14061606, 0.13833304,\n",
       "       0.13653966, 0.13590848, 0.13662614, 0.13779613, 0.13967729,\n",
       "       0.14230996, 0.14467322, 0.14621411, 0.14723888, 0.14794339,\n",
       "       0.1484995 , 0.1502469 , 0.15131686, 0.15230892, 0.15347177,\n",
       "       0.15512494, 0.15830219, 0.1604132 , 0.16348256, 0.16588682,\n",
       "       0.16683656, 0.16917295, 0.17174088, 0.1740844 , 0.17716151,\n",
       "       0.17903563, 0.18058055, 0.1813198 , 0.1821405 , 0.18400511,\n",
       "       0.18444345, 0.18543325, 0.1863366 , 0.18573898, 0.18633961,\n",
       "       0.18601877])"
      ]
     },
     "execution_count": 115,
     "metadata": {},
     "output_type": "execute_result"
    }
   ],
   "source": [
    "corrcoef"
   ]
  },
  {
   "cell_type": "code",
   "execution_count": 106,
   "metadata": {},
   "outputs": [
    {
     "data": {
      "text/plain": [
       "array([0.1875511 , 0.15010333, 0.14921082, 0.14948493, 0.14991655,\n",
       "       0.15114204, 0.15246722, 0.15559095, 0.15398175, 0.15777677,\n",
       "       0.1583372 , 0.15482468, 0.16218258, 0.16274028, 0.16773384,\n",
       "       0.17163666, 0.17208537, 0.17324004, 0.17766018, 0.17908206,\n",
       "       0.18104921, 0.19198186, 0.1928775 , 0.19204059, 0.20287014,\n",
       "       0.20869923, 0.21037484, 0.21732722, 0.22060106, 0.22894865,\n",
       "       0.23459593, 0.24572491, 0.24041272, 0.25796574, 0.26398675,\n",
       "       0.26606035, 0.27398805, 0.28119802, 0.29167247, 0.29265458,\n",
       "       0.27932194, 0.29322207, 0.28901348, 0.29597984, 0.28951687,\n",
       "       0.29554355, 0.29165697, 0.28271473, 0.28776744, 0.26372394,\n",
       "       0.27134012, 0.26488738, 0.25330275, 0.24628301, 0.24397952,\n",
       "       0.23902716, 0.22604561, 0.21860348, 0.22486392, 0.21794637,\n",
       "       0.21057846, 0.20508086, 0.19157065, 0.18910964, 0.18224201,\n",
       "       0.17820477, 0.17072989, 0.16626039, 0.16861135, 0.15717158,\n",
       "       0.15629845, 0.15294491, 0.15037264, 0.14418139, 0.14293961,\n",
       "       0.13725859, 0.13358215, 0.13138695, 0.13054745, 0.12546734,\n",
       "       0.1218034 ])"
      ]
     },
     "execution_count": 106,
     "metadata": {},
     "output_type": "execute_result"
    }
   ],
   "source": [
    "corrcoef"
   ]
  },
  {
   "cell_type": "markdown",
   "metadata": {},
   "source": [
    "## StackReg DOES work well\n",
    "- Fixed after calculating correlation in the valid pixels only.\n",
    "- Valid pixel calculated as those with positive value after StackReg.\n",
    "- In the future, if something looks bad, then try initializing with phase correlation first (rough translational registration)"
   ]
  }
 ],
 "metadata": {
  "kernelspec": {
   "display_name": "napari-matplotlib",
   "language": "python",
   "name": "python3"
  },
  "language_info": {
   "codemirror_mode": {
    "name": "ipython",
    "version": 3
   },
   "file_extension": ".py",
   "mimetype": "text/x-python",
   "name": "python",
   "nbconvert_exporter": "python",
   "pygments_lexer": "ipython3",
   "version": "3.9.17"
  }
 },
 "nbformat": 4,
 "nbformat_minor": 2
}
