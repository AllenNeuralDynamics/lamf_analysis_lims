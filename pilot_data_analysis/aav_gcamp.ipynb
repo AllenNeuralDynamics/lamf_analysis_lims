{
 "cells": [
  {
   "cell_type": "markdown",
   "metadata": {},
   "source": [
    "# Purpose:\n",
    "- Compare dff metrics between AAV injection pilots\n",
    "- GCaMP8m RO vs icv\n",
    "- GCaMP8s RO vs local\n",
    "- GCaMP8m vs 8s\n",
    "- GCaMP8m RO has 11 Hz, while all the rest has 44 Hz"
   ]
  },
  {
   "cell_type": "code",
   "execution_count": 1,
   "metadata": {},
   "outputs": [
    {
     "name": "stderr",
     "output_type": "stream",
     "text": [
      "<ipython-input-1-5bbe4a9e1c8e>:2: DeprecationWarning: \n",
      "Pyarrow will become a required dependency of pandas in the next major release of pandas (pandas 3.0),\n",
      "(to allow more performant data types, such as the Arrow string type, and better interoperability with other libraries)\n",
      "but was not found to be installed on your system.\n",
      "If this would cause problems for you,\n",
      "please provide us feedback at https://github.com/pandas-dev/pandas/issues/54466\n",
      "        \n",
      "  import pandas as pd\n"
     ]
    }
   ],
   "source": [
    "import numpy as np\n",
    "import pandas as pd\n",
    "import matplotlib.pyplot as plt\n",
    "\n",
    "from datetime import datetime as dt\n",
    "from datetime import timezone as tz\n",
    "import time\n",
    "from glob import glob\n",
    "import h5py\n",
    "import imageio\n",
    "import json\n",
    "from pathlib import Path\n",
    "\n",
    "from aind_codeocean_api.codeocean import CodeOceanClient\n",
    "from aind_codeocean_api.credentials import CodeOceanCredentials\n",
    "\n",
    "import capsule_utils\n",
    "from comb.ophys_plane_grabber import OphysPlaneGrabber\n",
    "from comb.ophys_plane_dataset import OphysPlaneDataset\n",
    "from comb.behavior_ophys_dataset import BehaviorOphysDataset\n",
    "from comb.behavior_session_grabber import BehaviorSessionGrabber\n",
    "from comb.behavior_session_dataset import BehaviorSessionDataset"
   ]
  },
  {
   "cell_type": "code",
   "execution_count": 2,
   "metadata": {},
   "outputs": [
    {
     "data": {
      "text/html": [
       "<div>\n",
       "<style scoped>\n",
       "    .dataframe tbody tr th:only-of-type {\n",
       "        vertical-align: middle;\n",
       "    }\n",
       "\n",
       "    .dataframe tbody tr th {\n",
       "        vertical-align: top;\n",
       "    }\n",
       "\n",
       "    .dataframe thead th {\n",
       "        text-align: right;\n",
       "    }\n",
       "</style>\n",
       "<table border=\"1\" class=\"dataframe\">\n",
       "  <thead>\n",
       "    <tr style=\"text-align: right;\">\n",
       "      <th></th>\n",
       "      <th>opid</th>\n",
       "      <th>depth</th>\n",
       "      <th>region</th>\n",
       "      <th>session_id</th>\n",
       "      <th>mouse_id</th>\n",
       "      <th>expression_strategy</th>\n",
       "    </tr>\n",
       "  </thead>\n",
       "  <tbody>\n",
       "    <tr>\n",
       "      <th>0</th>\n",
       "      <td>1265760434</td>\n",
       "      <td>175</td>\n",
       "      <td>VISp</td>\n",
       "      <td>1265619832</td>\n",
       "      <td>667825</td>\n",
       "      <td>RiboL1-GCaMP8m(icv)</td>\n",
       "    </tr>\n",
       "    <tr>\n",
       "      <th>1</th>\n",
       "      <td>1265760436</td>\n",
       "      <td>275</td>\n",
       "      <td>VISp</td>\n",
       "      <td>1265619832</td>\n",
       "      <td>667825</td>\n",
       "      <td>RiboL1-GCaMP8m(icv)</td>\n",
       "    </tr>\n",
       "    <tr>\n",
       "      <th>2</th>\n",
       "      <td>1263579241</td>\n",
       "      <td>175</td>\n",
       "      <td>VISp</td>\n",
       "      <td>1262862975</td>\n",
       "      <td>667825</td>\n",
       "      <td>RiboL1-GCaMP8m(icv)</td>\n",
       "    </tr>\n",
       "    <tr>\n",
       "      <th>3</th>\n",
       "      <td>1263579243</td>\n",
       "      <td>275</td>\n",
       "      <td>VISp</td>\n",
       "      <td>1262862975</td>\n",
       "      <td>667825</td>\n",
       "      <td>RiboL1-GCaMP8m(icv)</td>\n",
       "    </tr>\n",
       "    <tr>\n",
       "      <th>4</th>\n",
       "      <td>1267294087</td>\n",
       "      <td>275</td>\n",
       "      <td>VISp</td>\n",
       "      <td>1267183073</td>\n",
       "      <td>667826</td>\n",
       "      <td>RiboL1-GCaMP8m(icv)</td>\n",
       "    </tr>\n",
       "  </tbody>\n",
       "</table>\n",
       "</div>"
      ],
      "text/plain": [
       "         opid  depth region  session_id  mouse_id  expression_strategy\n",
       "0  1265760434    175   VISp  1265619832    667825  RiboL1-GCaMP8m(icv)\n",
       "1  1265760436    275   VISp  1265619832    667825  RiboL1-GCaMP8m(icv)\n",
       "2  1263579241    175   VISp  1262862975    667825  RiboL1-GCaMP8m(icv)\n",
       "3  1263579243    275   VISp  1262862975    667825  RiboL1-GCaMP8m(icv)\n",
       "4  1267294087    275   VISp  1267183073    667826  RiboL1-GCaMP8m(icv)"
      ]
     },
     "execution_count": 2,
     "metadata": {},
     "output_type": "execute_result"
    }
   ],
   "source": [
    "scratch_dir = '/root/capsule/scratch/'\n",
    "ribo_table = pd.read_csv(scratch_dir + 'ribo_table_with_depth_region.csv')\n",
    "ribo_table.head()"
   ]
  },
  {
   "cell_type": "code",
   "execution_count": 3,
   "metadata": {},
   "outputs": [
    {
     "data": {
      "text/plain": [
       "[]"
      ]
     },
     "execution_count": 3,
     "metadata": {},
     "output_type": "execute_result"
    }
   ],
   "source": [
    "data_dir = Path('/root/capsule/data')\n",
    "# get subfolders with opid \n",
    "opid = 1265760434\n",
    "subfolders = [f for f in data_dir.iterdir() if f.is_dir() and f'{opid}' in f.name]\n",
    "subfolders"
   ]
  },
  {
   "cell_type": "code",
   "execution_count": 7,
   "metadata": {},
   "outputs": [
    {
     "data": {
      "text/plain": [
       "['/root/capsule/data/multiplane-ophys_667825_2023-04-21_13-23-24_processed_2024-02-20_18-23-08/1265760434']"
      ]
     },
     "execution_count": 7,
     "metadata": {},
     "output_type": "execute_result"
    }
   ],
   "source": [
    "glob(str(data_dir / f'*processed*/{opid}'))"
   ]
  },
  {
   "cell_type": "code",
   "execution_count": 9,
   "metadata": {},
   "outputs": [
    {
     "data": {
      "text/plain": [
       "['/root/capsule/data/multiplane-ophys_667825_2023-04-21_13-23-24/pophys/ophys_experiment_1265760434']"
      ]
     },
     "execution_count": 9,
     "metadata": {},
     "output_type": "execute_result"
    }
   ],
   "source": [
    "glob(str(data_dir / f'**/pophys/**{opid}'))"
   ]
  },
  {
   "cell_type": "code",
   "execution_count": 10,
   "metadata": {},
   "outputs": [],
   "source": [
    "def fetch_opd(opid):\n",
    "    data_dir = Path('/root/capsule/data')\n",
    "    opid_path = glob(str(data_dir / f'**/{opid}'))\n",
    "    raw_path = glob(str(data_dir / f'**/pophys/**{opid}'))\n",
    "    if (len(opid_path) == 0) or (len(raw_path) == 0):\n",
    "        print(f'No data found for opid {opid}')\n",
    "        return None\n",
    "    else:\n",
    "        print(f'Load {opid}')\n",
    "        plane_path = opid_path[0]\n",
    "        raw_path = raw_path[0]\n",
    "        return OphysPlaneDataset(plane_path, raw_path)\n",
    "        \n",
    "    "
   ]
  },
  {
   "cell_type": "code",
   "execution_count": 12,
   "metadata": {},
   "outputs": [
    {
     "name": "stdout",
     "output_type": "stream",
     "text": [
      "Load 1265760434\n",
      "Currently sync file stored in raw data assest, will load since raw_folder_path is provided (02/01/2024)\n"
     ]
    }
   ],
   "source": [
    "opd = fetch_opd(1265760434)"
   ]
  },
  {
   "cell_type": "code",
   "execution_count": 17,
   "metadata": {},
   "outputs": [],
   "source": [
    "\n",
    "mc_movie_fn = opd.file_paths['motion_transform_csv'].parent / f'{opd.opid}_registered.h5'\n",
    "framerate = capsule_utils.get_rig_acquisition_frame_rate(opd)\n",
    "num_frames = int(framerate * 60 * 5)\n",
    "with h5py.File(mc_movie_fn, 'r') as f:\n",
    "    mc_movie = f['data'][-num_frames:]\n",
    "save_dir = '/root/capsule/results/'    \n",
    "save_fn = save_dir + f'{opd.opid}_mc_movie_last_5min.tiff'\n",
    "imageio.mimwrite(save_fn, mc_movie)"
   ]
  },
  {
   "cell_type": "code",
   "execution_count": null,
   "metadata": {},
   "outputs": [],
   "source": [
    "save_dir = '/root/capsule/results/'    \n",
    "save_fn = save_dir + f'{opd.opid}_mc_movie_last_5min.tiff'\n",
    "imageio.mimwrite(save_fn, mc_movie)"
   ]
  },
  {
   "cell_type": "code",
   "execution_count": 13,
   "metadata": {},
   "outputs": [
    {
     "data": {
      "text/plain": [
       "{'platform_json': PosixPath('/root/capsule/data/multiplane-ophys_667825_2023-04-21_13-23-24_processed_2024-02-20_18-23-08/1265760434/1265619832_platform.json'),\n",
       " 'processing_json': PosixPath('/root/capsule/data/multiplane-ophys_667825_2023-04-21_13-23-24_processed_2024-02-20_18-23-08/1265760434/processing.json'),\n",
       " 'params_json': PosixPath('/root/capsule/data/multiplane-ophys_667825_2023-04-21_13-23-24_processed_2024-02-20_18-23-08/1265760434/events/1265760434_params.json'),\n",
       " 'registered_metrics_json': PosixPath('/root/capsule/data/multiplane-ophys_667825_2023-04-21_13-23-24_processed_2024-02-20_18-23-08/1265760434/movie_qc/1265760434_registered_metrics.json'),\n",
       " 'output_json': PosixPath('/root/capsule/data/multiplane-ophys_667825_2023-04-21_13-23-24_processed_2024-02-20_18-23-08/1265760434/segmentation/segmentation_output.json'),\n",
       " 'average_projection_png': PosixPath('/root/capsule/data/multiplane-ophys_667825_2023-04-21_13-23-24_processed_2024-02-20_18-23-08/1265760434/motion_correction/1265760434_average_projection.png'),\n",
       " 'max_projection_png': None,\n",
       " 'motion_transform_csv': PosixPath('/root/capsule/data/multiplane-ophys_667825_2023-04-21_13-23-24_processed_2024-02-20_18-23-08/1265760434/motion_correction/1265760434_motion_transform.csv'),\n",
       " 'segmentation_output_json': PosixPath('/root/capsule/data/multiplane-ophys_667825_2023-04-21_13-23-24_processed_2024-02-20_18-23-08/1265760434/segmentation/segmentation_output.json'),\n",
       " 'roi_traces_h5': PosixPath('/root/capsule/data/multiplane-ophys_667825_2023-04-21_13-23-24_processed_2024-02-20_18-23-08/1265760434/trace_extraction/roi_traces.h5'),\n",
       " 'neuropil_correction_h5': PosixPath('/root/capsule/data/multiplane-ophys_667825_2023-04-21_13-23-24_processed_2024-02-20_18-23-08/1265760434/neuropil_correction/neuropil_correction.h5'),\n",
       " 'neuropil_masks_json': PosixPath('/root/capsule/data/multiplane-ophys_667825_2023-04-21_13-23-24_processed_2024-02-20_18-23-08/1265760434/trace_extraction/neuropil_masks.json'),\n",
       " 'neuropil_trace_output_json': PosixPath('/root/capsule/data/multiplane-ophys_667825_2023-04-21_13-23-24_processed_2024-02-20_18-23-08/1265760434/neuropil_correction/neuropil_trace_output.json'),\n",
       " 'demixing_output_h5': PosixPath('/root/capsule/data/multiplane-ophys_667825_2023-04-21_13-23-24_processed_2024-02-20_18-23-08/1265760434/demixing/demixing_output.h5'),\n",
       " 'demixing_output_json': PosixPath('/root/capsule/data/multiplane-ophys_667825_2023-04-21_13-23-24_processed_2024-02-20_18-23-08/1265760434/demixing/demixing_output.json'),\n",
       " 'dff_h5': PosixPath('/root/capsule/data/multiplane-ophys_667825_2023-04-21_13-23-24_processed_2024-02-20_18-23-08/1265760434/dff/dff.h5'),\n",
       " 'extract_traces_json': PosixPath('/root/capsule/data/multiplane-ophys_667825_2023-04-21_13-23-24_processed_2024-02-20_18-23-08/1265760434/trace_extraction/extract_traces.json'),\n",
       " 'events_oasis_h5': PosixPath('/root/capsule/data/multiplane-ophys_667825_2023-04-21_13-23-24_processed_2024-02-20_18-23-08/1265760434/events/1265760434_events_oasis.h5'),\n",
       " 'sync_file': PosixPath('/root/capsule/data/multiplane-ophys_667825_2023-04-21_13-23-24/pophys/ophys_experiment_1265760434/pophys/1265619832_20230421T120742.h5')}"
      ]
     },
     "execution_count": 13,
     "metadata": {},
     "output_type": "execute_result"
    }
   ],
   "source": [
    "opd.file_paths"
   ]
  }
 ],
 "metadata": {
  "kernelspec": {
   "display_name": "base",
   "language": "python",
   "name": "python3"
  },
  "language_info": {
   "codemirror_mode": {
    "name": "ipython",
    "version": 3
   },
   "file_extension": ".py",
   "mimetype": "text/x-python",
   "name": "python",
   "nbconvert_exporter": "python",
   "pygments_lexer": "ipython3",
   "version": "3.9.12"
  }
 },
 "nbformat": 4,
 "nbformat_minor": 2
}
