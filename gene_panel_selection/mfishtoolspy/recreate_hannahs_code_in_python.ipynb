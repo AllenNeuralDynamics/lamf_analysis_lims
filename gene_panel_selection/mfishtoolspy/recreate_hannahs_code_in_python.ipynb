{
 "cells": [
  {
   "cell_type": "markdown",
   "metadata": {},
   "source": [
    "# Purpose\n",
    "- trying copying Hannah's panel selection code to python\n",
    "- This requires re-writing Jeremy's mfishtools in python"
   ]
  },
  {
   "cell_type": "code",
   "execution_count": null,
   "metadata": {
    "vscode": {
     "languageId": "plaintext"
    }
   },
   "outputs": [],
   "source": [
    "import Path\n"
   ]
  }
 ],
 "metadata": {
  "language_info": {
   "name": "python"
  }
 },
 "nbformat": 4,
 "nbformat_minor": 2
}
