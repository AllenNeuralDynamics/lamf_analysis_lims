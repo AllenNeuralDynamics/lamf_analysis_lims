{
 "cells": [
  {
   "cell_type": "markdown",
   "metadata": {},
   "source": [
    "# Purpose:\n",
    "- address random seed issue in mfishtools\n",
    "- Develop mfishtoolspy to iterate multiple times for one gene addition\n",
    "- Make code more stable for addressing 'other' genes"
   ]
  },
  {
   "cell_type": "code",
   "execution_count": 4,
   "metadata": {},
   "outputs": [],
   "source": [
    "from pathlib import Path\n",
    "import pandas as pd\n",
    "import numpy as np\n",
    "import matplotlib.pyplot as plt\n",
    "import seaborn as sns\n",
    "import sys\n",
    "from importlib import reload\n",
    "\n",
    "import sys\n",
    "sys.path.append(r'C:\\Users\\jinho.kim\\Github\\lamf_analysis_lims\\gene_panel_selection\\mfishtoolspy')\n",
    "import mfishtools\n"
   ]
  },
  {
   "cell_type": "code",
   "execution_count": 151,
   "metadata": {},
   "outputs": [],
   "source": [
    "# options for cluster grouping\n",
    "ops = {\n",
    "    'panel_name': 'Pan-neuronal', # GABAergic or Glutamatergic or Pan-neuronal\n",
    "    'full_panel_size': 28,\n",
    "    'starting_genes': [\"Gad2\",\"Slc17a7\",\"Pvalb\",\"Sst\",\"Vip\",\"Cck\",\"Tac1\",\"Npy\",\"Crh\",\"Necab1\",\"Ptprt\",\"Kirrel3\",\"Penk\",\"Hpse\",\"Calb2\",\"Chodl\"],\n",
    "    'layer_1234_filter': True,\n",
    "    'GABAergic_group_level': 'cluster', # class, subclass, supertype, or cluster\n",
    "    'GABAergic_mapping_level': 'cluster',\n",
    "    'Glutamatergic_group_level': 'subclass', # class, subclass, supertype, or cluster\n",
    "    'Glutamatergic_mapping_level': 'subclass',\n",
    "    'GABAergic_other_group_level': 'class', # class, subclass, supertype, or cluster\n",
    "    'GABAergic_other_mapping_level': 'cluster',\n",
    "    'Glutamatergic_other_group_level': 'class', # class, subclass, supertype, or cluster\n",
    "    'Glutamatergic_other_mapping_level': 'subclass',\n",
    "    'blend_supertypes': False,  # Don't know if I'm going to keep this\n",
    "    'remove_redundant_genes': False, # from the starting_genes list\n",
    "    'remove_redundant_genes_threshold': 0.95, # threshold for removing redundant genes from normalized accuracy\n",
    "    'L1234_layer_threshold': 0.15,\n",
    "    'L6_layer_threshold': 0.7,\n",
    "    'L1234_labels': ['L1', 'L1-L2/3', 'L1-L4', 'L2/3', 'L2/3-L4', 'L4'],\n",
    "    'L6_labels': ['L6', 'L6b'],\n",
    "    'max_on': 5000,\n",
    "    'max_off': 1000,\n",
    "    'min_on': 10,\n",
    "    'max_fraction_on_clusters': 0.5,\n",
    "    'num_subsample': 50,\n",
    "    \n",
    "}\n",
    "\n",
    "if 'GABAergic' in ops['panel_name']:\n",
    "    ops['keep_class'] = ['GABAergic']\n",
    "elif 'Glutamatergic' in ops['panel_name']:\n",
    "    ops['keep_class'] = ['Glutamatergic']\n",
    "elif 'Pan-neuronal' in ops['panel_name']:\n",
    "    ops['keep_class'] = ['GABAergic', 'Glutamatergic']\n",
    "else:\n",
    "    raise ValueError('panel_name must be GABAergic, Glutamatergic, or Pan-neuronal')\n",
    "\n",
    "level_hierarchy = {'class': 0, 'subclass': 1, 'supertype': 2, 'cluster': 3}\n",
    "assert level_hierarchy[ops['GABAergic_group_level']] <= level_hierarchy[ops['GABAergic_mapping_level']]\n",
    "assert level_hierarchy[ops['GABAergic_other_group_level']] <= level_hierarchy[ops['GABAergic_other_mapping_level']]\n",
    "assert level_hierarchy[ops['Glutamatergic_group_level']] <= level_hierarchy[ops['Glutamatergic_mapping_level']]\n",
    "assert level_hierarchy[ops['Glutamatergic_other_group_level']] <= level_hierarchy[ops['Glutamatergic_other_mapping_level']]\n",
    "\n",
    "\n"
   ]
  },
  {
   "cell_type": "code",
   "execution_count": 17,
   "metadata": {},
   "outputs": [
    {
     "data": {
      "text/plain": [
       "array(['L2/3', 'L4', 'L5', 'L1', 'L6', 'L5-L6', 'L1-L4', 'L1-L6', 'L4-L6',\n",
       "       'L1-L2/3', 'L4-L5', 'L2/3-L4', 'L6b'], dtype=object)"
      ]
     },
     "execution_count": 17,
     "metadata": {},
     "output_type": "execute_result"
    }
   ],
   "source": [
    "annotation.layer_label.unique()"
   ]
  },
  {
   "cell_type": "code",
   "execution_count": 146,
   "metadata": {},
   "outputs": [],
   "source": [
    "# paths to the data\n",
    "data_folder = Path(r'\\\\allen\\programs\\mindscope\\workgroups\\learning\\jinho\\gene_panel_selection\\data\\mouse_VISp_gene_expression_matrices_2018-06-14')\n",
    "output_folder = Path('//allen/programs/mindscope/workgroups/learning/jinho/gene_panel_selection/inhibitory')"
   ]
  },
  {
   "cell_type": "code",
   "execution_count": 147,
   "metadata": {},
   "outputs": [],
   "source": [
    "# read annotation\n",
    "annotation = pd.read_feather(data_folder / 'anno.feather')\n",
    "# read data\n",
    "# TODO: check where this data is coming from. Values are similar to cpm but not exactly the same\n",
    "cpm_data = pd.read_feather(data_folder / 'exon_cpm.feather')\n",
    "tpm_data = pd.read_feather(data_folder / 'exon_tpm.feather')"
   ]
  },
  {
   "cell_type": "code",
   "execution_count": 150,
   "metadata": {},
   "outputs": [],
   "source": [
    "annotation.set_index('sample_id', inplace=True, drop=True)\n",
    "# data.set_index('gene', inplace=True, drop=True) # only necessary with data_t.feather"
   ]
  },
  {
   "cell_type": "code",
   "execution_count": 10,
   "metadata": {},
   "outputs": [],
   "source": [
    "# preprocessing\n",
    "# Removing 'X\" in column? from Hannah's code. Don't know when this happens, but leave them here just in case.\n",
    "if 'X' in data.columns:\n",
    "    print('Dropping \"X\" column from data')\n",
    "    data = data.drop(columns=['X'])\n",
    "if 'X' in annotation.columns:\n",
    "    print('Dropping \"X\" column fro annotation')\n",
    "    annotation = annotation.drop(columns=['X'])\n",
    "\n",
    "# change the row order of annotation to match the order of columns in data\n",
    "# annotation = annotation.loc[data.columns]  # don't need this, but add assert statement to check\n",
    "assert np.all(annotation.index.values == data.columns.values)"
   ]
  },
  {
   "cell_type": "code",
   "execution_count": 224,
   "metadata": {},
   "outputs": [],
   "source": [
    "# data conversion to log2\n",
    "tpm_log2 = np.log2(tpm_data + 1)\n",
    "cpm_log2 = np.log2(cpm_data + 1)"
   ]
  },
  {
   "cell_type": "code",
   "execution_count": 12,
   "metadata": {},
   "outputs": [
    {
     "name": "stderr",
     "output_type": "stream",
     "text": [
      "C:\\Users\\jinho.kim\\AppData\\Local\\Temp\\ipykernel_43924\\765796578.py:13: PerformanceWarning: DataFrame is highly fragmented.  This is usually the result of calling `frame.insert` many times, which has poor performance.  Consider joining all columns at once using pd.concat(axis=1) instead. To get a de-fragmented frame, use `newframe = frame.copy()`\n",
      "  annotation['supertype_label'] = annotation.cluster_label.map(supertype.supertype)\n"
     ]
    }
   ],
   "source": [
    "# read supertype information\n",
    "# TODO: re-define supertype (will be addressed in another notebook)\n",
    "supertype_folder = Path('//allen/programs/mindscope/workgroups/omfish/hannahs/mfish_project/gene_panels')\n",
    "supertype_fn = supertype_folder / 'tasic2018_supertypes_manual_v2.xlsx'\n",
    "sheet_name = 'all_supertypes_v2'\n",
    "supertype = pd.read_excel(supertype_fn, sheet_name=sheet_name)\n",
    "supertype.rename(columns={'Cell Type': 'cell_type', 'Supertype': 'supertype'}, inplace=True)\n",
    "supertype.cell_type = supertype.cell_type.str.replace('\\xa0', ' ')\n",
    "supertype.supertype = supertype.supertype.str.replace('\\xa0', ' ')\n",
    "assert np.all([ct in annotation['cluster_label'].values for ct in supertype.cell_type.values])\n",
    "supertype.set_index('cell_type', inplace=True, drop=True)\n",
    "\n",
    "annotation['supertype_label'] = annotation.cluster_label.map(supertype.supertype)"
   ]
  },
  {
   "cell_type": "code",
   "execution_count": 34,
   "metadata": {},
   "outputs": [
    {
     "data": {
      "text/plain": [
       "array(['L4 IT VISp', 'L2/3 IT VISp', 'L5 NP VISp Trhr ',\n",
       "       'L5 IT VISp Batf3', 'L6 CT VISp Ctxn3', 'L6 IT VISp Penk',\n",
       "       'L6 IT VISp Car3', 'L5 IT VISp Col6a1', 'L5 PT VISp C1ql2',\n",
       "       'L6b P2ry12', 'L6 CT VISp Gpr139', 'L6b VISp Col8a1 ',\n",
       "       'L5 PT VISp Chrna6', 'CR Lhx5', 'L6b Hsd17b2'], dtype=object)"
      ]
     },
     "execution_count": 34,
     "metadata": {},
     "output_type": "execute_result"
    }
   ],
   "source": [
    "annotation.query('class_label==\"Glutamatergic\"').supertype_label.unique()"
   ]
  },
  {
   "cell_type": "code",
   "execution_count": 27,
   "metadata": {},
   "outputs": [
    {
     "data": {
      "text/plain": [
       "array(['Pvalb', 'Vip', 'Lamp5', 'Sst', 'Sncg', 'Serpinf1', 'Meis2'],\n",
       "      dtype=object)"
      ]
     },
     "execution_count": 27,
     "metadata": {},
     "output_type": "execute_result"
    }
   ],
   "source": [
    "annotation.query('class_label==\"GABAergic\"').subclass_label.unique()"
   ]
  },
  {
   "cell_type": "code",
   "execution_count": null,
   "metadata": {},
   "outputs": [],
   "source": [
    "group_label = f'{ops[\"Glutamatergic_group_level\"]}_label'\n",
    "mapping_label = f'{ops[\"Glutamatergic_mapping_level\"]}_label'\n",
    "temp_annotation = annotation.query('class_label==\"Glutamatergic\"')"
   ]
  },
  {
   "cell_type": "code",
   "execution_count": 278,
   "metadata": {},
   "outputs": [],
   "source": [
    "# filtering and assigning group_label\n",
    "# Group means target clustering that I want to classify eventually\n",
    "# There is also mapping_label, to which I want to match first before calculating classification accuracy\n",
    "# E.g., match individual samples to cluster level but then classify them at supertype level\n",
    "# E.g., classification can happen in mixed level, some at the cluster level while others in subclass level\n",
    "\n",
    "# If \"other\" group and mapping levels are different from group and mapping levels\n",
    "# then assign relevant labels to \"other\" group and mapping levels\n",
    "#   \"other\" is relevant only when filtering by the layers\n",
    "#   It means the rest of groups of mappings that can be within the imaging regime but we want to exclude from further analysis\n",
    "\n",
    "# Filtering based on layer abundance\n",
    "# TODO: test thresholds. \n",
    "# TODO: Better to do this from merFISH data\n",
    "\n",
    "keep_groups = []\n",
    "keep_mappings = []\n",
    "other_groups = []\n",
    "other_mappings = []\n",
    "\n",
    "if 'Glutamatergic' in ops['keep_class']:\n",
    "    # Assign group and mapping labels\n",
    "    group_level_label = f'{ops[\"Glutamatergic_group_level\"]}_label'\n",
    "    group_label_list = [f'Glutamatergic {gl}' for gl in annotation.loc[annotation.class_label == 'Glutamatergic', group_level_label]] # To disambiguate from GABAergic groups\n",
    "    annotation.loc[annotation.class_label == 'Glutamatergic', 'group_label'] = group_label_list\n",
    "    mapping_level_label = f'{ops[\"Glutamatergic_mapping_level\"]}_label'\n",
    "    mapping_label_list = [f'Glutamatergic {ml}' for ml in annotation.loc[annotation.class_label == 'Glutamatergic', mapping_label]] # To disambiguate from GABAergic mappings\n",
    "    annotation.loc[annotation.class_label == 'Glutamatergic', 'mapping_label'] = mapping_label_list\n",
    "    \n",
    "    # Assign keep and other groups.\n",
    "    # If lower than class level, then consider layer filtering (L1234 only for now)\n",
    "    if ops['Glutamatergic_group_level'] == 'class':\n",
    "        keep_groups += ['Glutamatergic']\n",
    "    else:\n",
    "        temp_annotation = annotation.query('class_label==\"Glutamatergic\"')\n",
    "        if ops['layer_1234_filter']:\n",
    "            keep_groups += [gl for gl in temp_annotation['group_label'].unique().tolist() if gl.split(' ')[1] in ['L2/3', 'L4']] # Have class label at the beginning\n",
    "            # Process \"other\" groups\n",
    "            other_group_level_label = f'{ops[\"Glutamatergic_other_group_level\"]}_label'\n",
    "            temp_other_groups = [gl for gl in temp_annotation['group_label'].unique().tolist() if gl.split(' ')[1] in ['L5', 'NP']] # Have class label at the beginning\n",
    "            if other_group_level_label == group_level_label: # no need to change group labels\n",
    "                other_groups += temp_other_groups\n",
    "            else:\n",
    "                # Add L5 after class label\n",
    "                other_group_labels = [f'Glutamatergic L5 {gl}' for gl in annotation[annotation['group_label'].isin(temp_other_groups)][other_group_level_label].values]\n",
    "                annotation.loc[annotation['group_label'].isin(temp_other_groups), 'group_label'] = other_group_labels\n",
    "                other_groups += np.unique(other_group_labels).tolist()\n",
    "        else:\n",
    "            keep_groups += temp_annotation['group_label'].unique().tolist()\n",
    "    # Assign keep and other mappings.\n",
    "    if ops['Glutamatergic_mapping_level'] == 'class':\n",
    "        keep_mappings += ['Glutamatergic']\n",
    "    else:\n",
    "        temp_annotation = annotation.query('class_label==\"Glutamatergic\"')\n",
    "        if ops['layer_1234_filter']:\n",
    "            keep_mappings += [ml for ml in temp_annotation['mapping_label'].unique().tolist() if ml.split(' ')[1] in ['L2/3', 'L4']] # Have class label at the beginning\n",
    "            # Process \"other\" groups\n",
    "            other_mapping_level_label = f'{ops[\"Glutamatergic_other_mapping_level\"]}_label'\n",
    "            temp_other_mappings = [ml for ml in temp_annotation['mapping_label'].unique().tolist() if ml.split(' ')[1] in ['L5', 'NP']] # Have class label at the beginning\n",
    "            if other_mapping_level_label == mapping_level_label: # no need to change mapping labels\n",
    "                other_mappings += temp_other_mappings\n",
    "            else:\n",
    "                # Add L5 after class label\n",
    "                other_mapping_labels = [f'Glutamatergic L5 {ml}' for ml in annotation[annotation['mapping_label'].isin(temp_other_mappings)][other_mapping_level_label].values]\n",
    "                annotation.loc[annotation['mapping_label'].isin(temp_other_mappings), 'mapping_label'] = other_mapping_labels\n",
    "                other_mappings += np.unique(other_mapping_labels).tolist()\n",
    "        else:\n",
    "            keep_mappings += temp_annotation['mapping_label'].unique().tolist()\n",
    "\n",
    "# Same for GABAergic\n",
    "# Except for filtering, now we are using scRNAseq layer-enriched data with thresholds\n",
    "if 'GABAergic' in ops['keep_class']:\n",
    "    # Assign group and mapping labels\n",
    "    group_level_label = f'{ops[\"GABAergic_group_level\"]}_label'\n",
    "    group_label_list = [f'GABAergic {gl}' for gl in annotation.loc[annotation.class_label == 'GABAergic', group_level_label]] # To disambiguate from Glutamatergic groups\n",
    "    annotation.loc[annotation.class_label == 'GABAergic', 'group_label'] = group_label_list\n",
    "    mapping_level_label = f'{ops[\"GABAergic_mapping_level\"]}_label'\n",
    "    mapping_label_list = [f'GABAergic {ml}' for ml in annotation.loc[annotation.class_label == 'GABAergic', mapping_level_label]] # To disambiguate from Glutamatergic mappings\n",
    "    annotation.loc[annotation.class_label == 'GABAergic', 'mapping_label'] = mapping_label_list\n",
    "    \n",
    "    # Assign keep and other groups.\n",
    "    # If lower than class level, then consider layer filtering (L1234 only for now)\n",
    "    # Also need to name them different (adding L5 in front of the group and mapping labels)\n",
    "    if ops['GABAergic_group_level'] == 'class':\n",
    "        keep_groups += ['GABAergic']\n",
    "    else:\n",
    "        temp_annotation = annotation.query('class_label==\"GABAergic\"')\n",
    "        if ops['layer_1234_filter']:\n",
    "            # Filtering process based on the layer abundance\n",
    "            layer_df = annotation.query('class_label==\"GABAergic\"')[['layer_label', 'cluster_label']].copy()\n",
    "            layer_table = layer_df.groupby(['layer_label', 'cluster_label']).size().unstack(fill_value=0)\n",
    "            prop_table = layer_table.div(layer_table.sum(axis=0), axis=1)\n",
    "            L1234_prop_sum = prop_table.loc[ops['L1234_labels']].sum(axis=0)\n",
    "            L1234_inh_types = set(L1234_prop_sum[L1234_prop_sum >= ops['L1234_layer_threshold']].index.values)\n",
    "            not_L1234_inh_types = set(layer_df.cluster_label).difference(L1234_inh_types)\n",
    "            L6_prop_sum = prop_table.loc[ops['L6_labels']].sum(axis=0)\n",
    "            L6_inh_types = set(L6_prop_sum[L6_prop_sum >= ops['L6_layer_threshold']].index.values)\n",
    "            L5_inh_types = not_L1234_inh_types.difference(L6_inh_types)\n",
    "            # L1234_inh_types are going to be kept\n",
    "            # L5_inh_types are going to be \"other\"\n",
    "            # Ignore L6_inh_types (assume they won't be imaged)\n",
    "            keep_annotation = temp_annotation[temp_annotation['cluster_label'].isin(L1234_inh_types)]\n",
    "            other_annotation = temp_annotation[temp_annotation['cluster_label'].isin(L5_inh_types)]\n",
    "            \n",
    "            keep_groups += keep_annotation['group_label'].unique().tolist()\n",
    "\n",
    "            # Process \"other\" groups\n",
    "            other_group_level_label = f'{ops[\"GABAergic_other_group_level\"]}_label'\n",
    "            temp_other_groups = other_annotation['group_label'].unique().tolist()\n",
    "            if other_group_level_label == group_level_label: # no need to change group labels\n",
    "                other_groups += temp_other_groups\n",
    "            else:\n",
    "                # Add L5 after class label\n",
    "                other_group_labels = [f'GABAergic L5 {gl}' for gl in annotation[annotation['group_label'].isin(temp_other_groups)][other_group_level_label].values]\n",
    "                annotation.loc[annotation['group_label'].isin(temp_other_groups), 'group_label'] = other_group_labels\n",
    "                other_groups += np.unique(other_group_labels).tolist()\n",
    "        else:\n",
    "            keep_groups += temp_annotation['group_label'].unique().tolist()\n",
    "    # Assign keep and other mappings.\n",
    "    if ops['GABAergic_mapping_level'] == 'class':\n",
    "        keep_mappings += ['GABAergic']\n",
    "    else:\n",
    "        temp_annotation = annotation.query('class_label==\"GABAergic\"')\n",
    "        if ops['layer_1234_filter']:\n",
    "            # Filtering process should have been done already in the above if clause\n",
    "            # keep_annotation and other_annotation are already defined\n",
    "            keep_mappings += keep_annotation['mapping_label'].unique().tolist()\n",
    "            \n",
    "            # Process \"other\" groups\n",
    "            other_mapping_level_label = f'{ops[\"GABAergic_other_mapping_level\"]}_label'\n",
    "            temp_other_mappings = other_annotation['mapping_label'].unique().tolist()\n",
    "            if other_mapping_level_label == mapping_level_label: # no need to change mapping labels\n",
    "                other_mappings += temp_other_mappings\n",
    "            else:\n",
    "                # Add L5 after class label\n",
    "                other_mapping_labels = [f'GABAergic L5 {ml}' for ml in annotation[annotation['mapping_label'].isin(temp_other_mappings)][other_mapping_level_label].values]\n",
    "                annotation.loc[annotation['mapping_label'].isin(temp_other_mappings), 'mapping_label'] = other_mapping_labels\n",
    "                other_mappings += np.unique(other_mapping_labels).tolist()\n",
    "        else:\n",
    "            keep_mappings += temp_annotation['mapping_label'].unique().tolist()\n",
    "\n",
    "# assign cluster to nan mapping labels\n",
    "# for filtering using \"off clusters\" information (e.g., glial cells)\n",
    "annotation.loc[annotation['mapping_label']=='nan', 'mapping_label'] = annotation.loc[annotation['mapping_label']=='nan', 'cluster_label'] "
   ]
  },
  {
   "cell_type": "code",
   "execution_count": 570,
   "metadata": {},
   "outputs": [],
   "source": [
    "ops['keep_mappings'] = keep_mappings\n",
    "ops['other_mappings'] = other_mappings\n",
    "ops['keep_groups'] = keep_groups\n",
    "ops['other_groups'] = other_groups"
   ]
  },
  {
   "cell_type": "markdown",
   "metadata": {},
   "source": [
    "## Validation\n",
    "- Done with 'Pan-neuronal' setting"
   ]
  },
  {
   "cell_type": "code",
   "execution_count": 280,
   "metadata": {},
   "outputs": [
    {
     "data": {
      "text/html": [
       "<div>\n",
       "<style scoped>\n",
       "    .dataframe tbody tr th:only-of-type {\n",
       "        vertical-align: middle;\n",
       "    }\n",
       "\n",
       "    .dataframe tbody tr th {\n",
       "        vertical-align: top;\n",
       "    }\n",
       "\n",
       "    .dataframe thead th {\n",
       "        text-align: right;\n",
       "    }\n",
       "</style>\n",
       "<table border=\"1\" class=\"dataframe\">\n",
       "  <thead>\n",
       "    <tr style=\"text-align: right;\">\n",
       "      <th></th>\n",
       "      <th>class_label</th>\n",
       "      <th>cluster_label</th>\n",
       "      <th>group_label</th>\n",
       "      <th>mapping_label</th>\n",
       "    </tr>\n",
       "    <tr>\n",
       "      <th>sample_id</th>\n",
       "      <th></th>\n",
       "      <th></th>\n",
       "      <th></th>\n",
       "      <th></th>\n",
       "    </tr>\n",
       "  </thead>\n",
       "  <tbody>\n",
       "    <tr>\n",
       "      <th>LS-14690_S11_E1-50</th>\n",
       "      <td>Glutamatergic</td>\n",
       "      <td>L2/3 IT VISp Agmat</td>\n",
       "      <td>Glutamatergic L2/3 IT</td>\n",
       "      <td>Glutamatergic L2/3 IT VISp Agmat</td>\n",
       "    </tr>\n",
       "    <tr>\n",
       "      <th>LS-14692_S01_E1-50</th>\n",
       "      <td>Glutamatergic</td>\n",
       "      <td>L2/3 IT VISp Agmat</td>\n",
       "      <td>Glutamatergic L2/3 IT</td>\n",
       "      <td>Glutamatergic L2/3 IT VISp Agmat</td>\n",
       "    </tr>\n",
       "    <tr>\n",
       "      <th>LS-14696_S33_E1-50</th>\n",
       "      <td>Glutamatergic</td>\n",
       "      <td>L2/3 IT VISp Adamts2</td>\n",
       "      <td>Glutamatergic L2/3 IT</td>\n",
       "      <td>Glutamatergic L2/3 IT VISp Adamts2</td>\n",
       "    </tr>\n",
       "    <tr>\n",
       "      <th>LS-14696_S34_E1-50</th>\n",
       "      <td>Glutamatergic</td>\n",
       "      <td>L2/3 IT VISp Agmat</td>\n",
       "      <td>Glutamatergic L2/3 IT</td>\n",
       "      <td>Glutamatergic L2/3 IT VISp Agmat</td>\n",
       "    </tr>\n",
       "    <tr>\n",
       "      <th>LS-14696_S35_E1-50</th>\n",
       "      <td>Glutamatergic</td>\n",
       "      <td>L2/3 IT VISp Agmat</td>\n",
       "      <td>Glutamatergic L2/3 IT</td>\n",
       "      <td>Glutamatergic L2/3 IT VISp Agmat</td>\n",
       "    </tr>\n",
       "    <tr>\n",
       "      <th>...</th>\n",
       "      <td>...</td>\n",
       "      <td>...</td>\n",
       "      <td>...</td>\n",
       "      <td>...</td>\n",
       "    </tr>\n",
       "    <tr>\n",
       "      <th>SM-GE8ZO_S094_E1-50</th>\n",
       "      <td>Glutamatergic</td>\n",
       "      <td>L2/3 IT VISp Agmat</td>\n",
       "      <td>Glutamatergic L2/3 IT</td>\n",
       "      <td>Glutamatergic L2/3 IT VISp Agmat</td>\n",
       "    </tr>\n",
       "    <tr>\n",
       "      <th>SM-GE8ZO_S095_E1-50</th>\n",
       "      <td>Glutamatergic</td>\n",
       "      <td>L2/3 IT VISp Adamts2</td>\n",
       "      <td>Glutamatergic L2/3 IT</td>\n",
       "      <td>Glutamatergic L2/3 IT VISp Adamts2</td>\n",
       "    </tr>\n",
       "    <tr>\n",
       "      <th>SM-GE8ZO_S096_E1-50</th>\n",
       "      <td>Glutamatergic</td>\n",
       "      <td>L2/3 IT VISp Adamts2</td>\n",
       "      <td>Glutamatergic L2/3 IT</td>\n",
       "      <td>Glutamatergic L2/3 IT VISp Adamts2</td>\n",
       "    </tr>\n",
       "    <tr>\n",
       "      <th>SM-GE91F_S187_E1-50</th>\n",
       "      <td>Glutamatergic</td>\n",
       "      <td>L2/3 IT VISp Agmat</td>\n",
       "      <td>Glutamatergic L2/3 IT</td>\n",
       "      <td>Glutamatergic L2/3 IT VISp Agmat</td>\n",
       "    </tr>\n",
       "    <tr>\n",
       "      <th>SQ-80004_S37_E1-50</th>\n",
       "      <td>Glutamatergic</td>\n",
       "      <td>L2/3 IT VISp Rrad</td>\n",
       "      <td>Glutamatergic L2/3 IT</td>\n",
       "      <td>Glutamatergic L2/3 IT VISp Rrad</td>\n",
       "    </tr>\n",
       "  </tbody>\n",
       "</table>\n",
       "<p>981 rows × 4 columns</p>\n",
       "</div>"
      ],
      "text/plain": [
       "                       class_label         cluster_label  \\\n",
       "sample_id                                                  \n",
       "LS-14690_S11_E1-50   Glutamatergic    L2/3 IT VISp Agmat   \n",
       "LS-14692_S01_E1-50   Glutamatergic    L2/3 IT VISp Agmat   \n",
       "LS-14696_S33_E1-50   Glutamatergic  L2/3 IT VISp Adamts2   \n",
       "LS-14696_S34_E1-50   Glutamatergic    L2/3 IT VISp Agmat   \n",
       "LS-14696_S35_E1-50   Glutamatergic    L2/3 IT VISp Agmat   \n",
       "...                            ...                   ...   \n",
       "SM-GE8ZO_S094_E1-50  Glutamatergic    L2/3 IT VISp Agmat   \n",
       "SM-GE8ZO_S095_E1-50  Glutamatergic  L2/3 IT VISp Adamts2   \n",
       "SM-GE8ZO_S096_E1-50  Glutamatergic  L2/3 IT VISp Adamts2   \n",
       "SM-GE91F_S187_E1-50  Glutamatergic    L2/3 IT VISp Agmat   \n",
       "SQ-80004_S37_E1-50   Glutamatergic     L2/3 IT VISp Rrad   \n",
       "\n",
       "                               group_label                       mapping_label  \n",
       "sample_id                                                                       \n",
       "LS-14690_S11_E1-50   Glutamatergic L2/3 IT    Glutamatergic L2/3 IT VISp Agmat  \n",
       "LS-14692_S01_E1-50   Glutamatergic L2/3 IT    Glutamatergic L2/3 IT VISp Agmat  \n",
       "LS-14696_S33_E1-50   Glutamatergic L2/3 IT  Glutamatergic L2/3 IT VISp Adamts2  \n",
       "LS-14696_S34_E1-50   Glutamatergic L2/3 IT    Glutamatergic L2/3 IT VISp Agmat  \n",
       "LS-14696_S35_E1-50   Glutamatergic L2/3 IT    Glutamatergic L2/3 IT VISp Agmat  \n",
       "...                                    ...                                 ...  \n",
       "SM-GE8ZO_S094_E1-50  Glutamatergic L2/3 IT    Glutamatergic L2/3 IT VISp Agmat  \n",
       "SM-GE8ZO_S095_E1-50  Glutamatergic L2/3 IT  Glutamatergic L2/3 IT VISp Adamts2  \n",
       "SM-GE8ZO_S096_E1-50  Glutamatergic L2/3 IT  Glutamatergic L2/3 IT VISp Adamts2  \n",
       "SM-GE91F_S187_E1-50  Glutamatergic L2/3 IT    Glutamatergic L2/3 IT VISp Agmat  \n",
       "SQ-80004_S37_E1-50   Glutamatergic L2/3 IT     Glutamatergic L2/3 IT VISp Rrad  \n",
       "\n",
       "[981 rows x 4 columns]"
      ]
     },
     "execution_count": 280,
     "metadata": {},
     "output_type": "execute_result"
    }
   ],
   "source": [
    "L23_exc = annotation[(annotation.class_label==\"Glutamatergic\") & annotation.cluster_label.str.startswith('L2/3')]\n",
    "L23_exc[['class_label', 'cluster_label', 'group_label', 'mapping_label']]"
   ]
  },
  {
   "cell_type": "code",
   "execution_count": 281,
   "metadata": {},
   "outputs": [
    {
     "name": "stdout",
     "output_type": "stream",
     "text": [
      "['Glutamatergic L2/3 IT']\n",
      "['Glutamatergic L2/3 IT VISp Agmat' 'Glutamatergic L2/3 IT VISp Adamts2'\n",
      " 'Glutamatergic L2/3 IT VISp Rrad']\n"
     ]
    }
   ],
   "source": [
    "print(L23_exc.group_label.unique())\n",
    "print(L23_exc.mapping_label.unique())"
   ]
  },
  {
   "cell_type": "code",
   "execution_count": 282,
   "metadata": {},
   "outputs": [
    {
     "data": {
      "text/html": [
       "<div>\n",
       "<style scoped>\n",
       "    .dataframe tbody tr th:only-of-type {\n",
       "        vertical-align: middle;\n",
       "    }\n",
       "\n",
       "    .dataframe tbody tr th {\n",
       "        vertical-align: top;\n",
       "    }\n",
       "\n",
       "    .dataframe thead th {\n",
       "        text-align: right;\n",
       "    }\n",
       "</style>\n",
       "<table border=\"1\" class=\"dataframe\">\n",
       "  <thead>\n",
       "    <tr style=\"text-align: right;\">\n",
       "      <th></th>\n",
       "      <th>class_label</th>\n",
       "      <th>cluster_label</th>\n",
       "      <th>group_label</th>\n",
       "      <th>mapping_label</th>\n",
       "    </tr>\n",
       "    <tr>\n",
       "      <th>sample_id</th>\n",
       "      <th></th>\n",
       "      <th></th>\n",
       "      <th></th>\n",
       "      <th></th>\n",
       "    </tr>\n",
       "  </thead>\n",
       "  <tbody>\n",
       "    <tr>\n",
       "      <th>LS-14690_S03_E1-50</th>\n",
       "      <td>Glutamatergic</td>\n",
       "      <td>L4 IT VISp Rspo1</td>\n",
       "      <td>Glutamatergic L4</td>\n",
       "      <td>Glutamatergic L4 IT VISp Rspo1</td>\n",
       "    </tr>\n",
       "    <tr>\n",
       "      <th>LS-14690_S05_E1-50</th>\n",
       "      <td>Glutamatergic</td>\n",
       "      <td>L4 IT VISp Rspo1</td>\n",
       "      <td>Glutamatergic L4</td>\n",
       "      <td>Glutamatergic L4 IT VISp Rspo1</td>\n",
       "    </tr>\n",
       "    <tr>\n",
       "      <th>LS-14690_S06_E1-50</th>\n",
       "      <td>Glutamatergic</td>\n",
       "      <td>L4 IT VISp Rspo1</td>\n",
       "      <td>Glutamatergic L4</td>\n",
       "      <td>Glutamatergic L4 IT VISp Rspo1</td>\n",
       "    </tr>\n",
       "    <tr>\n",
       "      <th>LS-14690_S07_E1-50</th>\n",
       "      <td>Glutamatergic</td>\n",
       "      <td>L4 IT VISp Rspo1</td>\n",
       "      <td>Glutamatergic L4</td>\n",
       "      <td>Glutamatergic L4 IT VISp Rspo1</td>\n",
       "    </tr>\n",
       "    <tr>\n",
       "      <th>LS-14690_S08_E1-50</th>\n",
       "      <td>Glutamatergic</td>\n",
       "      <td>L4 IT VISp Rspo1</td>\n",
       "      <td>Glutamatergic L4</td>\n",
       "      <td>Glutamatergic L4 IT VISp Rspo1</td>\n",
       "    </tr>\n",
       "    <tr>\n",
       "      <th>...</th>\n",
       "      <td>...</td>\n",
       "      <td>...</td>\n",
       "      <td>...</td>\n",
       "      <td>...</td>\n",
       "    </tr>\n",
       "    <tr>\n",
       "      <th>SM-GE91H_S343_E1-50</th>\n",
       "      <td>Glutamatergic</td>\n",
       "      <td>L4 IT VISp Rspo1</td>\n",
       "      <td>Glutamatergic L4</td>\n",
       "      <td>Glutamatergic L4 IT VISp Rspo1</td>\n",
       "    </tr>\n",
       "    <tr>\n",
       "      <th>SM-GE91H_S344_E1-50</th>\n",
       "      <td>Glutamatergic</td>\n",
       "      <td>L4 IT VISp Rspo1</td>\n",
       "      <td>Glutamatergic L4</td>\n",
       "      <td>Glutamatergic L4 IT VISp Rspo1</td>\n",
       "    </tr>\n",
       "    <tr>\n",
       "      <th>SM-GE91H_S362_E1-50</th>\n",
       "      <td>Glutamatergic</td>\n",
       "      <td>L4 IT VISp Rspo1</td>\n",
       "      <td>Glutamatergic L4</td>\n",
       "      <td>Glutamatergic L4 IT VISp Rspo1</td>\n",
       "    </tr>\n",
       "    <tr>\n",
       "      <th>SQ-80001_S12_E1-50</th>\n",
       "      <td>Glutamatergic</td>\n",
       "      <td>L4 IT VISp Rspo1</td>\n",
       "      <td>Glutamatergic L4</td>\n",
       "      <td>Glutamatergic L4 IT VISp Rspo1</td>\n",
       "    </tr>\n",
       "    <tr>\n",
       "      <th>SQ-80004_S44_E1-50</th>\n",
       "      <td>Glutamatergic</td>\n",
       "      <td>L4 IT VISp Rspo1</td>\n",
       "      <td>Glutamatergic L4</td>\n",
       "      <td>Glutamatergic L4 IT VISp Rspo1</td>\n",
       "    </tr>\n",
       "  </tbody>\n",
       "</table>\n",
       "<p>1401 rows × 4 columns</p>\n",
       "</div>"
      ],
      "text/plain": [
       "                       class_label     cluster_label       group_label  \\\n",
       "sample_id                                                                \n",
       "LS-14690_S03_E1-50   Glutamatergic  L4 IT VISp Rspo1  Glutamatergic L4   \n",
       "LS-14690_S05_E1-50   Glutamatergic  L4 IT VISp Rspo1  Glutamatergic L4   \n",
       "LS-14690_S06_E1-50   Glutamatergic  L4 IT VISp Rspo1  Glutamatergic L4   \n",
       "LS-14690_S07_E1-50   Glutamatergic  L4 IT VISp Rspo1  Glutamatergic L4   \n",
       "LS-14690_S08_E1-50   Glutamatergic  L4 IT VISp Rspo1  Glutamatergic L4   \n",
       "...                            ...               ...               ...   \n",
       "SM-GE91H_S343_E1-50  Glutamatergic  L4 IT VISp Rspo1  Glutamatergic L4   \n",
       "SM-GE91H_S344_E1-50  Glutamatergic  L4 IT VISp Rspo1  Glutamatergic L4   \n",
       "SM-GE91H_S362_E1-50  Glutamatergic  L4 IT VISp Rspo1  Glutamatergic L4   \n",
       "SQ-80001_S12_E1-50   Glutamatergic  L4 IT VISp Rspo1  Glutamatergic L4   \n",
       "SQ-80004_S44_E1-50   Glutamatergic  L4 IT VISp Rspo1  Glutamatergic L4   \n",
       "\n",
       "                                      mapping_label  \n",
       "sample_id                                            \n",
       "LS-14690_S03_E1-50   Glutamatergic L4 IT VISp Rspo1  \n",
       "LS-14690_S05_E1-50   Glutamatergic L4 IT VISp Rspo1  \n",
       "LS-14690_S06_E1-50   Glutamatergic L4 IT VISp Rspo1  \n",
       "LS-14690_S07_E1-50   Glutamatergic L4 IT VISp Rspo1  \n",
       "LS-14690_S08_E1-50   Glutamatergic L4 IT VISp Rspo1  \n",
       "...                                             ...  \n",
       "SM-GE91H_S343_E1-50  Glutamatergic L4 IT VISp Rspo1  \n",
       "SM-GE91H_S344_E1-50  Glutamatergic L4 IT VISp Rspo1  \n",
       "SM-GE91H_S362_E1-50  Glutamatergic L4 IT VISp Rspo1  \n",
       "SQ-80001_S12_E1-50   Glutamatergic L4 IT VISp Rspo1  \n",
       "SQ-80004_S44_E1-50   Glutamatergic L4 IT VISp Rspo1  \n",
       "\n",
       "[1401 rows x 4 columns]"
      ]
     },
     "execution_count": 282,
     "metadata": {},
     "output_type": "execute_result"
    }
   ],
   "source": [
    "L4_exc = annotation[(annotation.class_label==\"Glutamatergic\") & annotation.cluster_label.str.startswith('L4')]\n",
    "L4_exc[['class_label', 'cluster_label', 'group_label', 'mapping_label']]"
   ]
  },
  {
   "cell_type": "code",
   "execution_count": 283,
   "metadata": {},
   "outputs": [
    {
     "name": "stdout",
     "output_type": "stream",
     "text": [
      "['Glutamatergic L4']\n",
      "['Glutamatergic L4 IT VISp Rspo1']\n"
     ]
    }
   ],
   "source": [
    "print(L4_exc.group_label.unique())\n",
    "print(L4_exc.mapping_label.unique())"
   ]
  },
  {
   "cell_type": "code",
   "execution_count": 284,
   "metadata": {},
   "outputs": [
    {
     "data": {
      "text/html": [
       "<div>\n",
       "<style scoped>\n",
       "    .dataframe tbody tr th:only-of-type {\n",
       "        vertical-align: middle;\n",
       "    }\n",
       "\n",
       "    .dataframe tbody tr th {\n",
       "        vertical-align: top;\n",
       "    }\n",
       "\n",
       "    .dataframe thead th {\n",
       "        text-align: right;\n",
       "    }\n",
       "</style>\n",
       "<table border=\"1\" class=\"dataframe\">\n",
       "  <thead>\n",
       "    <tr style=\"text-align: right;\">\n",
       "      <th></th>\n",
       "      <th>class_label</th>\n",
       "      <th>cluster_label</th>\n",
       "      <th>group_label</th>\n",
       "      <th>mapping_label</th>\n",
       "    </tr>\n",
       "    <tr>\n",
       "      <th>sample_id</th>\n",
       "      <th></th>\n",
       "      <th></th>\n",
       "      <th></th>\n",
       "      <th></th>\n",
       "    </tr>\n",
       "  </thead>\n",
       "  <tbody>\n",
       "    <tr>\n",
       "      <th>LS-14690_S17_E1-50</th>\n",
       "      <td>Glutamatergic</td>\n",
       "      <td>L5 NP VISp Trhr Cpne7</td>\n",
       "      <td>Glutamatergic L5 Glutamatergic</td>\n",
       "      <td>Glutamatergic L5 NP VISp Trhr Cpne7</td>\n",
       "    </tr>\n",
       "    <tr>\n",
       "      <th>LS-14690_S20_E1-50</th>\n",
       "      <td>Glutamatergic</td>\n",
       "      <td>L5 IT VISp Hsd11b1 Endou</td>\n",
       "      <td>Glutamatergic L5 Glutamatergic</td>\n",
       "      <td>Glutamatergic L5 IT VISp Hsd11b1 Endou</td>\n",
       "    </tr>\n",
       "    <tr>\n",
       "      <th>LS-14690_S26_E1-50</th>\n",
       "      <td>Glutamatergic</td>\n",
       "      <td>L5 NP VISp Trhr Met</td>\n",
       "      <td>Glutamatergic L5 Glutamatergic</td>\n",
       "      <td>Glutamatergic L5 NP VISp Trhr Met</td>\n",
       "    </tr>\n",
       "    <tr>\n",
       "      <th>LS-14690_S30_E1-50</th>\n",
       "      <td>Glutamatergic</td>\n",
       "      <td>L5 NP VISp Trhr Cpne7</td>\n",
       "      <td>Glutamatergic L5 Glutamatergic</td>\n",
       "      <td>Glutamatergic L5 NP VISp Trhr Cpne7</td>\n",
       "    </tr>\n",
       "    <tr>\n",
       "      <th>LS-14690_S31_E1-50</th>\n",
       "      <td>Glutamatergic</td>\n",
       "      <td>L5 IT VISp Batf3</td>\n",
       "      <td>Glutamatergic L5 Glutamatergic</td>\n",
       "      <td>Glutamatergic L5 IT VISp Batf3</td>\n",
       "    </tr>\n",
       "    <tr>\n",
       "      <th>...</th>\n",
       "      <td>...</td>\n",
       "      <td>...</td>\n",
       "      <td>...</td>\n",
       "      <td>...</td>\n",
       "    </tr>\n",
       "    <tr>\n",
       "      <th>SM-GE91H_S364_E1-50</th>\n",
       "      <td>Glutamatergic</td>\n",
       "      <td>L5 IT VISp Col6a1 Fezf2</td>\n",
       "      <td>Glutamatergic L5 Glutamatergic</td>\n",
       "      <td>Glutamatergic L5 IT VISp Col6a1 Fezf2</td>\n",
       "    </tr>\n",
       "    <tr>\n",
       "      <th>SM-GE91H_S365_E1-50</th>\n",
       "      <td>Glutamatergic</td>\n",
       "      <td>L5 IT VISp Batf3</td>\n",
       "      <td>Glutamatergic L5 Glutamatergic</td>\n",
       "      <td>Glutamatergic L5 IT VISp Batf3</td>\n",
       "    </tr>\n",
       "    <tr>\n",
       "      <th>SM-GE91H_S366_E1-50</th>\n",
       "      <td>Glutamatergic</td>\n",
       "      <td>L5 IT VISp Batf3</td>\n",
       "      <td>Glutamatergic L5 Glutamatergic</td>\n",
       "      <td>Glutamatergic L5 IT VISp Batf3</td>\n",
       "    </tr>\n",
       "    <tr>\n",
       "      <th>SM-GE91H_S367_E1-50</th>\n",
       "      <td>Glutamatergic</td>\n",
       "      <td>L5 IT VISp Batf3</td>\n",
       "      <td>Glutamatergic L5 Glutamatergic</td>\n",
       "      <td>Glutamatergic L5 IT VISp Batf3</td>\n",
       "    </tr>\n",
       "    <tr>\n",
       "      <th>SQ-80001_S13_E1-50</th>\n",
       "      <td>Glutamatergic</td>\n",
       "      <td>L5 NP VISp Trhr Met</td>\n",
       "      <td>Glutamatergic L5 Glutamatergic</td>\n",
       "      <td>Glutamatergic L5 NP VISp Trhr Met</td>\n",
       "    </tr>\n",
       "  </tbody>\n",
       "</table>\n",
       "<p>1778 rows × 4 columns</p>\n",
       "</div>"
      ],
      "text/plain": [
       "                       class_label             cluster_label  \\\n",
       "sample_id                                                      \n",
       "LS-14690_S17_E1-50   Glutamatergic     L5 NP VISp Trhr Cpne7   \n",
       "LS-14690_S20_E1-50   Glutamatergic  L5 IT VISp Hsd11b1 Endou   \n",
       "LS-14690_S26_E1-50   Glutamatergic       L5 NP VISp Trhr Met   \n",
       "LS-14690_S30_E1-50   Glutamatergic     L5 NP VISp Trhr Cpne7   \n",
       "LS-14690_S31_E1-50   Glutamatergic          L5 IT VISp Batf3   \n",
       "...                            ...                       ...   \n",
       "SM-GE91H_S364_E1-50  Glutamatergic   L5 IT VISp Col6a1 Fezf2   \n",
       "SM-GE91H_S365_E1-50  Glutamatergic          L5 IT VISp Batf3   \n",
       "SM-GE91H_S366_E1-50  Glutamatergic          L5 IT VISp Batf3   \n",
       "SM-GE91H_S367_E1-50  Glutamatergic          L5 IT VISp Batf3   \n",
       "SQ-80001_S13_E1-50   Glutamatergic       L5 NP VISp Trhr Met   \n",
       "\n",
       "                                        group_label  \\\n",
       "sample_id                                             \n",
       "LS-14690_S17_E1-50   Glutamatergic L5 Glutamatergic   \n",
       "LS-14690_S20_E1-50   Glutamatergic L5 Glutamatergic   \n",
       "LS-14690_S26_E1-50   Glutamatergic L5 Glutamatergic   \n",
       "LS-14690_S30_E1-50   Glutamatergic L5 Glutamatergic   \n",
       "LS-14690_S31_E1-50   Glutamatergic L5 Glutamatergic   \n",
       "...                                             ...   \n",
       "SM-GE91H_S364_E1-50  Glutamatergic L5 Glutamatergic   \n",
       "SM-GE91H_S365_E1-50  Glutamatergic L5 Glutamatergic   \n",
       "SM-GE91H_S366_E1-50  Glutamatergic L5 Glutamatergic   \n",
       "SM-GE91H_S367_E1-50  Glutamatergic L5 Glutamatergic   \n",
       "SQ-80001_S13_E1-50   Glutamatergic L5 Glutamatergic   \n",
       "\n",
       "                                              mapping_label  \n",
       "sample_id                                                    \n",
       "LS-14690_S17_E1-50      Glutamatergic L5 NP VISp Trhr Cpne7  \n",
       "LS-14690_S20_E1-50   Glutamatergic L5 IT VISp Hsd11b1 Endou  \n",
       "LS-14690_S26_E1-50        Glutamatergic L5 NP VISp Trhr Met  \n",
       "LS-14690_S30_E1-50      Glutamatergic L5 NP VISp Trhr Cpne7  \n",
       "LS-14690_S31_E1-50           Glutamatergic L5 IT VISp Batf3  \n",
       "...                                                     ...  \n",
       "SM-GE91H_S364_E1-50   Glutamatergic L5 IT VISp Col6a1 Fezf2  \n",
       "SM-GE91H_S365_E1-50          Glutamatergic L5 IT VISp Batf3  \n",
       "SM-GE91H_S366_E1-50          Glutamatergic L5 IT VISp Batf3  \n",
       "SM-GE91H_S367_E1-50          Glutamatergic L5 IT VISp Batf3  \n",
       "SQ-80001_S13_E1-50        Glutamatergic L5 NP VISp Trhr Met  \n",
       "\n",
       "[1778 rows x 4 columns]"
      ]
     },
     "execution_count": 284,
     "metadata": {},
     "output_type": "execute_result"
    }
   ],
   "source": [
    "L5_exc = annotation[(annotation.class_label==\"Glutamatergic\") & (annotation.cluster_label.str.startswith('L5') | annotation.cluster_label.str.startswith('NP'))]\n",
    "L5_exc[['class_label', 'cluster_label', 'group_label', 'mapping_label']]"
   ]
  },
  {
   "cell_type": "code",
   "execution_count": 285,
   "metadata": {},
   "outputs": [
    {
     "name": "stdout",
     "output_type": "stream",
     "text": [
      "['Glutamatergic L5 Glutamatergic']\n",
      "['Glutamatergic L5 NP VISp Trhr Cpne7'\n",
      " 'Glutamatergic L5 IT VISp Hsd11b1 Endou'\n",
      " 'Glutamatergic L5 NP VISp Trhr Met' 'Glutamatergic L5 IT VISp Batf3'\n",
      " 'Glutamatergic L5 IT VISp Col27a1' 'Glutamatergic L5 PT VISp Krt80'\n",
      " 'Glutamatergic L5 IT VISp Whrn Tox2'\n",
      " 'Glutamatergic L5 PT VISp C1ql2 Ptgfr' 'Glutamatergic L5 PT VISp Chrna6'\n",
      " 'Glutamatergic L5 IT VISp Col6a1 Fezf2'\n",
      " 'Glutamatergic L5 PT VISp C1ql2 Cdh13' 'Glutamatergic L5 PT VISp Lgr5']\n"
     ]
    }
   ],
   "source": [
    "print(L5_exc.group_label.unique())\n",
    "print(L5_exc.mapping_label.unique())"
   ]
  },
  {
   "cell_type": "code",
   "execution_count": 286,
   "metadata": {},
   "outputs": [
    {
     "data": {
      "text/html": [
       "<div>\n",
       "<style scoped>\n",
       "    .dataframe tbody tr th:only-of-type {\n",
       "        vertical-align: middle;\n",
       "    }\n",
       "\n",
       "    .dataframe tbody tr th {\n",
       "        vertical-align: top;\n",
       "    }\n",
       "\n",
       "    .dataframe thead th {\n",
       "        text-align: right;\n",
       "    }\n",
       "</style>\n",
       "<table border=\"1\" class=\"dataframe\">\n",
       "  <thead>\n",
       "    <tr style=\"text-align: right;\">\n",
       "      <th></th>\n",
       "      <th>class_label</th>\n",
       "      <th>cluster_label</th>\n",
       "      <th>group_label</th>\n",
       "      <th>mapping_label</th>\n",
       "    </tr>\n",
       "    <tr>\n",
       "      <th>sample_id</th>\n",
       "      <th></th>\n",
       "      <th></th>\n",
       "      <th></th>\n",
       "      <th></th>\n",
       "    </tr>\n",
       "  </thead>\n",
       "  <tbody>\n",
       "    <tr>\n",
       "      <th>LS-14690_S34_E1-50</th>\n",
       "      <td>Glutamatergic</td>\n",
       "      <td>L6 CT VISp Ctxn3 Brinp3</td>\n",
       "      <td>Glutamatergic L6 CT</td>\n",
       "      <td>Glutamatergic L6 CT VISp Ctxn3 Brinp3</td>\n",
       "    </tr>\n",
       "    <tr>\n",
       "      <th>LS-14690_S35_E1-50</th>\n",
       "      <td>Glutamatergic</td>\n",
       "      <td>L6 IT VISp Penk Col27a1</td>\n",
       "      <td>Glutamatergic L6 IT</td>\n",
       "      <td>Glutamatergic L6 IT VISp Penk Col27a1</td>\n",
       "    </tr>\n",
       "    <tr>\n",
       "      <th>LS-14690_S36_E1-50</th>\n",
       "      <td>Glutamatergic</td>\n",
       "      <td>L6 CT VISp Ctxn3 Brinp3</td>\n",
       "      <td>Glutamatergic L6 CT</td>\n",
       "      <td>Glutamatergic L6 CT VISp Ctxn3 Brinp3</td>\n",
       "    </tr>\n",
       "    <tr>\n",
       "      <th>LS-14690_S38_E1-50</th>\n",
       "      <td>Glutamatergic</td>\n",
       "      <td>L6 IT VISp Col23a1 Adamts2</td>\n",
       "      <td>Glutamatergic L6 IT</td>\n",
       "      <td>Glutamatergic L6 IT VISp Col23a1 Adamts2</td>\n",
       "    </tr>\n",
       "    <tr>\n",
       "      <th>LS-14690_S40_E1-50</th>\n",
       "      <td>Glutamatergic</td>\n",
       "      <td>L6 IT VISp Penk Col27a1</td>\n",
       "      <td>Glutamatergic L6 IT</td>\n",
       "      <td>Glutamatergic L6 IT VISp Penk Col27a1</td>\n",
       "    </tr>\n",
       "    <tr>\n",
       "      <th>...</th>\n",
       "      <td>...</td>\n",
       "      <td>...</td>\n",
       "      <td>...</td>\n",
       "      <td>...</td>\n",
       "    </tr>\n",
       "    <tr>\n",
       "      <th>SM-GE8ZL_S112_E1-50</th>\n",
       "      <td>Glutamatergic</td>\n",
       "      <td>L6 CT VISp Nxph2 Wls</td>\n",
       "      <td>Glutamatergic L6 CT</td>\n",
       "      <td>Glutamatergic L6 CT VISp Nxph2 Wls</td>\n",
       "    </tr>\n",
       "    <tr>\n",
       "      <th>SM-GE8ZL_S176_E1-50</th>\n",
       "      <td>Glutamatergic</td>\n",
       "      <td>L6 IT VISp Penk Col27a1</td>\n",
       "      <td>Glutamatergic L6 IT</td>\n",
       "      <td>Glutamatergic L6 IT VISp Penk Col27a1</td>\n",
       "    </tr>\n",
       "    <tr>\n",
       "      <th>SM-GE8ZO_S035_E1-50</th>\n",
       "      <td>Glutamatergic</td>\n",
       "      <td>L6 CT VISp Ctxn3 Brinp3</td>\n",
       "      <td>Glutamatergic L6 CT</td>\n",
       "      <td>Glutamatergic L6 CT VISp Ctxn3 Brinp3</td>\n",
       "    </tr>\n",
       "    <tr>\n",
       "      <th>SM-GE91H_S368_E1-50</th>\n",
       "      <td>Glutamatergic</td>\n",
       "      <td>L6 IT VISp Penk Col27a1</td>\n",
       "      <td>Glutamatergic L6 IT</td>\n",
       "      <td>Glutamatergic L6 IT VISp Penk Col27a1</td>\n",
       "    </tr>\n",
       "    <tr>\n",
       "      <th>SQ-80001_S26_E1-50</th>\n",
       "      <td>Glutamatergic</td>\n",
       "      <td>L6 CT VISp Ctxn3 Sla</td>\n",
       "      <td>Glutamatergic L6 CT</td>\n",
       "      <td>Glutamatergic L6 CT VISp Ctxn3 Sla</td>\n",
       "    </tr>\n",
       "  </tbody>\n",
       "</table>\n",
       "<p>3186 rows × 4 columns</p>\n",
       "</div>"
      ],
      "text/plain": [
       "                       class_label               cluster_label  \\\n",
       "sample_id                                                        \n",
       "LS-14690_S34_E1-50   Glutamatergic     L6 CT VISp Ctxn3 Brinp3   \n",
       "LS-14690_S35_E1-50   Glutamatergic     L6 IT VISp Penk Col27a1   \n",
       "LS-14690_S36_E1-50   Glutamatergic     L6 CT VISp Ctxn3 Brinp3   \n",
       "LS-14690_S38_E1-50   Glutamatergic  L6 IT VISp Col23a1 Adamts2   \n",
       "LS-14690_S40_E1-50   Glutamatergic     L6 IT VISp Penk Col27a1   \n",
       "...                            ...                         ...   \n",
       "SM-GE8ZL_S112_E1-50  Glutamatergic        L6 CT VISp Nxph2 Wls   \n",
       "SM-GE8ZL_S176_E1-50  Glutamatergic     L6 IT VISp Penk Col27a1   \n",
       "SM-GE8ZO_S035_E1-50  Glutamatergic     L6 CT VISp Ctxn3 Brinp3   \n",
       "SM-GE91H_S368_E1-50  Glutamatergic     L6 IT VISp Penk Col27a1   \n",
       "SQ-80001_S26_E1-50   Glutamatergic        L6 CT VISp Ctxn3 Sla   \n",
       "\n",
       "                             group_label  \\\n",
       "sample_id                                  \n",
       "LS-14690_S34_E1-50   Glutamatergic L6 CT   \n",
       "LS-14690_S35_E1-50   Glutamatergic L6 IT   \n",
       "LS-14690_S36_E1-50   Glutamatergic L6 CT   \n",
       "LS-14690_S38_E1-50   Glutamatergic L6 IT   \n",
       "LS-14690_S40_E1-50   Glutamatergic L6 IT   \n",
       "...                                  ...   \n",
       "SM-GE8ZL_S112_E1-50  Glutamatergic L6 CT   \n",
       "SM-GE8ZL_S176_E1-50  Glutamatergic L6 IT   \n",
       "SM-GE8ZO_S035_E1-50  Glutamatergic L6 CT   \n",
       "SM-GE91H_S368_E1-50  Glutamatergic L6 IT   \n",
       "SQ-80001_S26_E1-50   Glutamatergic L6 CT   \n",
       "\n",
       "                                                mapping_label  \n",
       "sample_id                                                      \n",
       "LS-14690_S34_E1-50      Glutamatergic L6 CT VISp Ctxn3 Brinp3  \n",
       "LS-14690_S35_E1-50      Glutamatergic L6 IT VISp Penk Col27a1  \n",
       "LS-14690_S36_E1-50      Glutamatergic L6 CT VISp Ctxn3 Brinp3  \n",
       "LS-14690_S38_E1-50   Glutamatergic L6 IT VISp Col23a1 Adamts2  \n",
       "LS-14690_S40_E1-50      Glutamatergic L6 IT VISp Penk Col27a1  \n",
       "...                                                       ...  \n",
       "SM-GE8ZL_S112_E1-50        Glutamatergic L6 CT VISp Nxph2 Wls  \n",
       "SM-GE8ZL_S176_E1-50     Glutamatergic L6 IT VISp Penk Col27a1  \n",
       "SM-GE8ZO_S035_E1-50     Glutamatergic L6 CT VISp Ctxn3 Brinp3  \n",
       "SM-GE91H_S368_E1-50     Glutamatergic L6 IT VISp Penk Col27a1  \n",
       "SQ-80001_S26_E1-50         Glutamatergic L6 CT VISp Ctxn3 Sla  \n",
       "\n",
       "[3186 rows x 4 columns]"
      ]
     },
     "execution_count": 286,
     "metadata": {},
     "output_type": "execute_result"
    }
   ],
   "source": [
    "L6_exc = annotation[(annotation.class_label==\"Glutamatergic\") & annotation.cluster_label.str.startswith('L6')]\n",
    "L6_exc[['class_label', 'cluster_label', 'group_label', 'mapping_label']]"
   ]
  },
  {
   "cell_type": "code",
   "execution_count": 287,
   "metadata": {},
   "outputs": [
    {
     "name": "stdout",
     "output_type": "stream",
     "text": [
      "['Glutamatergic L6 CT' 'Glutamatergic L6 IT' 'Glutamatergic L6b']\n",
      "['Glutamatergic L6 CT VISp Ctxn3 Brinp3'\n",
      " 'Glutamatergic L6 IT VISp Penk Col27a1'\n",
      " 'Glutamatergic L6 IT VISp Col23a1 Adamts2'\n",
      " 'Glutamatergic L6 IT VISp Col18a1' 'Glutamatergic L6 IT VISp Penk Fst'\n",
      " 'Glutamatergic L6 IT VISp Car3' 'Glutamatergic L6 CT VISp Ctxn3 Sla'\n",
      " 'Glutamatergic L6 CT VISp Krt80 Sla' 'Glutamatergic L6b P2ry12'\n",
      " 'Glutamatergic L6 CT VISp Nxph2 Wls' 'Glutamatergic L6 CT VISp Gpr139'\n",
      " 'Glutamatergic L6b VISp Mup5' 'Glutamatergic L6b Col8a1 Rprm'\n",
      " 'Glutamatergic L6 CT Nxph2 Sla' 'Glutamatergic L6b VISp Col8a1 Rxfp1'\n",
      " 'Glutamatergic L6b VISp Crh' 'Glutamatergic L6b Hsd17b2']\n"
     ]
    }
   ],
   "source": [
    "print(L6_exc.group_label.unique())\n",
    "print(L6_exc.mapping_label.unique())"
   ]
  },
  {
   "cell_type": "code",
   "execution_count": 288,
   "metadata": {},
   "outputs": [
    {
     "data": {
      "text/plain": [
       "array(['GABAergic Pvalb Tpbg', 'GABAergic Vip Chat Htr1f',\n",
       "       'GABAergic Lamp5 Lsp1', 'GABAergic Sst Hpse Sema3c',\n",
       "       'GABAergic Vip Pygm C1ql1', 'GABAergic Vip Ptprt Pkp2',\n",
       "       'GABAergic Vip Igfbp4 Mab21l1', 'GABAergic Sst Chodl',\n",
       "       'GABAergic Lamp5 Ntn1 Npy2r', 'GABAergic Vip Igfbp6 Car10',\n",
       "       'GABAergic Vip Crispld2 Kcne4', 'GABAergic Vip Igfbp6 Pltp',\n",
       "       'GABAergic L5 GABAergic', 'GABAergic Pvalb Reln Itm2a',\n",
       "       'GABAergic Vip Lmo1 Myl1', 'GABAergic Vip Crispld2 Htr2c',\n",
       "       'GABAergic Lamp5 Plch2 Dock5', 'GABAergic Vip Col15a1 Pde1a',\n",
       "       'GABAergic Vip Rspo4 Rxfp1 Chat',\n",
       "       'GABAergic Lamp5 Fam19a1 Tmem182', 'GABAergic Lamp5 Fam19a1 Pax6',\n",
       "       'GABAergic Vip Arhgap36 Hmcn1', 'GABAergic Sncg Vip Itih5',\n",
       "       'GABAergic Lamp5 Lhx6', 'GABAergic Sncg Slc17a8',\n",
       "       'GABAergic Sncg Vip Nptx2', 'GABAergic Pvalb Vipr2',\n",
       "       'GABAergic Lamp5 Krt73', 'GABAergic Serpinf1 Aqp5 Vip',\n",
       "       'GABAergic Sst Calb2 Pdlim5', 'GABAergic Sst Nts',\n",
       "       'GABAergic Sst Mme Fam114a1', 'GABAergic Sst Hpse Cbln4',\n",
       "       'GABAergic Vip Lect1 Oxtr', 'GABAergic Sst Tac1 Htr1d',\n",
       "       'GABAergic Sncg Gpr50', 'GABAergic Vip Rspo1 Itga4',\n",
       "       'GABAergic Sst Crh 4930553C11Rik ', 'GABAergic Sst Tac1 Tacr3',\n",
       "       'GABAergic Sst Calb2 Necab1'], dtype=object)"
      ]
     },
     "execution_count": 288,
     "metadata": {},
     "output_type": "execute_result"
    }
   ],
   "source": [
    "annotation[annotation.class_label==\"GABAergic\"].group_label.unique()"
   ]
  },
  {
   "cell_type": "code",
   "execution_count": 289,
   "metadata": {},
   "outputs": [
    {
     "data": {
      "text/plain": [
       "array(['GABAergic Pvalb Tpbg', 'GABAergic Vip Chat Htr1f',\n",
       "       'GABAergic Lamp5 Lsp1', 'GABAergic Sst Hpse Sema3c',\n",
       "       'GABAergic Vip Pygm C1ql1', 'GABAergic Vip Ptprt Pkp2',\n",
       "       'GABAergic Vip Igfbp4 Mab21l1', 'GABAergic Sst Chodl',\n",
       "       'GABAergic Lamp5 Ntn1 Npy2r', 'GABAergic Vip Igfbp6 Car10',\n",
       "       'GABAergic Vip Crispld2 Kcne4', 'GABAergic Vip Igfbp6 Pltp',\n",
       "       'GABAergic Vip Gpc3 Slc18a3', 'GABAergic Pvalb Reln Itm2a',\n",
       "       'GABAergic Vip Lmo1 Myl1', 'GABAergic Vip Crispld2 Htr2c',\n",
       "       'GABAergic Lamp5 Plch2 Dock5', 'GABAergic Vip Col15a1 Pde1a',\n",
       "       'GABAergic Pvalb Gabrg1', 'GABAergic Vip Rspo4 Rxfp1 Chat',\n",
       "       'GABAergic Lamp5 Fam19a1 Tmem182', 'GABAergic Lamp5 Fam19a1 Pax6',\n",
       "       'GABAergic Sst Chrna2 Ptgdr', 'GABAergic Pvalb Reln Tac1',\n",
       "       'GABAergic Vip Arhgap36 Hmcn1', 'GABAergic Pvalb Calb1 Sst',\n",
       "       'GABAergic Sst Rxfp1 Prdm8', 'GABAergic Pvalb Th Sst',\n",
       "       'GABAergic Sst Nr2f2 Necab1', 'GABAergic Sst Myh8 Etv1 ',\n",
       "       'GABAergic Sst Rxfp1 Eya1', 'GABAergic Sst Chrna2 Glra3',\n",
       "       'GABAergic Sncg Vip Itih5', 'GABAergic Sst Tac2 Tacstd2',\n",
       "       'GABAergic Sst Esm1', 'GABAergic Lamp5 Lhx6',\n",
       "       'GABAergic Sncg Slc17a8', 'GABAergic Sncg Vip Nptx2',\n",
       "       'GABAergic Pvalb Vipr2', 'GABAergic Lamp5 Krt73',\n",
       "       'GABAergic Serpinf1 Aqp5 Vip', 'GABAergic Sst Myh8 Fibin',\n",
       "       'GABAergic Serpinf1 Clrn1', 'GABAergic Sst Calb2 Pdlim5',\n",
       "       'GABAergic Vip Lmo1 Fam159b', 'GABAergic Sst Nts',\n",
       "       'GABAergic Sst Mme Fam114a1', 'GABAergic Sst Hpse Cbln4',\n",
       "       'GABAergic Vip Lect1 Oxtr', 'GABAergic Sst Tac1 Htr1d',\n",
       "       'GABAergic Sncg Gpr50', 'GABAergic Vip Rspo1 Itga4',\n",
       "       'GABAergic Sst Crh 4930553C11Rik ', 'GABAergic Sst Crhr2 Efemp1',\n",
       "       'GABAergic Sst Tac1 Tacr3', 'GABAergic Sst Tac2 Myh4',\n",
       "       'GABAergic Pvalb Akr1c18 Ntf3', 'GABAergic Meis2 Adamts19',\n",
       "       'GABAergic Sst Calb2 Necab1', 'GABAergic Pvalb Gpr149 Islr',\n",
       "       'GABAergic Pvalb Sema3e Kank4'], dtype=object)"
      ]
     },
     "execution_count": 289,
     "metadata": {},
     "output_type": "execute_result"
    }
   ],
   "source": [
    "annotation[annotation.class_label==\"GABAergic\"].mapping_label.unique()"
   ]
  },
  {
   "cell_type": "code",
   "execution_count": 290,
   "metadata": {},
   "outputs": [
    {
     "data": {
      "text/plain": [
       "['Glutamatergic L4',\n",
       " 'Glutamatergic L2/3 IT',\n",
       " 'GABAergic Pvalb Tpbg',\n",
       " 'GABAergic Vip Chat Htr1f',\n",
       " 'GABAergic Lamp5 Lsp1',\n",
       " 'GABAergic Sst Hpse Sema3c',\n",
       " 'GABAergic Vip Pygm C1ql1',\n",
       " 'GABAergic Vip Ptprt Pkp2',\n",
       " 'GABAergic Vip Igfbp4 Mab21l1',\n",
       " 'GABAergic Sst Chodl',\n",
       " 'GABAergic Lamp5 Ntn1 Npy2r',\n",
       " 'GABAergic Vip Igfbp6 Car10',\n",
       " 'GABAergic Vip Crispld2 Kcne4',\n",
       " 'GABAergic Vip Igfbp6 Pltp',\n",
       " 'GABAergic Pvalb Reln Itm2a',\n",
       " 'GABAergic Vip Lmo1 Myl1',\n",
       " 'GABAergic Vip Crispld2 Htr2c',\n",
       " 'GABAergic Lamp5 Plch2 Dock5',\n",
       " 'GABAergic Vip Col15a1 Pde1a',\n",
       " 'GABAergic Vip Rspo4 Rxfp1 Chat',\n",
       " 'GABAergic Lamp5 Fam19a1 Tmem182',\n",
       " 'GABAergic Lamp5 Fam19a1 Pax6',\n",
       " 'GABAergic Vip Arhgap36 Hmcn1',\n",
       " 'GABAergic Sncg Vip Itih5',\n",
       " 'GABAergic Lamp5 Lhx6',\n",
       " 'GABAergic Sncg Slc17a8',\n",
       " 'GABAergic Sncg Vip Nptx2',\n",
       " 'GABAergic Pvalb Vipr2',\n",
       " 'GABAergic Lamp5 Krt73',\n",
       " 'GABAergic Serpinf1 Aqp5 Vip',\n",
       " 'GABAergic Sst Calb2 Pdlim5',\n",
       " 'GABAergic Sst Mme Fam114a1',\n",
       " 'GABAergic Sst Hpse Cbln4',\n",
       " 'GABAergic Vip Lect1 Oxtr',\n",
       " 'GABAergic Sst Tac1 Htr1d',\n",
       " 'GABAergic Sncg Gpr50',\n",
       " 'GABAergic Vip Rspo1 Itga4',\n",
       " 'GABAergic Sst Tac1 Tacr3',\n",
       " 'GABAergic Sst Calb2 Necab1']"
      ]
     },
     "execution_count": 290,
     "metadata": {},
     "output_type": "execute_result"
    }
   ],
   "source": [
    "keep_groups"
   ]
  },
  {
   "cell_type": "code",
   "execution_count": 291,
   "metadata": {},
   "outputs": [
    {
     "data": {
      "text/plain": [
       "['Glutamatergic L4 IT VISp Rspo1',\n",
       " 'Glutamatergic L2/3 IT VISp Agmat',\n",
       " 'Glutamatergic L2/3 IT VISp Adamts2',\n",
       " 'Glutamatergic L2/3 IT VISp Rrad',\n",
       " 'GABAergic Pvalb Tpbg',\n",
       " 'GABAergic Vip Chat Htr1f',\n",
       " 'GABAergic Lamp5 Lsp1',\n",
       " 'GABAergic Sst Hpse Sema3c',\n",
       " 'GABAergic Vip Pygm C1ql1',\n",
       " 'GABAergic Vip Ptprt Pkp2',\n",
       " 'GABAergic Vip Igfbp4 Mab21l1',\n",
       " 'GABAergic Sst Chodl',\n",
       " 'GABAergic Lamp5 Ntn1 Npy2r',\n",
       " 'GABAergic Vip Igfbp6 Car10',\n",
       " 'GABAergic Vip Crispld2 Kcne4',\n",
       " 'GABAergic Vip Igfbp6 Pltp',\n",
       " 'GABAergic Pvalb Reln Itm2a',\n",
       " 'GABAergic Vip Lmo1 Myl1',\n",
       " 'GABAergic Vip Crispld2 Htr2c',\n",
       " 'GABAergic Lamp5 Plch2 Dock5',\n",
       " 'GABAergic Vip Col15a1 Pde1a',\n",
       " 'GABAergic Vip Rspo4 Rxfp1 Chat',\n",
       " 'GABAergic Lamp5 Fam19a1 Tmem182',\n",
       " 'GABAergic Lamp5 Fam19a1 Pax6',\n",
       " 'GABAergic Vip Arhgap36 Hmcn1',\n",
       " 'GABAergic Sncg Vip Itih5',\n",
       " 'GABAergic Lamp5 Lhx6',\n",
       " 'GABAergic Sncg Slc17a8',\n",
       " 'GABAergic Sncg Vip Nptx2',\n",
       " 'GABAergic Pvalb Vipr2',\n",
       " 'GABAergic Lamp5 Krt73',\n",
       " 'GABAergic Serpinf1 Aqp5 Vip',\n",
       " 'GABAergic Sst Calb2 Pdlim5',\n",
       " 'GABAergic Sst Mme Fam114a1',\n",
       " 'GABAergic Sst Hpse Cbln4',\n",
       " 'GABAergic Vip Lect1 Oxtr',\n",
       " 'GABAergic Sst Tac1 Htr1d',\n",
       " 'GABAergic Sncg Gpr50',\n",
       " 'GABAergic Vip Rspo1 Itga4',\n",
       " 'GABAergic Sst Tac1 Tacr3',\n",
       " 'GABAergic Sst Calb2 Necab1']"
      ]
     },
     "execution_count": 291,
     "metadata": {},
     "output_type": "execute_result"
    }
   ],
   "source": [
    "keep_mappings"
   ]
  },
  {
   "cell_type": "code",
   "execution_count": 292,
   "metadata": {},
   "outputs": [
    {
     "data": {
      "text/plain": [
       "['Glutamatergic L5 Glutamatergic', 'GABAergic L5 GABAergic']"
      ]
     },
     "execution_count": 292,
     "metadata": {},
     "output_type": "execute_result"
    }
   ],
   "source": [
    "other_groups"
   ]
  },
  {
   "cell_type": "code",
   "execution_count": 293,
   "metadata": {},
   "outputs": [
    {
     "data": {
      "text/plain": [
       "['Glutamatergic L5 NP VISp Trhr Cpne7',\n",
       " 'Glutamatergic L5 IT VISp Hsd11b1 Endou',\n",
       " 'Glutamatergic L5 NP VISp Trhr Met',\n",
       " 'Glutamatergic L5 IT VISp Batf3',\n",
       " 'Glutamatergic L5 IT VISp Col27a1',\n",
       " 'Glutamatergic L5 PT VISp Krt80',\n",
       " 'Glutamatergic L5 IT VISp Whrn Tox2',\n",
       " 'Glutamatergic L5 PT VISp C1ql2 Ptgfr',\n",
       " 'Glutamatergic L5 PT VISp Chrna6',\n",
       " 'Glutamatergic L5 IT VISp Col6a1 Fezf2',\n",
       " 'Glutamatergic L5 PT VISp C1ql2 Cdh13',\n",
       " 'Glutamatergic L5 PT VISp Lgr5',\n",
       " 'GABAergic Vip Gpc3 Slc18a3',\n",
       " 'GABAergic Pvalb Gabrg1',\n",
       " 'GABAergic Sst Chrna2 Ptgdr',\n",
       " 'GABAergic Pvalb Reln Tac1',\n",
       " 'GABAergic Pvalb Calb1 Sst',\n",
       " 'GABAergic Sst Rxfp1 Prdm8',\n",
       " 'GABAergic Pvalb Th Sst',\n",
       " 'GABAergic Sst Nr2f2 Necab1',\n",
       " 'GABAergic Sst Myh8 Etv1 ',\n",
       " 'GABAergic Sst Rxfp1 Eya1',\n",
       " 'GABAergic Sst Chrna2 Glra3',\n",
       " 'GABAergic Sst Tac2 Tacstd2',\n",
       " 'GABAergic Sst Esm1',\n",
       " 'GABAergic Sst Myh8 Fibin',\n",
       " 'GABAergic Serpinf1 Clrn1',\n",
       " 'GABAergic Vip Lmo1 Fam159b',\n",
       " 'GABAergic Sst Crhr2 Efemp1',\n",
       " 'GABAergic Sst Tac2 Myh4',\n",
       " 'GABAergic Pvalb Akr1c18 Ntf3',\n",
       " 'GABAergic Meis2 Adamts19',\n",
       " 'GABAergic Pvalb Gpr149 Islr',\n",
       " 'GABAergic Pvalb Sema3e Kank4']"
      ]
     },
     "execution_count": 293,
     "metadata": {},
     "output_type": "execute_result"
    }
   ],
   "source": [
    "other_mappings"
   ]
  },
  {
   "cell_type": "code",
   "execution_count": 294,
   "metadata": {},
   "outputs": [],
   "source": [
    "assert np.all([og in annotation.group_label.unique() for og in other_groups])\n",
    "assert np.all([om in annotation.mapping_label.unique() for om in other_mappings])\n",
    "assert np.all([kg in annotation.group_label.unique() for kg in keep_groups])\n",
    "assert np.all([km in annotation.mapping_label.unique() for km in keep_mappings])"
   ]
  },
  {
   "cell_type": "code",
   "execution_count": 295,
   "metadata": {},
   "outputs": [
    {
     "data": {
      "text/plain": [
       "{'GABAergic Sst Crh 4930553C11Rik ',\n",
       " 'GABAergic Sst Nts',\n",
       " 'Glutamatergic CR',\n",
       " 'Glutamatergic L6 CT',\n",
       " 'Glutamatergic L6 IT',\n",
       " 'Glutamatergic L6b',\n",
       " 'nan'}"
      ]
     },
     "execution_count": 295,
     "metadata": {},
     "output_type": "execute_result"
    }
   ],
   "source": [
    "set(annotation.group_label.unique()).difference(other_groups + keep_groups)"
   ]
  },
  {
   "cell_type": "code",
   "execution_count": 296,
   "metadata": {},
   "outputs": [
    {
     "data": {
      "text/plain": [
       "{'Astro Aqp4',\n",
       " 'Endo Ctla2a',\n",
       " 'Endo Cytl1',\n",
       " 'GABAergic Sst Crh 4930553C11Rik ',\n",
       " 'GABAergic Sst Nts',\n",
       " 'Glutamatergic CR Lhx5',\n",
       " 'Glutamatergic L6 CT Nxph2 Sla',\n",
       " 'Glutamatergic L6 CT VISp Ctxn3 Brinp3',\n",
       " 'Glutamatergic L6 CT VISp Ctxn3 Sla',\n",
       " 'Glutamatergic L6 CT VISp Gpr139',\n",
       " 'Glutamatergic L6 CT VISp Krt80 Sla',\n",
       " 'Glutamatergic L6 CT VISp Nxph2 Wls',\n",
       " 'Glutamatergic L6 IT VISp Car3',\n",
       " 'Glutamatergic L6 IT VISp Col18a1',\n",
       " 'Glutamatergic L6 IT VISp Col23a1 Adamts2',\n",
       " 'Glutamatergic L6 IT VISp Penk Col27a1',\n",
       " 'Glutamatergic L6 IT VISp Penk Fst',\n",
       " 'Glutamatergic L6b Col8a1 Rprm',\n",
       " 'Glutamatergic L6b Hsd17b2',\n",
       " 'Glutamatergic L6b P2ry12',\n",
       " 'Glutamatergic L6b VISp Col8a1 Rxfp1',\n",
       " 'Glutamatergic L6b VISp Crh',\n",
       " 'Glutamatergic L6b VISp Mup5',\n",
       " 'Microglia Siglech',\n",
       " 'OPC Pdgfra Ccnb1',\n",
       " 'OPC Pdgfra Grm5',\n",
       " 'Oligo Rassf10',\n",
       " 'Oligo Serpinb1a',\n",
       " 'Oligo Synpr',\n",
       " 'PVM Mrc1',\n",
       " 'Peri Kcnj8',\n",
       " 'SMC Acta2',\n",
       " 'VLMC Osr1 Cd74',\n",
       " 'VLMC Osr1 Mc5r',\n",
       " 'VLMC Spp1 Col15a1',\n",
       " 'VLMC Spp1 Hs3st6'}"
      ]
     },
     "execution_count": 296,
     "metadata": {},
     "output_type": "execute_result"
    }
   ],
   "source": [
    "set(annotation.mapping_label.unique()).difference(other_mappings + keep_mappings)"
   ]
  },
  {
   "cell_type": "markdown",
   "metadata": {},
   "source": [
    "# Filtering setting done\n"
   ]
  },
  {
   "cell_type": "markdown",
   "metadata": {},
   "source": [
    "# - Now address random seed issue\n",
    "- Divide on_cluster_mapping and on_cluster_group\n",
    "    - Filtering is based on mapping labels\n",
    "- Use on_cluster_mapping for initial mapping, and use on_cluster_group for classification performance calculation\n",
    "- Iternate multiple times (100) for one gene addition\n",
    "    - Try multiprocessing"
   ]
  },
  {
   "cell_type": "code",
   "execution_count": 298,
   "metadata": {},
   "outputs": [],
   "source": [
    "\n",
    "# calculate proportions and medians for mapping labels and for group labels\n",
    "expr_thresh = 1\n",
    "# make data_log2 to have another level of columns with matching cluster names per cell ID\n",
    "tpm_log2_cluster = tpm_log2.copy().T\n",
    "gene_column_names = list(tpm_log2_cluster.columns)\n",
    "assert np.all(tpm_log2.columns == annotation.index.values)\n",
    "# groupby cluster and calculate median and proportion\n",
    "tpm_log2_cluster['mapping_label'] = annotation['mapping_label']\n",
    "tpm_log2_cluster['group_label'] = annotation['group_label']\n",
    "tpm_median_per_mapping = tpm_log2_cluster[gene_column_names + ['mapping_label']].groupby('mapping_label').median().T\n",
    "tpm_prop_expr_mapping = tpm_log2_cluster[gene_column_names + ['mapping_label']].groupby('mapping_label').apply(lambda x: (x > expr_thresh).mean(axis=0)).T\n",
    "tpm_median_per_group = tpm_log2_cluster[gene_column_names + ['group_label']].groupby('group_label').median().T\n",
    "tpm_prop_expr_group = tpm_log2_cluster[gene_column_names + ['group_label']].groupby('group_label').apply(lambda x: (x > expr_thresh).mean(axis=0)).T\n",
    "assert np.all(tpm_prop_expr_mapping.index.values == tpm_median_per_mapping.index.values)\n",
    "assert np.all(tpm_prop_expr_group.index.values == tpm_median_per_group.index.values)\n",
    "assert np.all(tpm_prop_expr_mapping.index.values == tpm_log2.index.values)\n",
    "assert np.all(tpm_prop_expr_group.index.values == tpm_log2.index.values)"
   ]
  },
  {
   "cell_type": "code",
   "execution_count": 299,
   "metadata": {},
   "outputs": [],
   "source": [
    "# calculate proportions and medians for mapping labels and for group labels\n",
    "expr_thresh = 1\n",
    "# make data_log2 to have another level of columns with matching cluster names per cell ID\n",
    "cpm_log2_cluster = cpm_log2.copy().T\n",
    "gene_column_names = list(cpm_log2_cluster.columns)\n",
    "assert np.all(cpm_log2.columns == annotation.index.values)\n",
    "# groupby cluster and calculate median and proportion\n",
    "cpm_log2_cluster['mapping_label'] = annotation['mapping_label']\n",
    "cpm_log2_cluster['group_label'] = annotation['group_label']\n",
    "cpm_median_per_mapping = cpm_log2_cluster[gene_column_names + ['mapping_label']].groupby('mapping_label').median().T\n",
    "cpm_prop_expr_mapping = cpm_log2_cluster[gene_column_names + ['mapping_label']].groupby('mapping_label').apply(lambda x: (x > expr_thresh).mean(axis=0)).T\n",
    "cpm_median_per_group = cpm_log2_cluster[gene_column_names + ['group_label']].groupby('group_label').median().T\n",
    "cpm_prop_expr_group = cpm_log2_cluster[gene_column_names + ['group_label']].groupby('group_label').apply(lambda x: (x > expr_thresh).mean(axis=0)).T\n",
    "assert np.all(cpm_prop_expr_mapping.index.values == cpm_median_per_mapping.index.values)\n",
    "assert np.all(cpm_prop_expr_group.index.values == cpm_median_per_group.index.values)\n",
    "assert np.all(cpm_prop_expr_mapping.index.values == cpm_log2.index.values)\n",
    "assert np.all(cpm_prop_expr_group.index.values == cpm_log2.index.values)"
   ]
  },
  {
   "cell_type": "code",
   "execution_count": 302,
   "metadata": {},
   "outputs": [
    {
     "data": {
      "text/plain": [
       "Index(['Astro Aqp4', 'Endo Ctla2a', 'Endo Cytl1',\n",
       "       'GABAergic Lamp5 Fam19a1 Pax6', 'GABAergic Lamp5 Fam19a1 Tmem182',\n",
       "       'GABAergic Lamp5 Krt73', 'GABAergic Lamp5 Lhx6', 'GABAergic Lamp5 Lsp1',\n",
       "       'GABAergic Lamp5 Ntn1 Npy2r', 'GABAergic Lamp5 Plch2 Dock5',\n",
       "       ...\n",
       "       'Oligo Rassf10', 'Oligo Serpinb1a', 'Oligo Synpr', 'PVM Mrc1',\n",
       "       'Peri Kcnj8', 'SMC Acta2', 'VLMC Osr1 Cd74', 'VLMC Osr1 Mc5r',\n",
       "       'VLMC Spp1 Col15a1', 'VLMC Spp1 Hs3st6'],\n",
       "      dtype='object', name='mapping_label', length=111)"
      ]
     },
     "execution_count": 302,
     "metadata": {},
     "output_type": "execute_result"
    }
   ],
   "source": [
    "tpm_prop_expr_mapping.columns"
   ]
  },
  {
   "cell_type": "code",
   "execution_count": 303,
   "metadata": {},
   "outputs": [
    {
     "name": "stdout",
     "output_type": "stream",
     "text": [
      "Data memory 0.04 GB\n"
     ]
    }
   ],
   "source": [
    "print(f'Data memory {sys.getsizeof(prop_expr_mapping) / 1e9:.2f} GB')"
   ]
  },
  {
   "cell_type": "code",
   "execution_count": 199,
   "metadata": {},
   "outputs": [],
   "source": [
    "gene_info_df = pd.read_feather(data_folder / 'gene_info.feather')"
   ]
  },
  {
   "cell_type": "code",
   "execution_count": 201,
   "metadata": {},
   "outputs": [
    {
     "data": {
      "text/html": [
       "<div>\n",
       "<style scoped>\n",
       "    .dataframe tbody tr th:only-of-type {\n",
       "        vertical-align: middle;\n",
       "    }\n",
       "\n",
       "    .dataframe tbody tr th {\n",
       "        vertical-align: top;\n",
       "    }\n",
       "\n",
       "    .dataframe thead th {\n",
       "        text-align: right;\n",
       "    }\n",
       "</style>\n",
       "<table border=\"1\" class=\"dataframe\">\n",
       "  <thead>\n",
       "    <tr style=\"text-align: right;\">\n",
       "      <th></th>\n",
       "      <th>gene_id</th>\n",
       "      <th>chromosome</th>\n",
       "      <th>gene_entrez_id</th>\n",
       "      <th>gene_name</th>\n",
       "      <th>exon_length</th>\n",
       "    </tr>\n",
       "    <tr>\n",
       "      <th>gene_symbol</th>\n",
       "      <th></th>\n",
       "      <th></th>\n",
       "      <th></th>\n",
       "      <th></th>\n",
       "      <th></th>\n",
       "    </tr>\n",
       "  </thead>\n",
       "  <tbody>\n",
       "    <tr>\n",
       "      <th>0610005C13Rik</th>\n",
       "      <td>500717483</td>\n",
       "      <td>7</td>\n",
       "      <td>71661</td>\n",
       "      <td>RIKEN cDNA 0610005C13 gene</td>\n",
       "      <td>1122</td>\n",
       "    </tr>\n",
       "    <tr>\n",
       "      <th>0610006L08Rik</th>\n",
       "      <td>500717917</td>\n",
       "      <td>7</td>\n",
       "      <td>76253</td>\n",
       "      <td>RIKEN cDNA 0610006L08 gene</td>\n",
       "      <td>1131</td>\n",
       "    </tr>\n",
       "    <tr>\n",
       "      <th>0610007P14Rik</th>\n",
       "      <td>500730104</td>\n",
       "      <td>12</td>\n",
       "      <td>58520</td>\n",
       "      <td>RIKEN cDNA 0610007P14 gene</td>\n",
       "      <td>1569</td>\n",
       "    </tr>\n",
       "    <tr>\n",
       "      <th>0610009B22Rik</th>\n",
       "      <td>500726890</td>\n",
       "      <td>11</td>\n",
       "      <td>66050</td>\n",
       "      <td>RIKEN cDNA 0610009B22 gene</td>\n",
       "      <td>1425</td>\n",
       "    </tr>\n",
       "    <tr>\n",
       "      <th>0610009E02Rik</th>\n",
       "      <td>500702775</td>\n",
       "      <td>2</td>\n",
       "      <td>100125929</td>\n",
       "      <td>RIKEN cDNA 0610009E02 gene</td>\n",
       "      <td>1643</td>\n",
       "    </tr>\n",
       "  </tbody>\n",
       "</table>\n",
       "</div>"
      ],
      "text/plain": [
       "                 gene_id chromosome  gene_entrez_id  \\\n",
       "gene_symbol                                           \n",
       "0610005C13Rik  500717483          7           71661   \n",
       "0610006L08Rik  500717917          7           76253   \n",
       "0610007P14Rik  500730104         12           58520   \n",
       "0610009B22Rik  500726890         11           66050   \n",
       "0610009E02Rik  500702775          2       100125929   \n",
       "\n",
       "                                gene_name  exon_length  \n",
       "gene_symbol                                             \n",
       "0610005C13Rik  RIKEN cDNA 0610005C13 gene         1122  \n",
       "0610006L08Rik  RIKEN cDNA 0610006L08 gene         1131  \n",
       "0610007P14Rik  RIKEN cDNA 0610007P14 gene         1569  \n",
       "0610009B22Rik  RIKEN cDNA 0610009B22 gene         1425  \n",
       "0610009E02Rik  RIKEN cDNA 0610009E02 gene         1643  "
      ]
     },
     "execution_count": 201,
     "metadata": {},
     "output_type": "execute_result"
    }
   ],
   "source": [
    "gene_info_df.set_index('gene_symbol', inplace=True, drop=True)\n",
    "gene_info_df.head()"
   ]
  },
  {
   "cell_type": "code",
   "execution_count": 266,
   "metadata": {},
   "outputs": [
    {
     "data": {
      "image/png": "[encoded data removed]",
      "text/plain": [
       "<Figure size 1300x600 with 6 Axes>"
      ]
     },
     "metadata": {},
     "output_type": "display_data"
    }
   ],
   "source": [
    "gene_name_list = ['Sst', 'Vip', 'Tac1', 'Slc17a7', 'Gad2', 'Pvalb']\n",
    "fig, ax = plt.subplots(2, 3, figsize=(13,6), sharex=True, sharey=True)\n",
    "for i in range(len(gene_name_list)):\n",
    "    gene_name = gene_name_list[i]\n",
    "    exon_length = gene_info_df.loc[gene_name, 'exon_length']\n",
    "    # ax[i//3, i%3].hist(tpm_median_per_mapping.loc[gene_name], bins=np.linspace(0,20,40), alpha=0.5, label='TPM');\n",
    "    # ax[i//3, i%3].hist(cpm_median_per_mapping.loc[gene_name], bins=np.linspace(0,20,40), alpha=0.5, label='CPM');\n",
    "    ax[i//3, i%3].hist(tpm_data.loc[gene_name], bins=np.logspace(0,7,100), alpha=0.5, label='TPM');\n",
    "    ax[i//3, i%3].hist(cpm_data.loc[gene_name], bins=np.logspace(0,7,100), alpha=0.5, label='CPM');\n",
    "    ax[i//3, i%3].set_title(f'{gene_name} (exon length={exon_length})')\n",
    "    ax[i//3, i%3].legend()\n",
    "    ax[i//3, i%3].set_xscale('log')\n",
    "    ax[i//3, i%3].set_xlabel('Expression')\n",
    "    ax[i//3, i%3].set_ylabel('Count')\n",
    "fig.tight_layout()\n"
   ]
  },
  {
   "cell_type": "markdown",
   "metadata": {},
   "source": [
    "## Testing threshold\n",
    "- for later"
   ]
  },
  {
   "cell_type": "code",
   "execution_count": 253,
   "metadata": {},
   "outputs": [
    {
     "data": {
      "image/png": "[encoded data removed]",
      "text/plain": [
       "<Figure size 1300x600 with 6 Axes>"
      ]
     },
     "metadata": {},
     "output_type": "display_data"
    }
   ],
   "source": [
    "gene_name_list = ['Sst', 'Vip', 'Tac1', 'Slc17a7', 'Gad2', 'Pvalb']\n",
    "fig, ax = plt.subplots(2, 3, figsize=(13,6), sharex=True, sharey=True)\n",
    "for i in range(len(gene_name_list)):\n",
    "    gene_name = gene_name_list[i]\n",
    "    exon_length = gene_info_df.loc[gene_name, 'exon_length']\n",
    "    # ax[i//3, i%3].hist(tpm_median_per_mapping.loc[gene_name], bins=np.linspace(0,20,40), alpha=0.5, label='TPM');\n",
    "    # ax[i//3, i%3].hist(cpm_median_per_mapping.loc[gene_name], bins=np.linspace(0,20,40), alpha=0.5, label='CPM');\n",
    "    ax[i//3, i%3].hist(tpm_median_per_mapping.loc[gene_name], bins=np.linspace(1,20,20), alpha=0.5, label='TPM');\n",
    "    ax[i//3, i%3].hist(cpm_median_per_mapping.loc[gene_name], bins=np.linspace(1,20,20), alpha=0.5, label='CPM');\n",
    "    ax[i//3, i%3].set_title(f'{gene_name} (exon length={exon_length})')\n",
    "    ax[i//3, i%3].legend()\n",
    "    ax[i//3, i%3].set_xlabel('Median expression per cluster (log2)')\n",
    "    ax[i//3, i%3].set_ylabel('Count')\n",
    "fig.tight_layout()"
   ]
  },
  {
   "cell_type": "code",
   "execution_count": 265,
   "metadata": {},
   "outputs": [
    {
     "data": {
      "image/png": "[encoded data removed]",
      "text/plain": [
       "<Figure size 1300x600 with 6 Axes>"
      ]
     },
     "metadata": {},
     "output_type": "display_data"
    }
   ],
   "source": [
    "tpm_summary_data = 2**tpm_median_per_mapping - 1\n",
    "cpm_summary_data = 2**cpm_median_per_mapping - 1\n",
    "gene_name_list = ['Sst', 'Vip', 'Tac1', 'Slc17a7', 'Gad2', 'Pvalb']\n",
    "fig, ax = plt.subplots(2, 3, figsize=(13,6), sharex=True, sharey=True)\n",
    "for i in range(len(gene_name_list)):\n",
    "    gene_name = gene_name_list[i]\n",
    "    exon_length = gene_info_df.loc[gene_name, 'exon_length']\n",
    "    # ax[i//3, i%3].hist(tpm_summary_data.loc[gene_name], alpha=0.5, label='TPM');\n",
    "    # ax[i//3, i%3].hist(cpm_summary_data.loc[gene_name], alpha=0.5, label='CPM');\n",
    "    ax[i//3, i%3].hist(tpm_summary_data.loc[gene_name], bins=np.logspace(0,6,100), alpha=0.5, label='TPM');\n",
    "    ax[i//3, i%3].hist(cpm_summary_data.loc[gene_name], bins=np.logspace(0,6,100), alpha=0.5, label='CPM');\n",
    "    ax[i//3, i%3].set_title(f'{gene_name} (exon length={exon_length})')\n",
    "    ax[i//3, i%3].axvline(250, color='r', label='max threshold')\n",
    "    ax[i//3, i%3].legend()\n",
    "    ax[i//3, i%3].set_xscale('log')\n",
    "    ax[i//3, i%3].set_xlabel('Median expression per cluster')\n",
    "    ax[i//3, i%3].set_ylabel('Count')\n",
    "fig.tight_layout()"
   ]
  },
  {
   "cell_type": "code",
   "execution_count": 263,
   "metadata": {},
   "outputs": [
    {
     "data": {
      "image/png": "[encoded data removed]",
      "text/plain": [
       "<Figure size 1300x600 with 6 Axes>"
      ]
     },
     "metadata": {},
     "output_type": "display_data"
    }
   ],
   "source": [
    "# For those selected from the previous run (with the default filtering parameters)\n",
    "tpm_summary_data = 2**tpm_median_per_mapping - 1\n",
    "cpm_summary_data = 2**cpm_median_per_mapping - 1\n",
    "gene_name_list = ['Nkain3', 'Oprm1', 'Slc44a5', 'Htr1f', 'Tpbg', 'Ngf']\n",
    "fig, ax = plt.subplots(2, 3, figsize=(13,6), sharex=True, sharey=True)\n",
    "for i in range(len(gene_name_list)):\n",
    "    gene_name = gene_name_list[i]\n",
    "    exon_length = gene_info_df.loc[gene_name, 'exon_length']\n",
    "    # ax[i//3, i%3].hist(tpm_summary_data.loc[gene_name], alpha=0.5, label='TPM');\n",
    "    # ax[i//3, i%3].hist(cpm_summary_data.loc[gene_name], alpha=0.5, label='CPM');\n",
    "    ax[i//3, i%3].hist(tpm_summary_data.loc[gene_name], bins=np.logspace(0,6,100), alpha=0.5, label='TPM');\n",
    "    ax[i//3, i%3].hist(cpm_summary_data.loc[gene_name], bins=np.logspace(0,6,100), alpha=0.5, label='CPM');\n",
    "    ax[i//3, i%3].set_title(f'{gene_name} (exon length={exon_length})')\n",
    "    ax[i//3, i%3].axvline(250, color='r', label='max threshold')\n",
    "    ax[i//3, i%3].legend()\n",
    "    ax[i//3, i%3].set_xscale('log')\n",
    "    ax[i//3, i%3].set_xlabel('Median expression per cluster')\n",
    "    ax[i//3, i%3].set_ylabel('Count')\n",
    "fig.tight_layout()"
   ]
  },
  {
   "cell_type": "markdown",
   "metadata": {},
   "source": [
    "## conclusion\n",
    "- We can use tpm distribution with probe validation data (spot-countability) for thresholding\n",
    "- For now use 5,000 as default for max_on (when using TPM)"
   ]
  },
  {
   "cell_type": "code",
   "execution_count": 305,
   "metadata": {},
   "outputs": [
    {
     "data": {
      "text/plain": [
       "<module 'mfishtools' from 'c:\\\\Users\\\\jinho.kim\\\\Github\\\\lamf_analysis_lims\\\\gene_panel_selection\\\\mfishtoolspy\\\\mfishtools.py'>"
      ]
     },
     "execution_count": 305,
     "metadata": {},
     "output_type": "execute_result"
    }
   ],
   "source": [
    "reload(mfishtools)"
   ]
  },
  {
   "cell_type": "code",
   "execution_count": 345,
   "metadata": {},
   "outputs": [
    {
     "name": "stdout",
     "output_type": "stream",
     "text": [
      "2015 total genes pass constraints prior to binary score calculation.\n"
     ]
    }
   ],
   "source": [
    "tpm_summary_data = 2**tpm_median_per_mapping - 1\n",
    "run_genes, filtered_out_genes = \\\n",
    "    mfishtools.filter_panel_genes(tpm_summary_data,\n",
    "                                  prop_expr=tpm_prop_expr_mapping,\n",
    "                                  on_clusters=keep_mappings + other_mappings,\n",
    "                                  starting_genes=ops['starting_genes'],\n",
    "                                  off_clusters=list(annotation.query('class_label==\"Non-Neuronal\"').mapping_label.unique()),\n",
    "                                  max_on=ops['max_on'],\n",
    "                                  max_off=ops['max_off'])"
   ]
  },
  {
   "cell_type": "code",
   "execution_count": 569,
   "metadata": {},
   "outputs": [],
   "source": []
  },
  {
   "cell_type": "code",
   "execution_count": 315,
   "metadata": {},
   "outputs": [],
   "source": [
    "mapping_to_group = annotation.loc[:, ['mapping_label', 'group_label']].drop_duplicates().set_index('mapping_label').loc[keep_mappings + other_mappings]"
   ]
  },
  {
   "cell_type": "code",
   "execution_count": 317,
   "metadata": {},
   "outputs": [
    {
     "data": {
      "text/plain": [
       "array(['GABAergic Lamp5 Lhx6', 'GABAergic Vip Lmo1 Myl1',\n",
       "       'GABAergic Pvalb Reln Itm2a', 'GABAergic Vip Igfbp6 Pltp',\n",
       "       'GABAergic Pvalb Reln Tac1', 'Glutamatergic L5 NP VISp Trhr Cpne7',\n",
       "       'GABAergic Vip Arhgap36 Hmcn1', 'GABAergic Sst Hpse Sema3c',\n",
       "       'GABAergic Vip Lect1 Oxtr', 'GABAergic Sst Tac1 Tacr3',\n",
       "       'GABAergic Sst Chrna2 Glra3', 'GABAergic Vip Crispld2 Htr2c',\n",
       "       'GABAergic Sst Myh8 Etv1 ', 'GABAergic Vip Crispld2 Kcne4',\n",
       "       'Glutamatergic L5 PT VISp Lgr5', 'GABAergic Pvalb Calb1 Sst',\n",
       "       'GABAergic Sst Rxfp1 Eya1', 'GABAergic Vip Crispld2 Kcne4',\n",
       "       'GABAergic Sst Tac1 Tacr3', 'GABAergic Vip Lect1 Oxtr',\n",
       "       'GABAergic Sst Chodl', 'GABAergic Pvalb Sema3e Kank4',\n",
       "       'GABAergic Pvalb Tpbg', 'GABAergic Pvalb Reln Itm2a',\n",
       "       'GABAergic Lamp5 Lsp1', 'GABAergic Serpinf1 Clrn1',\n",
       "       'GABAergic Serpinf1 Clrn1', 'Glutamatergic L5 IT VISp Col27a1',\n",
       "       'GABAergic Sncg Gpr50', 'GABAergic Sst Myh8 Fibin'], dtype=object)"
      ]
     },
     "execution_count": 317,
     "metadata": {},
     "output_type": "execute_result"
    }
   ],
   "source": [
    "keep_ml_temp = np.random.choice(mapping_to_group.index.values, 30, replace=True)\n",
    "keep_ml_temp"
   ]
  },
  {
   "cell_type": "code",
   "execution_count": 324,
   "metadata": {},
   "outputs": [
    {
     "data": {
      "text/html": [
       "<div>\n",
       "<style scoped>\n",
       "    .dataframe tbody tr th:only-of-type {\n",
       "        vertical-align: middle;\n",
       "    }\n",
       "\n",
       "    .dataframe tbody tr th {\n",
       "        vertical-align: top;\n",
       "    }\n",
       "\n",
       "    .dataframe thead th {\n",
       "        text-align: right;\n",
       "    }\n",
       "</style>\n",
       "<table border=\"1\" class=\"dataframe\">\n",
       "  <thead>\n",
       "    <tr style=\"text-align: right;\">\n",
       "      <th></th>\n",
       "      <th>cl</th>\n",
       "      <th>genes_label</th>\n",
       "      <th>confusion_label</th>\n",
       "      <th>cl_cor_label</th>\n",
       "      <th>core_int_label</th>\n",
       "      <th>primary_cluster_label</th>\n",
       "      <th>secondary_cluster_label</th>\n",
       "      <th>donor_label</th>\n",
       "      <th>genotype_label</th>\n",
       "      <th>reporter_label</th>\n",
       "      <th>...</th>\n",
       "      <th>lrcluster_color</th>\n",
       "      <th>lf_cluster_id</th>\n",
       "      <th>lf_cluster_label</th>\n",
       "      <th>lf_cluster_color</th>\n",
       "      <th>dendcluster_label</th>\n",
       "      <th>dendcluster_id</th>\n",
       "      <th>dendcluster_color</th>\n",
       "      <th>cluster_id</th>\n",
       "      <th>group_label</th>\n",
       "      <th>mapping_label</th>\n",
       "    </tr>\n",
       "    <tr>\n",
       "      <th>sample_id</th>\n",
       "      <th></th>\n",
       "      <th></th>\n",
       "      <th></th>\n",
       "      <th></th>\n",
       "      <th></th>\n",
       "      <th></th>\n",
       "      <th></th>\n",
       "      <th></th>\n",
       "      <th></th>\n",
       "      <th></th>\n",
       "      <th></th>\n",
       "      <th></th>\n",
       "      <th></th>\n",
       "      <th></th>\n",
       "      <th></th>\n",
       "      <th></th>\n",
       "      <th></th>\n",
       "      <th></th>\n",
       "      <th></th>\n",
       "      <th></th>\n",
       "      <th></th>\n",
       "    </tr>\n",
       "  </thead>\n",
       "  <tbody>\n",
       "    <tr>\n",
       "      <th>LS-14690_S02_E1-50</th>\n",
       "      <td>57.0</td>\n",
       "      <td>8537.0</td>\n",
       "      <td>0.342841</td>\n",
       "      <td>0.851554</td>\n",
       "      <td>core</td>\n",
       "      <td>Pvalb Tpbg</td>\n",
       "      <td>Low Quality Sst Chodl</td>\n",
       "      <td>222454</td>\n",
       "      <td>Snap25-IRES2-Cre/wt;Ai14(RCL-tdT)/wt</td>\n",
       "      <td>Ai14(RCL-tdT)</td>\n",
       "      <td>...</td>\n",
       "      <td>#AF3F64</td>\n",
       "      <td>59.0</td>\n",
       "      <td>59 Pvalb Tpbg</td>\n",
       "      <td>#AF3F64</td>\n",
       "      <td>Pvalb Tpbg</td>\n",
       "      <td>114</td>\n",
       "      <td>#AF3F64</td>\n",
       "      <td>59</td>\n",
       "      <td>GABAergic Pvalb Tpbg</td>\n",
       "      <td>GABAergic Pvalb Tpbg</td>\n",
       "    </tr>\n",
       "    <tr>\n",
       "      <th>LS-14690_S03_E1-50</th>\n",
       "      <td>69.0</td>\n",
       "      <td>8106.0</td>\n",
       "      <td>0.030707</td>\n",
       "      <td>0.844934</td>\n",
       "      <td>core</td>\n",
       "      <td>L4 IT VISp Rspo1</td>\n",
       "      <td>Low Quality Sst Chodl</td>\n",
       "      <td>222454</td>\n",
       "      <td>Snap25-IRES2-Cre/wt;Ai14(RCL-tdT)/wt</td>\n",
       "      <td>Ai14(RCL-tdT)</td>\n",
       "      <td>...</td>\n",
       "      <td>#00979D</td>\n",
       "      <td>70.0</td>\n",
       "      <td>70 L4 IT VISp Rspo1</td>\n",
       "      <td>#00979D</td>\n",
       "      <td>L4 IT VISp Rspo1</td>\n",
       "      <td>7</td>\n",
       "      <td>#00979D</td>\n",
       "      <td>64</td>\n",
       "      <td>Glutamatergic L4</td>\n",
       "      <td>Glutamatergic L4 IT VISp Rspo1</td>\n",
       "    </tr>\n",
       "    <tr>\n",
       "      <th>LS-14690_S05_E1-50</th>\n",
       "      <td>69.0</td>\n",
       "      <td>8779.0</td>\n",
       "      <td>0.109306</td>\n",
       "      <td>0.841516</td>\n",
       "      <td>core</td>\n",
       "      <td>L4 IT VISp Rspo1</td>\n",
       "      <td>Low Quality Sst Chodl</td>\n",
       "      <td>222454</td>\n",
       "      <td>Snap25-IRES2-Cre/wt;Ai14(RCL-tdT)/wt</td>\n",
       "      <td>Ai14(RCL-tdT)</td>\n",
       "      <td>...</td>\n",
       "      <td>#00979D</td>\n",
       "      <td>70.0</td>\n",
       "      <td>70 L4 IT VISp Rspo1</td>\n",
       "      <td>#00979D</td>\n",
       "      <td>L4 IT VISp Rspo1</td>\n",
       "      <td>7</td>\n",
       "      <td>#00979D</td>\n",
       "      <td>64</td>\n",
       "      <td>Glutamatergic L4</td>\n",
       "      <td>Glutamatergic L4 IT VISp Rspo1</td>\n",
       "    </tr>\n",
       "    <tr>\n",
       "      <th>LS-14690_S06_E1-50</th>\n",
       "      <td>69.0</td>\n",
       "      <td>8494.0</td>\n",
       "      <td>0.033539</td>\n",
       "      <td>0.864382</td>\n",
       "      <td>core</td>\n",
       "      <td>L4 IT VISp Rspo1</td>\n",
       "      <td>Low Quality Sst Chodl</td>\n",
       "      <td>222454</td>\n",
       "      <td>Snap25-IRES2-Cre/wt;Ai14(RCL-tdT)/wt</td>\n",
       "      <td>Ai14(RCL-tdT)</td>\n",
       "      <td>...</td>\n",
       "      <td>#00979D</td>\n",
       "      <td>70.0</td>\n",
       "      <td>70 L4 IT VISp Rspo1</td>\n",
       "      <td>#00979D</td>\n",
       "      <td>L4 IT VISp Rspo1</td>\n",
       "      <td>7</td>\n",
       "      <td>#00979D</td>\n",
       "      <td>64</td>\n",
       "      <td>Glutamatergic L4</td>\n",
       "      <td>Glutamatergic L4 IT VISp Rspo1</td>\n",
       "    </tr>\n",
       "    <tr>\n",
       "      <th>LS-14690_S07_E1-50</th>\n",
       "      <td>69.0</td>\n",
       "      <td>7562.0</td>\n",
       "      <td>0.036388</td>\n",
       "      <td>0.795118</td>\n",
       "      <td>core</td>\n",
       "      <td>L4 IT VISp Rspo1</td>\n",
       "      <td>Low Quality Sst Chodl</td>\n",
       "      <td>222454</td>\n",
       "      <td>Snap25-IRES2-Cre/wt;Ai14(RCL-tdT)/wt</td>\n",
       "      <td>Ai14(RCL-tdT)</td>\n",
       "      <td>...</td>\n",
       "      <td>#00979D</td>\n",
       "      <td>70.0</td>\n",
       "      <td>70 L4 IT VISp Rspo1</td>\n",
       "      <td>#00979D</td>\n",
       "      <td>L4 IT VISp Rspo1</td>\n",
       "      <td>7</td>\n",
       "      <td>#00979D</td>\n",
       "      <td>64</td>\n",
       "      <td>Glutamatergic L4</td>\n",
       "      <td>Glutamatergic L4 IT VISp Rspo1</td>\n",
       "    </tr>\n",
       "  </tbody>\n",
       "</table>\n",
       "<p>5 rows × 153 columns</p>\n",
       "</div>"
      ],
      "text/plain": [
       "                      cl  genes_label  confusion_label  cl_cor_label  \\\n",
       "sample_id                                                              \n",
       "LS-14690_S02_E1-50  57.0       8537.0         0.342841      0.851554   \n",
       "LS-14690_S03_E1-50  69.0       8106.0         0.030707      0.844934   \n",
       "LS-14690_S05_E1-50  69.0       8779.0         0.109306      0.841516   \n",
       "LS-14690_S06_E1-50  69.0       8494.0         0.033539      0.864382   \n",
       "LS-14690_S07_E1-50  69.0       7562.0         0.036388      0.795118   \n",
       "\n",
       "                   core_int_label primary_cluster_label  \\\n",
       "sample_id                                                 \n",
       "LS-14690_S02_E1-50           core            Pvalb Tpbg   \n",
       "LS-14690_S03_E1-50           core      L4 IT VISp Rspo1   \n",
       "LS-14690_S05_E1-50           core      L4 IT VISp Rspo1   \n",
       "LS-14690_S06_E1-50           core      L4 IT VISp Rspo1   \n",
       "LS-14690_S07_E1-50           core      L4 IT VISp Rspo1   \n",
       "\n",
       "                   secondary_cluster_label donor_label  \\\n",
       "sample_id                                                \n",
       "LS-14690_S02_E1-50   Low Quality Sst Chodl      222454   \n",
       "LS-14690_S03_E1-50   Low Quality Sst Chodl      222454   \n",
       "LS-14690_S05_E1-50   Low Quality Sst Chodl      222454   \n",
       "LS-14690_S06_E1-50   Low Quality Sst Chodl      222454   \n",
       "LS-14690_S07_E1-50   Low Quality Sst Chodl      222454   \n",
       "\n",
       "                                          genotype_label reporter_label  ...  \\\n",
       "sample_id                                                                ...   \n",
       "LS-14690_S02_E1-50  Snap25-IRES2-Cre/wt;Ai14(RCL-tdT)/wt  Ai14(RCL-tdT)  ...   \n",
       "LS-14690_S03_E1-50  Snap25-IRES2-Cre/wt;Ai14(RCL-tdT)/wt  Ai14(RCL-tdT)  ...   \n",
       "LS-14690_S05_E1-50  Snap25-IRES2-Cre/wt;Ai14(RCL-tdT)/wt  Ai14(RCL-tdT)  ...   \n",
       "LS-14690_S06_E1-50  Snap25-IRES2-Cre/wt;Ai14(RCL-tdT)/wt  Ai14(RCL-tdT)  ...   \n",
       "LS-14690_S07_E1-50  Snap25-IRES2-Cre/wt;Ai14(RCL-tdT)/wt  Ai14(RCL-tdT)  ...   \n",
       "\n",
       "                   lrcluster_color lf_cluster_id     lf_cluster_label  \\\n",
       "sample_id                                                               \n",
       "LS-14690_S02_E1-50         #AF3F64          59.0        59 Pvalb Tpbg   \n",
       "LS-14690_S03_E1-50         #00979D          70.0  70 L4 IT VISp Rspo1   \n",
       "LS-14690_S05_E1-50         #00979D          70.0  70 L4 IT VISp Rspo1   \n",
       "LS-14690_S06_E1-50         #00979D          70.0  70 L4 IT VISp Rspo1   \n",
       "LS-14690_S07_E1-50         #00979D          70.0  70 L4 IT VISp Rspo1   \n",
       "\n",
       "                   lf_cluster_color dendcluster_label dendcluster_id  \\\n",
       "sample_id                                                              \n",
       "LS-14690_S02_E1-50          #AF3F64        Pvalb Tpbg            114   \n",
       "LS-14690_S03_E1-50          #00979D  L4 IT VISp Rspo1              7   \n",
       "LS-14690_S05_E1-50          #00979D  L4 IT VISp Rspo1              7   \n",
       "LS-14690_S06_E1-50          #00979D  L4 IT VISp Rspo1              7   \n",
       "LS-14690_S07_E1-50          #00979D  L4 IT VISp Rspo1              7   \n",
       "\n",
       "                   dendcluster_color cluster_id           group_label  \\\n",
       "sample_id                                                               \n",
       "LS-14690_S02_E1-50           #AF3F64         59  GABAergic Pvalb Tpbg   \n",
       "LS-14690_S03_E1-50           #00979D         64      Glutamatergic L4   \n",
       "LS-14690_S05_E1-50           #00979D         64      Glutamatergic L4   \n",
       "LS-14690_S06_E1-50           #00979D         64      Glutamatergic L4   \n",
       "LS-14690_S07_E1-50           #00979D         64      Glutamatergic L4   \n",
       "\n",
       "                                     mapping_label  \n",
       "sample_id                                           \n",
       "LS-14690_S02_E1-50            GABAergic Pvalb Tpbg  \n",
       "LS-14690_S03_E1-50  Glutamatergic L4 IT VISp Rspo1  \n",
       "LS-14690_S05_E1-50  Glutamatergic L4 IT VISp Rspo1  \n",
       "LS-14690_S06_E1-50  Glutamatergic L4 IT VISp Rspo1  \n",
       "LS-14690_S07_E1-50  Glutamatergic L4 IT VISp Rspo1  \n",
       "\n",
       "[5 rows x 153 columns]"
      ]
     },
     "execution_count": 324,
     "metadata": {},
     "output_type": "execute_result"
    }
   ],
   "source": [
    "annotation.head()"
   ]
  },
  {
   "cell_type": "code",
   "execution_count": 333,
   "metadata": {},
   "outputs": [
    {
     "data": {
      "text/plain": [
       "array(['GABAergic Pvalb Tpbg', 'Glutamatergic L4',\n",
       "       'GABAergic Vip Chat Htr1f', 'Glutamatergic L2/3 IT',\n",
       "       'GABAergic Lamp5 Lsp1', 'Glutamatergic L5 Glutamatergic',\n",
       "       'GABAergic Sst Hpse Sema3c', 'GABAergic Vip Pygm C1ql1',\n",
       "       'GABAergic Vip Ptprt Pkp2', 'nan', 'GABAergic Vip Igfbp4 Mab21l1',\n",
       "       'Glutamatergic L6 CT', 'Glutamatergic L6 IT',\n",
       "       'GABAergic Sst Chodl', 'GABAergic Lamp5 Ntn1 Npy2r',\n",
       "       'GABAergic Vip Igfbp6 Car10', 'GABAergic Vip Crispld2 Kcne4',\n",
       "       'GABAergic Vip Igfbp6 Pltp', 'GABAergic L5 GABAergic',\n",
       "       'GABAergic Pvalb Reln Itm2a', 'GABAergic Vip Lmo1 Myl1',\n",
       "       'GABAergic Vip Crispld2 Htr2c', 'GABAergic Lamp5 Plch2 Dock5',\n",
       "       'GABAergic Vip Col15a1 Pde1a', 'GABAergic Vip Rspo4 Rxfp1 Chat',\n",
       "       'GABAergic Lamp5 Fam19a1 Tmem182', 'GABAergic Lamp5 Fam19a1 Pax6',\n",
       "       'GABAergic Vip Arhgap36 Hmcn1', 'GABAergic Sncg Vip Itih5',\n",
       "       'GABAergic Lamp5 Lhx6', 'GABAergic Sncg Slc17a8',\n",
       "       'GABAergic Sncg Vip Nptx2', 'GABAergic Pvalb Vipr2',\n",
       "       'GABAergic Lamp5 Krt73', 'GABAergic Serpinf1 Aqp5 Vip',\n",
       "       'GABAergic Sst Calb2 Pdlim5', 'GABAergic Sst Nts',\n",
       "       'GABAergic Sst Mme Fam114a1', 'GABAergic Sst Hpse Cbln4',\n",
       "       'GABAergic Vip Lect1 Oxtr', 'GABAergic Sst Tac1 Htr1d',\n",
       "       'GABAergic Sncg Gpr50', 'GABAergic Vip Rspo1 Itga4',\n",
       "       'Glutamatergic L6b', 'GABAergic Sst Crh 4930553C11Rik ',\n",
       "       'GABAergic Sst Tac1 Tacr3', 'GABAergic Sst Calb2 Necab1',\n",
       "       'Glutamatergic CR'], dtype=object)"
      ]
     },
     "execution_count": 333,
     "metadata": {},
     "output_type": "execute_result"
    }
   ],
   "source": [
    "annotation['group_label'].unique()"
   ]
  },
  {
   "cell_type": "code",
   "execution_count": 334,
   "metadata": {},
   "outputs": [
    {
     "data": {
      "text/plain": [
       "sample_id\n",
       "LS-14690_S02_E1-50     True\n",
       "LS-14690_S03_E1-50     True\n",
       "LS-14690_S05_E1-50     True\n",
       "LS-14690_S06_E1-50     True\n",
       "LS-14690_S07_E1-50     True\n",
       "                      ...  \n",
       "SQ-80004_S42_E1-50    False\n",
       "SQ-80004_S43_E1-50    False\n",
       "SQ-80004_S44_E1-50     True\n",
       "SQ-80004_S47_E1-50    False\n",
       "SQ-80004_S48_E1-50     True\n",
       "Name: group_label, Length: 14236, dtype: bool"
      ]
     },
     "execution_count": 334,
     "metadata": {},
     "output_type": "execute_result"
    }
   ],
   "source": [
    "annotation['group_label']!='nan'"
   ]
  },
  {
   "cell_type": "code",
   "execution_count": 335,
   "metadata": {},
   "outputs": [],
   "source": [
    "keep_samples = annotation[annotation['group_label']!='nan'].index.values"
   ]
  },
  {
   "cell_type": "code",
   "execution_count": 531,
   "metadata": {},
   "outputs": [
    {
     "data": {
      "text/plain": [
       "set()"
      ]
     },
     "execution_count": 531,
     "metadata": {},
     "output_type": "execute_result"
    }
   ],
   "source": [
    "set(annotation[annotation.mapping_label.isin(run_mappings)].index.values).difference(set(keep_samples))"
   ]
  },
  {
   "cell_type": "code",
   "execution_count": 529,
   "metadata": {},
   "outputs": [
    {
     "data": {
      "text/plain": [
       "array(['LS-14690_S02_E1-50', 'LS-14690_S03_E1-50', 'LS-14690_S05_E1-50',\n",
       "       ..., 'SQ-80004_S41_E1-50', 'SQ-80004_S44_E1-50',\n",
       "       'SQ-80004_S48_E1-50'], dtype=object)"
      ]
     },
     "execution_count": 529,
     "metadata": {},
     "output_type": "execute_result"
    }
   ],
   "source": [
    "annotation[annotation['group_label']!='nan'].index.values"
   ]
  },
  {
   "cell_type": "code",
   "execution_count": 563,
   "metadata": {},
   "outputs": [
    {
     "name": "stderr",
     "output_type": "stream",
     "text": [
      "c:\\Users\\jinho.kim\\Anaconda3\\envs\\mfish\\lib\\site-packages\\distributed\\node.py:182: UserWarning: Port 8787 is already in use.\n",
      "Perhaps you already have a cluster running?\n",
      "Hosting the HTTP server on port 65169 instead\n",
      "  warnings.warn(\n",
      "c:\\Users\\jinho.kim\\Anaconda3\\envs\\mfish\\lib\\contextlib.py:126: UserWarning: Creating scratch directories is taking a surprisingly long time. (1.06s) This is often due to running workers on a network file system. Consider specifying a local-directory to point workers to write scratch data to a local disk.\n",
      "  next(self.gen)\n",
      "c:\\Users\\jinho.kim\\Anaconda3\\envs\\mfish\\lib\\site-packages\\distributed\\client.py:3362: UserWarning: Sending large graph of size 41.10 MiB.\n",
      "This may cause some slowdown.\n",
      "Consider loading the data with Dask directly\n",
      " or using futures or delayed objects to embed the data into the graph without repetition.\n",
      "See also https://docs.dask.org/en/stable/best-practices.html#load-data-with-dask for more information.\n",
      "  warnings.warn(\n"
     ]
    },
    {
     "name": "stdout",
     "output_type": "stream",
     "text": [
      "Added Cxcl14 with average cluster distance 0.111 [16].\n"
     ]
    },
    {
     "name": "stderr",
     "output_type": "stream",
     "text": [
      "c:\\Users\\jinho.kim\\Anaconda3\\envs\\mfish\\lib\\site-packages\\distributed\\node.py:182: UserWarning: Port 8787 is already in use.\n",
      "Perhaps you already have a cluster running?\n",
      "Hosting the HTTP server on port 65367 instead\n",
      "  warnings.warn(\n",
      "c:\\Users\\jinho.kim\\Anaconda3\\envs\\mfish\\lib\\contextlib.py:126: UserWarning: Creating scratch directories is taking a surprisingly long time. (1.12s) This is often due to running workers on a network file system. Consider specifying a local-directory to point workers to write scratch data to a local disk.\n",
      "  next(self.gen)\n",
      "c:\\Users\\jinho.kim\\Anaconda3\\envs\\mfish\\lib\\site-packages\\distributed\\client.py:3362: UserWarning: Sending large graph of size 41.10 MiB.\n",
      "This may cause some slowdown.\n",
      "Consider loading the data with Dask directly\n",
      " or using futures or delayed objects to embed the data into the graph without repetition.\n",
      "See also https://docs.dask.org/en/stable/best-practices.html#load-data-with-dask for more information.\n",
      "  warnings.warn(\n"
     ]
    },
    {
     "name": "stdout",
     "output_type": "stream",
     "text": [
      "Added Lamp5 with average cluster distance 0.097 [17].\n"
     ]
    },
    {
     "name": "stderr",
     "output_type": "stream",
     "text": [
      "c:\\Users\\jinho.kim\\Anaconda3\\envs\\mfish\\lib\\site-packages\\distributed\\node.py:182: UserWarning: Port 8787 is already in use.\n",
      "Perhaps you already have a cluster running?\n",
      "Hosting the HTTP server on port 49152 instead\n",
      "  warnings.warn(\n",
      "c:\\Users\\jinho.kim\\Anaconda3\\envs\\mfish\\lib\\site-packages\\distributed\\client.py:3362: UserWarning: Sending large graph of size 41.10 MiB.\n",
      "This may cause some slowdown.\n",
      "Consider loading the data with Dask directly\n",
      " or using futures or delayed objects to embed the data into the graph without repetition.\n",
      "See also https://docs.dask.org/en/stable/best-practices.html#load-data-with-dask for more information.\n",
      "  warnings.warn(\n"
     ]
    },
    {
     "name": "stdout",
     "output_type": "stream",
     "text": [
      "Added Thsd7a with average cluster distance 0.087 [18].\n"
     ]
    },
    {
     "name": "stderr",
     "output_type": "stream",
     "text": [
      "c:\\Users\\jinho.kim\\Anaconda3\\envs\\mfish\\lib\\site-packages\\distributed\\node.py:182: UserWarning: Port 8787 is already in use.\n",
      "Perhaps you already have a cluster running?\n",
      "Hosting the HTTP server on port 49335 instead\n",
      "  warnings.warn(\n",
      "c:\\Users\\jinho.kim\\Anaconda3\\envs\\mfish\\lib\\contextlib.py:126: UserWarning: Creating scratch directories is taking a surprisingly long time. (1.06s) This is often due to running workers on a network file system. Consider specifying a local-directory to point workers to write scratch data to a local disk.\n",
      "  next(self.gen)\n",
      "c:\\Users\\jinho.kim\\Anaconda3\\envs\\mfish\\lib\\site-packages\\distributed\\client.py:3362: UserWarning: Sending large graph of size 41.10 MiB.\n",
      "This may cause some slowdown.\n",
      "Consider loading the data with Dask directly\n",
      " or using futures or delayed objects to embed the data into the graph without repetition.\n",
      "See also https://docs.dask.org/en/stable/best-practices.html#load-data-with-dask for more information.\n",
      "  warnings.warn(\n"
     ]
    },
    {
     "name": "stdout",
     "output_type": "stream",
     "text": [
      "Added Luzp2 with average cluster distance 0.079 [19].\n"
     ]
    },
    {
     "name": "stderr",
     "output_type": "stream",
     "text": [
      "c:\\Users\\jinho.kim\\Anaconda3\\envs\\mfish\\lib\\site-packages\\distributed\\node.py:182: UserWarning: Port 8787 is already in use.\n",
      "Perhaps you already have a cluster running?\n",
      "Hosting the HTTP server on port 49551 instead\n",
      "  warnings.warn(\n",
      "c:\\Users\\jinho.kim\\Anaconda3\\envs\\mfish\\lib\\contextlib.py:126: UserWarning: Creating scratch directories is taking a surprisingly long time. (1.08s) This is often due to running workers on a network file system. Consider specifying a local-directory to point workers to write scratch data to a local disk.\n",
      "  next(self.gen)\n",
      "c:\\Users\\jinho.kim\\Anaconda3\\envs\\mfish\\lib\\site-packages\\distributed\\client.py:3362: UserWarning: Sending large graph of size 41.10 MiB.\n",
      "This may cause some slowdown.\n",
      "Consider loading the data with Dask directly\n",
      " or using futures or delayed objects to embed the data into the graph without repetition.\n",
      "See also https://docs.dask.org/en/stable/best-practices.html#load-data-with-dask for more information.\n",
      "  warnings.warn(\n"
     ]
    },
    {
     "name": "stdout",
     "output_type": "stream",
     "text": [
      "Added Lypd6 with average cluster distance 0.074 [20].\n"
     ]
    },
    {
     "name": "stderr",
     "output_type": "stream",
     "text": [
      "c:\\Users\\jinho.kim\\Anaconda3\\envs\\mfish\\lib\\site-packages\\distributed\\node.py:182: UserWarning: Port 8787 is already in use.\n",
      "Perhaps you already have a cluster running?\n",
      "Hosting the HTTP server on port 49779 instead\n",
      "  warnings.warn(\n",
      "c:\\Users\\jinho.kim\\Anaconda3\\envs\\mfish\\lib\\contextlib.py:126: UserWarning: Creating scratch directories is taking a surprisingly long time. (1.03s) This is often due to running workers on a network file system. Consider specifying a local-directory to point workers to write scratch data to a local disk.\n",
      "  next(self.gen)\n",
      "c:\\Users\\jinho.kim\\Anaconda3\\envs\\mfish\\lib\\site-packages\\distributed\\client.py:3362: UserWarning: Sending large graph of size 41.10 MiB.\n",
      "This may cause some slowdown.\n",
      "Consider loading the data with Dask directly\n",
      " or using futures or delayed objects to embed the data into the graph without repetition.\n",
      "See also https://docs.dask.org/en/stable/best-practices.html#load-data-with-dask for more information.\n",
      "  warnings.warn(\n"
     ]
    },
    {
     "name": "stdout",
     "output_type": "stream",
     "text": [
      "Added Fezf2 with average cluster distance 0.069 [21].\n"
     ]
    },
    {
     "name": "stderr",
     "output_type": "stream",
     "text": [
      "c:\\Users\\jinho.kim\\Anaconda3\\envs\\mfish\\lib\\site-packages\\distributed\\node.py:182: UserWarning: Port 8787 is already in use.\n",
      "Perhaps you already have a cluster running?\n",
      "Hosting the HTTP server on port 49928 instead\n",
      "  warnings.warn(\n",
      "c:\\Users\\jinho.kim\\Anaconda3\\envs\\mfish\\lib\\contextlib.py:126: UserWarning: Creating scratch directories is taking a surprisingly long time. (1.05s) This is often due to running workers on a network file system. Consider specifying a local-directory to point workers to write scratch data to a local disk.\n",
      "  next(self.gen)\n",
      "c:\\Users\\jinho.kim\\Anaconda3\\envs\\mfish\\lib\\site-packages\\distributed\\client.py:3362: UserWarning: Sending large graph of size 41.10 MiB.\n",
      "This may cause some slowdown.\n",
      "Consider loading the data with Dask directly\n",
      " or using futures or delayed objects to embed the data into the graph without repetition.\n",
      "See also https://docs.dask.org/en/stable/best-practices.html#load-data-with-dask for more information.\n",
      "  warnings.warn(\n"
     ]
    },
    {
     "name": "stdout",
     "output_type": "stream",
     "text": [
      "Added Ramp1 with average cluster distance 0.067 [22].\n"
     ]
    },
    {
     "name": "stderr",
     "output_type": "stream",
     "text": [
      "c:\\Users\\jinho.kim\\Anaconda3\\envs\\mfish\\lib\\site-packages\\distributed\\node.py:182: UserWarning: Port 8787 is already in use.\n",
      "Perhaps you already have a cluster running?\n",
      "Hosting the HTTP server on port 50060 instead\n",
      "  warnings.warn(\n",
      "c:\\Users\\jinho.kim\\Anaconda3\\envs\\mfish\\lib\\contextlib.py:126: UserWarning: Creating scratch directories is taking a surprisingly long time. (1.12s) This is often due to running workers on a network file system. Consider specifying a local-directory to point workers to write scratch data to a local disk.\n",
      "  next(self.gen)\n",
      "c:\\Users\\jinho.kim\\Anaconda3\\envs\\mfish\\lib\\site-packages\\distributed\\client.py:3362: UserWarning: Sending large graph of size 41.10 MiB.\n",
      "This may cause some slowdown.\n",
      "Consider loading the data with Dask directly\n",
      " or using futures or delayed objects to embed the data into the graph without repetition.\n",
      "See also https://docs.dask.org/en/stable/best-practices.html#load-data-with-dask for more information.\n",
      "  warnings.warn(\n"
     ]
    },
    {
     "name": "stdout",
     "output_type": "stream",
     "text": [
      "Added Zfp804a with average cluster distance 0.064 [23].\n"
     ]
    },
    {
     "name": "stderr",
     "output_type": "stream",
     "text": [
      "c:\\Users\\jinho.kim\\Anaconda3\\envs\\mfish\\lib\\site-packages\\distributed\\node.py:182: UserWarning: Port 8787 is already in use.\n",
      "Perhaps you already have a cluster running?\n",
      "Hosting the HTTP server on port 50192 instead\n",
      "  warnings.warn(\n",
      "c:\\Users\\jinho.kim\\Anaconda3\\envs\\mfish\\lib\\contextlib.py:126: UserWarning: Creating scratch directories is taking a surprisingly long time. (1.10s) This is often due to running workers on a network file system. Consider specifying a local-directory to point workers to write scratch data to a local disk.\n",
      "  next(self.gen)\n",
      "c:\\Users\\jinho.kim\\Anaconda3\\envs\\mfish\\lib\\site-packages\\distributed\\client.py:3362: UserWarning: Sending large graph of size 41.10 MiB.\n",
      "This may cause some slowdown.\n",
      "Consider loading the data with Dask directly\n",
      " or using futures or delayed objects to embed the data into the graph without repetition.\n",
      "See also https://docs.dask.org/en/stable/best-practices.html#load-data-with-dask for more information.\n",
      "  warnings.warn(\n"
     ]
    },
    {
     "name": "stdout",
     "output_type": "stream",
     "text": [
      "Added Spon1 with average cluster distance 0.061 [24].\n"
     ]
    },
    {
     "name": "stderr",
     "output_type": "stream",
     "text": [
      "c:\\Users\\jinho.kim\\Anaconda3\\envs\\mfish\\lib\\site-packages\\distributed\\node.py:182: UserWarning: Port 8787 is already in use.\n",
      "Perhaps you already have a cluster running?\n",
      "Hosting the HTTP server on port 50339 instead\n",
      "  warnings.warn(\n",
      "c:\\Users\\jinho.kim\\Anaconda3\\envs\\mfish\\lib\\contextlib.py:126: UserWarning: Creating scratch directories is taking a surprisingly long time. (1.05s) This is often due to running workers on a network file system. Consider specifying a local-directory to point workers to write scratch data to a local disk.\n",
      "  next(self.gen)\n",
      "c:\\Users\\jinho.kim\\Anaconda3\\envs\\mfish\\lib\\site-packages\\distributed\\client.py:3362: UserWarning: Sending large graph of size 41.10 MiB.\n",
      "This may cause some slowdown.\n",
      "Consider loading the data with Dask directly\n",
      " or using futures or delayed objects to embed the data into the graph without repetition.\n",
      "See also https://docs.dask.org/en/stable/best-practices.html#load-data-with-dask for more information.\n",
      "  warnings.warn(\n"
     ]
    },
    {
     "name": "stdout",
     "output_type": "stream",
     "text": [
      "Added Zbtb20 with average cluster distance 0.060 [25].\n"
     ]
    },
    {
     "name": "stderr",
     "output_type": "stream",
     "text": [
      "c:\\Users\\jinho.kim\\Anaconda3\\envs\\mfish\\lib\\site-packages\\distributed\\node.py:182: UserWarning: Port 8787 is already in use.\n",
      "Perhaps you already have a cluster running?\n",
      "Hosting the HTTP server on port 50459 instead\n",
      "  warnings.warn(\n",
      "c:\\Users\\jinho.kim\\Anaconda3\\envs\\mfish\\lib\\contextlib.py:126: UserWarning: Creating scratch directories is taking a surprisingly long time. (1.09s) This is often due to running workers on a network file system. Consider specifying a local-directory to point workers to write scratch data to a local disk.\n",
      "  next(self.gen)\n",
      "c:\\Users\\jinho.kim\\Anaconda3\\envs\\mfish\\lib\\site-packages\\distributed\\client.py:3362: UserWarning: Sending large graph of size 41.10 MiB.\n",
      "This may cause some slowdown.\n",
      "Consider loading the data with Dask directly\n",
      " or using futures or delayed objects to embed the data into the graph without repetition.\n",
      "See also https://docs.dask.org/en/stable/best-practices.html#load-data-with-dask for more information.\n",
      "  warnings.warn(\n"
     ]
    },
    {
     "name": "stdout",
     "output_type": "stream",
     "text": [
      "Added Cbln2 with average cluster distance 0.057 [26].\n"
     ]
    },
    {
     "name": "stderr",
     "output_type": "stream",
     "text": [
      "c:\\Users\\jinho.kim\\Anaconda3\\envs\\mfish\\lib\\site-packages\\distributed\\node.py:182: UserWarning: Port 8787 is already in use.\n",
      "Perhaps you already have a cluster running?\n",
      "Hosting the HTTP server on port 50596 instead\n",
      "  warnings.warn(\n",
      "c:\\Users\\jinho.kim\\Anaconda3\\envs\\mfish\\lib\\contextlib.py:126: UserWarning: Creating scratch directories is taking a surprisingly long time. (1.05s) This is often due to running workers on a network file system. Consider specifying a local-directory to point workers to write scratch data to a local disk.\n",
      "  next(self.gen)\n",
      "c:\\Users\\jinho.kim\\Anaconda3\\envs\\mfish\\lib\\site-packages\\distributed\\client.py:3362: UserWarning: Sending large graph of size 41.10 MiB.\n",
      "This may cause some slowdown.\n",
      "Consider loading the data with Dask directly\n",
      " or using futures or delayed objects to embed the data into the graph without repetition.\n",
      "See also https://docs.dask.org/en/stable/best-practices.html#load-data-with-dask for more information.\n",
      "  warnings.warn(\n"
     ]
    },
    {
     "name": "stdout",
     "output_type": "stream",
     "text": [
      "Added Rxfp1 with average cluster distance 0.054 [27].\n"
     ]
    }
   ],
   "source": [
    "reload(mfishtools)\n",
    "# Takes 1 hour for adding 12 genes (from 500 candidates)\n",
    "run_mappings = keep_mappings + other_mappings\n",
    "keep_samples = annotation[annotation['mapping_label'].isin(run_mappings)].index.values\n",
    "\n",
    "built_panel = mfishtools.build_mapping_based_marker_panel_testing(\n",
    "    map_data=tpm_log2.loc[run_genes, keep_samples],\n",
    "    mapping_median_data=tpm_median_per_mapping.loc[run_genes, run_mappings],\n",
    "    mapping_call=annotation.loc[keep_samples, 'mapping_label'],\n",
    "    mapping_to_group=annotation.loc[keep_samples, ['mapping_label','group_label']].drop_duplicates().set_index('mapping_label').loc[run_mappings]['group_label'],\n",
    "    group_median_data=tpm_median_per_group.loc[run_genes, keep_groups + other_groups],\n",
    "    panel_size=ops['full_panel_size'],\n",
    "    num_subsample=ops['num_subsample'],\n",
    "    current_panel=ops['starting_genes'].copy(),\n",
    ")"
   ]
  },
  {
   "cell_type": "markdown",
   "metadata": {},
   "source": [
    "# Save the panel and option"
   ]
  },
  {
   "cell_type": "code",
   "execution_count": null,
   "metadata": {},
   "outputs": [],
   "source": []
  },
  {
   "cell_type": "code",
   "execution_count": 545,
   "metadata": {},
   "outputs": [],
   "source": [
    "map_data=tpm_log2.loc[run_genes, keep_samples]\n",
    "mapping_median_data=tpm_median_per_mapping.loc[run_genes, run_mappings]\n",
    "mapping_call=annotation.loc[keep_samples, 'mapping_label']\n",
    "mapping_to_group=annotation.loc[keep_samples, ['mapping_label','group_label']].drop_duplicates().set_index('mapping_label').loc[run_mappings]['group_label']\n",
    "group_median_data=tpm_median_per_group.loc[run_genes, keep_groups + other_groups]\n",
    "panel_size=ops['full_panel_size']\n",
    "num_subsample=50\n",
    "current_panel=ops['starting_genes']"
   ]
  },
  {
   "cell_type": "code",
   "execution_count": 546,
   "metadata": {},
   "outputs": [],
   "source": [
    "cor_dist = lambda x: 1 - np.corrcoef(x)\n",
    "if cluster_genes is None:\n",
    "    cluster_genes = group_median_data.index\n",
    "cluster_genes = list(set(cluster_genes).intersection(set(group_median_data.index)))\n",
    "group_distance = pd.DataFrame(cor_dist(group_median_data.loc[cluster_genes, :].T),\n",
    "                                index=group_median_data.columns, columns=group_median_data.columns)\n",
    "max_group_distance = group_distance.values.max()\n",
    "if na_str not in group_distance.columns:\n",
    "    group_distance[na_str] = max_group_distance"
   ]
  },
  {
   "cell_type": "code",
   "execution_count": 547,
   "metadata": {},
   "outputs": [],
   "source": [
    "na_str='None'\n",
    "if na_str not in mapping_to_group.index.values:\n",
    "    mapping_to_group[na_str] = na_str # to handle missing values after get_top_match"
   ]
  },
  {
   "cell_type": "code",
   "execution_count": 548,
   "metadata": {},
   "outputs": [],
   "source": [
    "group_call = mapping_call.map(mapping_to_group)"
   ]
  },
  {
   "cell_type": "code",
   "execution_count": 552,
   "metadata": {},
   "outputs": [
    {
     "name": "stderr",
     "output_type": "stream",
     "text": [
      "c:\\Users\\jinho.kim\\Anaconda3\\envs\\mfish\\lib\\site-packages\\distributed\\node.py:182: UserWarning: Port 8787 is already in use.\n",
      "Perhaps you already have a cluster running?\n",
      "Hosting the HTTP server on port 64898 instead\n",
      "  warnings.warn(\n",
      "c:\\Users\\jinho.kim\\Anaconda3\\envs\\mfish\\lib\\site-packages\\distributed\\client.py:3362: UserWarning: Sending large graph of size 41.10 MiB.\n",
      "This may cause some slowdown.\n",
      "Consider loading the data with Dask directly\n",
      " or using futures or delayed objects to embed the data into the graph without repetition.\n",
      "See also https://docs.dask.org/en/stable/best-practices.html#load-data-with-dask for more information.\n",
      "  warnings.warn(\n"
     ]
    }
   ],
   "source": [
    "seed = None\n",
    "corr_mapping = True\n",
    "from dask import delayed, compute\n",
    "from dask.distributed import Client\n",
    "num_iter_each_addition = 100\n",
    "client = Client()\n",
    "tasks = [delayed(mfishtools._run_one_iter_parallel)(map_data, group_call, mapping_call, num_subsample, \n",
    "                                        seed, mapping_median_data, other_genes, current_panel, \n",
    "                                        group_distance, mapping_to_group, corr_mapping, \n",
    "                                        na_str=na_str) for iter_num in range(num_iter_each_addition)]\n",
    "results = compute(*tasks, num_workers=dask.system.cpu_count()-1)\n",
    "client.close()\n"
   ]
  },
  {
   "cell_type": "code",
   "execution_count": 557,
   "metadata": {},
   "outputs": [],
   "source": [
    "match_count = np.stack(results)\n",
    "mean_match_count = np.mean(match_count, axis=0)\n",
    "wm = np.argmax(mean_match_count)\n",
    "gene_to_add = other_genes[wm]"
   ]
  },
  {
   "cell_type": "code",
   "execution_count": 558,
   "metadata": {},
   "outputs": [
    {
     "data": {
      "text/plain": [
       "'Cxcl14'"
      ]
     },
     "execution_count": 558,
     "metadata": {},
     "output_type": "execute_result"
    }
   ],
   "source": [
    "gene_to_add"
   ]
  },
  {
   "cell_type": "code",
   "execution_count": 559,
   "metadata": {},
   "outputs": [
    {
     "data": {
      "text/plain": [
       "-0.11108676680860852"
      ]
     },
     "execution_count": 559,
     "metadata": {},
     "output_type": "execute_result"
    }
   ],
   "source": [
    "mean_match_count[wm]"
   ]
  },
  {
   "cell_type": "code",
   "execution_count": 560,
   "metadata": {},
   "outputs": [
    {
     "data": {
      "text/plain": [
       "356"
      ]
     },
     "execution_count": 560,
     "metadata": {},
     "output_type": "execute_result"
    }
   ],
   "source": [
    "wm"
   ]
  },
  {
   "cell_type": "code",
   "execution_count": 562,
   "metadata": {},
   "outputs": [
    {
     "data": {
      "text/plain": [
       "494"
      ]
     },
     "execution_count": 562,
     "metadata": {},
     "output_type": "execute_result"
    }
   ],
   "source": [
    "len(mean_match_count)"
   ]
  }
 ],
 "metadata": {
  "kernelspec": {
   "display_name": "mfish",
   "language": "python",
   "name": "python3"
  },
  "language_info": {
   "codemirror_mode": {
    "name": "ipython",
    "version": 3
   },
   "file_extension": ".py",
   "mimetype": "text/x-python",
   "name": "python",
   "nbconvert_exporter": "python",
   "pygments_lexer": "ipython3",
   "version": "3.9.19"
  }
 },
 "nbformat": 4,
 "nbformat_minor": 2
}
