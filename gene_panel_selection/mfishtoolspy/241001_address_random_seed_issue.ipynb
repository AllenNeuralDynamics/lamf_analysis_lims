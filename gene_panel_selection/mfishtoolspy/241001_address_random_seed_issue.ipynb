{
 "cells": [
  {
   "cell_type": "markdown",
   "metadata": {},
   "source": [
    "# Purpose:\n",
    "- address random seed issue in mfishtools\n",
    "- Develop mfishtoolspy to iterate multiple times for one gene addition\n",
    "- Make code more stable for addressing 'other' genes"
   ]
  },
  {
   "cell_type": "code",
   "execution_count": 4,
   "metadata": {},
   "outputs": [],
   "source": [
    "from pathlib import Path\n",
    "import pandas as pd\n",
    "import numpy as np\n",
    "import matplotlib.pyplot as plt\n",
    "import seaborn as sns\n",
    "import sys\n",
    "from importlib import reload\n",
    "\n",
    "import sys\n",
    "sys.path.append(r'C:\\Users\\jinho.kim\\Github\\lamf_analysis_lims\\gene_panel_selection\\mfishtoolspy')\n",
    "import mfishtools\n"
   ]
  },
  {
   "cell_type": "code",
   "execution_count": 151,
   "metadata": {},
   "outputs": [],
   "source": [
    "# options for cluster grouping\n",
    "ops = {\n",
    "    'panel_name': 'Pan-neuronal', # GABAergic or Glutamatergic or Pan-neuronal\n",
    "    'full_panel_size': 28,\n",
    "    'starting_genes': [\"Gad2\",\"Slc17a7\",\"Pvalb\",\"Sst\",\"Vip\",\"Cck\",\"Tac1\",\"Npy\",\"Crh\",\"Necab1\",\"Ptprt\",\"Kirrel3\",\"Penk\",\"Hpse\",\"Calb2\",\"Chodl\"],\n",
    "    'layer_1234_filter': True,\n",
    "    'GABAergic_group_level': 'cluster', # class, subclass, supertype, or cluster\n",
    "    'GABAergic_mapping_level': 'cluster',\n",
    "    'Glutamatergic_group_level': 'subclass', # class, subclass, supertype, or cluster\n",
    "    'Glutamatergic_mapping_level': 'subclass',\n",
    "    'GABAergic_other_group_level': 'class', # class, subclass, supertype, or cluster\n",
    "    'GABAergic_other_mapping_level': 'cluster',\n",
    "    'Glutamatergic_other_group_level': 'class', # class, subclass, supertype, or cluster\n",
    "    'Glutamatergic_other_mapping_level': 'subclass',\n",
    "    'blend_supertypes': False,  # Don't know if I'm going to keep this\n",
    "    'remove_redundant_genes': False, # from the starting_genes list\n",
    "    'remove_redundant_genes_threshold': 0.95, # threshold for removing redundant genes from normalized accuracy\n",
    "    'L1234_layer_threshold': 0.15,\n",
    "    'L6_layer_threshold': 0.7,\n",
    "    'L1234_labels': ['L1', 'L1-L2/3', 'L1-L4', 'L2/3', 'L2/3-L4', 'L4'],\n",
    "    'L6_labels': ['L6', 'L6b']\n",
    "}\n",
    "\n",
    "if 'GABAergic' in ops['panel_name']:\n",
    "    ops['keep_class'] = ['GABAergic']\n",
    "elif 'Glutamatergic' in ops['panel_name']:\n",
    "    ops['keep_class'] = ['Glutamatergic']\n",
    "elif 'Pan-neuronal' in ops['panel_name']:\n",
    "    ops['keep_class'] = ['GABAergic', 'Glutamatergic']\n",
    "else:\n",
    "    raise ValueError('panel_name must be GABAergic, Glutamatergic, or Pan-neuronal')\n",
    "\n",
    "level_hierarchy = {'class': 0, 'subclass': 1, 'supertype': 2, 'cluster': 3}\n",
    "assert level_hierarchy[ops['GABAergic_group_level']] <= level_hierarchy[ops['GABAergic_mapping_level']]\n",
    "assert level_hierarchy[ops['GABAergic_other_group_level']] <= level_hierarchy[ops['GABAergic_other_mapping_level']]\n",
    "assert level_hierarchy[ops['Glutamatergic_group_level']] <= level_hierarchy[ops['Glutamatergic_mapping_level']]\n",
    "assert level_hierarchy[ops['Glutamatergic_other_group_level']] <= level_hierarchy[ops['Glutamatergic_other_mapping_level']]\n",
    "\n",
    "\n"
   ]
  },
  {
   "cell_type": "code",
   "execution_count": 17,
   "metadata": {},
   "outputs": [
    {
     "data": {
      "text/plain": [
       "array(['L2/3', 'L4', 'L5', 'L1', 'L6', 'L5-L6', 'L1-L4', 'L1-L6', 'L4-L6',\n",
       "       'L1-L2/3', 'L4-L5', 'L2/3-L4', 'L6b'], dtype=object)"
      ]
     },
     "execution_count": 17,
     "metadata": {},
     "output_type": "execute_result"
    }
   ],
   "source": [
    "annotation.layer_label.unique()"
   ]
  },
  {
   "cell_type": "code",
   "execution_count": 146,
   "metadata": {},
   "outputs": [],
   "source": [
    "# paths to the data\n",
    "data_folder = Path(r'\\\\allen\\programs\\mindscope\\workgroups\\learning\\jinho\\gene_panel_selection\\data\\mouse_VISp_gene_expression_matrices_2018-06-14')\n",
    "output_folder = Path('//allen/programs/mindscope/workgroups/learning/jinho/gene_panel_selection/inhibitory')"
   ]
  },
  {
   "cell_type": "code",
   "execution_count": 147,
   "metadata": {},
   "outputs": [],
   "source": [
    "# read annotation\n",
    "annotation = pd.read_feather(data_folder / 'anno.feather')\n",
    "# read data\n",
    "# TODO: check where this data is coming from. Values are similar to cpm but not exactly the same\n",
    "cpm_data = pd.read_feather(data_folder / 'exon_cpm.feather')\n",
    "tpm_data = pd.read_feather(data_folder / 'exon_tpm.feather')"
   ]
  },
  {
   "cell_type": "code",
   "execution_count": 150,
   "metadata": {},
   "outputs": [],
   "source": [
    "annotation.set_index('sample_id', inplace=True, drop=True)\n",
    "# data.set_index('gene', inplace=True, drop=True) # only necessary with data_t.feather"
   ]
  },
  {
   "cell_type": "code",
   "execution_count": 10,
   "metadata": {},
   "outputs": [],
   "source": [
    "# preprocessing\n",
    "# Removing 'X\" in column? from Hannah's code. Don't know when this happens, but leave them here just in case.\n",
    "if 'X' in data.columns:\n",
    "    print('Dropping \"X\" column from data')\n",
    "    data = data.drop(columns=['X'])\n",
    "if 'X' in annotation.columns:\n",
    "    print('Dropping \"X\" column fro annotation')\n",
    "    annotation = annotation.drop(columns=['X'])\n",
    "\n",
    "# change the row order of annotation to match the order of columns in data\n",
    "# annotation = annotation.loc[data.columns]  # don't need this, but add assert statement to check\n",
    "assert np.all(annotation.index.values == data.columns.values)"
   ]
  },
  {
   "cell_type": "code",
   "execution_count": 224,
   "metadata": {},
   "outputs": [],
   "source": [
    "# data conversion to log2\n",
    "tpm_log2 = np.log2(tpm_data + 1)\n",
    "cpm_log2 = np.log2(cpm_data + 1)"
   ]
  },
  {
   "cell_type": "code",
   "execution_count": 12,
   "metadata": {},
   "outputs": [
    {
     "name": "stderr",
     "output_type": "stream",
     "text": [
      "C:\\Users\\jinho.kim\\AppData\\Local\\Temp\\ipykernel_43924\\765796578.py:13: PerformanceWarning: DataFrame is highly fragmented.  This is usually the result of calling `frame.insert` many times, which has poor performance.  Consider joining all columns at once using pd.concat(axis=1) instead. To get a de-fragmented frame, use `newframe = frame.copy()`\n",
      "  annotation['supertype_label'] = annotation.cluster_label.map(supertype.supertype)\n"
     ]
    }
   ],
   "source": [
    "# read supertype information\n",
    "# TODO: re-define supertype (will be addressed in another notebook)\n",
    "supertype_folder = Path('//allen/programs/mindscope/workgroups/omfish/hannahs/mfish_project/gene_panels')\n",
    "supertype_fn = supertype_folder / 'tasic2018_supertypes_manual_v2.xlsx'\n",
    "sheet_name = 'all_supertypes_v2'\n",
    "supertype = pd.read_excel(supertype_fn, sheet_name=sheet_name)\n",
    "supertype.rename(columns={'Cell Type': 'cell_type', 'Supertype': 'supertype'}, inplace=True)\n",
    "supertype.cell_type = supertype.cell_type.str.replace('\\xa0', ' ')\n",
    "supertype.supertype = supertype.supertype.str.replace('\\xa0', ' ')\n",
    "assert np.all([ct in annotation['cluster_label'].values for ct in supertype.cell_type.values])\n",
    "supertype.set_index('cell_type', inplace=True, drop=True)\n",
    "\n",
    "annotation['supertype_label'] = annotation.cluster_label.map(supertype.supertype)"
   ]
  },
  {
   "cell_type": "code",
   "execution_count": 34,
   "metadata": {},
   "outputs": [
    {
     "data": {
      "text/plain": [
       "array(['L4 IT VISp', 'L2/3 IT VISp', 'L5 NP VISp Trhr ',\n",
       "       'L5 IT VISp Batf3', 'L6 CT VISp Ctxn3', 'L6 IT VISp Penk',\n",
       "       'L6 IT VISp Car3', 'L5 IT VISp Col6a1', 'L5 PT VISp C1ql2',\n",
       "       'L6b P2ry12', 'L6 CT VISp Gpr139', 'L6b VISp Col8a1 ',\n",
       "       'L5 PT VISp Chrna6', 'CR Lhx5', 'L6b Hsd17b2'], dtype=object)"
      ]
     },
     "execution_count": 34,
     "metadata": {},
     "output_type": "execute_result"
    }
   ],
   "source": [
    "annotation.query('class_label==\"Glutamatergic\"').supertype_label.unique()"
   ]
  },
  {
   "cell_type": "code",
   "execution_count": 27,
   "metadata": {},
   "outputs": [
    {
     "data": {
      "text/plain": [
       "array(['Pvalb', 'Vip', 'Lamp5', 'Sst', 'Sncg', 'Serpinf1', 'Meis2'],\n",
       "      dtype=object)"
      ]
     },
     "execution_count": 27,
     "metadata": {},
     "output_type": "execute_result"
    }
   ],
   "source": [
    "annotation.query('class_label==\"GABAergic\"').subclass_label.unique()"
   ]
  },
  {
   "cell_type": "code",
   "execution_count": null,
   "metadata": {},
   "outputs": [],
   "source": [
    "group_label = f'{ops[\"Glutamatergic_group_level\"]}_label'\n",
    "mapping_label = f'{ops[\"Glutamatergic_mapping_level\"]}_label'\n",
    "temp_annotation = annotation.query('class_label==\"Glutamatergic\"')"
   ]
  },
  {
   "cell_type": "code",
   "execution_count": 152,
   "metadata": {},
   "outputs": [
    {
     "name": "stderr",
     "output_type": "stream",
     "text": [
      "C:\\Users\\jinho.kim\\AppData\\Local\\Temp\\ipykernel_43924\\2760090676.py:25: PerformanceWarning: DataFrame is highly fragmented.  This is usually the result of calling `frame.insert` many times, which has poor performance.  Consider joining all columns at once using pd.concat(axis=1) instead. To get a de-fragmented frame, use `newframe = frame.copy()`\n",
      "  annotation.loc[annotation.class_label == 'Glutamatergic', 'group_label'] = group_label_list\n",
      "C:\\Users\\jinho.kim\\AppData\\Local\\Temp\\ipykernel_43924\\2760090676.py:28: PerformanceWarning: DataFrame is highly fragmented.  This is usually the result of calling `frame.insert` many times, which has poor performance.  Consider joining all columns at once using pd.concat(axis=1) instead. To get a de-fragmented frame, use `newframe = frame.copy()`\n",
      "  annotation.loc[annotation.class_label == 'Glutamatergic', 'mapping_label'] = mapping_label_list\n"
     ]
    }
   ],
   "source": [
    "# filtering and assigning group_label\n",
    "# Group means target clustering that I want to classify eventually\n",
    "# There is also mapping_label, to which I want to match first before calculating classification accuracy\n",
    "# E.g., match individual samples to cluster level but then classify them at supertype level\n",
    "# E.g., classification can happen in mixed level, some at the cluster level while others in subclass level\n",
    "\n",
    "# If \"other\" group and mapping levels are different from group and mapping levels\n",
    "# then assign relevant labels to \"other\" group and mapping levels\n",
    "#   \"other\" is relevant only when filtering by the layers\n",
    "#   It means the rest of groups of mappings that can be within the imaging regime but we want to exclude from further analysis\n",
    "\n",
    "# Filtering based on layer abundance\n",
    "# TODO: test thresholds. \n",
    "# TODO: Better to do this from merFISH data\n",
    "\n",
    "keep_groups = []\n",
    "keep_mappings = []\n",
    "other_groups = []\n",
    "other_mappings = []\n",
    "\n",
    "if 'Glutamatergic' in ops['keep_class']:\n",
    "    # Assign group and mapping labels\n",
    "    group_level_label = f'{ops[\"Glutamatergic_group_level\"]}_label'\n",
    "    group_label_list = [f'Glutamatergic {gl}' for gl in annotation.loc[annotation.class_label == 'Glutamatergic', group_level_label]] # To disambiguate from GABAergic groups\n",
    "    annotation.loc[annotation.class_label == 'Glutamatergic', 'group_label'] = group_label_list\n",
    "    mapping_level_label = f'{ops[\"Glutamatergic_mapping_level\"]}_label'\n",
    "    mapping_label_list = [f'Glutamatergic {ml}' for ml in annotation.loc[annotation.class_label == 'Glutamatergic', mapping_label]] # To disambiguate from GABAergic mappings\n",
    "    annotation.loc[annotation.class_label == 'Glutamatergic', 'mapping_label'] = mapping_label_list\n",
    "    \n",
    "    # Assign keep and other groups.\n",
    "    # If lower than class level, then consider layer filtering (L1234 only for now)\n",
    "    if ops['Glutamatergic_group_level'] == 'class':\n",
    "        keep_groups += ['Glutamatergic']\n",
    "    else:\n",
    "        temp_annotation = annotation.query('class_label==\"Glutamatergic\"')\n",
    "        if ops['layer_1234_filter']:\n",
    "            keep_groups += [gl for gl in temp_annotation['group_label'].unique().tolist() if gl.split(' ')[1] in ['L2/3', 'L4']] # Have class label at the beginning\n",
    "            # Process \"other\" groups\n",
    "            other_group_level_label = f'{ops[\"Glutamatergic_other_group_level\"]}_label'\n",
    "            temp_other_groups = [gl for gl in temp_annotation['group_label'].unique().tolist() if gl.split(' ')[1] in ['L5', 'NP']] # Have class label at the beginning\n",
    "            if other_group_level_label == group_level_label: # no need to change group labels\n",
    "                other_groups += temp_other_groups\n",
    "            else:\n",
    "                # Add L5 after class label\n",
    "                other_group_labels = [f'Glutamatergic L5 {gl}' for gl in annotation[annotation['group_label'].isin(temp_other_groups)][other_group_level_label].values]\n",
    "                annotation.loc[annotation['group_label'].isin(temp_other_groups), 'group_label'] = other_group_labels\n",
    "                other_groups += np.unique(other_group_labels).tolist()\n",
    "        else:\n",
    "            keep_groups += temp_annotation['group_label'].unique().tolist()\n",
    "    # Assign keep and other mappings.\n",
    "    if ops['Glutamatergic_mapping_level'] == 'class':\n",
    "        keep_mappings += ['Glutamatergic']\n",
    "    else:\n",
    "        temp_annotation = annotation.query('class_label==\"Glutamatergic\"')\n",
    "        if ops['layer_1234_filter']:\n",
    "            keep_mappings += [ml for ml in temp_annotation['mapping_label'].unique().tolist() if ml.split(' ')[1] in ['L2/3', 'L4']] # Have class label at the beginning\n",
    "            # Process \"other\" groups\n",
    "            other_mapping_level_label = f'{ops[\"Glutamatergic_other_mapping_level\"]}_label'\n",
    "            temp_other_mappings = [ml for ml in temp_annotation['mapping_label'].unique().tolist() if ml.split(' ')[1] in ['L5', 'NP']] # Have class label at the beginning\n",
    "            if other_mapping_level_label == mapping_level_label: # no need to change mapping labels\n",
    "                other_mappings += temp_other_mappings\n",
    "            else:\n",
    "                # Add L5 after class label\n",
    "                other_mapping_labels = [f'Glutamatergic L5 {ml}' for ml in annotation[annotation['mapping_label'].isin(temp_other_mappings)][other_mapping_level_label].values]\n",
    "                annotation.loc[annotation['mapping_label'].isin(temp_other_mappings), 'mapping_label'] = other_mapping_labels\n",
    "                other_mappings += np.unique(other_mapping_labels).tolist()\n",
    "        else:\n",
    "            keep_mappings += temp_annotation['mapping_label'].unique().tolist()\n",
    "\n",
    "# Same for GABAergic\n",
    "# Except for filtering, now we are using scRNAseq layer-enriched data with thresholds\n",
    "if 'GABAergic' in ops['keep_class']:\n",
    "    # Assign group and mapping labels\n",
    "    group_level_label = f'{ops[\"GABAergic_group_level\"]}_label'\n",
    "    group_label_list = [f'GABAergic {gl}' for gl in annotation.loc[annotation.class_label == 'GABAergic', group_level_label]] # To disambiguate from Glutamatergic groups\n",
    "    annotation.loc[annotation.class_label == 'GABAergic', 'group_label'] = group_label_list\n",
    "    mapping_level_label = f'{ops[\"GABAergic_mapping_level\"]}_label'\n",
    "    mapping_label_list = [f'GABAergic {ml}' for ml in annotation.loc[annotation.class_label == 'GABAergic', mapping_level_label]] # To disambiguate from Glutamatergic mappings\n",
    "    annotation.loc[annotation.class_label == 'GABAergic', 'mapping_label'] = mapping_label_list\n",
    "    \n",
    "    # Assign keep and other groups.\n",
    "    # If lower than class level, then consider layer filtering (L1234 only for now)\n",
    "    # Also need to name them different (adding L5 in front of the group and mapping labels)\n",
    "    if ops['GABAergic_group_level'] == 'class':\n",
    "        keep_groups += ['GABAergic']\n",
    "    else:\n",
    "        temp_annotation = annotation.query('class_label==\"GABAergic\"')\n",
    "        if ops['layer_1234_filter']:\n",
    "            # Filtering process based on the layer abundance\n",
    "            layer_df = annotation.query('class_label==\"GABAergic\"')[['layer_label', 'cluster_label']].copy()\n",
    "            layer_table = layer_df.groupby(['layer_label', 'cluster_label']).size().unstack(fill_value=0)\n",
    "            prop_table = layer_table.div(layer_table.sum(axis=0), axis=1)\n",
    "            L1234_prop_sum = prop_table.loc[ops['L1234_labels']].sum(axis=0)\n",
    "            L1234_inh_types = set(L1234_prop_sum[L1234_prop_sum >= ops['L1234_layer_threshold']].index.values)\n",
    "            not_L1234_inh_types = set(layer_df.cluster_label).difference(L1234_inh_types)\n",
    "            L6_prop_sum = prop_table.loc[ops['L6_labels']].sum(axis=0)\n",
    "            L6_inh_types = set(L6_prop_sum[L6_prop_sum >= ops['L6_layer_threshold']].index.values)\n",
    "            L5_inh_types = not_L1234_inh_types.difference(L6_inh_types)\n",
    "            # L1234_inh_types are going to be kept\n",
    "            # L5_inh_types are going to be \"other\"\n",
    "            # Ignore L6_inh_types (assume they won't be imaged)\n",
    "            keep_annotation = temp_annotation[temp_annotation['cluster_label'].isin(L1234_inh_types)]\n",
    "            other_annotation = temp_annotation[temp_annotation['cluster_label'].isin(L5_inh_types)]\n",
    "            \n",
    "            keep_groups += keep_annotation['group_label'].unique().tolist()\n",
    "\n",
    "            # Process \"other\" groups\n",
    "            other_group_level_label = f'{ops[\"GABAergic_other_group_level\"]}_label'\n",
    "            temp_other_groups = other_annotation['group_label'].unique().tolist()\n",
    "            if other_group_level_label == group_level_label: # no need to change group labels\n",
    "                other_groups += temp_other_groups\n",
    "            else:\n",
    "                # Add L5 after class label\n",
    "                other_group_labels = [f'GABAergic L5 {gl}' for gl in annotation[annotation['group_label'].isin(temp_other_groups)][other_group_level_label].values]\n",
    "                annotation.loc[annotation['group_label'].isin(temp_other_groups), 'group_label'] = other_group_labels\n",
    "                other_groups += np.unique(other_group_labels).tolist()\n",
    "        else:\n",
    "            keep_groups += temp_annotation['group_label'].unique().tolist()\n",
    "    # Assign keep and other mappings.\n",
    "    if ops['GABAergic_mapping_level'] == 'class':\n",
    "        keep_mappings += ['GABAergic']\n",
    "    else:\n",
    "        temp_annotation = annotation.query('class_label==\"GABAergic\"')\n",
    "        if ops['layer_1234_filter']:\n",
    "            # Filtering process should have been done already in the above if clause\n",
    "            # keep_annotation and other_annotation are already defined\n",
    "            keep_mappings += keep_annotation['mapping_label'].unique().tolist()\n",
    "            \n",
    "            # Process \"other\" groups\n",
    "            other_mapping_level_label = f'{ops[\"GABAergic_other_mapping_level\"]}_label'\n",
    "            temp_other_mappings = other_annotation['mapping_label'].unique().tolist()\n",
    "            if other_mapping_level_label == mapping_level_label: # no need to change mapping labels\n",
    "                other_mappings += temp_other_mappings\n",
    "            else:\n",
    "                # Add L5 after class label\n",
    "                other_mapping_labels = [f'GABAergic L5 {ml}' for ml in annotation[annotation['mapping_label'].isin(temp_other_mappings)][other_mapping_level_label].values]\n",
    "                annotation.loc[annotation['mapping_label'].isin(temp_other_mappings), 'mapping_label'] = other_mapping_labels\n",
    "                other_mappings += np.unique(other_mapping_labels).tolist()\n",
    "        else:\n",
    "            keep_mappings += temp_annotation['mapping_label'].unique().tolist()\n"
   ]
  },
  {
   "cell_type": "code",
   "execution_count": 141,
   "metadata": {},
   "outputs": [
    {
     "data": {
      "text/plain": [
       "{'Sst Crh 4930553C11Rik ', 'Sst Nts'}"
      ]
     },
     "execution_count": 141,
     "metadata": {},
     "output_type": "execute_result"
    }
   ],
   "source": [
    "L6_inh_types"
   ]
  },
  {
   "cell_type": "markdown",
   "metadata": {},
   "source": [
    "## Validation\n",
    "- Done with 'Pan-neuronal' setting"
   ]
  },
  {
   "cell_type": "code",
   "execution_count": 73,
   "metadata": {},
   "outputs": [
    {
     "data": {
      "text/html": [
       "<div>\n",
       "<style scoped>\n",
       "    .dataframe tbody tr th:only-of-type {\n",
       "        vertical-align: middle;\n",
       "    }\n",
       "\n",
       "    .dataframe tbody tr th {\n",
       "        vertical-align: top;\n",
       "    }\n",
       "\n",
       "    .dataframe thead th {\n",
       "        text-align: right;\n",
       "    }\n",
       "</style>\n",
       "<table border=\"1\" class=\"dataframe\">\n",
       "  <thead>\n",
       "    <tr style=\"text-align: right;\">\n",
       "      <th></th>\n",
       "      <th>class_label</th>\n",
       "      <th>cluster_label</th>\n",
       "      <th>group_label</th>\n",
       "      <th>mapping_label</th>\n",
       "    </tr>\n",
       "    <tr>\n",
       "      <th>sample_id</th>\n",
       "      <th></th>\n",
       "      <th></th>\n",
       "      <th></th>\n",
       "      <th></th>\n",
       "    </tr>\n",
       "  </thead>\n",
       "  <tbody>\n",
       "    <tr>\n",
       "      <th>LS-14690_S11_E1-50</th>\n",
       "      <td>Glutamatergic</td>\n",
       "      <td>L2/3 IT VISp Agmat</td>\n",
       "      <td>Glutamatergic L2/3 IT</td>\n",
       "      <td>Glutamatergic L2/3 IT VISp Agmat</td>\n",
       "    </tr>\n",
       "    <tr>\n",
       "      <th>LS-14692_S01_E1-50</th>\n",
       "      <td>Glutamatergic</td>\n",
       "      <td>L2/3 IT VISp Agmat</td>\n",
       "      <td>Glutamatergic L2/3 IT</td>\n",
       "      <td>Glutamatergic L2/3 IT VISp Agmat</td>\n",
       "    </tr>\n",
       "    <tr>\n",
       "      <th>LS-14696_S33_E1-50</th>\n",
       "      <td>Glutamatergic</td>\n",
       "      <td>L2/3 IT VISp Adamts2</td>\n",
       "      <td>Glutamatergic L2/3 IT</td>\n",
       "      <td>Glutamatergic L2/3 IT VISp Adamts2</td>\n",
       "    </tr>\n",
       "    <tr>\n",
       "      <th>LS-14696_S34_E1-50</th>\n",
       "      <td>Glutamatergic</td>\n",
       "      <td>L2/3 IT VISp Agmat</td>\n",
       "      <td>Glutamatergic L2/3 IT</td>\n",
       "      <td>Glutamatergic L2/3 IT VISp Agmat</td>\n",
       "    </tr>\n",
       "    <tr>\n",
       "      <th>LS-14696_S35_E1-50</th>\n",
       "      <td>Glutamatergic</td>\n",
       "      <td>L2/3 IT VISp Agmat</td>\n",
       "      <td>Glutamatergic L2/3 IT</td>\n",
       "      <td>Glutamatergic L2/3 IT VISp Agmat</td>\n",
       "    </tr>\n",
       "    <tr>\n",
       "      <th>...</th>\n",
       "      <td>...</td>\n",
       "      <td>...</td>\n",
       "      <td>...</td>\n",
       "      <td>...</td>\n",
       "    </tr>\n",
       "    <tr>\n",
       "      <th>SM-GE8ZO_S094_E1-50</th>\n",
       "      <td>Glutamatergic</td>\n",
       "      <td>L2/3 IT VISp Agmat</td>\n",
       "      <td>Glutamatergic L2/3 IT</td>\n",
       "      <td>Glutamatergic L2/3 IT VISp Agmat</td>\n",
       "    </tr>\n",
       "    <tr>\n",
       "      <th>SM-GE8ZO_S095_E1-50</th>\n",
       "      <td>Glutamatergic</td>\n",
       "      <td>L2/3 IT VISp Adamts2</td>\n",
       "      <td>Glutamatergic L2/3 IT</td>\n",
       "      <td>Glutamatergic L2/3 IT VISp Adamts2</td>\n",
       "    </tr>\n",
       "    <tr>\n",
       "      <th>SM-GE8ZO_S096_E1-50</th>\n",
       "      <td>Glutamatergic</td>\n",
       "      <td>L2/3 IT VISp Adamts2</td>\n",
       "      <td>Glutamatergic L2/3 IT</td>\n",
       "      <td>Glutamatergic L2/3 IT VISp Adamts2</td>\n",
       "    </tr>\n",
       "    <tr>\n",
       "      <th>SM-GE91F_S187_E1-50</th>\n",
       "      <td>Glutamatergic</td>\n",
       "      <td>L2/3 IT VISp Agmat</td>\n",
       "      <td>Glutamatergic L2/3 IT</td>\n",
       "      <td>Glutamatergic L2/3 IT VISp Agmat</td>\n",
       "    </tr>\n",
       "    <tr>\n",
       "      <th>SQ-80004_S37_E1-50</th>\n",
       "      <td>Glutamatergic</td>\n",
       "      <td>L2/3 IT VISp Rrad</td>\n",
       "      <td>Glutamatergic L2/3 IT</td>\n",
       "      <td>Glutamatergic L2/3 IT VISp Rrad</td>\n",
       "    </tr>\n",
       "  </tbody>\n",
       "</table>\n",
       "<p>981 rows × 4 columns</p>\n",
       "</div>"
      ],
      "text/plain": [
       "                       class_label         cluster_label  \\\n",
       "sample_id                                                  \n",
       "LS-14690_S11_E1-50   Glutamatergic    L2/3 IT VISp Agmat   \n",
       "LS-14692_S01_E1-50   Glutamatergic    L2/3 IT VISp Agmat   \n",
       "LS-14696_S33_E1-50   Glutamatergic  L2/3 IT VISp Adamts2   \n",
       "LS-14696_S34_E1-50   Glutamatergic    L2/3 IT VISp Agmat   \n",
       "LS-14696_S35_E1-50   Glutamatergic    L2/3 IT VISp Agmat   \n",
       "...                            ...                   ...   \n",
       "SM-GE8ZO_S094_E1-50  Glutamatergic    L2/3 IT VISp Agmat   \n",
       "SM-GE8ZO_S095_E1-50  Glutamatergic  L2/3 IT VISp Adamts2   \n",
       "SM-GE8ZO_S096_E1-50  Glutamatergic  L2/3 IT VISp Adamts2   \n",
       "SM-GE91F_S187_E1-50  Glutamatergic    L2/3 IT VISp Agmat   \n",
       "SQ-80004_S37_E1-50   Glutamatergic     L2/3 IT VISp Rrad   \n",
       "\n",
       "                               group_label                       mapping_label  \n",
       "sample_id                                                                       \n",
       "LS-14690_S11_E1-50   Glutamatergic L2/3 IT    Glutamatergic L2/3 IT VISp Agmat  \n",
       "LS-14692_S01_E1-50   Glutamatergic L2/3 IT    Glutamatergic L2/3 IT VISp Agmat  \n",
       "LS-14696_S33_E1-50   Glutamatergic L2/3 IT  Glutamatergic L2/3 IT VISp Adamts2  \n",
       "LS-14696_S34_E1-50   Glutamatergic L2/3 IT    Glutamatergic L2/3 IT VISp Agmat  \n",
       "LS-14696_S35_E1-50   Glutamatergic L2/3 IT    Glutamatergic L2/3 IT VISp Agmat  \n",
       "...                                    ...                                 ...  \n",
       "SM-GE8ZO_S094_E1-50  Glutamatergic L2/3 IT    Glutamatergic L2/3 IT VISp Agmat  \n",
       "SM-GE8ZO_S095_E1-50  Glutamatergic L2/3 IT  Glutamatergic L2/3 IT VISp Adamts2  \n",
       "SM-GE8ZO_S096_E1-50  Glutamatergic L2/3 IT  Glutamatergic L2/3 IT VISp Adamts2  \n",
       "SM-GE91F_S187_E1-50  Glutamatergic L2/3 IT    Glutamatergic L2/3 IT VISp Agmat  \n",
       "SQ-80004_S37_E1-50   Glutamatergic L2/3 IT     Glutamatergic L2/3 IT VISp Rrad  \n",
       "\n",
       "[981 rows x 4 columns]"
      ]
     },
     "execution_count": 73,
     "metadata": {},
     "output_type": "execute_result"
    }
   ],
   "source": [
    "L23_exc = annotation[(annotation.class_label==\"Glutamatergic\") & annotation.cluster_label.str.startswith('L2/3')]\n",
    "L23_exc[['class_label', 'cluster_label', 'group_label', 'mapping_label']]"
   ]
  },
  {
   "cell_type": "code",
   "execution_count": 74,
   "metadata": {},
   "outputs": [
    {
     "name": "stdout",
     "output_type": "stream",
     "text": [
      "['Glutamatergic L2/3 IT']\n",
      "['Glutamatergic L2/3 IT VISp Agmat' 'Glutamatergic L2/3 IT VISp Adamts2'\n",
      " 'Glutamatergic L2/3 IT VISp Rrad']\n"
     ]
    }
   ],
   "source": [
    "print(L23_exc.group_label.unique())\n",
    "print(L23_exc.mapping_label.unique())"
   ]
  },
  {
   "cell_type": "code",
   "execution_count": 75,
   "metadata": {},
   "outputs": [
    {
     "data": {
      "text/html": [
       "<div>\n",
       "<style scoped>\n",
       "    .dataframe tbody tr th:only-of-type {\n",
       "        vertical-align: middle;\n",
       "    }\n",
       "\n",
       "    .dataframe tbody tr th {\n",
       "        vertical-align: top;\n",
       "    }\n",
       "\n",
       "    .dataframe thead th {\n",
       "        text-align: right;\n",
       "    }\n",
       "</style>\n",
       "<table border=\"1\" class=\"dataframe\">\n",
       "  <thead>\n",
       "    <tr style=\"text-align: right;\">\n",
       "      <th></th>\n",
       "      <th>class_label</th>\n",
       "      <th>cluster_label</th>\n",
       "      <th>group_label</th>\n",
       "      <th>mapping_label</th>\n",
       "    </tr>\n",
       "    <tr>\n",
       "      <th>sample_id</th>\n",
       "      <th></th>\n",
       "      <th></th>\n",
       "      <th></th>\n",
       "      <th></th>\n",
       "    </tr>\n",
       "  </thead>\n",
       "  <tbody>\n",
       "    <tr>\n",
       "      <th>LS-14690_S03_E1-50</th>\n",
       "      <td>Glutamatergic</td>\n",
       "      <td>L4 IT VISp Rspo1</td>\n",
       "      <td>Glutamatergic L4</td>\n",
       "      <td>Glutamatergic L4 IT VISp Rspo1</td>\n",
       "    </tr>\n",
       "    <tr>\n",
       "      <th>LS-14690_S05_E1-50</th>\n",
       "      <td>Glutamatergic</td>\n",
       "      <td>L4 IT VISp Rspo1</td>\n",
       "      <td>Glutamatergic L4</td>\n",
       "      <td>Glutamatergic L4 IT VISp Rspo1</td>\n",
       "    </tr>\n",
       "    <tr>\n",
       "      <th>LS-14690_S06_E1-50</th>\n",
       "      <td>Glutamatergic</td>\n",
       "      <td>L4 IT VISp Rspo1</td>\n",
       "      <td>Glutamatergic L4</td>\n",
       "      <td>Glutamatergic L4 IT VISp Rspo1</td>\n",
       "    </tr>\n",
       "    <tr>\n",
       "      <th>LS-14690_S07_E1-50</th>\n",
       "      <td>Glutamatergic</td>\n",
       "      <td>L4 IT VISp Rspo1</td>\n",
       "      <td>Glutamatergic L4</td>\n",
       "      <td>Glutamatergic L4 IT VISp Rspo1</td>\n",
       "    </tr>\n",
       "    <tr>\n",
       "      <th>LS-14690_S08_E1-50</th>\n",
       "      <td>Glutamatergic</td>\n",
       "      <td>L4 IT VISp Rspo1</td>\n",
       "      <td>Glutamatergic L4</td>\n",
       "      <td>Glutamatergic L4 IT VISp Rspo1</td>\n",
       "    </tr>\n",
       "    <tr>\n",
       "      <th>...</th>\n",
       "      <td>...</td>\n",
       "      <td>...</td>\n",
       "      <td>...</td>\n",
       "      <td>...</td>\n",
       "    </tr>\n",
       "    <tr>\n",
       "      <th>SM-GE91H_S343_E1-50</th>\n",
       "      <td>Glutamatergic</td>\n",
       "      <td>L4 IT VISp Rspo1</td>\n",
       "      <td>Glutamatergic L4</td>\n",
       "      <td>Glutamatergic L4 IT VISp Rspo1</td>\n",
       "    </tr>\n",
       "    <tr>\n",
       "      <th>SM-GE91H_S344_E1-50</th>\n",
       "      <td>Glutamatergic</td>\n",
       "      <td>L4 IT VISp Rspo1</td>\n",
       "      <td>Glutamatergic L4</td>\n",
       "      <td>Glutamatergic L4 IT VISp Rspo1</td>\n",
       "    </tr>\n",
       "    <tr>\n",
       "      <th>SM-GE91H_S362_E1-50</th>\n",
       "      <td>Glutamatergic</td>\n",
       "      <td>L4 IT VISp Rspo1</td>\n",
       "      <td>Glutamatergic L4</td>\n",
       "      <td>Glutamatergic L4 IT VISp Rspo1</td>\n",
       "    </tr>\n",
       "    <tr>\n",
       "      <th>SQ-80001_S12_E1-50</th>\n",
       "      <td>Glutamatergic</td>\n",
       "      <td>L4 IT VISp Rspo1</td>\n",
       "      <td>Glutamatergic L4</td>\n",
       "      <td>Glutamatergic L4 IT VISp Rspo1</td>\n",
       "    </tr>\n",
       "    <tr>\n",
       "      <th>SQ-80004_S44_E1-50</th>\n",
       "      <td>Glutamatergic</td>\n",
       "      <td>L4 IT VISp Rspo1</td>\n",
       "      <td>Glutamatergic L4</td>\n",
       "      <td>Glutamatergic L4 IT VISp Rspo1</td>\n",
       "    </tr>\n",
       "  </tbody>\n",
       "</table>\n",
       "<p>1401 rows × 4 columns</p>\n",
       "</div>"
      ],
      "text/plain": [
       "                       class_label     cluster_label       group_label  \\\n",
       "sample_id                                                                \n",
       "LS-14690_S03_E1-50   Glutamatergic  L4 IT VISp Rspo1  Glutamatergic L4   \n",
       "LS-14690_S05_E1-50   Glutamatergic  L4 IT VISp Rspo1  Glutamatergic L4   \n",
       "LS-14690_S06_E1-50   Glutamatergic  L4 IT VISp Rspo1  Glutamatergic L4   \n",
       "LS-14690_S07_E1-50   Glutamatergic  L4 IT VISp Rspo1  Glutamatergic L4   \n",
       "LS-14690_S08_E1-50   Glutamatergic  L4 IT VISp Rspo1  Glutamatergic L4   \n",
       "...                            ...               ...               ...   \n",
       "SM-GE91H_S343_E1-50  Glutamatergic  L4 IT VISp Rspo1  Glutamatergic L4   \n",
       "SM-GE91H_S344_E1-50  Glutamatergic  L4 IT VISp Rspo1  Glutamatergic L4   \n",
       "SM-GE91H_S362_E1-50  Glutamatergic  L4 IT VISp Rspo1  Glutamatergic L4   \n",
       "SQ-80001_S12_E1-50   Glutamatergic  L4 IT VISp Rspo1  Glutamatergic L4   \n",
       "SQ-80004_S44_E1-50   Glutamatergic  L4 IT VISp Rspo1  Glutamatergic L4   \n",
       "\n",
       "                                      mapping_label  \n",
       "sample_id                                            \n",
       "LS-14690_S03_E1-50   Glutamatergic L4 IT VISp Rspo1  \n",
       "LS-14690_S05_E1-50   Glutamatergic L4 IT VISp Rspo1  \n",
       "LS-14690_S06_E1-50   Glutamatergic L4 IT VISp Rspo1  \n",
       "LS-14690_S07_E1-50   Glutamatergic L4 IT VISp Rspo1  \n",
       "LS-14690_S08_E1-50   Glutamatergic L4 IT VISp Rspo1  \n",
       "...                                             ...  \n",
       "SM-GE91H_S343_E1-50  Glutamatergic L4 IT VISp Rspo1  \n",
       "SM-GE91H_S344_E1-50  Glutamatergic L4 IT VISp Rspo1  \n",
       "SM-GE91H_S362_E1-50  Glutamatergic L4 IT VISp Rspo1  \n",
       "SQ-80001_S12_E1-50   Glutamatergic L4 IT VISp Rspo1  \n",
       "SQ-80004_S44_E1-50   Glutamatergic L4 IT VISp Rspo1  \n",
       "\n",
       "[1401 rows x 4 columns]"
      ]
     },
     "execution_count": 75,
     "metadata": {},
     "output_type": "execute_result"
    }
   ],
   "source": [
    "L4_exc = annotation[(annotation.class_label==\"Glutamatergic\") & annotation.cluster_label.str.startswith('L4')]\n",
    "L4_exc[['class_label', 'cluster_label', 'group_label', 'mapping_label']]"
   ]
  },
  {
   "cell_type": "code",
   "execution_count": 78,
   "metadata": {},
   "outputs": [
    {
     "name": "stdout",
     "output_type": "stream",
     "text": [
      "['Glutamatergic L4']\n",
      "['Glutamatergic L4 IT VISp Rspo1']\n"
     ]
    }
   ],
   "source": [
    "print(L4_exc.group_label.unique())\n",
    "print(L4_exc.mapping_label.unique())"
   ]
  },
  {
   "cell_type": "code",
   "execution_count": 76,
   "metadata": {},
   "outputs": [
    {
     "data": {
      "text/html": [
       "<div>\n",
       "<style scoped>\n",
       "    .dataframe tbody tr th:only-of-type {\n",
       "        vertical-align: middle;\n",
       "    }\n",
       "\n",
       "    .dataframe tbody tr th {\n",
       "        vertical-align: top;\n",
       "    }\n",
       "\n",
       "    .dataframe thead th {\n",
       "        text-align: right;\n",
       "    }\n",
       "</style>\n",
       "<table border=\"1\" class=\"dataframe\">\n",
       "  <thead>\n",
       "    <tr style=\"text-align: right;\">\n",
       "      <th></th>\n",
       "      <th>class_label</th>\n",
       "      <th>cluster_label</th>\n",
       "      <th>group_label</th>\n",
       "      <th>mapping_label</th>\n",
       "    </tr>\n",
       "    <tr>\n",
       "      <th>sample_id</th>\n",
       "      <th></th>\n",
       "      <th></th>\n",
       "      <th></th>\n",
       "      <th></th>\n",
       "    </tr>\n",
       "  </thead>\n",
       "  <tbody>\n",
       "    <tr>\n",
       "      <th>LS-14690_S17_E1-50</th>\n",
       "      <td>Glutamatergic</td>\n",
       "      <td>L5 NP VISp Trhr Cpne7</td>\n",
       "      <td>Glutamatergic Glutamatergic</td>\n",
       "      <td>Glutamatergic L5 NP VISp Trhr Cpne7</td>\n",
       "    </tr>\n",
       "    <tr>\n",
       "      <th>LS-14690_S20_E1-50</th>\n",
       "      <td>Glutamatergic</td>\n",
       "      <td>L5 IT VISp Hsd11b1 Endou</td>\n",
       "      <td>Glutamatergic Glutamatergic</td>\n",
       "      <td>Glutamatergic L5 IT VISp Hsd11b1 Endou</td>\n",
       "    </tr>\n",
       "    <tr>\n",
       "      <th>LS-14690_S26_E1-50</th>\n",
       "      <td>Glutamatergic</td>\n",
       "      <td>L5 NP VISp Trhr Met</td>\n",
       "      <td>Glutamatergic Glutamatergic</td>\n",
       "      <td>Glutamatergic L5 NP VISp Trhr Met</td>\n",
       "    </tr>\n",
       "    <tr>\n",
       "      <th>LS-14690_S30_E1-50</th>\n",
       "      <td>Glutamatergic</td>\n",
       "      <td>L5 NP VISp Trhr Cpne7</td>\n",
       "      <td>Glutamatergic Glutamatergic</td>\n",
       "      <td>Glutamatergic L5 NP VISp Trhr Cpne7</td>\n",
       "    </tr>\n",
       "    <tr>\n",
       "      <th>LS-14690_S31_E1-50</th>\n",
       "      <td>Glutamatergic</td>\n",
       "      <td>L5 IT VISp Batf3</td>\n",
       "      <td>Glutamatergic Glutamatergic</td>\n",
       "      <td>Glutamatergic L5 IT VISp Batf3</td>\n",
       "    </tr>\n",
       "    <tr>\n",
       "      <th>...</th>\n",
       "      <td>...</td>\n",
       "      <td>...</td>\n",
       "      <td>...</td>\n",
       "      <td>...</td>\n",
       "    </tr>\n",
       "    <tr>\n",
       "      <th>SM-GE91H_S364_E1-50</th>\n",
       "      <td>Glutamatergic</td>\n",
       "      <td>L5 IT VISp Col6a1 Fezf2</td>\n",
       "      <td>Glutamatergic Glutamatergic</td>\n",
       "      <td>Glutamatergic L5 IT VISp Col6a1 Fezf2</td>\n",
       "    </tr>\n",
       "    <tr>\n",
       "      <th>SM-GE91H_S365_E1-50</th>\n",
       "      <td>Glutamatergic</td>\n",
       "      <td>L5 IT VISp Batf3</td>\n",
       "      <td>Glutamatergic Glutamatergic</td>\n",
       "      <td>Glutamatergic L5 IT VISp Batf3</td>\n",
       "    </tr>\n",
       "    <tr>\n",
       "      <th>SM-GE91H_S366_E1-50</th>\n",
       "      <td>Glutamatergic</td>\n",
       "      <td>L5 IT VISp Batf3</td>\n",
       "      <td>Glutamatergic Glutamatergic</td>\n",
       "      <td>Glutamatergic L5 IT VISp Batf3</td>\n",
       "    </tr>\n",
       "    <tr>\n",
       "      <th>SM-GE91H_S367_E1-50</th>\n",
       "      <td>Glutamatergic</td>\n",
       "      <td>L5 IT VISp Batf3</td>\n",
       "      <td>Glutamatergic Glutamatergic</td>\n",
       "      <td>Glutamatergic L5 IT VISp Batf3</td>\n",
       "    </tr>\n",
       "    <tr>\n",
       "      <th>SQ-80001_S13_E1-50</th>\n",
       "      <td>Glutamatergic</td>\n",
       "      <td>L5 NP VISp Trhr Met</td>\n",
       "      <td>Glutamatergic Glutamatergic</td>\n",
       "      <td>Glutamatergic L5 NP VISp Trhr Met</td>\n",
       "    </tr>\n",
       "  </tbody>\n",
       "</table>\n",
       "<p>1778 rows × 4 columns</p>\n",
       "</div>"
      ],
      "text/plain": [
       "                       class_label             cluster_label  \\\n",
       "sample_id                                                      \n",
       "LS-14690_S17_E1-50   Glutamatergic     L5 NP VISp Trhr Cpne7   \n",
       "LS-14690_S20_E1-50   Glutamatergic  L5 IT VISp Hsd11b1 Endou   \n",
       "LS-14690_S26_E1-50   Glutamatergic       L5 NP VISp Trhr Met   \n",
       "LS-14690_S30_E1-50   Glutamatergic     L5 NP VISp Trhr Cpne7   \n",
       "LS-14690_S31_E1-50   Glutamatergic          L5 IT VISp Batf3   \n",
       "...                            ...                       ...   \n",
       "SM-GE91H_S364_E1-50  Glutamatergic   L5 IT VISp Col6a1 Fezf2   \n",
       "SM-GE91H_S365_E1-50  Glutamatergic          L5 IT VISp Batf3   \n",
       "SM-GE91H_S366_E1-50  Glutamatergic          L5 IT VISp Batf3   \n",
       "SM-GE91H_S367_E1-50  Glutamatergic          L5 IT VISp Batf3   \n",
       "SQ-80001_S13_E1-50   Glutamatergic       L5 NP VISp Trhr Met   \n",
       "\n",
       "                                     group_label  \\\n",
       "sample_id                                          \n",
       "LS-14690_S17_E1-50   Glutamatergic Glutamatergic   \n",
       "LS-14690_S20_E1-50   Glutamatergic Glutamatergic   \n",
       "LS-14690_S26_E1-50   Glutamatergic Glutamatergic   \n",
       "LS-14690_S30_E1-50   Glutamatergic Glutamatergic   \n",
       "LS-14690_S31_E1-50   Glutamatergic Glutamatergic   \n",
       "...                                          ...   \n",
       "SM-GE91H_S364_E1-50  Glutamatergic Glutamatergic   \n",
       "SM-GE91H_S365_E1-50  Glutamatergic Glutamatergic   \n",
       "SM-GE91H_S366_E1-50  Glutamatergic Glutamatergic   \n",
       "SM-GE91H_S367_E1-50  Glutamatergic Glutamatergic   \n",
       "SQ-80001_S13_E1-50   Glutamatergic Glutamatergic   \n",
       "\n",
       "                                              mapping_label  \n",
       "sample_id                                                    \n",
       "LS-14690_S17_E1-50      Glutamatergic L5 NP VISp Trhr Cpne7  \n",
       "LS-14690_S20_E1-50   Glutamatergic L5 IT VISp Hsd11b1 Endou  \n",
       "LS-14690_S26_E1-50        Glutamatergic L5 NP VISp Trhr Met  \n",
       "LS-14690_S30_E1-50      Glutamatergic L5 NP VISp Trhr Cpne7  \n",
       "LS-14690_S31_E1-50           Glutamatergic L5 IT VISp Batf3  \n",
       "...                                                     ...  \n",
       "SM-GE91H_S364_E1-50   Glutamatergic L5 IT VISp Col6a1 Fezf2  \n",
       "SM-GE91H_S365_E1-50          Glutamatergic L5 IT VISp Batf3  \n",
       "SM-GE91H_S366_E1-50          Glutamatergic L5 IT VISp Batf3  \n",
       "SM-GE91H_S367_E1-50          Glutamatergic L5 IT VISp Batf3  \n",
       "SQ-80001_S13_E1-50        Glutamatergic L5 NP VISp Trhr Met  \n",
       "\n",
       "[1778 rows x 4 columns]"
      ]
     },
     "execution_count": 76,
     "metadata": {},
     "output_type": "execute_result"
    }
   ],
   "source": [
    "L5_exc = annotation[(annotation.class_label==\"Glutamatergic\") & (annotation.cluster_label.str.startswith('L5') | annotation.cluster_label.str.startswith('NP'))]\n",
    "L5_exc[['class_label', 'cluster_label', 'group_label', 'mapping_label']]"
   ]
  },
  {
   "cell_type": "code",
   "execution_count": 77,
   "metadata": {},
   "outputs": [
    {
     "name": "stdout",
     "output_type": "stream",
     "text": [
      "['Glutamatergic Glutamatergic']\n",
      "['Glutamatergic L5 NP VISp Trhr Cpne7'\n",
      " 'Glutamatergic L5 IT VISp Hsd11b1 Endou'\n",
      " 'Glutamatergic L5 NP VISp Trhr Met' 'Glutamatergic L5 IT VISp Batf3'\n",
      " 'Glutamatergic L5 IT VISp Col27a1' 'Glutamatergic L5 PT VISp Krt80'\n",
      " 'Glutamatergic L5 IT VISp Whrn Tox2'\n",
      " 'Glutamatergic L5 PT VISp C1ql2 Ptgfr' 'Glutamatergic L5 PT VISp Chrna6'\n",
      " 'Glutamatergic L5 IT VISp Col6a1 Fezf2'\n",
      " 'Glutamatergic L5 PT VISp C1ql2 Cdh13' 'Glutamatergic L5 PT VISp Lgr5']\n"
     ]
    }
   ],
   "source": [
    "print(L5_exc.group_label.unique())\n",
    "print(L5_exc.mapping_label.unique())"
   ]
  },
  {
   "cell_type": "code",
   "execution_count": 79,
   "metadata": {},
   "outputs": [
    {
     "data": {
      "text/html": [
       "<div>\n",
       "<style scoped>\n",
       "    .dataframe tbody tr th:only-of-type {\n",
       "        vertical-align: middle;\n",
       "    }\n",
       "\n",
       "    .dataframe tbody tr th {\n",
       "        vertical-align: top;\n",
       "    }\n",
       "\n",
       "    .dataframe thead th {\n",
       "        text-align: right;\n",
       "    }\n",
       "</style>\n",
       "<table border=\"1\" class=\"dataframe\">\n",
       "  <thead>\n",
       "    <tr style=\"text-align: right;\">\n",
       "      <th></th>\n",
       "      <th>class_label</th>\n",
       "      <th>cluster_label</th>\n",
       "      <th>group_label</th>\n",
       "      <th>mapping_label</th>\n",
       "    </tr>\n",
       "    <tr>\n",
       "      <th>sample_id</th>\n",
       "      <th></th>\n",
       "      <th></th>\n",
       "      <th></th>\n",
       "      <th></th>\n",
       "    </tr>\n",
       "  </thead>\n",
       "  <tbody>\n",
       "    <tr>\n",
       "      <th>LS-14690_S34_E1-50</th>\n",
       "      <td>Glutamatergic</td>\n",
       "      <td>L6 CT VISp Ctxn3 Brinp3</td>\n",
       "      <td>Glutamatergic L6 CT</td>\n",
       "      <td>Glutamatergic L6 CT VISp Ctxn3 Brinp3</td>\n",
       "    </tr>\n",
       "    <tr>\n",
       "      <th>LS-14690_S35_E1-50</th>\n",
       "      <td>Glutamatergic</td>\n",
       "      <td>L6 IT VISp Penk Col27a1</td>\n",
       "      <td>Glutamatergic L6 IT</td>\n",
       "      <td>Glutamatergic L6 IT VISp Penk Col27a1</td>\n",
       "    </tr>\n",
       "    <tr>\n",
       "      <th>LS-14690_S36_E1-50</th>\n",
       "      <td>Glutamatergic</td>\n",
       "      <td>L6 CT VISp Ctxn3 Brinp3</td>\n",
       "      <td>Glutamatergic L6 CT</td>\n",
       "      <td>Glutamatergic L6 CT VISp Ctxn3 Brinp3</td>\n",
       "    </tr>\n",
       "    <tr>\n",
       "      <th>LS-14690_S38_E1-50</th>\n",
       "      <td>Glutamatergic</td>\n",
       "      <td>L6 IT VISp Col23a1 Adamts2</td>\n",
       "      <td>Glutamatergic L6 IT</td>\n",
       "      <td>Glutamatergic L6 IT VISp Col23a1 Adamts2</td>\n",
       "    </tr>\n",
       "    <tr>\n",
       "      <th>LS-14690_S40_E1-50</th>\n",
       "      <td>Glutamatergic</td>\n",
       "      <td>L6 IT VISp Penk Col27a1</td>\n",
       "      <td>Glutamatergic L6 IT</td>\n",
       "      <td>Glutamatergic L6 IT VISp Penk Col27a1</td>\n",
       "    </tr>\n",
       "    <tr>\n",
       "      <th>...</th>\n",
       "      <td>...</td>\n",
       "      <td>...</td>\n",
       "      <td>...</td>\n",
       "      <td>...</td>\n",
       "    </tr>\n",
       "    <tr>\n",
       "      <th>SM-GE8ZL_S112_E1-50</th>\n",
       "      <td>Glutamatergic</td>\n",
       "      <td>L6 CT VISp Nxph2 Wls</td>\n",
       "      <td>Glutamatergic L6 CT</td>\n",
       "      <td>Glutamatergic L6 CT VISp Nxph2 Wls</td>\n",
       "    </tr>\n",
       "    <tr>\n",
       "      <th>SM-GE8ZL_S176_E1-50</th>\n",
       "      <td>Glutamatergic</td>\n",
       "      <td>L6 IT VISp Penk Col27a1</td>\n",
       "      <td>Glutamatergic L6 IT</td>\n",
       "      <td>Glutamatergic L6 IT VISp Penk Col27a1</td>\n",
       "    </tr>\n",
       "    <tr>\n",
       "      <th>SM-GE8ZO_S035_E1-50</th>\n",
       "      <td>Glutamatergic</td>\n",
       "      <td>L6 CT VISp Ctxn3 Brinp3</td>\n",
       "      <td>Glutamatergic L6 CT</td>\n",
       "      <td>Glutamatergic L6 CT VISp Ctxn3 Brinp3</td>\n",
       "    </tr>\n",
       "    <tr>\n",
       "      <th>SM-GE91H_S368_E1-50</th>\n",
       "      <td>Glutamatergic</td>\n",
       "      <td>L6 IT VISp Penk Col27a1</td>\n",
       "      <td>Glutamatergic L6 IT</td>\n",
       "      <td>Glutamatergic L6 IT VISp Penk Col27a1</td>\n",
       "    </tr>\n",
       "    <tr>\n",
       "      <th>SQ-80001_S26_E1-50</th>\n",
       "      <td>Glutamatergic</td>\n",
       "      <td>L6 CT VISp Ctxn3 Sla</td>\n",
       "      <td>Glutamatergic L6 CT</td>\n",
       "      <td>Glutamatergic L6 CT VISp Ctxn3 Sla</td>\n",
       "    </tr>\n",
       "  </tbody>\n",
       "</table>\n",
       "<p>3186 rows × 4 columns</p>\n",
       "</div>"
      ],
      "text/plain": [
       "                       class_label               cluster_label  \\\n",
       "sample_id                                                        \n",
       "LS-14690_S34_E1-50   Glutamatergic     L6 CT VISp Ctxn3 Brinp3   \n",
       "LS-14690_S35_E1-50   Glutamatergic     L6 IT VISp Penk Col27a1   \n",
       "LS-14690_S36_E1-50   Glutamatergic     L6 CT VISp Ctxn3 Brinp3   \n",
       "LS-14690_S38_E1-50   Glutamatergic  L6 IT VISp Col23a1 Adamts2   \n",
       "LS-14690_S40_E1-50   Glutamatergic     L6 IT VISp Penk Col27a1   \n",
       "...                            ...                         ...   \n",
       "SM-GE8ZL_S112_E1-50  Glutamatergic        L6 CT VISp Nxph2 Wls   \n",
       "SM-GE8ZL_S176_E1-50  Glutamatergic     L6 IT VISp Penk Col27a1   \n",
       "SM-GE8ZO_S035_E1-50  Glutamatergic     L6 CT VISp Ctxn3 Brinp3   \n",
       "SM-GE91H_S368_E1-50  Glutamatergic     L6 IT VISp Penk Col27a1   \n",
       "SQ-80001_S26_E1-50   Glutamatergic        L6 CT VISp Ctxn3 Sla   \n",
       "\n",
       "                             group_label  \\\n",
       "sample_id                                  \n",
       "LS-14690_S34_E1-50   Glutamatergic L6 CT   \n",
       "LS-14690_S35_E1-50   Glutamatergic L6 IT   \n",
       "LS-14690_S36_E1-50   Glutamatergic L6 CT   \n",
       "LS-14690_S38_E1-50   Glutamatergic L6 IT   \n",
       "LS-14690_S40_E1-50   Glutamatergic L6 IT   \n",
       "...                                  ...   \n",
       "SM-GE8ZL_S112_E1-50  Glutamatergic L6 CT   \n",
       "SM-GE8ZL_S176_E1-50  Glutamatergic L6 IT   \n",
       "SM-GE8ZO_S035_E1-50  Glutamatergic L6 CT   \n",
       "SM-GE91H_S368_E1-50  Glutamatergic L6 IT   \n",
       "SQ-80001_S26_E1-50   Glutamatergic L6 CT   \n",
       "\n",
       "                                                mapping_label  \n",
       "sample_id                                                      \n",
       "LS-14690_S34_E1-50      Glutamatergic L6 CT VISp Ctxn3 Brinp3  \n",
       "LS-14690_S35_E1-50      Glutamatergic L6 IT VISp Penk Col27a1  \n",
       "LS-14690_S36_E1-50      Glutamatergic L6 CT VISp Ctxn3 Brinp3  \n",
       "LS-14690_S38_E1-50   Glutamatergic L6 IT VISp Col23a1 Adamts2  \n",
       "LS-14690_S40_E1-50      Glutamatergic L6 IT VISp Penk Col27a1  \n",
       "...                                                       ...  \n",
       "SM-GE8ZL_S112_E1-50        Glutamatergic L6 CT VISp Nxph2 Wls  \n",
       "SM-GE8ZL_S176_E1-50     Glutamatergic L6 IT VISp Penk Col27a1  \n",
       "SM-GE8ZO_S035_E1-50     Glutamatergic L6 CT VISp Ctxn3 Brinp3  \n",
       "SM-GE91H_S368_E1-50     Glutamatergic L6 IT VISp Penk Col27a1  \n",
       "SQ-80001_S26_E1-50         Glutamatergic L6 CT VISp Ctxn3 Sla  \n",
       "\n",
       "[3186 rows x 4 columns]"
      ]
     },
     "execution_count": 79,
     "metadata": {},
     "output_type": "execute_result"
    }
   ],
   "source": [
    "L6_exc = annotation[(annotation.class_label==\"Glutamatergic\") & annotation.cluster_label.str.startswith('L6')]\n",
    "L6_exc[['class_label', 'cluster_label', 'group_label', 'mapping_label']]"
   ]
  },
  {
   "cell_type": "code",
   "execution_count": 80,
   "metadata": {},
   "outputs": [
    {
     "name": "stdout",
     "output_type": "stream",
     "text": [
      "['Glutamatergic L6 CT' 'Glutamatergic L6 IT' 'Glutamatergic L6b']\n",
      "['Glutamatergic L6 CT VISp Ctxn3 Brinp3'\n",
      " 'Glutamatergic L6 IT VISp Penk Col27a1'\n",
      " 'Glutamatergic L6 IT VISp Col23a1 Adamts2'\n",
      " 'Glutamatergic L6 IT VISp Col18a1' 'Glutamatergic L6 IT VISp Penk Fst'\n",
      " 'Glutamatergic L6 IT VISp Car3' 'Glutamatergic L6 CT VISp Ctxn3 Sla'\n",
      " 'Glutamatergic L6 CT VISp Krt80 Sla' 'Glutamatergic L6b P2ry12'\n",
      " 'Glutamatergic L6 CT VISp Nxph2 Wls' 'Glutamatergic L6 CT VISp Gpr139'\n",
      " 'Glutamatergic L6b VISp Mup5' 'Glutamatergic L6b Col8a1 Rprm'\n",
      " 'Glutamatergic L6 CT Nxph2 Sla' 'Glutamatergic L6b VISp Col8a1 Rxfp1'\n",
      " 'Glutamatergic L6b VISp Crh' 'Glutamatergic L6b Hsd17b2']\n"
     ]
    }
   ],
   "source": [
    "print(L6_exc.group_label.unique())\n",
    "print(L6_exc.mapping_label.unique())"
   ]
  },
  {
   "cell_type": "code",
   "execution_count": 81,
   "metadata": {},
   "outputs": [
    {
     "data": {
      "text/plain": [
       "array(['GABAergic Pvalb Tpbg', 'GABAergic Vip Chat Htr1f',\n",
       "       'GABAergic Lamp5 Lsp1', 'GABAergic Sst Hpse Sema3c',\n",
       "       'GABAergic Vip Pygm C1ql1', 'GABAergic Vip Ptprt Pkp2',\n",
       "       'GABAergic Vip Igfbp4 Mab21l1', 'GABAergic Sst Chodl',\n",
       "       'GABAergic Lamp5 Ntn1 Npy2r', 'GABAergic Vip Igfbp6 Car10',\n",
       "       'GABAergic Vip Crispld2 Kcne4', 'GABAergic Vip Igfbp6 Pltp',\n",
       "       'GABAergic L5 GABAergic', 'GABAergic Pvalb Reln Itm2a',\n",
       "       'GABAergic Vip Lmo1 Myl1', 'GABAergic Vip Crispld2 Htr2c',\n",
       "       'GABAergic Lamp5 Plch2 Dock5', 'GABAergic Vip Col15a1 Pde1a',\n",
       "       'GABAergic Vip Rspo4 Rxfp1 Chat',\n",
       "       'GABAergic Lamp5 Fam19a1 Tmem182', 'GABAergic Lamp5 Fam19a1 Pax6',\n",
       "       'GABAergic Vip Arhgap36 Hmcn1', 'GABAergic Sncg Vip Itih5',\n",
       "       'GABAergic Lamp5 Lhx6', 'GABAergic Sncg Slc17a8',\n",
       "       'GABAergic Sncg Vip Nptx2', 'GABAergic Pvalb Vipr2',\n",
       "       'GABAergic Lamp5 Krt73', 'GABAergic Serpinf1 Aqp5 Vip',\n",
       "       'GABAergic Sst Calb2 Pdlim5', 'GABAergic Sst Mme Fam114a1',\n",
       "       'GABAergic Sst Hpse Cbln4', 'GABAergic Vip Lect1 Oxtr',\n",
       "       'GABAergic Sst Tac1 Htr1d', 'GABAergic Sncg Gpr50',\n",
       "       'GABAergic Vip Rspo1 Itga4', 'GABAergic Sst Tac1 Tacr3',\n",
       "       'GABAergic Sst Calb2 Necab1'], dtype=object)"
      ]
     },
     "execution_count": 81,
     "metadata": {},
     "output_type": "execute_result"
    }
   ],
   "source": [
    "annotation[annotation.class_label==\"GABAergic\"].group_label.unique()"
   ]
  },
  {
   "cell_type": "code",
   "execution_count": 82,
   "metadata": {},
   "outputs": [
    {
     "data": {
      "text/plain": [
       "array(['GABAergic Pvalb Tpbg', 'GABAergic Vip Chat Htr1f',\n",
       "       'GABAergic Lamp5 Lsp1', 'GABAergic Sst Hpse Sema3c',\n",
       "       'GABAergic Vip Pygm C1ql1', 'GABAergic Vip Ptprt Pkp2',\n",
       "       'GABAergic Vip Igfbp4 Mab21l1', 'GABAergic Sst Chodl',\n",
       "       'GABAergic Lamp5 Ntn1 Npy2r', 'GABAergic Vip Igfbp6 Car10',\n",
       "       'GABAergic Vip Crispld2 Kcne4', 'GABAergic Vip Igfbp6 Pltp',\n",
       "       'GABAergic L5 Vip Gpc3 Slc18a3', 'GABAergic Pvalb Reln Itm2a',\n",
       "       'GABAergic Vip Lmo1 Myl1', 'GABAergic Vip Crispld2 Htr2c',\n",
       "       'GABAergic Lamp5 Plch2 Dock5', 'GABAergic Vip Col15a1 Pde1a',\n",
       "       'GABAergic L5 Pvalb Gabrg1', 'GABAergic Vip Rspo4 Rxfp1 Chat',\n",
       "       'GABAergic Lamp5 Fam19a1 Tmem182', 'GABAergic Lamp5 Fam19a1 Pax6',\n",
       "       'GABAergic L5 Sst Chrna2 Ptgdr', 'GABAergic L5 Pvalb Reln Tac1',\n",
       "       'GABAergic Vip Arhgap36 Hmcn1', 'GABAergic L5 Pvalb Calb1 Sst',\n",
       "       'GABAergic L5 Sst Rxfp1 Prdm8', 'GABAergic L5 Pvalb Th Sst',\n",
       "       'GABAergic L5 Sst Nr2f2 Necab1', 'GABAergic L5 Sst Myh8 Etv1 ',\n",
       "       'GABAergic L5 Sst Rxfp1 Eya1', 'GABAergic L5 Sst Chrna2 Glra3',\n",
       "       'GABAergic Sncg Vip Itih5', 'GABAergic L5 Sst Tac2 Tacstd2',\n",
       "       'GABAergic L5 Sst Esm1', 'GABAergic Lamp5 Lhx6',\n",
       "       'GABAergic Sncg Slc17a8', 'GABAergic Sncg Vip Nptx2',\n",
       "       'GABAergic Pvalb Vipr2', 'GABAergic Lamp5 Krt73',\n",
       "       'GABAergic Serpinf1 Aqp5 Vip', 'GABAergic L5 Sst Myh8 Fibin',\n",
       "       'GABAergic L5 Serpinf1 Clrn1', 'GABAergic Sst Calb2 Pdlim5',\n",
       "       'GABAergic L5 Vip Lmo1 Fam159b', 'GABAergic L5 Sst Nts',\n",
       "       'GABAergic Sst Mme Fam114a1', 'GABAergic Sst Hpse Cbln4',\n",
       "       'GABAergic Vip Lect1 Oxtr', 'GABAergic Sst Tac1 Htr1d',\n",
       "       'GABAergic Sncg Gpr50', 'GABAergic Vip Rspo1 Itga4',\n",
       "       'GABAergic L5 Sst Crh 4930553C11Rik ',\n",
       "       'GABAergic L5 Sst Crhr2 Efemp1', 'GABAergic Sst Tac1 Tacr3',\n",
       "       'GABAergic L5 Sst Tac2 Myh4', 'GABAergic L5 Pvalb Akr1c18 Ntf3',\n",
       "       'GABAergic L5 Meis2 Adamts19', 'GABAergic Sst Calb2 Necab1',\n",
       "       'GABAergic L5 Pvalb Gpr149 Islr',\n",
       "       'GABAergic L5 Pvalb Sema3e Kank4'], dtype=object)"
      ]
     },
     "execution_count": 82,
     "metadata": {},
     "output_type": "execute_result"
    }
   ],
   "source": [
    "annotation[annotation.class_label==\"GABAergic\"].mapping_label.unique()"
   ]
  },
  {
   "cell_type": "code",
   "execution_count": 142,
   "metadata": {},
   "outputs": [
    {
     "data": {
      "text/plain": [
       "['Glutamatergic L4',\n",
       " 'Glutamatergic L2/3 IT',\n",
       " 'GABAergic Pvalb Tpbg',\n",
       " 'GABAergic Vip Chat Htr1f',\n",
       " 'GABAergic Lamp5 Lsp1',\n",
       " 'GABAergic Sst Hpse Sema3c',\n",
       " 'GABAergic Vip Pygm C1ql1',\n",
       " 'GABAergic Vip Ptprt Pkp2',\n",
       " 'GABAergic Vip Igfbp4 Mab21l1',\n",
       " 'GABAergic Sst Chodl',\n",
       " 'GABAergic Lamp5 Ntn1 Npy2r',\n",
       " 'GABAergic Vip Igfbp6 Car10',\n",
       " 'GABAergic Vip Crispld2 Kcne4',\n",
       " 'GABAergic Vip Igfbp6 Pltp',\n",
       " 'GABAergic Pvalb Reln Itm2a',\n",
       " 'GABAergic Vip Lmo1 Myl1',\n",
       " 'GABAergic Vip Crispld2 Htr2c',\n",
       " 'GABAergic Lamp5 Plch2 Dock5',\n",
       " 'GABAergic Vip Col15a1 Pde1a',\n",
       " 'GABAergic Vip Rspo4 Rxfp1 Chat',\n",
       " 'GABAergic Lamp5 Fam19a1 Tmem182',\n",
       " 'GABAergic Lamp5 Fam19a1 Pax6',\n",
       " 'GABAergic Vip Arhgap36 Hmcn1',\n",
       " 'GABAergic Sncg Vip Itih5',\n",
       " 'GABAergic Lamp5 Lhx6',\n",
       " 'GABAergic Sncg Slc17a8',\n",
       " 'GABAergic Sncg Vip Nptx2',\n",
       " 'GABAergic Pvalb Vipr2',\n",
       " 'GABAergic Lamp5 Krt73',\n",
       " 'GABAergic Serpinf1 Aqp5 Vip',\n",
       " 'GABAergic Sst Calb2 Pdlim5',\n",
       " 'GABAergic Sst Mme Fam114a1',\n",
       " 'GABAergic Sst Hpse Cbln4',\n",
       " 'GABAergic Vip Lect1 Oxtr',\n",
       " 'GABAergic Sst Tac1 Htr1d',\n",
       " 'GABAergic Sncg Gpr50',\n",
       " 'GABAergic Vip Rspo1 Itga4',\n",
       " 'GABAergic Sst Tac1 Tacr3',\n",
       " 'GABAergic Sst Calb2 Necab1']"
      ]
     },
     "execution_count": 142,
     "metadata": {},
     "output_type": "execute_result"
    }
   ],
   "source": [
    "keep_groups"
   ]
  },
  {
   "cell_type": "code",
   "execution_count": 134,
   "metadata": {},
   "outputs": [
    {
     "data": {
      "text/plain": [
       "['Glutamatergic L4 IT VISp Rspo1',\n",
       " 'Glutamatergic L2/3 IT VISp Agmat',\n",
       " 'Glutamatergic L2/3 IT VISp Adamts2',\n",
       " 'Glutamatergic L2/3 IT VISp Rrad',\n",
       " 'GABAergic Pvalb Tpbg',\n",
       " 'GABAergic Vip Chat Htr1f',\n",
       " 'GABAergic Lamp5 Lsp1',\n",
       " 'GABAergic Sst Hpse Sema3c',\n",
       " 'GABAergic Vip Pygm C1ql1',\n",
       " 'GABAergic Vip Ptprt Pkp2',\n",
       " 'GABAergic Vip Igfbp4 Mab21l1',\n",
       " 'GABAergic Sst Chodl',\n",
       " 'GABAergic Lamp5 Ntn1 Npy2r',\n",
       " 'GABAergic Vip Igfbp6 Car10',\n",
       " 'GABAergic Vip Crispld2 Kcne4',\n",
       " 'GABAergic Vip Igfbp6 Pltp',\n",
       " 'GABAergic Pvalb Reln Itm2a',\n",
       " 'GABAergic Vip Lmo1 Myl1',\n",
       " 'GABAergic Vip Crispld2 Htr2c',\n",
       " 'GABAergic Lamp5 Plch2 Dock5',\n",
       " 'GABAergic Vip Col15a1 Pde1a',\n",
       " 'GABAergic Vip Rspo4 Rxfp1 Chat',\n",
       " 'GABAergic Lamp5 Fam19a1 Tmem182',\n",
       " 'GABAergic Lamp5 Fam19a1 Pax6',\n",
       " 'GABAergic Vip Arhgap36 Hmcn1',\n",
       " 'GABAergic Sncg Vip Itih5',\n",
       " 'GABAergic Lamp5 Lhx6',\n",
       " 'GABAergic Sncg Slc17a8',\n",
       " 'GABAergic Sncg Vip Nptx2',\n",
       " 'GABAergic Pvalb Vipr2',\n",
       " 'GABAergic Lamp5 Krt73',\n",
       " 'GABAergic Serpinf1 Aqp5 Vip',\n",
       " 'GABAergic Sst Calb2 Pdlim5',\n",
       " 'GABAergic Sst Mme Fam114a1',\n",
       " 'GABAergic Sst Hpse Cbln4',\n",
       " 'GABAergic Vip Lect1 Oxtr',\n",
       " 'GABAergic Sst Tac1 Htr1d',\n",
       " 'GABAergic Sncg Gpr50',\n",
       " 'GABAergic Vip Rspo1 Itga4',\n",
       " 'GABAergic Sst Tac1 Tacr3',\n",
       " 'GABAergic Sst Calb2 Necab1']"
      ]
     },
     "execution_count": 134,
     "metadata": {},
     "output_type": "execute_result"
    }
   ],
   "source": [
    "keep_mappings"
   ]
  },
  {
   "cell_type": "code",
   "execution_count": 143,
   "metadata": {},
   "outputs": [
    {
     "data": {
      "text/plain": [
       "['Glutamatergic L5 Glutamatergic', 'GABAergic L5 GABAergic']"
      ]
     },
     "execution_count": 143,
     "metadata": {},
     "output_type": "execute_result"
    }
   ],
   "source": [
    "other_groups"
   ]
  },
  {
   "cell_type": "code",
   "execution_count": 144,
   "metadata": {},
   "outputs": [
    {
     "data": {
      "text/plain": [
       "['Glutamatergic L5 NP VISp Trhr Cpne7',\n",
       " 'Glutamatergic L5 IT VISp Hsd11b1 Endou',\n",
       " 'Glutamatergic L5 NP VISp Trhr Met',\n",
       " 'Glutamatergic L5 IT VISp Batf3',\n",
       " 'Glutamatergic L5 IT VISp Col27a1',\n",
       " 'Glutamatergic L5 PT VISp Krt80',\n",
       " 'Glutamatergic L5 IT VISp Whrn Tox2',\n",
       " 'Glutamatergic L5 PT VISp C1ql2 Ptgfr',\n",
       " 'Glutamatergic L5 PT VISp Chrna6',\n",
       " 'Glutamatergic L5 IT VISp Col6a1 Fezf2',\n",
       " 'Glutamatergic L5 PT VISp C1ql2 Cdh13',\n",
       " 'Glutamatergic L5 PT VISp Lgr5',\n",
       " 'GABAergic Vip Gpc3 Slc18a3',\n",
       " 'GABAergic Pvalb Gabrg1',\n",
       " 'GABAergic Sst Chrna2 Ptgdr',\n",
       " 'GABAergic Pvalb Reln Tac1',\n",
       " 'GABAergic Pvalb Calb1 Sst',\n",
       " 'GABAergic Sst Rxfp1 Prdm8',\n",
       " 'GABAergic Pvalb Th Sst',\n",
       " 'GABAergic Sst Nr2f2 Necab1',\n",
       " 'GABAergic Sst Myh8 Etv1 ',\n",
       " 'GABAergic Sst Rxfp1 Eya1',\n",
       " 'GABAergic Sst Chrna2 Glra3',\n",
       " 'GABAergic Sst Tac2 Tacstd2',\n",
       " 'GABAergic Sst Esm1',\n",
       " 'GABAergic Sst Myh8 Fibin',\n",
       " 'GABAergic Serpinf1 Clrn1',\n",
       " 'GABAergic Vip Lmo1 Fam159b',\n",
       " 'GABAergic Sst Crhr2 Efemp1',\n",
       " 'GABAergic Sst Tac2 Myh4',\n",
       " 'GABAergic Pvalb Akr1c18 Ntf3',\n",
       " 'GABAergic Meis2 Adamts19',\n",
       " 'GABAergic Pvalb Gpr149 Islr',\n",
       " 'GABAergic Pvalb Sema3e Kank4']"
      ]
     },
     "execution_count": 144,
     "metadata": {},
     "output_type": "execute_result"
    }
   ],
   "source": [
    "other_mappings"
   ]
  },
  {
   "cell_type": "code",
   "execution_count": 153,
   "metadata": {},
   "outputs": [],
   "source": [
    "assert np.all([og in annotation.group_label.unique() for og in other_groups])\n",
    "assert np.all([om in annotation.mapping_label.unique() for om in other_mappings])\n",
    "assert np.all([kg in annotation.group_label.unique() for kg in keep_groups])\n",
    "assert np.all([km in annotation.mapping_label.unique() for km in keep_mappings])"
   ]
  },
  {
   "cell_type": "code",
   "execution_count": 138,
   "metadata": {},
   "outputs": [
    {
     "data": {
      "text/plain": [
       "{'GABAergic Sst Crh 4930553C11Rik ',\n",
       " 'GABAergic Sst Nts',\n",
       " 'Glutamatergic CR',\n",
       " 'Glutamatergic L6 CT',\n",
       " 'Glutamatergic L6 IT',\n",
       " 'Glutamatergic L6b',\n",
       " nan}"
      ]
     },
     "execution_count": 138,
     "metadata": {},
     "output_type": "execute_result"
    }
   ],
   "source": [
    "set(annotation.group_label.unique()).difference(other_groups + keep_groups)"
   ]
  },
  {
   "cell_type": "code",
   "execution_count": 139,
   "metadata": {},
   "outputs": [
    {
     "data": {
      "text/plain": [
       "{'GABAergic Sst Crh 4930553C11Rik ',\n",
       " 'GABAergic Sst Nts',\n",
       " 'Glutamatergic CR Lhx5',\n",
       " 'Glutamatergic L6 CT Nxph2 Sla',\n",
       " 'Glutamatergic L6 CT VISp Ctxn3 Brinp3',\n",
       " 'Glutamatergic L6 CT VISp Ctxn3 Sla',\n",
       " 'Glutamatergic L6 CT VISp Gpr139',\n",
       " 'Glutamatergic L6 CT VISp Krt80 Sla',\n",
       " 'Glutamatergic L6 CT VISp Nxph2 Wls',\n",
       " 'Glutamatergic L6 IT VISp Car3',\n",
       " 'Glutamatergic L6 IT VISp Col18a1',\n",
       " 'Glutamatergic L6 IT VISp Col23a1 Adamts2',\n",
       " 'Glutamatergic L6 IT VISp Penk Col27a1',\n",
       " 'Glutamatergic L6 IT VISp Penk Fst',\n",
       " 'Glutamatergic L6b Col8a1 Rprm',\n",
       " 'Glutamatergic L6b Hsd17b2',\n",
       " 'Glutamatergic L6b P2ry12',\n",
       " 'Glutamatergic L6b VISp Col8a1 Rxfp1',\n",
       " 'Glutamatergic L6b VISp Crh',\n",
       " 'Glutamatergic L6b VISp Mup5',\n",
       " nan}"
      ]
     },
     "execution_count": 139,
     "metadata": {},
     "output_type": "execute_result"
    }
   ],
   "source": [
    "set(annotation.mapping_label.unique()).difference(other_mappings + keep_mappings)"
   ]
  },
  {
   "cell_type": "markdown",
   "metadata": {},
   "source": [
    "# Filtering setting done\n"
   ]
  },
  {
   "cell_type": "markdown",
   "metadata": {},
   "source": [
    "# - Now address random seed issue\n",
    "- Divide on_cluster_mapping and on_cluster_group\n",
    "    - Filtering is based on mapping labels\n",
    "- Use on_cluster_mapping for initial mapping, and use on_cluster_group for classification performance calculation\n",
    "- Iternate multiple times (100) for one gene addition\n",
    "    - Try multiprocessing"
   ]
  },
  {
   "cell_type": "code",
   "execution_count": 157,
   "metadata": {},
   "outputs": [],
   "source": [
    "# assign cluster labels to the mapping label for those have nan\n",
    "annotation.loc[annotation.mapping_label.isna(), 'mapping_label'] = annotation.loc[annotation.mapping_label.isna(), 'cluster_label']"
   ]
  },
  {
   "cell_type": "code",
   "execution_count": 159,
   "metadata": {},
   "outputs": [
    {
     "data": {
      "text/plain": [
       "sample_id\n",
       "LS-14690_S02_E1-50       GABAergic Pvalb Tpbg\n",
       "LS-14690_S03_E1-50           Glutamatergic L4\n",
       "LS-14690_S05_E1-50           Glutamatergic L4\n",
       "LS-14690_S06_E1-50           Glutamatergic L4\n",
       "LS-14690_S07_E1-50           Glutamatergic L4\n",
       "                               ...           \n",
       "SQ-80004_S42_E1-50                        nan\n",
       "SQ-80004_S43_E1-50                        nan\n",
       "SQ-80004_S44_E1-50           Glutamatergic L4\n",
       "SQ-80004_S47_E1-50                        nan\n",
       "SQ-80004_S48_E1-50    GABAergic Vip Lmo1 Myl1\n",
       "Name: group_label, Length: 14236, dtype: object"
      ]
     },
     "execution_count": 159,
     "metadata": {},
     "output_type": "execute_result"
    }
   ],
   "source": [
    "annotation['group_label']"
   ]
  },
  {
   "cell_type": "code",
   "execution_count": 226,
   "metadata": {},
   "outputs": [],
   "source": [
    "\n",
    "# calculate proportions and medians for mapping labels and for group labels\n",
    "expr_thresh = 1\n",
    "# make data_log2 to have another level of columns with matching cluster names per cell ID\n",
    "tpm_log2_cluster = tpm_log2.copy().T\n",
    "gene_column_names = list(tpm_log2_cluster.columns)\n",
    "assert np.all(tpm_log2.columns == annotation.index.values)\n",
    "# groupby cluster and calculate median and proportion\n",
    "tpm_log2_cluster['mapping_label'] = annotation['mapping_label']\n",
    "tpm_log2_cluster['group_label'] = annotation['group_label']\n",
    "tpm_median_per_mapping = tpm_log2_cluster[gene_column_names + ['mapping_label']].groupby('mapping_label').median().T\n",
    "tpm_prop_expr_mapping = tpm_log2_cluster[gene_column_names + ['mapping_label']].groupby('mapping_label').apply(lambda x: (x > expr_thresh).mean(axis=0)).T\n",
    "tpm_median_per_group = tpm_log2_cluster[gene_column_names + ['group_label']].groupby('group_label').median().T\n",
    "tpm_prop_expr_group = tpm_log2_cluster[gene_column_names + ['group_label']].groupby('group_label').apply(lambda x: (x > expr_thresh).mean(axis=0)).T\n",
    "assert np.all(tpm_prop_expr_mapping.index.values == tpm_median_per_mapping.index.values)\n",
    "assert np.all(tpm_prop_expr_group.index.values == tpm_median_per_group.index.values)\n",
    "assert np.all(tpm_prop_expr_mapping.index.values == tpm_log2.index.values)\n",
    "assert np.all(tpm_prop_expr_group.index.values == tpm_log2.index.values)"
   ]
  },
  {
   "cell_type": "code",
   "execution_count": 227,
   "metadata": {},
   "outputs": [],
   "source": [
    "# calculate proportions and medians for mapping labels and for group labels\n",
    "expr_thresh = 1\n",
    "# make data_log2 to have another level of columns with matching cluster names per cell ID\n",
    "cpm_log2_cluster = cpm_log2.copy().T\n",
    "gene_column_names = list(cpm_log2_cluster.columns)\n",
    "assert np.all(cpm_log2.columns == annotation.index.values)\n",
    "# groupby cluster and calculate median and proportion\n",
    "cpm_log2_cluster['mapping_label'] = annotation['mapping_label']\n",
    "cpm_log2_cluster['group_label'] = annotation['group_label']\n",
    "cpm_median_per_mapping = cpm_log2_cluster[gene_column_names + ['mapping_label']].groupby('mapping_label').median().T\n",
    "cpm_prop_expr_mapping = cpm_log2_cluster[gene_column_names + ['mapping_label']].groupby('mapping_label').apply(lambda x: (x > expr_thresh).mean(axis=0)).T\n",
    "cpm_median_per_group = cpm_log2_cluster[gene_column_names + ['group_label']].groupby('group_label').median().T\n",
    "cpm_prop_expr_group = cpm_log2_cluster[gene_column_names + ['group_label']].groupby('group_label').apply(lambda x: (x > expr_thresh).mean(axis=0)).T\n",
    "assert np.all(cpm_prop_expr_mapping.index.values == cpm_median_per_mapping.index.values)\n",
    "assert np.all(cpm_prop_expr_group.index.values == cpm_median_per_group.index.values)\n",
    "assert np.all(cpm_prop_expr_mapping.index.values == cpm_log2.index.values)\n",
    "assert np.all(cpm_prop_expr_group.index.values == cpm_log2.index.values)"
   ]
  },
  {
   "cell_type": "code",
   "execution_count": 173,
   "metadata": {},
   "outputs": [
    {
     "data": {
      "text/plain": [
       "Index(['GABAergic Lamp5 Fam19a1 Pax6', 'GABAergic Lamp5 Fam19a1 Tmem182',\n",
       "       'GABAergic Lamp5 Krt73', 'GABAergic Lamp5 Lhx6', 'GABAergic Lamp5 Lsp1',\n",
       "       'GABAergic Lamp5 Ntn1 Npy2r', 'GABAergic Lamp5 Plch2 Dock5',\n",
       "       'GABAergic Meis2 Adamts19', 'GABAergic Pvalb Akr1c18 Ntf3',\n",
       "       'GABAergic Pvalb Calb1 Sst', 'GABAergic Pvalb Gabrg1',\n",
       "       'GABAergic Pvalb Gpr149 Islr', 'GABAergic Pvalb Reln Itm2a',\n",
       "       'GABAergic Pvalb Reln Tac1', 'GABAergic Pvalb Sema3e Kank4',\n",
       "       'GABAergic Pvalb Th Sst', 'GABAergic Pvalb Tpbg',\n",
       "       'GABAergic Pvalb Vipr2', 'GABAergic Serpinf1 Aqp5 Vip',\n",
       "       'GABAergic Serpinf1 Clrn1', 'GABAergic Sncg Gpr50',\n",
       "       'GABAergic Sncg Slc17a8', 'GABAergic Sncg Vip Itih5',\n",
       "       'GABAergic Sncg Vip Nptx2', 'GABAergic Sst Calb2 Necab1',\n",
       "       'GABAergic Sst Calb2 Pdlim5', 'GABAergic Sst Chodl',\n",
       "       'GABAergic Sst Chrna2 Glra3', 'GABAergic Sst Chrna2 Ptgdr',\n",
       "       'GABAergic Sst Crh 4930553C11Rik ', 'GABAergic Sst Crhr2 Efemp1',\n",
       "       'GABAergic Sst Esm1', 'GABAergic Sst Hpse Cbln4',\n",
       "       'GABAergic Sst Hpse Sema3c', 'GABAergic Sst Mme Fam114a1',\n",
       "       'GABAergic Sst Myh8 Etv1 ', 'GABAergic Sst Myh8 Fibin',\n",
       "       'GABAergic Sst Nr2f2 Necab1', 'GABAergic Sst Nts',\n",
       "       'GABAergic Sst Rxfp1 Eya1', 'GABAergic Sst Rxfp1 Prdm8',\n",
       "       'GABAergic Sst Tac1 Htr1d', 'GABAergic Sst Tac1 Tacr3',\n",
       "       'GABAergic Sst Tac2 Myh4', 'GABAergic Sst Tac2 Tacstd2',\n",
       "       'GABAergic Vip Arhgap36 Hmcn1', 'GABAergic Vip Chat Htr1f',\n",
       "       'GABAergic Vip Col15a1 Pde1a', 'GABAergic Vip Crispld2 Htr2c',\n",
       "       'GABAergic Vip Crispld2 Kcne4', 'GABAergic Vip Gpc3 Slc18a3',\n",
       "       'GABAergic Vip Igfbp4 Mab21l1', 'GABAergic Vip Igfbp6 Car10',\n",
       "       'GABAergic Vip Igfbp6 Pltp', 'GABAergic Vip Lect1 Oxtr',\n",
       "       'GABAergic Vip Lmo1 Fam159b', 'GABAergic Vip Lmo1 Myl1',\n",
       "       'GABAergic Vip Ptprt Pkp2', 'GABAergic Vip Pygm C1ql1',\n",
       "       'GABAergic Vip Rspo1 Itga4', 'GABAergic Vip Rspo4 Rxfp1 Chat',\n",
       "       'Glutamatergic CR Lhx5', 'Glutamatergic L2/3 IT VISp Adamts2',\n",
       "       'Glutamatergic L2/3 IT VISp Agmat', 'Glutamatergic L2/3 IT VISp Rrad',\n",
       "       'Glutamatergic L4 IT VISp Rspo1', 'Glutamatergic L5 IT VISp Batf3',\n",
       "       'Glutamatergic L5 IT VISp Col27a1',\n",
       "       'Glutamatergic L5 IT VISp Col6a1 Fezf2',\n",
       "       'Glutamatergic L5 IT VISp Hsd11b1 Endou',\n",
       "       'Glutamatergic L5 IT VISp Whrn Tox2',\n",
       "       'Glutamatergic L5 NP VISp Trhr Cpne7',\n",
       "       'Glutamatergic L5 NP VISp Trhr Met',\n",
       "       'Glutamatergic L5 PT VISp C1ql2 Cdh13',\n",
       "       'Glutamatergic L5 PT VISp C1ql2 Ptgfr',\n",
       "       'Glutamatergic L5 PT VISp Chrna6', 'Glutamatergic L5 PT VISp Krt80',\n",
       "       'Glutamatergic L5 PT VISp Lgr5', 'Glutamatergic L6 CT Nxph2 Sla',\n",
       "       'Glutamatergic L6 CT VISp Ctxn3 Brinp3',\n",
       "       'Glutamatergic L6 CT VISp Ctxn3 Sla', 'Glutamatergic L6 CT VISp Gpr139',\n",
       "       'Glutamatergic L6 CT VISp Krt80 Sla',\n",
       "       'Glutamatergic L6 CT VISp Nxph2 Wls', 'Glutamatergic L6 IT VISp Car3',\n",
       "       'Glutamatergic L6 IT VISp Col18a1',\n",
       "       'Glutamatergic L6 IT VISp Col23a1 Adamts2',\n",
       "       'Glutamatergic L6 IT VISp Penk Col27a1',\n",
       "       'Glutamatergic L6 IT VISp Penk Fst', 'Glutamatergic L6b Col8a1 Rprm',\n",
       "       'Glutamatergic L6b Hsd17b2', 'Glutamatergic L6b P2ry12',\n",
       "       'Glutamatergic L6b VISp Col8a1 Rxfp1', 'Glutamatergic L6b VISp Crh',\n",
       "       'Glutamatergic L6b VISp Mup5', 'nan'],\n",
       "      dtype='object', name='mapping_label')"
      ]
     },
     "execution_count": 173,
     "metadata": {},
     "output_type": "execute_result"
    }
   ],
   "source": [
    "prop_expr_mapping.columns"
   ]
  },
  {
   "cell_type": "code",
   "execution_count": 171,
   "metadata": {},
   "outputs": [
    {
     "name": "stdout",
     "output_type": "stream",
     "text": [
      "Data memory 0.04 GB\n"
     ]
    }
   ],
   "source": [
    "print(f'Data memory {sys.getsizeof(prop_expr_mapping) / 1e9:.2f} GB')"
   ]
  },
  {
   "cell_type": "code",
   "execution_count": 176,
   "metadata": {},
   "outputs": [
    {
     "data": {
      "text/plain": [
       "True"
      ]
     },
     "execution_count": 176,
     "metadata": {},
     "output_type": "execute_result"
    }
   ],
   "source": [
    "'Sst' in prop_expr_mapping.index.values"
   ]
  },
  {
   "cell_type": "code",
   "execution_count": null,
   "metadata": {},
   "outputs": [],
   "source": []
  },
  {
   "cell_type": "code",
   "execution_count": 189,
   "metadata": {},
   "outputs": [
    {
     "data": {
      "image/png": "[encoded data removed]",
      "text/plain": [
       "<Figure size 640x480 with 1 Axes>"
      ]
     },
     "metadata": {},
     "output_type": "display_data"
    }
   ],
   "source": [
    "plt.hist(data_log2.loc['Sst']);"
   ]
  },
  {
   "cell_type": "code",
   "execution_count": 199,
   "metadata": {},
   "outputs": [],
   "source": [
    "gene_info_df = pd.read_feather(data_folder / 'gene_info.feather')"
   ]
  },
  {
   "cell_type": "code",
   "execution_count": 201,
   "metadata": {},
   "outputs": [
    {
     "data": {
      "text/html": [
       "<div>\n",
       "<style scoped>\n",
       "    .dataframe tbody tr th:only-of-type {\n",
       "        vertical-align: middle;\n",
       "    }\n",
       "\n",
       "    .dataframe tbody tr th {\n",
       "        vertical-align: top;\n",
       "    }\n",
       "\n",
       "    .dataframe thead th {\n",
       "        text-align: right;\n",
       "    }\n",
       "</style>\n",
       "<table border=\"1\" class=\"dataframe\">\n",
       "  <thead>\n",
       "    <tr style=\"text-align: right;\">\n",
       "      <th></th>\n",
       "      <th>gene_id</th>\n",
       "      <th>chromosome</th>\n",
       "      <th>gene_entrez_id</th>\n",
       "      <th>gene_name</th>\n",
       "      <th>exon_length</th>\n",
       "    </tr>\n",
       "    <tr>\n",
       "      <th>gene_symbol</th>\n",
       "      <th></th>\n",
       "      <th></th>\n",
       "      <th></th>\n",
       "      <th></th>\n",
       "      <th></th>\n",
       "    </tr>\n",
       "  </thead>\n",
       "  <tbody>\n",
       "    <tr>\n",
       "      <th>0610005C13Rik</th>\n",
       "      <td>500717483</td>\n",
       "      <td>7</td>\n",
       "      <td>71661</td>\n",
       "      <td>RIKEN cDNA 0610005C13 gene</td>\n",
       "      <td>1122</td>\n",
       "    </tr>\n",
       "    <tr>\n",
       "      <th>0610006L08Rik</th>\n",
       "      <td>500717917</td>\n",
       "      <td>7</td>\n",
       "      <td>76253</td>\n",
       "      <td>RIKEN cDNA 0610006L08 gene</td>\n",
       "      <td>1131</td>\n",
       "    </tr>\n",
       "    <tr>\n",
       "      <th>0610007P14Rik</th>\n",
       "      <td>500730104</td>\n",
       "      <td>12</td>\n",
       "      <td>58520</td>\n",
       "      <td>RIKEN cDNA 0610007P14 gene</td>\n",
       "      <td>1569</td>\n",
       "    </tr>\n",
       "    <tr>\n",
       "      <th>0610009B22Rik</th>\n",
       "      <td>500726890</td>\n",
       "      <td>11</td>\n",
       "      <td>66050</td>\n",
       "      <td>RIKEN cDNA 0610009B22 gene</td>\n",
       "      <td>1425</td>\n",
       "    </tr>\n",
       "    <tr>\n",
       "      <th>0610009E02Rik</th>\n",
       "      <td>500702775</td>\n",
       "      <td>2</td>\n",
       "      <td>100125929</td>\n",
       "      <td>RIKEN cDNA 0610009E02 gene</td>\n",
       "      <td>1643</td>\n",
       "    </tr>\n",
       "  </tbody>\n",
       "</table>\n",
       "</div>"
      ],
      "text/plain": [
       "                 gene_id chromosome  gene_entrez_id  \\\n",
       "gene_symbol                                           \n",
       "0610005C13Rik  500717483          7           71661   \n",
       "0610006L08Rik  500717917          7           76253   \n",
       "0610007P14Rik  500730104         12           58520   \n",
       "0610009B22Rik  500726890         11           66050   \n",
       "0610009E02Rik  500702775          2       100125929   \n",
       "\n",
       "                                gene_name  exon_length  \n",
       "gene_symbol                                             \n",
       "0610005C13Rik  RIKEN cDNA 0610005C13 gene         1122  \n",
       "0610006L08Rik  RIKEN cDNA 0610006L08 gene         1131  \n",
       "0610007P14Rik  RIKEN cDNA 0610007P14 gene         1569  \n",
       "0610009B22Rik  RIKEN cDNA 0610009B22 gene         1425  \n",
       "0610009E02Rik  RIKEN cDNA 0610009E02 gene         1643  "
      ]
     },
     "execution_count": 201,
     "metadata": {},
     "output_type": "execute_result"
    }
   ],
   "source": [
    "gene_info_df.set_index('gene_symbol', inplace=True, drop=True)\n",
    "gene_info_df.head()"
   ]
  },
  {
   "cell_type": "code",
   "execution_count": 221,
   "metadata": {},
   "outputs": [
    {
     "data": {
      "text/plain": [
       "1"
      ]
     },
     "execution_count": 221,
     "metadata": {},
     "output_type": "execute_result"
    }
   ],
   "source": [
    "sum(gene_info_df.index.str.contains('Pvalb'))"
   ]
  },
  {
   "cell_type": "code",
   "execution_count": 222,
   "metadata": {},
   "outputs": [
    {
     "data": {
      "text/plain": [
       "gene_id             500736049\n",
       "chromosome                 15\n",
       "gene_entrez_id          19293\n",
       "gene_name         parvalbumin\n",
       "exon_length              1161\n",
       "Name: Pvalb, dtype: object"
      ]
     },
     "execution_count": 222,
     "metadata": {},
     "output_type": "execute_result"
    }
   ],
   "source": [
    "i = np.where(gene_info_df.index.str.contains('Pvalb'))[0][0]\n",
    "gene_info_df.iloc[i]"
   ]
  },
  {
   "cell_type": "code",
   "execution_count": 223,
   "metadata": {},
   "outputs": [
    {
     "data": {
      "text/plain": [
       "Text(0, 0.5, 'Count')"
      ]
     },
     "execution_count": 223,
     "metadata": {},
     "output_type": "execute_result"
    },
    {
     "data": {
      "image/png": "[encoded data removed]",
      "text/plain": [
       "<Figure size 640x480 with 1 Axes>"
      ]
     },
     "metadata": {},
     "output_type": "display_data"
    }
   ],
   "source": [
    "gene_name = 'Pvalb'\n",
    "exon_length = gene_info_df.loc[gene_name, 'exon_length']\n",
    "fig, ax = plt.subplots()\n",
    "ax.hist(tpm_data.loc[gene_name], bins=np.logspace(0,7,100), alpha=0.5, label='TPM');\n",
    "ax.hist(cpm_data.loc[gene_name], bins=np.logspace(0,7,100), alpha=0.5, label='CPM');\n",
    "ax.set_xscale('log')\n",
    "ax.set_title(f'{gene_name} (exon length={exon_length})')\n",
    "ax.legend()\n",
    "ax.set_xlabel('Expression')\n",
    "ax.set_ylabel('Count')"
   ]
  },
  {
   "cell_type": "code",
   "execution_count": 253,
   "metadata": {},
   "outputs": [
    {
     "data": {
      "image/png": "[encoded data removed]",
      "text/plain": [
       "<Figure size 1300x600 with 6 Axes>"
      ]
     },
     "metadata": {},
     "output_type": "display_data"
    }
   ],
   "source": [
    "gene_name_list = ['Sst', 'Vip', 'Tac1', 'Slc17a7', 'Gad2', 'Pvalb']\n",
    "fig, ax = plt.subplots(2, 3, figsize=(13,6), sharex=True, sharey=True)\n",
    "for i in range(len(gene_name_list)):\n",
    "    gene_name = gene_name_list[i]\n",
    "    exon_length = gene_info_df.loc[gene_name, 'exon_length']\n",
    "    # ax[i//3, i%3].hist(tpm_median_per_mapping.loc[gene_name], bins=np.linspace(0,20,40), alpha=0.5, label='TPM');\n",
    "    # ax[i//3, i%3].hist(cpm_median_per_mapping.loc[gene_name], bins=np.linspace(0,20,40), alpha=0.5, label='CPM');\n",
    "    ax[i//3, i%3].hist(tpm_median_per_mapping.loc[gene_name], bins=np.linspace(1,20,20), alpha=0.5, label='TPM');\n",
    "    ax[i//3, i%3].hist(cpm_median_per_mapping.loc[gene_name], bins=np.linspace(1,20,20), alpha=0.5, label='CPM');\n",
    "    ax[i//3, i%3].set_title(f'{gene_name} (exon length={exon_length})')\n",
    "    ax[i//3, i%3].legend()\n",
    "    ax[i//3, i%3].set_xlabel('Median expression per cluster (log2)')\n",
    "    ax[i//3, i%3].set_ylabel('Count')\n",
    "fig.tight_layout()"
   ]
  },
  {
   "cell_type": "code",
   "execution_count": 261,
   "metadata": {},
   "outputs": [
    {
     "data": {
      "image/png": "[encoded data removed]",
      "text/plain": [
       "<Figure size 1300x600 with 6 Axes>"
      ]
     },
     "metadata": {},
     "output_type": "display_data"
    }
   ],
   "source": [
    "tpm_summary_data = 2**tpm_median_per_mapping - 1\n",
    "cpm_summary_data = 2**cpm_median_per_mapping - 1\n",
    "gene_name_list = ['Sst', 'Vip', 'Tac1', 'Slc17a7', 'Gad2', 'Pvalb']\n",
    "fig, ax = plt.subplots(2, 3, figsize=(13,6), sharex=True, sharey=True)\n",
    "for i in range(len(gene_name_list)):\n",
    "    gene_name = gene_name_list[i]\n",
    "    exon_length = gene_info_df.loc[gene_name, 'exon_length']\n",
    "    # ax[i//3, i%3].hist(tpm_summary_data.loc[gene_name], alpha=0.5, label='TPM');\n",
    "    # ax[i//3, i%3].hist(cpm_summary_data.loc[gene_name], alpha=0.5, label='CPM');\n",
    "    ax[i//3, i%3].hist(tpm_summary_data.loc[gene_name], bins=np.logspace(0,6,12), alpha=0.5, label='TPM');\n",
    "    ax[i//3, i%3].hist(cpm_summary_data.loc[gene_name], bins=np.logspace(0,6,12), alpha=0.5, label='CPM');\n",
    "    ax[i//3, i%3].set_title(f'{gene_name} (exon length={exon_length})')\n",
    "    ax[i//3, i%3].axvline(250, color='r', label='max threshold')\n",
    "    ax[i//3, i%3].legend()\n",
    "    ax[i//3, i%3].set_xscale('log')\n",
    "    ax[i//3, i%3].set_xlabel('Median expression per cluster')\n",
    "    ax[i//3, i%3].set_ylabel('Count')\n",
    "fig.tight_layout()"
   ]
  },
  {
   "cell_type": "code",
   "execution_count": null,
   "metadata": {},
   "outputs": [],
   "source": [
    "tpm_summary_data = 2**tpm_median_per_mapping - 1\n",
    "cpm_summary_data = 2**cpm_median_per_mapping - 1\n",
    "gene_name_list = ['Sst', 'Vip', 'Tac1', 'Slc17a7', 'Gad2', 'Pvalb']\n",
    "fig, ax = plt.subplots(2, 3, figsize=(13,6), sharex=True, sharey=True)\n",
    "for i in range(len(gene_name_list)):\n",
    "    gene_name = gene_name_list[i]\n",
    "    exon_length = gene_info_df.loc[gene_name, 'exon_length']\n",
    "    # ax[i//3, i%3].hist(tpm_summary_data.loc[gene_name], alpha=0.5, label='TPM');\n",
    "    # ax[i//3, i%3].hist(cpm_summary_data.loc[gene_name], alpha=0.5, label='CPM');\n",
    "    ax[i//3, i%3].hist(tpm_summary_data.loc[gene_name], bins=np.logspace(0,6,12), alpha=0.5, label='TPM');\n",
    "    ax[i//3, i%3].hist(cpm_summary_data.loc[gene_name], bins=np.logspace(0,6,12), alpha=0.5, label='CPM');\n",
    "    ax[i//3, i%3].set_title(f'{gene_name} (exon length={exon_length})')\n",
    "    ax[i//3, i%3].axvline(250, color='r', label='max threshold')\n",
    "    ax[i//3, i%3].legend()\n",
    "    ax[i//3, i%3].set_xscale('log')\n",
    "    ax[i//3, i%3].set_xlabel('Median expression per cluster')\n",
    "    ax[i//3, i%3].set_ylabel('Count')\n",
    "fig.tight_layout()"
   ]
  }
 ],
 "metadata": {
  "kernelspec": {
   "display_name": "mfish",
   "language": "python",
   "name": "python3"
  },
  "language_info": {
   "codemirror_mode": {
    "name": "ipython",
    "version": 3
   },
   "file_extension": ".py",
   "mimetype": "text/x-python",
   "name": "python",
   "nbconvert_exporter": "python",
   "pygments_lexer": "ipython3",
   "version": "3.9.19"
  }
 },
 "nbformat": 4,
 "nbformat_minor": 2
}
