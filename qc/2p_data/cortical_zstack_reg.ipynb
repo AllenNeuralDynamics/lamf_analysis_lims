{
 "cells": [
  {
   "cell_type": "code",
   "execution_count": 1,
   "metadata": {},
   "outputs": [],
   "source": [
    "import numpy as np\n",
    "import brain_observatory_qc.pipeline_dev.scripts.depth_estimation_module as dem\n",
    "from tifffile import imread, imsave\n",
    "from pathlib import Path\n",
    "import cv2"
   ]
  },
  {
   "cell_type": "code",
   "execution_count": 2,
   "metadata": {},
   "outputs": [],
   "source": [
    "zstack_dir = Path(r'\\\\allen\\programs\\braintv\\workgroups\\ophysdev\\OPhysCore\\operator_files\\vivian_ha\\717487')\n",
    "zstack_fn = zstack_dir / '20240209_717487_corticalstack_V1_real_00001.tif'"
   ]
  },
  {
   "cell_type": "code",
   "execution_count": 3,
   "metadata": {},
   "outputs": [],
   "source": [
    "def read_si_stack_metadata(zstack_fn):\n",
    "    '''Reads metadata from a ScanImage z-stack tiff file.\n",
    "    \n",
    "    Args:\n",
    "        zstack_fn: str or Path, path to the z-stack tiff file\n",
    "        \n",
    "    Returns:\n",
    "        num_slices: int, number of slices in the z-stack\n",
    "        num_volumes: int, number of volumes in the z-stack\n",
    "        actuator: str, the actuator used to move the z-stack\n",
    "        z_values: np.array, the z values of each slice in the z-stack\n",
    "\n",
    "    TODO: check if actuator and z-values are correct\n",
    "    '''\n",
    "    from PIL import Image\n",
    "    from PIL.TiffTags import TAGS\n",
    "    with Image.open(zstack_fn) as img:\n",
    "        meta_dict = {TAGS[key] : img.tag[key] for key in img.tag_v2}\n",
    "    \n",
    "    num_slices_ind = np.where(['SI.hStackManager.numSlices = ' in x for x in meta_dict['Software'][0].split('\\n')])[0][0]\n",
    "    num_slices_txt = meta_dict['Software'][0].split('\\n')[num_slices_ind]\n",
    "    num_slices = int(num_slices_txt.split('= ')[1])\n",
    "    \n",
    "    num_volumes_ind = np.where(['SI.hStackManager.numVolumes = ' in x for x in meta_dict['Software'][0].split('\\n')])[0][0]\n",
    "    num_volumes_txt = meta_dict['Software'][0].split('\\n')[num_volumes_ind]\n",
    "    num_volumes = int(num_volumes_txt.split('= ')[1])\n",
    "\n",
    "    actuator_ind = np.where(['SI.hStackManager.stackActuator = ' in x for x in meta_dict['Software'][0].split('\\n')])[0][0]\n",
    "    actuator_txt = meta_dict['Software'][0].split('\\n')[actuator_ind]\n",
    "    actuator = actuator_txt.split('= ')[1].split('\\'')[1]\n",
    "\n",
    "    zs_ind = np.where(['SI.hStackManager.zs = ' in x for x in meta_dict['Software'][0].split('\\n')])[0][0]\n",
    "    zs = meta_dict['Software'][0].split('\\n')[zs_ind]\n",
    "    z_values = np.array([float(z) for z in zs.split('[')[1].split(']')[0].split(' ')])\n",
    "\n",
    "    return num_slices, num_volumes, actuator, z_values\n",
    "\n"
   ]
  },
  {
   "cell_type": "code",
   "execution_count": 4,
   "metadata": {},
   "outputs": [],
   "source": [
    "num_slices, num_volumes, actuator, z_values = read_si_stack_metadata(zstack_fn)"
   ]
  },
  {
   "cell_type": "code",
   "execution_count": 5,
   "metadata": {},
   "outputs": [],
   "source": [
    "# Takes about 5 min\n",
    "zstack = imread(zstack_fn)\n",
    "# it takes > 1 min to get n_frames from PIL (for 42000 frames)\n",
    "# No num pages from tiff metadata\n",
    "# opening tiff using cv2 does not make it faster"
   ]
  },
  {
   "cell_type": "code",
   "execution_count": 15,
   "metadata": {},
   "outputs": [],
   "source": [
    "# Takes about 50 min\n",
    "\n",
    "assert zstack.shape[0] == num_slices * num_volumes\n",
    "assert actuator == 'fastZ'\n",
    "mean_local_zstack_reg = []\n",
    "for plane_ind in range(num_slices):\n",
    "    plane_images = zstack[plane_ind::num_slices]\n",
    "    plane_reg = dem.average_reg_plane(plane_images)\n",
    "    mean_local_zstack_reg.append(plane_reg)\n"
   ]
  },
  {
   "cell_type": "code",
   "execution_count": null,
   "metadata": {},
   "outputs": [],
   "source": [
    "zstack_reg = dem.reg_between_planes(np.array(mean_local_zstack_reg))"
   ]
  },
  {
   "cell_type": "code",
   "execution_count": 16,
   "metadata": {},
   "outputs": [
    {
     "name": "stderr",
     "output_type": "stream",
     "text": [
      "C:\\Users\\jinho.kim\\AppData\\Local\\Temp\\ipykernel_22844\\936649946.py:2: DeprecationWarning: <tifffile.imsave> is deprecated. Use tifffile.imwrite\n",
      "  imsave(save_fn, zstack_reg.astype('uint16'))\n"
     ]
    }
   ],
   "source": [
    "save_fn = zstack_fn.parent / (zstack_fn.stem + '_reg.tif')\n",
    "imsave(save_fn, zstack_reg.astype('uint16'))"
   ]
  },
  {
   "cell_type": "code",
   "execution_count": null,
   "metadata": {},
   "outputs": [],
   "source": []
  }
 ],
 "metadata": {
  "kernelspec": {
   "display_name": "glm_boosting",
   "language": "python",
   "name": "python3"
  },
  "language_info": {
   "codemirror_mode": {
    "name": "ipython",
    "version": 3
   },
   "file_extension": ".py",
   "mimetype": "text/x-python",
   "name": "python",
   "nbconvert_exporter": "python",
   "pygments_lexer": "ipython3",
   "version": "3.8.18"
  }
 },
 "nbformat": 4,
 "nbformat_minor": 2
}
