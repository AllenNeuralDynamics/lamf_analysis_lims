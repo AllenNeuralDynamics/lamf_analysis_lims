{
 "cells": [
  {
   "cell_type": "markdown",
   "metadata": {},
   "source": [
    "# Example of registering cortical z-stack.\n",
    "- Updated: to use ophys-mfish-dev function\n",
    "\n",
    "\n",
    "- Compared to the previous version in brain_observatory_qc, the updated version implemenets picking the best inter-correlated frames from a plane, which greatly increases the quality of within-plane registration.\n",
    "    - Particularly for RiboL1-GCaMP.\n",
    "- depth_estimation_module updated on 02/13/2024"
   ]
  },
  {
   "cell_type": "code",
   "execution_count": 1,
   "metadata": {},
   "outputs": [],
   "source": [
    "# from ophys_mfish_dev.ophys import zstack\n",
    "from lamf_analysis.ophys import zstack\n",
    "from pathlib import Path\n",
    "from time import time\n",
    "import json"
   ]
  },
  {
   "cell_type": "code",
   "execution_count": 2,
   "metadata": {},
   "outputs": [],
   "source": [
    "zstack_paths = [Path(r'\\\\allen\\programs\\mindscope\\production\\learning\\prod1\\specimen_1341438089\\20240516_730932_visp_RG_retake_00002.tif'),\n",
    "                ]\n",
    "output_dir = Path(r'\\\\allen\\programs\\mindscope\\workgroups\\learning\\pilots\\GCaMP8\\AAV_RO')"
   ]
  },
  {
   "cell_type": "code",
   "execution_count": 2,
   "metadata": {},
   "outputs": [],
   "source": [
    "zstack_paths = [Path(r'\\\\allen\\programs\\mindscope\\workgroups\\learning\\pilots\\GCaMP8\\AAV_RO\\20240506_730933_week1_RG_00001.tif'),\n",
    "                Path(r'\\\\allen\\programs\\mindscope\\workgroups\\learning\\pilots\\GCaMP8\\AAV_RO\\20240506_730932_week1_RG_00001.tif'),\n",
    "                Path(r'\\\\allen\\programs\\mindscope\\workgroups\\learning\\pilots\\GCaMP8\\AAV_RO\\20240506_730929_week1_RG_00001.tif')]\n",
    "output_dir = Path(r'\\\\allen\\programs\\mindscope\\workgroups\\learning\\pilots\\GCaMP8\\AAV_RO')"
   ]
  },
  {
   "cell_type": "code",
   "execution_count": 3,
   "metadata": {},
   "outputs": [
    {
     "name": "stdout",
     "output_type": "stream",
     "text": [
      "Loading stack from: \\\\allen\\programs\\mindscope\\production\\learning\\prod1\\specimen_1341438089\\20240516_730932_visp_RG_retake_00002.tif\n",
      "Stack shape: (45000, 2, 512, 512) read in 989.23 s\n",
      "Parsing metadata...\n",
      "Metadata parsed in 13.12 s\n",
      "Found num_channels = 2, ref_channel = 0\n",
      "Registering zstack for reference channel: 0\n",
      "Stack info: plane_order=loop, n_planes=450, n_repeats_per_plane=100\n"
     ]
    },
    {
     "name": "stderr",
     "output_type": "stream",
     "text": [
      "100%|██████████| 450/450 [07:12<00:00,  1.04it/s]\n"
     ]
    },
    {
     "name": "stdout",
     "output_type": "stream",
     "text": [
      "Frame repeats registered in 443.68 s\n",
      "Registering between planes...\n",
      "Planes registered in 129.15 s\n",
      "Registering zstack for channel: 1, using shifts from reference channel\n",
      "Stack info: plane_order=loop, n_planes=450, n_repeats_per_plane=100\n"
     ]
    },
    {
     "name": "stderr",
     "output_type": "stream",
     "text": [
      "100%|██████████| 450/450 [03:13<00:00,  2.32it/s]\n"
     ]
    },
    {
     "name": "stdout",
     "output_type": "stream",
     "text": [
      "Frame repeats registered in 203.01 s\n",
      "Registering between planes for channel= 1...\n",
      "Planes registered in 12.53 s\n",
      "Total time to register cortical stack: 2652.59 s\n",
      "44.25 min passed\n"
     ]
    }
   ],
   "source": [
    "zstack_path = zstack_paths[0]\n",
    "zstack_name = zstack_path.name.split('.')[0]\n",
    "output_dir = output_dir / zstack_name\n",
    "output_dir.mkdir(parents=True, exist_ok=True)\n",
    "\n",
    "t0 = time()\n",
    "output_dict = zstack.register_cortical_stack(zstack_path, save=True, output_dir=output_dir,\n",
    "                                      ref_channel=0)\n",
    "with open(output_dir / 'processing.json', 'w') as f:\n",
    "    json.dump(output_dict, f, indent=4)\n",
    "t1 = time()\n",
    "print(f'{(t1-t0)/60:.2f} min passed')"
   ]
  },
  {
   "cell_type": "code",
   "execution_count": null,
   "metadata": {},
   "outputs": [],
   "source": [
    "for zstack_path in zstack_paths[1:]:\n",
    "    zstack_name = zstack_path.name.split('.')[0]\n",
    "    output_dir = output_dir / zstack_name\n",
    "    output_dir.mkdir(parents=True, exist_ok=True)\n",
    "\n",
    "    t0 = time()\n",
    "    output_dict = zstack.register_cortical_stack(zstack_path, save=True, output_dir=output_dir,\n",
    "                                        ref_channel=0)\n",
    "    with open(output_dir / 'processing.json', 'w') as f:\n",
    "        json.dump(output_dict, f, indent=4)"
   ]
  },
  {
   "cell_type": "code",
   "execution_count": 4,
   "metadata": {},
   "outputs": [],
   "source": [
    "zstack_paths = [Path(r'D:\\AAV-GCaMP8s\\20240506_730933_week1_RG_00001.tif'),\n",
    "                Path(r'\\D:\\AAV-GCaMP8s\\20240506_730932_week1_RG_00001.tif'),\n",
    "                Path(r'D:\\AAV-GCaMP8s\\20240506_730929_week1_RG_00001.tif')]\n",
    "output_dir = Path(r'\\\\allen\\programs\\mindscope\\workgroups\\learning\\pilots\\GCaMP8\\AAV_RO')"
   ]
  },
  {
   "cell_type": "code",
   "execution_count": 2,
   "metadata": {},
   "outputs": [],
   "source": [
    "zstack_paths = [Path(r'\\\\allen\\programs\\mindscope\\production\\learning\\prod1\\specimen_1384824885\\20240918_753016_visp_cortical_week1_red_00001.tif'),\n",
    "                Path(r'\\\\allen\\programs\\mindscope\\production\\learning\\prod1\\specimen_1384824885\\20240918_753016_visp_cortical_week1_green_00001.tif'),\n",
    "                Path(r'\\\\allen\\programs\\mindscope\\production\\learning\\prod1\\specimen_1385236652\\20240920_743116_visp_week1_cortical_red_00001.tif'),\n",
    "                Path(r'\\\\allen\\programs\\mindscope\\production\\learning\\prod1\\specimen_1385236652\\20240920_743116_visp_week1_cortical_green_00001.tif'),\n",
    "                Path(r'\\\\allen\\programs\\mindscope\\production\\learning\\prod1\\specimen_1381875512\\20240916_753014_visp_cortical_week1_redgreen_00001.tif'),\n",
    "                Path(r'\\\\allen\\programs\\mindscope\\production\\learning\\prod1\\specimen_1381875512\\20240916_753014_visp_cortical_week1_redgreen_all4channels_00001.tif'),\n",
    "                ]\n",
    "output_dir = Path(r'\\\\allen\\programs\\mindscope\\workgroups\\learning\\pilots\\red_channel_fiducial\\mScarlet3')"
   ]
  },
  {
   "cell_type": "code",
   "execution_count": 24,
   "metadata": {},
   "outputs": [
    {
     "data": {
      "text/plain": [
       "<module 'lamf_analysis.ophys.zstack' from 'c:\\\\users\\\\jinho.kim\\\\github\\\\lamf-analysis\\\\src\\\\lamf_analysis\\\\ophys\\\\zstack.py'>"
      ]
     },
     "execution_count": 24,
     "metadata": {},
     "output_type": "execute_result"
    }
   ],
   "source": [
    "from importlib import reload\n",
    "reload(zstack)"
   ]
  },
  {
   "cell_type": "code",
   "execution_count": 25,
   "metadata": {},
   "outputs": [
    {
     "name": "stdout",
     "output_type": "stream",
     "text": [
      "Loading stack from: \\\\allen\\programs\\mindscope\\production\\learning\\prod1\\specimen_1384824885\\20240918_753016_visp_cortical_week1_red_00001.tif\n"
     ]
    },
    {
     "name": "stderr",
     "output_type": "stream",
     "text": [
      "Exception ignored in: <function PluginV3.__del__ at 0x0000017FBC02A550>\n",
      "Traceback (most recent call last):\n",
      "  File \"C:\\Users\\jinho.kim\\AppData\\Roaming\\Python\\Python38\\site-packages\\imageio\\core\\v3_plugin_api.py\", line 370, in __del__\n",
      "    self.close()\n",
      "  File \"C:\\Users\\jinho.kim\\AppData\\Roaming\\Python\\Python38\\site-packages\\imageio\\plugins\\pillow.py\", line 144, in close\n",
      "    self._flush_writer()\n",
      "  File \"C:\\Users\\jinho.kim\\AppData\\Roaming\\Python\\Python38\\site-packages\\imageio\\plugins\\pillow.py\", line 485, in _flush_writer\n",
      "    primary_image.save(self._request.get_file(), **self.save_args)\n",
      "  File \"C:\\Users\\jinho.kim\\AppData\\Roaming\\Python\\Python38\\site-packages\\imageio\\core\\request.py\", line 490, in get_file\n",
      "    self._file = open(self.filename, \"wb\")\n",
      "FileNotFoundError: [Errno 2] No such file or directory: '\\\\\\\\allen\\\\programs\\\\mindscope\\\\workgroups\\\\learning\\\\pilots\\\\red_channel_fiducial\\\\mScarlet3\\\\20240918_753016_visp_cortical_week1_red_00001\\\\20240918_753016_visp_cortical_week1_red_00001\\\\channel_0\\\\1x_registered\\\\20240918_753016_visp_cortical_week1_red_00001_1xREG_2xREG_.gif'\n",
      "Exception ignored in: <function PluginV3.__del__ at 0x0000017FBC02A550>\n",
      "Traceback (most recent call last):\n",
      "  File \"C:\\Users\\jinho.kim\\AppData\\Roaming\\Python\\Python38\\site-packages\\imageio\\core\\v3_plugin_api.py\", line 370, in __del__\n",
      "    self.close()\n",
      "  File \"C:\\Users\\jinho.kim\\AppData\\Roaming\\Python\\Python38\\site-packages\\imageio\\plugins\\pillow.py\", line 144, in close\n",
      "    self._flush_writer()\n",
      "  File \"C:\\Users\\jinho.kim\\AppData\\Roaming\\Python\\Python38\\site-packages\\imageio\\plugins\\pillow.py\", line 485, in _flush_writer\n",
      "    primary_image.save(self._request.get_file(), **self.save_args)\n",
      "  File \"C:\\Users\\jinho.kim\\AppData\\Roaming\\Python\\Python38\\site-packages\\imageio\\core\\request.py\", line 490, in get_file\n",
      "    self._file = open(self.filename, \"wb\")\n",
      "FileNotFoundError: [Errno 2] No such file or directory: '\\\\\\\\allen\\\\programs\\\\mindscope\\\\workgroups\\\\learning\\\\pilots\\\\red_channel_fiducial\\\\mScarlet3\\\\20240918_753016_visp_cortical_week1_red_00001\\\\20240918_753016_visp_cortical_week1_red_00001\\\\channel_0\\\\1x_registered\\\\20240918_753016_visp_cortical_week1_red_00001_1xREG_1xREG.gif'\n"
     ]
    },
    {
     "name": "stdout",
     "output_type": "stream",
     "text": [
      "Stack shape: (45000, 512, 512) read in 294.33 s\n",
      "Parsing metadata...\n",
      "Metadata parsed in 6.45 s\n",
      "Registering zstack for reference channel: 0\n",
      "Stack info: plane_order=loop, n_planes=450, n_repeats_per_plane=100\n"
     ]
    },
    {
     "name": "stderr",
     "output_type": "stream",
     "text": [
      "2024-09-26 11:28:02,891 - distributed.scheduler - WARNING - Received heartbeat from unregistered worker 'tcp://127.0.0.1:65194'.\n"
     ]
    },
    {
     "name": "stdout",
     "output_type": "stream",
     "text": [
      "Frame repeats registered in 567.17 s\n",
      "Registering between planes...\n",
      "Planes registered in 155.11 s\n",
      "Total time to register cortical stack: 1309.73 s\n",
      "Loading stack from: \\\\allen\\programs\\mindscope\\production\\learning\\prod1\\specimen_1384824885\\20240918_753016_visp_cortical_week1_green_00001.tif\n",
      "Stack shape: (45000, 512, 512) read in 534.2 s\n",
      "Parsing metadata...\n",
      "Metadata parsed in 5.85 s\n",
      "Registering zstack for reference channel: 0\n",
      "Stack info: plane_order=loop, n_planes=450, n_repeats_per_plane=100\n",
      "Frame repeats registered in 588.18 s\n",
      "Registering between planes...\n",
      "Planes registered in 137.26 s\n",
      "Total time to register cortical stack: 1550.37 s\n",
      "Loading stack from: \\\\allen\\programs\\mindscope\\production\\learning\\prod1\\specimen_1385236652\\20240920_743116_visp_week1_cortical_red_00001.tif\n",
      "Stack shape: (45000, 512, 512) read in 551.05 s\n",
      "Parsing metadata...\n",
      "Metadata parsed in 5.46 s\n",
      "Registering zstack for reference channel: 0\n",
      "Stack info: plane_order=loop, n_planes=450, n_repeats_per_plane=100\n",
      "Frame repeats registered in 556.88 s\n",
      "Registering between planes...\n",
      "Planes registered in 133.61 s\n",
      "Total time to register cortical stack: 1532.63 s\n",
      "Loading stack from: \\\\allen\\programs\\mindscope\\production\\learning\\prod1\\specimen_1385236652\\20240920_743116_visp_week1_cortical_green_00001.tif\n",
      "Stack shape: (45000, 512, 512) read in 630.06 s\n",
      "Parsing metadata...\n",
      "Metadata parsed in 5.32 s\n",
      "Registering zstack for reference channel: 0\n",
      "Stack info: plane_order=loop, n_planes=450, n_repeats_per_plane=100\n",
      "Frame repeats registered in 593.94 s\n",
      "Registering between planes...\n",
      "Planes registered in 134.61 s\n",
      "Total time to register cortical stack: 1653.54 s\n",
      "Loading stack from: \\\\allen\\programs\\mindscope\\production\\learning\\prod1\\specimen_1381875512\\20240916_753014_visp_cortical_week1_redgreen_00001.tif\n",
      "Stack shape: (45000, 2, 512, 512) read in 1030.62 s\n",
      "Parsing metadata...\n",
      "Metadata parsed in 11.91 s\n",
      "Found num_channels = 2, ref_channel = 0\n",
      "Registering zstack for reference channel: 0\n",
      "Stack info: plane_order=loop, n_planes=450, n_repeats_per_plane=100\n",
      "Frame repeats registered in 568.2 s\n",
      "Registering between planes...\n",
      "Planes registered in 153.35 s\n",
      "Registering zstack for channel: 1, using shifts from reference channel\n",
      "Stack info: plane_order=loop, n_planes=450, n_repeats_per_plane=100\n",
      "Frame repeats registered in 337.11 s\n",
      "Registering between planes for channel= 1...\n",
      "Planes registered in 12.69 s\n",
      "Total time to register cortical stack: 2720.05 s\n",
      "Loading stack from: \\\\allen\\programs\\mindscope\\production\\learning\\prod1\\specimen_1381875512\\20240916_753014_visp_cortical_week1_redgreen_all4channels_00001.tif\n",
      "Stack shape: (45000, 4, 512, 512) read in 2304.61 s\n",
      "Parsing metadata...\n",
      "Metadata parsed in 21.14 s\n",
      "Found num_channels = 2, ref_channel = 0\n",
      "Registering zstack for reference channel: 0\n",
      "Stack info: plane_order=loop, n_planes=450, n_repeats_per_plane=100\n",
      "Frame repeats registered in 549.22 s\n",
      "Registering between planes...\n",
      "Planes registered in 133.95 s\n",
      "Registering zstack for channel: 1, using shifts from reference channel\n",
      "Stack info: plane_order=loop, n_planes=450, n_repeats_per_plane=100\n",
      "Frame repeats registered in 298.2 s\n",
      "Registering between planes for channel= 1...\n",
      "Planes registered in 12.95 s\n",
      "Total time to register cortical stack: 3900.22 s\n"
     ]
    }
   ],
   "source": [
    "for zstack_path in zstack_paths:\n",
    "    zstack_name = zstack_path.name.split('.')[0]\n",
    "\n",
    "    t0 = time()\n",
    "    output_dict = zstack.register_cortical_stack(zstack_path, save=True, output_dir=output_dir,\n",
    "                                        ref_channel=0)\n",
    "    with open(save_dir / 'processing.json', 'w') as f:\n",
    "        json.dump(output_dict, f, indent=4)"
   ]
  },
  {
   "cell_type": "code",
   "execution_count": null,
   "metadata": {},
   "outputs": [],
   "source": []
  },
  {
   "cell_type": "code",
   "execution_count": null,
   "metadata": {},
   "outputs": [],
   "source": []
  },
  {
   "cell_type": "code",
   "execution_count": null,
   "metadata": {},
   "outputs": [],
   "source": []
  },
  {
   "cell_type": "code",
   "execution_count": null,
   "metadata": {},
   "outputs": [],
   "source": []
  },
  {
   "cell_type": "code",
   "execution_count": null,
   "metadata": {},
   "outputs": [],
   "source": []
  },
  {
   "cell_type": "code",
   "execution_count": null,
   "metadata": {},
   "outputs": [],
   "source": []
  },
  {
   "cell_type": "code",
   "execution_count": null,
   "metadata": {},
   "outputs": [],
   "source": []
  },
  {
   "cell_type": "code",
   "execution_count": null,
   "metadata": {},
   "outputs": [],
   "source": []
  },
  {
   "cell_type": "markdown",
   "metadata": {},
   "source": [
    "# Archived"
   ]
  },
  {
   "cell_type": "code",
   "execution_count": 1,
   "metadata": {},
   "outputs": [],
   "source": [
    "import numpy as np\n",
    "import brain_observatory_qc.pipeline_dev.scripts.depth_estimation_module as dem\n",
    "from tifffile import imread, imsave\n",
    "from pathlib import Path\n",
    "import scipy\n",
    "import skimage\n",
    "import matplotlib.pyplot as plt\n",
    "import io\n",
    "import imageio\n",
    "import cv2"
   ]
  },
  {
   "cell_type": "code",
   "execution_count": 2,
   "metadata": {},
   "outputs": [],
   "source": [
    "# zstack_dir = Path(r'\\\\allen\\programs\\braintv\\workgroups\\ophysdev\\OPhysCore\\operator_files\\vivian_ha\\717487')\n",
    "# zstack_fn = zstack_dir / '20240209_717487_corticalstack_V1_real_00001.tif'\n",
    "\n",
    "# zstack_dir = Path(r'\\\\allen\\programs\\mindscope\\production\\u01bfct\\prod0\\specimen_1321880482')\n",
    "# zstack_fn = zstack_dir / '1329386702_cortical_z_stack0.tiff'\n",
    "\n",
    "zstack_dir = Path(r'\\\\allen\\programs\\braintv\\workgroups\\ophysdev\\OPhysCore\\operator_files\\vivian_ha\\mesoscope_experiements\\717489')\n",
    "zstack_fn = zstack_dir / '20240308_717489_corticalstack_V1_00001.tif'\n"
   ]
  },
  {
   "cell_type": "code",
   "execution_count": 3,
   "metadata": {},
   "outputs": [],
   "source": [
    "def read_si_stack_metadata(zstack_fn):\n",
    "    '''Reads metadata from a ScanImage z-stack tiff file.\n",
    "    \n",
    "    Args:\n",
    "        zstack_fn: str or Path, path to the z-stack tiff file\n",
    "        \n",
    "    Returns:\n",
    "        num_slices: int, number of slices in the z-stack\n",
    "        num_volumes: int, number of volumes in the z-stack\n",
    "        actuator: str, the actuator used to move the z-stack\n",
    "        z_values: np.array, the z values of each slice in the z-stack\n",
    "\n",
    "    TODO: check if actuator and z-values are correct\n",
    "    '''\n",
    "    from PIL import Image\n",
    "    from PIL.TiffTags import TAGS\n",
    "    with Image.open(zstack_fn) as img:\n",
    "        meta_dict = {TAGS[key] : img.tag[key] for key in img.tag_v2}\n",
    "    \n",
    "    num_slices_ind = np.where(['SI.hStackManager.numSlices = ' in x for x in meta_dict['Software'][0].split('\\n')])[0][0]\n",
    "    num_slices_txt = meta_dict['Software'][0].split('\\n')[num_slices_ind]\n",
    "    num_slices = int(num_slices_txt.split('= ')[1])\n",
    "    \n",
    "    num_volumes_ind = np.where(['SI.hStackManager.numVolumes = ' in x for x in meta_dict['Software'][0].split('\\n')])[0][0]\n",
    "    num_volumes_txt = meta_dict['Software'][0].split('\\n')[num_volumes_ind]\n",
    "    num_volumes = int(num_volumes_txt.split('= ')[1])\n",
    "\n",
    "    actuator_ind = np.where(['SI.hStackManager.stackActuator = ' in x for x in meta_dict['Software'][0].split('\\n')])[0][0]\n",
    "    actuator_txt = meta_dict['Software'][0].split('\\n')[actuator_ind]\n",
    "    actuator = actuator_txt.split('= ')[1].split('\\'')[1]\n",
    "\n",
    "    zs_ind = np.where(['SI.hStackManager.zs = ' in x for x in meta_dict['Software'][0].split('\\n')])[0][0]\n",
    "    zs = meta_dict['Software'][0].split('\\n')[zs_ind]\n",
    "    z_values = np.array([float(z) for z in zs.split('[')[1].split(']')[0].split(' ')])\n",
    "\n",
    "    return num_slices, num_volumes, actuator, z_values\n",
    "\n",
    "\n",
    "def average_reg_plane(images):\n",
    "    \"\"\"Get mean FOV of a plane after registration.\n",
    "    Use phase correlation\n",
    "\n",
    "    Parameters\n",
    "    ----------\n",
    "    images : np.ndarray (3D)\n",
    "        frames from a plane\n",
    "\n",
    "    Returns\n",
    "    -------\n",
    "    np.ndarray (2D)\n",
    "        mean FOV of a plane after registration.\n",
    "    \"\"\"\n",
    "    # ref_img = np.mean(images, axis=0)\n",
    "    ref_img, _ = pick_initial_reference(images)\n",
    "    reg = np.zeros_like(images)\n",
    "    for i in range(images.shape[0]):\n",
    "        shift, _, _ = skimage.registration.phase_cross_correlation(\n",
    "            ref_img, images[i, :, :], normalization=None)\n",
    "        reg[i, :, :] = scipy.ndimage.shift(images[i, :, :], shift)\n",
    "    return np.mean(reg, axis=0)\n",
    "\n",
    "\n",
    "def pick_initial_reference(frames: np.ndarray, num_for_ref: int = 20) -> np.ndarray:\n",
    "    \"\"\" computes the initial reference image\n",
    "\n",
    "    the seed frame is the frame with the largest correlations with other frames;\n",
    "    the average of the seed frame with its top 20 correlated pairs is the\n",
    "    inital reference frame returned\n",
    "\n",
    "    From suite2p.registration.register\n",
    "\n",
    "    Parameters\n",
    "    ----------\n",
    "    frames : 3D array, int16\n",
    "        size [frames x Ly x Lx], frames from binary\n",
    "\n",
    "    Returns\n",
    "    -------\n",
    "    refImg : 2D array, int16\n",
    "        size [Ly x Lx], initial reference image\n",
    "\n",
    "    \"\"\"\n",
    "    nimg,Ly,Lx = frames.shape\n",
    "    frames = np.reshape(frames, (nimg,-1)).astype('float32')\n",
    "    frames = frames - np.reshape(frames.mean(axis=1), (nimg, 1))\n",
    "    cc = np.matmul(frames, frames.T)\n",
    "    ndiag = np.sqrt(np.diag(cc))\n",
    "    cc = cc / np.outer(ndiag, ndiag)\n",
    "    CCsort = -np.sort(-cc, axis = 1)\n",
    "    bestCC = np.mean(CCsort[:, 1:num_for_ref], axis=1)\n",
    "    imax = np.argmax(bestCC)\n",
    "    indsort = np.argsort(-cc[imax, :])\n",
    "    selected_frame_inds = indsort[0:num_for_ref]\n",
    "    refImg = np.mean(frames[selected_frame_inds, :], axis = 0)\n",
    "    refImg = np.reshape(refImg, (Ly,Lx))\n",
    "    return refImg, selected_frame_inds\n",
    "\n",
    "\n",
    "def reg_between_planes(stack_imgs, ref_ind=30, top_ring_buffer=10, window_size=5, use_adapthisteq=True):\n",
    "    \"\"\"Register between planes. Each plane with single 2D image\n",
    "    Use phase correlation.\n",
    "    Use median filtered images to calculate shift between neighboring planes.\n",
    "    Resulting image is not filtered.\n",
    "\n",
    "    Parameters\n",
    "    ----------\n",
    "    stack_imgs : np.ndarray (3D)\n",
    "        images of a stack. Typically z-stack with each plane registered and averaged.\n",
    "    ref_ind : int, optional\n",
    "        index of the reference plane, by default 30\n",
    "    top_ring_buffer : int, optional\n",
    "        number of top lines to skip due to ringing noise, by default 10\n",
    "    window_size : int, optional\n",
    "        window size for rolling, by default 5\n",
    "    use_adapthisteq : bool, optional\n",
    "        whether to use adaptive histogram equalization, by default True\n",
    "\n",
    "    Returns\n",
    "    -------\n",
    "    np.ndarray (3D)\n",
    "        Stack after plane-to-plane registration.\n",
    "    \"\"\"\n",
    "    num_planes = stack_imgs.shape[0]\n",
    "    reg_stack_imgs = np.zeros_like(stack_imgs)\n",
    "    reg_stack_imgs[ref_ind, :, :] = stack_imgs[ref_ind, :, :]\n",
    "    ref_stack_imgs = med_filt_z_stack(stack_imgs)\n",
    "    if use_adapthisteq:\n",
    "        for i in range(num_planes):\n",
    "            plane_img = ref_stack_imgs[i, :, :]\n",
    "            ref_stack_imgs[i, :, :] = image_normalization_uint16(skimage.exposure.equalize_adapthist(\n",
    "                plane_img.astype(np.uint16)))  # normalization to make it uint16\n",
    "\n",
    "    temp_stack_imgs = np.zeros_like(stack_imgs)\n",
    "\n",
    "    temp_stack_imgs[ref_ind, :, :] = ref_stack_imgs[ref_ind, :, :]\n",
    "    for i in range(ref_ind + 1, num_planes):\n",
    "        # Calculation valid pixels\n",
    "        temp_ref = np.mean(\n",
    "            temp_stack_imgs[max(0, i - window_size) : i, :, :], axis=0)\n",
    "        temp_mov = ref_stack_imgs[i, :, :]\n",
    "        valid_y, valid_x = calculate_valid_pix(temp_ref, temp_mov)\n",
    "\n",
    "        temp_ref = temp_ref[valid_y[0] +\n",
    "                            top_ring_buffer:valid_y[1] + 1, valid_x[0]:valid_x[1] + 1]\n",
    "        temp_mov = temp_mov[valid_y[0] +\n",
    "                            top_ring_buffer:valid_y[1] + 1, valid_x[0]:valid_x[1] + 1]\n",
    "\n",
    "        shift, _, _ = skimage.registration.phase_cross_correlation(\n",
    "            temp_ref, temp_mov, normalization=None, upsample_factor=10)\n",
    "        temp_stack_imgs[i, :, :] = scipy.ndimage.shift(\n",
    "            ref_stack_imgs[i, :, :], shift)\n",
    "        reg_stack_imgs[i, :, :] = scipy.ndimage.shift(\n",
    "            stack_imgs[i, :, :], shift)\n",
    "    if ref_ind > 0:\n",
    "        for i in range(ref_ind - 1, -1, -1):\n",
    "            temp_ref = np.mean(\n",
    "                temp_stack_imgs[i+1 : min(num_planes, i + window_size + 1), :, :], axis=0)\n",
    "            temp_mov = ref_stack_imgs[i, :, :]\n",
    "            valid_y, valid_x = calculate_valid_pix(temp_ref, temp_mov)\n",
    "\n",
    "            temp_ref = temp_ref[valid_y[0] +\n",
    "                                top_ring_buffer:valid_y[1] + 1, valid_x[0]:valid_x[1] + 1]\n",
    "            temp_mov = temp_mov[valid_y[0] +\n",
    "                                top_ring_buffer:valid_y[1] + 1, valid_x[0]:valid_x[1] + 1]\n",
    "\n",
    "            shift, _, _ = skimage.registration.phase_cross_correlation(\n",
    "                temp_ref, temp_mov, normalization=None, upsample_factor=10)\n",
    "            temp_stack_imgs[i, :, :] = scipy.ndimage.shift(\n",
    "                ref_stack_imgs[i, :, :], shift)\n",
    "            reg_stack_imgs[i, :, :] = scipy.ndimage.shift(\n",
    "                stack_imgs[i, :, :], shift)\n",
    "    return reg_stack_imgs\n",
    "\n",
    "\n",
    "def calculate_valid_pix(img1, img2, valid_pix_threshold=1e-3):\n",
    "    \"\"\"Calculate valid pixels for registration between two images\n",
    "    There can be blank pixels at the edge of the image.\n",
    "    Parameters\n",
    "    ----------\n",
    "    img1 : np.ndarray (2D)\n",
    "        Image 1\n",
    "    img2 : np.ndarray (2D)\n",
    "        Image 2\n",
    "    valid_pix_threshold : float, optional\n",
    "        threshold for valid pixels, by default 1e-3\n",
    "\n",
    "    Returns\n",
    "    -------\n",
    "    list\n",
    "        valid y range\n",
    "    list\n",
    "        valid x range\n",
    "    \"\"\"\n",
    "    y1, x1 = np.where(img1 > valid_pix_threshold)\n",
    "    y2, x2 = np.where(img2 > valid_pix_threshold)\n",
    "    # unravel the indices\n",
    "    valid_y = [max(min(y1), min(y2)), min(max(y1), max(y2))]\n",
    "    valid_x = [max(min(x1), min(x2)), min(max(x1), max(x2))]\n",
    "    return valid_y, valid_x\n",
    "\n",
    "\n",
    "def med_filt_z_stack(zstack, kernel_size=5):\n",
    "    \"\"\"Get z-stack with each plane median-filtered\n",
    "\n",
    "    Parameters\n",
    "    ----------\n",
    "    zstack : np.ndarray\n",
    "        z-stack to apply median filtering\n",
    "    kernel_size : int, optional\n",
    "        kernel size for median filtering, by default 5\n",
    "        It seems only certain odd numbers work, e.g., 3, 5, 11, ...\n",
    "\n",
    "    Returns\n",
    "    -------\n",
    "    np.ndarray\n",
    "        median-filtered z-stack\n",
    "    \"\"\"\n",
    "    filtered_z_stack = []\n",
    "    for image in zstack:\n",
    "        filtered_z_stack.append(cv2.medianBlur(\n",
    "            image.astype(np.uint16), kernel_size))\n",
    "    return np.array(filtered_z_stack)\n",
    "\n",
    "\n",
    "def image_normalization_uint16(image, im_thresh=0):\n",
    "    \"\"\"Normalize 2D image and convert to uint16\n",
    "    Prevent saturation.\n",
    "\n",
    "    Args:\n",
    "        image (np.ndarray): input image (2D)\n",
    "                            Just works with 3D data as well.\n",
    "        im_thresh (float, optional): threshold when calculating pixel intensity percentile.\n",
    "                            0 by default\n",
    "    Return:\n",
    "        norm_image (np.ndarray)\n",
    "    \"\"\"\n",
    "    clip_image = np.clip(image, np.percentile(\n",
    "        image[image > im_thresh], 0.2), np.percentile(image[image > im_thresh], 99.8))\n",
    "    norm_image = (clip_image - np.amin(clip_image)) / \\\n",
    "        (np.amax(clip_image) - np.amin(clip_image)) * 0.9\n",
    "    uint16_image = ((norm_image + 0.05) *\n",
    "                    np.iinfo(np.uint16).max * 0.9).astype(np.uint16)\n",
    "    return uint16_image"
   ]
  },
  {
   "cell_type": "code",
   "execution_count": 4,
   "metadata": {},
   "outputs": [],
   "source": [
    "num_slices, num_volumes, actuator, z_values = read_si_stack_metadata(zstack_fn)"
   ]
  },
  {
   "cell_type": "code",
   "execution_count": 7,
   "metadata": {},
   "outputs": [
    {
     "data": {
      "text/plain": [
       "450"
      ]
     },
     "execution_count": 7,
     "metadata": {},
     "output_type": "execute_result"
    }
   ],
   "source": [
    "num_slices"
   ]
  },
  {
   "cell_type": "code",
   "execution_count": 8,
   "metadata": {},
   "outputs": [],
   "source": [
    "# Takes about 5 min\n",
    "zstack = imread(zstack_fn)\n",
    "# it takes > 1 min to get n_frames from PIL (for 42000 frames)\n",
    "# No num pages from tiff metadata\n",
    "# opening tiff using cv2 does not make it faster"
   ]
  },
  {
   "cell_type": "code",
   "execution_count": 9,
   "metadata": {},
   "outputs": [],
   "source": [
    "# 44 min for 420 slices\n",
    "\n",
    "plane_reg_imgs = np.zeros((num_slices, zstack.shape[1], zstack.shape[2]))\n",
    "for plane_ind in range(num_slices):\n",
    "    temp_imgs = zstack[plane_ind::num_slices]\n",
    "    reg_img = average_reg_plane(temp_imgs)\n",
    "    plane_reg_imgs[plane_ind] = reg_img\n"
   ]
  },
  {
   "cell_type": "code",
   "execution_count": 10,
   "metadata": {},
   "outputs": [],
   "source": [
    "# 2 min for 420 slices\n",
    "between_plane_reg_imgs = reg_between_planes(np.array(plane_reg_imgs), ref_ind=50)"
   ]
  },
  {
   "cell_type": "code",
   "execution_count": 11,
   "metadata": {},
   "outputs": [
    {
     "name": "stderr",
     "output_type": "stream",
     "text": [
      "C:\\Users\\jinho.kim\\AppData\\Local\\Temp\\ipykernel_36152\\28169593.py:3: DeprecationWarning: <tifffile.imsave> is deprecated. Use tifffile.imwrite\n",
      "  imsave(save_fn, between_plane_reg_imgs)\n"
     ]
    }
   ],
   "source": [
    "save_dir = Path(r'\\\\allen\\programs\\braintv\\workgroups\\ophysdev\\OPhysCore\\operator_files\\vivian_ha\\mesoscope_experiements\\717489')\n",
    "save_fn = save_dir / (zstack_fn.stem + '_between_plane_registered.tif')\n",
    "imsave(save_fn, between_plane_reg_imgs)"
   ]
  },
  {
   "cell_type": "code",
   "execution_count": 12,
   "metadata": {},
   "outputs": [
    {
     "data": {
      "image/png": "[encoded data removed]",
      "text/plain": [
       "<Figure size 640x480 with 3 Axes>"
      ]
     },
     "metadata": {},
     "output_type": "display_data"
    }
   ],
   "source": [
    "fig, ax = plt.subplots(1,3)\n",
    "projection_names = ['Max XY', 'Max YZ', 'Max XZ']\n",
    "for i in range(3):\n",
    "    ax[i].imshow(np.max(between_plane_reg_imgs, axis=i), cmap='gray')\n",
    "    ax[i].set_title(projection_names[i])\n",
    "fig.tight_layout()"
   ]
  },
  {
   "cell_type": "code",
   "execution_count": 13,
   "metadata": {},
   "outputs": [],
   "source": [
    "top_depth = 20\n",
    "zstep_um = 1\n",
    "spatial_resolution_um = 0.78\n",
    "\n",
    "vmin = np.percentile(np.array(plane_reg_imgs), 0.1)\n",
    "vmax = np.percentile(np.array(plane_reg_imgs), 99.9)\n",
    "annotated_images = []\n",
    "for i, image in enumerate(between_plane_reg_imgs):\n",
    "    fig, ax = plt.subplots(figsize=(5, 5), dpi=100)\n",
    "    ax.imshow(image, cmap='gray', vmin=vmin, vmax=vmax)\n",
    "    scale_bar_length_px = int(100 / spatial_resolution_um)\n",
    "\n",
    "    # Draw the scale bar on the bottom right corner of the image\n",
    "    scale_bar_x = image.shape[1] - scale_bar_length_px - 10\n",
    "    scale_bar_y = image.shape[0] - 20\n",
    "    scale_bar_end_x = image.shape[1] - 10\n",
    "    scale_bar_end_y = image.shape[0] - 20\n",
    "    ax.plot([scale_bar_x, scale_bar_end_x], [scale_bar_y, scale_bar_end_y], color='white', linewidth=2)\n",
    "\n",
    "    # Add the scale bar text\n",
    "    scale_bar_text = '100 μm'\n",
    "    ax.text(scale_bar_x + scale_bar_length_px/2, scale_bar_y - 10, scale_bar_text, color='white', fontsize=10, \n",
    "        horizontalalignment='center')\n",
    "\n",
    "    # Add the depth text\n",
    "    depth_text = f'{top_depth - i * zstep_um} μm'\n",
    "    ax.text(500, 30, depth_text, color='white', fontsize=15,\n",
    "        horizontalalignment='right')\n",
    "\n",
    "    ax.axis('off')\n",
    "    fig.tight_layout(pad=0)\n",
    "\n",
    "    # convert the figure content to a numpy array\n",
    "    io_buf = io.BytesIO()\n",
    "    fig.savefig(io_buf, format='raw', dpi=100)\n",
    "    io_buf.seek(0)\n",
    "    img_arr = np.reshape(np.frombuffer(io_buf.getvalue(), dtype=np.uint8),\n",
    "                        newshape=(int(fig.bbox.bounds[3]), int(fig.bbox.bounds[2]), -1))\n",
    "    io_buf.close()\n",
    "\n",
    "    # Append the annotated image to the list and close the figure\n",
    "    annotated_images.append(img_arr[:,:,0])\n",
    "    plt.close(fig)\n"
   ]
  },
  {
   "cell_type": "markdown",
   "metadata": {},
   "source": [
    "# Saving the results\n",
    "- tiff and gif"
   ]
  },
  {
   "cell_type": "code",
   "execution_count": 15,
   "metadata": {},
   "outputs": [],
   "source": [
    "imageio.mimwrite(save_dir / (zstack_fn.stem + '_annotated_zstack.tif'), annotated_images)\n",
    "imageio.mimsave(save_dir / (zstack_fn.stem + '_annotated_zstack.gif'), annotated_images, duration=50)"
   ]
  }
 ],
 "metadata": {
  "kernelspec": {
   "display_name": "glm_boosting",
   "language": "python",
   "name": "python3"
  },
  "language_info": {
   "codemirror_mode": {
    "name": "ipython",
    "version": 3
   },
   "file_extension": ".py",
   "mimetype": "text/x-python",
   "name": "python",
   "nbconvert_exporter": "python",
   "pygments_lexer": "ipython3",
   "version": "3.8.18"
  }
 },
 "nbformat": 4,
 "nbformat_minor": 2
}
