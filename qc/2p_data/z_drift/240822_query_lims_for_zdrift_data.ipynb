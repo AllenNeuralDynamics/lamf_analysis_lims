{
 "cells": [
  {
   "cell_type": "markdown",
   "metadata": {},
   "source": [
    "# Purpose:\n",
    "- Query lims for zdrift data\n",
    "- A copy from 240701_query_lims_data.ipynb"
   ]
  },
  {
   "cell_type": "code",
   "execution_count": 2,
   "metadata": {},
   "outputs": [],
   "source": [
    "from pathlib import Path\n",
    "import numpy as np\n",
    "import pandas as pd\n",
    "import h5py\n",
    "import os\n",
    "\n",
    "from allensdk.brain_observatory.behavior.behavior_project_cache import VisualBehaviorOphysProjectCache as bpc\n",
    "from brain_observatory_qc.data_access import from_lims\n",
    "\n",
    "from pymongo import MongoClient\n",
    "mongo = MongoClient(\"flaskapp.corp.alleninstitute.org\", 27017)\n"
   ]
  },
  {
   "cell_type": "code",
   "execution_count": 3,
   "metadata": {},
   "outputs": [
    {
     "name": "stdout",
     "output_type": "stream",
     "text": [
      "80\n"
     ]
    }
   ],
   "source": [
    "data_dir = Path(r'D:\\zdrift_test\\zdrift')\n",
    "opids = [id for id in os.listdir(data_dir) if id.isnumeric() and (data_dir/id).is_dir() and (data_dir/id/f'{id}_zdrift_pconly_nondc.npy').exists()]\n",
    "print(len(opids))"
   ]
  },
  {
   "cell_type": "code",
   "execution_count": 4,
   "metadata": {},
   "outputs": [
    {
     "data": {
      "text/html": [
       "<div>\n",
       "<style scoped>\n",
       "    .dataframe tbody tr th:only-of-type {\n",
       "        vertical-align: middle;\n",
       "    }\n",
       "\n",
       "    .dataframe tbody tr th {\n",
       "        vertical-align: top;\n",
       "    }\n",
       "\n",
       "    .dataframe thead th {\n",
       "        text-align: right;\n",
       "    }\n",
       "</style>\n",
       "<table border=\"1\" class=\"dataframe\">\n",
       "  <thead>\n",
       "    <tr style=\"text-align: right;\">\n",
       "      <th></th>\n",
       "      <th>ophys_experiment_id</th>\n",
       "      <th>ophys_session_id</th>\n",
       "      <th>behavior_session_id</th>\n",
       "      <th>foraging_id</th>\n",
       "      <th>ophys_container_id</th>\n",
       "      <th>supercontainer_id</th>\n",
       "      <th>experiment_workflow_state</th>\n",
       "      <th>session_workflow_state</th>\n",
       "      <th>container_workflow_state</th>\n",
       "      <th>specimen_id</th>\n",
       "      <th>...</th>\n",
       "      <th>targeted_structure</th>\n",
       "      <th>depth</th>\n",
       "      <th>equipment_name</th>\n",
       "      <th>project</th>\n",
       "      <th>experiment_storage_directory</th>\n",
       "      <th>behavior_storage_directory</th>\n",
       "      <th>session_storage_directory</th>\n",
       "      <th>container_storage_directory</th>\n",
       "      <th>supercontainer_storage_directory</th>\n",
       "      <th>specimen_storage_directory</th>\n",
       "    </tr>\n",
       "  </thead>\n",
       "  <tbody>\n",
       "    <tr>\n",
       "      <th>0</th>\n",
       "      <td>1299613636</td>\n",
       "      <td>1299462513</td>\n",
       "      <td>1299474362</td>\n",
       "      <td>7056e0e3-43cf-4839-b1d8-25855ccc4573</td>\n",
       "      <td>1305051480</td>\n",
       "      <td>None</td>\n",
       "      <td>qc</td>\n",
       "      <td>uploaded</td>\n",
       "      <td>completed</td>\n",
       "      <td>1283840044</td>\n",
       "      <td>...</td>\n",
       "      <td>VISp</td>\n",
       "      <td>175</td>\n",
       "      <td>MESO.2</td>\n",
       "      <td>LearningmFISHDevelopment</td>\n",
       "      <td>\\\\allen\\programs\\braintv\\production\\neuralcodi...</td>\n",
       "      <td>\\\\allen\\programs\\braintv\\production\\neuralcodi...</td>\n",
       "      <td>\\\\allen\\programs\\braintv\\production\\neuralcodi...</td>\n",
       "      <td>\\\\allen\\programs\\braintv\\production\\neuralcodi...</td>\n",
       "      <td>None</td>\n",
       "      <td>\\\\allen\\programs\\braintv\\production\\neuralcodi...</td>\n",
       "    </tr>\n",
       "  </tbody>\n",
       "</table>\n",
       "<p>1 rows × 24 columns</p>\n",
       "</div>"
      ],
      "text/plain": [
       "   ophys_experiment_id  ophys_session_id  behavior_session_id  \\\n",
       "0           1299613636        1299462513           1299474362   \n",
       "\n",
       "                            foraging_id  ophys_container_id supercontainer_id  \\\n",
       "0  7056e0e3-43cf-4839-b1d8-25855ccc4573          1305051480              None   \n",
       "\n",
       "  experiment_workflow_state session_workflow_state container_workflow_state  \\\n",
       "0                        qc               uploaded                completed   \n",
       "\n",
       "   specimen_id  ...  targeted_structure depth equipment_name  \\\n",
       "0   1283840044  ...                VISp   175         MESO.2   \n",
       "\n",
       "                    project  \\\n",
       "0  LearningmFISHDevelopment   \n",
       "\n",
       "                        experiment_storage_directory  \\\n",
       "0  \\\\allen\\programs\\braintv\\production\\neuralcodi...   \n",
       "\n",
       "                          behavior_storage_directory  \\\n",
       "0  \\\\allen\\programs\\braintv\\production\\neuralcodi...   \n",
       "\n",
       "                           session_storage_directory  \\\n",
       "0  \\\\allen\\programs\\braintv\\production\\neuralcodi...   \n",
       "\n",
       "                         container_storage_directory  \\\n",
       "0  \\\\allen\\programs\\braintv\\production\\neuralcodi...   \n",
       "\n",
       "  supercontainer_storage_directory  \\\n",
       "0                             None   \n",
       "\n",
       "                          specimen_storage_directory  \n",
       "0  \\\\allen\\programs\\braintv\\production\\neuralcodi...  \n",
       "\n",
       "[1 rows x 24 columns]"
      ]
     },
     "execution_count": 4,
     "metadata": {},
     "output_type": "execute_result"
    }
   ],
   "source": [
    "from_lims.get_general_info_for_ophys_experiment_id(opids[0])"
   ]
  }
 ],
 "metadata": {
  "kernelspec": {
   "display_name": "allenvisb",
   "language": "python",
   "name": "python3"
  },
  "language_info": {
   "codemirror_mode": {
    "name": "ipython",
    "version": 3
   },
   "file_extension": ".py",
   "mimetype": "text/x-python",
   "name": "python",
   "nbconvert_exporter": "python",
   "pygments_lexer": "ipython3",
   "version": "3.8.18"
  }
 },
 "nbformat": 4,
 "nbformat_minor": 2
}
