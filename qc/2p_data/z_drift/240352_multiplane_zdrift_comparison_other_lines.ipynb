{
 "cells": [
  {
   "cell_type": "markdown",
   "metadata": {},
   "source": [
    "# Purpose:\n",
    "- Analyze hydration-driven z-drift divergence in cre lines other than GAD2-Cre\n",
    "- From VisualBehaviorMultiscope, 2x4 configuration\n"
   ]
  },
  {
   "cell_type": "code",
   "execution_count": 1,
   "metadata": {},
   "outputs": [],
   "source": [
    "import brain_observatory_qc.pipeline_dev.scripts.depth_estimation_module as dem\n",
    "from pathlib import Path\n",
    "import numpy as np\n",
    "import pandas as pd\n",
    "import h5py\n",
    "from datetime import datetime\n",
    "from matplotlib import pyplot as plt\n",
    "from allensdk.brain_observatory.behavior.behavior_project_cache import VisualBehaviorOphysProjectCache as bpc\n",
    "from brain_observatory_qc.data_access import from_lims\n",
    "from pymongo import MongoClient\n",
    "from visual_behavior import database as db\n",
    "from datetime import datetime\n",
    "\n",
    "\n",
    "mongo = MongoClient('flaskapp.corp.alleninstitute.org', 27017)\n",
    "\n",
    "save_dir = Path(r'\\\\allen\\programs\\mindscope\\workgroups\\learning\\ophys\\zdrift')\n",
    "\n",
    "\n",
    "def get_depth_region_from_db(oeid):\n",
    "    query = '''\n",
    "    SELECT oe.id, st.acronym, oe.calculated_depth, imd.depth\n",
    "    FROM ophys_experiments oe\n",
    "    JOIN structures st ON st.id = oe.targeted_structure_id\n",
    "    JOIN imaging_depths imd ON imd.id = oe.imaging_depth_id\n",
    "    WHERE oe.id = {}\n",
    "    '''.format(oeid)\n",
    "    lims_results = db.lims_query(query)\n",
    "    return lims_results.depth.values[0], lims_results.acronym.values[0]\n",
    "\n",
    "\n",
    "def get_zdrift_results(osid, load_dir):\n",
    "    oeids = from_lims.get_ophys_experiment_ids_for_ophys_session_id(osid).ophys_experiment_id.values\n",
    "    corrcoef = []\n",
    "    matched_plane_indices = []\n",
    "    for oeid in oeids:\n",
    "        try:\n",
    "            ocid = from_lims.get_ophys_container_id_for_ophys_experiment_id(oeid)\n",
    "        except:\n",
    "            ocid = 'none'\n",
    "        zdrift_fn = load_dir / f'container_{ocid}' / f'experiment_{oeid}' / f'{oeid}_zdrift_ref_{oeid}.h5'\n",
    "        \n",
    "        with h5py.File(zdrift_fn) as h:\n",
    "            corrcoef.append([np.max(cc) for cc in h['corrcoef'][:]])\n",
    "            matched_plane_indices.append(h['matched_plane_indices'][:])\n",
    "    return corrcoef, matched_plane_indices, oeids\n",
    "\n",
    "def get_zdrift_results_first_last(osid, load_dir):\n",
    "    oeids = from_lims.get_ophys_experiment_ids_for_ophys_session_id(osid).ophys_experiment_id.values\n",
    "    corrcoef = []\n",
    "    matched_plane_indices = []\n",
    "    for oeid in oeids:\n",
    "        try:\n",
    "            ocid = from_lims.get_ophys_container_id_for_ophys_experiment_id(oeid)\n",
    "        except:\n",
    "            ocid = 'none'\n",
    "        zdrift_fn = load_dir / f'container_{ocid}' / f'experiment_{oeid}' / f'{oeid}_zdrift_ref_{oeid}_first_last.h5'\n",
    "        with h5py.File(zdrift_fn) as h:\n",
    "            corrcoef.append([np.max(cc) for cc in h['corrcoef'][:]])\n",
    "            matched_plane_indices.append(h['matched_plane_indices'][:])\n",
    "    return corrcoef, matched_plane_indices, oeids\n"
   ]
  },
  {
   "cell_type": "markdown",
   "metadata": {},
   "source": [
    "# Select dataset"
   ]
  },
  {
   "cell_type": "code",
   "execution_count": 45,
   "metadata": {},
   "outputs": [
    {
     "name": "stdout",
     "output_type": "stream",
     "text": [
      "2080\n"
     ]
    }
   ],
   "source": [
    "cache = bpc.from_lims()\n",
    "exp_table = cache.get_ophys_experiment_table(passed_only=False)\n",
    "vbms_table = exp_table.query('project_code == \"VisualBehaviorMultiscope\"')\n",
    "session_ids = vbms_table.groupby('ophys_session_id').size()\n",
    "session_ids = session_ids[session_ids == 8].index\n",
    "table = vbms_table.query('ophys_session_id in @session_ids')\n",
    "print(len(table))"
   ]
  },
  {
   "cell_type": "code",
   "execution_count": 12,
   "metadata": {},
   "outputs": [
    {
     "data": {
      "text/plain": [
       "session_type\n",
       "OPHYS_0_images_A_habituation         8\n",
       "OPHYS_1_images_A                   328\n",
       "OPHYS_2_images_A_passive           304\n",
       "OPHYS_2_images_B_passive             8\n",
       "OPHYS_3_images_A                   336\n",
       "OPHYS_4_images_B                   352\n",
       "OPHYS_5_images_A_passive             8\n",
       "OPHYS_5_images_B_passive           232\n",
       "OPHYS_6_images_A                     8\n",
       "OPHYS_6_images_B                   272\n",
       "OPHYS_7_receptive_field_mapping    216\n",
       "SNR_9                                8\n",
       "dtype: int64"
      ]
     },
     "execution_count": 12,
     "metadata": {},
     "output_type": "execute_result"
    }
   ],
   "source": [
    "table.groupby('session_type').size()"
   ]
  },
  {
   "cell_type": "code",
   "execution_count": 13,
   "metadata": {},
   "outputs": [],
   "source": [
    "table = table[table.session_type.str.contains('OPHYS_') & ~table.session_type.str.contains('OPHYS_0')]"
   ]
  },
  {
   "cell_type": "code",
   "execution_count": 14,
   "metadata": {},
   "outputs": [
    {
     "data": {
      "text/plain": [
       "full_genotype\n",
       "Slc17a7-IRES2-Cre/wt;Camk2a-tTA/wt;Ai93(TITL-GCaMP6f)/wt    11\n",
       "Sst-IRES-Cre/wt;Ai148(TIT2L-GC6f-ICL-tTA2)/wt                9\n",
       "Vip-IRES-Cre/wt;Ai148(TIT2L-GC6f-ICL-tTA2)/wt               11\n",
       "dtype: int64"
      ]
     },
     "execution_count": 14,
     "metadata": {},
     "output_type": "execute_result"
    }
   ],
   "source": [
    "table.groupby('full_genotype').apply(lambda x: len(x.mouse_id.unique()))"
   ]
  },
  {
   "cell_type": "code",
   "execution_count": 42,
   "metadata": {},
   "outputs": [],
   "source": [
    "# prepare dataframe to be passed to multi_plane_drift_sbatch.py\n",
    "table = table[['mouse_id','ophys_session_id', 'full_genotype', 'session_type']].drop_duplicates()\n",
    "for osid in table.ophys_session_id.values:\n",
    "    session = mongo.qc.metrics.find_one({'lims_id': int(osid)})\n",
    "    if 'change_detection' not in session:\n",
    "        if table.query('ophys_session_id == @osid').session_type.str.contains('OPHYS_7').values[0]:\n",
    "            water = 0\n",
    "        elif table.query('ophys_session_id == @osid').session_type.str.contains('passive').values[0]:\n",
    "            water = 0\n",
    "        else:\n",
    "            raise ValueError(f'no change detection data for {osid}')\n",
    "    else:\n",
    "        water = session['change_detection']['total_reward_volume']\n",
    "    table.loc[table.ophys_session_id == osid, 'water'] = water\n",
    "    "
   ]
  },
  {
   "cell_type": "code",
   "execution_count": 44,
   "metadata": {},
   "outputs": [],
   "source": [
    "table.to_csv(save_dir / 'multi_plane_zdrift_vb_multiscope.csv', index=False)"
   ]
  },
  {
   "cell_type": "code",
   "execution_count": 5,
   "metadata": {},
   "outputs": [
    {
     "data": {
      "text/plain": [
       "258"
      ]
     },
     "execution_count": 5,
     "metadata": {},
     "output_type": "execute_result"
    }
   ],
   "source": [
    "load_csv = save_dir / 'multi_plane_zdrift_vb_multiscope.csv'\n",
    "table = pd.read_csv(load_csv)\n",
    "len(table)"
   ]
  },
  {
   "cell_type": "markdown",
   "metadata": {},
   "source": [
    "# Some sessions errored out\n",
    "- 23 / 258 sessions errored out\n",
    "- Just use the remaining 235 sessions"
   ]
  },
  {
   "cell_type": "code",
   "execution_count": 3,
   "metadata": {},
   "outputs": [],
   "source": [
    "job_records_dir = Path(r'\\\\allen\\programs\\mindscope\\workgroups\\learning\\ophys\\zdrift\\job_records')\n",
    "\n",
    "# filter by created time, if needed\n",
    "time_since = datetime(2024, 3, 26, 15, 0, 0)\n",
    "# from job_dir get files created after time_since\n",
    "files = [f for f in job_records_dir.glob('**/*') if f.is_file() and f.stat().st_ctime > time_since.timestamp()]\n",
    "\n",
    "failed_files = []\n",
    "failed_osids = []\n",
    "success_word = 'total time ='\n",
    "for file in files:\n",
    "    with open(file, 'r') as f:\n",
    "        lines = f.readlines()\n",
    "        if np.array([success_word in l for l in lines]).any():\n",
    "            pass\n",
    "        else:\n",
    "            failed_files.append(file)\n",
    "            failed_osids.append(int(file.name.split('_')[-1].split('.')[0]))\n",
    "failed_osids = np.unique(failed_osids)"
   ]
  },
  {
   "cell_type": "code",
   "execution_count": 4,
   "metadata": {},
   "outputs": [
    {
     "data": {
      "text/plain": [
       "array([ 841778484,  842023261,  842364341,  843871999,  844469521,\n",
       "        852070825,  856201876,  870762788,  871906231,  873247524,\n",
       "        873720614,  874616920,  875259383,  917886781,  918180797,\n",
       "        924644503,  927620400,  942628468,  974167263,  976061108,\n",
       "       1001385706, 1047935100, 1050231786])"
      ]
     },
     "execution_count": 4,
     "metadata": {},
     "output_type": "execute_result"
    }
   ],
   "source": [
    "failed_osids"
   ]
  },
  {
   "cell_type": "code",
   "execution_count": 6,
   "metadata": {},
   "outputs": [
    {
     "data": {
      "text/plain": [
       "235"
      ]
     },
     "execution_count": 6,
     "metadata": {},
     "output_type": "execute_result"
    }
   ],
   "source": [
    "load_csv = save_dir / 'multi_plane_zdrift_vb_multiscope.csv'\n",
    "table = pd.read_csv(load_csv)\n",
    "table = table[~table.ophys_session_id.isin(failed_osids)]\n",
    "len(table)"
   ]
  },
  {
   "cell_type": "code",
   "execution_count": 7,
   "metadata": {},
   "outputs": [
    {
     "data": {
      "text/html": [
       "<div>\n",
       "<style scoped>\n",
       "    .dataframe tbody tr th:only-of-type {\n",
       "        vertical-align: middle;\n",
       "    }\n",
       "\n",
       "    .dataframe tbody tr th {\n",
       "        vertical-align: top;\n",
       "    }\n",
       "\n",
       "    .dataframe thead th {\n",
       "        text-align: right;\n",
       "    }\n",
       "</style>\n",
       "<table border=\"1\" class=\"dataframe\">\n",
       "  <thead>\n",
       "    <tr style=\"text-align: right;\">\n",
       "      <th></th>\n",
       "      <th>mouse_id</th>\n",
       "      <th>ophys_session_id</th>\n",
       "      <th>full_genotype</th>\n",
       "      <th>session_type</th>\n",
       "      <th>water</th>\n",
       "    </tr>\n",
       "  </thead>\n",
       "  <tbody>\n",
       "    <tr>\n",
       "      <th>0</th>\n",
       "      <td>457841</td>\n",
       "      <td>952430817</td>\n",
       "      <td>Sst-IRES-Cre/wt;Ai148(TIT2L-GC6f-ICL-tTA2)/wt</td>\n",
       "      <td>OPHYS_2_images_A_passive</td>\n",
       "      <td>0.000</td>\n",
       "    </tr>\n",
       "    <tr>\n",
       "      <th>1</th>\n",
       "      <td>457841</td>\n",
       "      <td>954954402</td>\n",
       "      <td>Sst-IRES-Cre/wt;Ai148(TIT2L-GC6f-ICL-tTA2)/wt</td>\n",
       "      <td>OPHYS_3_images_A</td>\n",
       "      <td>0.396</td>\n",
       "    </tr>\n",
       "    <tr>\n",
       "      <th>2</th>\n",
       "      <td>457841</td>\n",
       "      <td>960475921</td>\n",
       "      <td>Sst-IRES-Cre/wt;Ai148(TIT2L-GC6f-ICL-tTA2)/wt</td>\n",
       "      <td>OPHYS_7_receptive_field_mapping</td>\n",
       "      <td>0.000</td>\n",
       "    </tr>\n",
       "    <tr>\n",
       "      <th>3</th>\n",
       "      <td>457841</td>\n",
       "      <td>957020350</td>\n",
       "      <td>Sst-IRES-Cre/wt;Ai148(TIT2L-GC6f-ICL-tTA2)/wt</td>\n",
       "      <td>OPHYS_4_images_B</td>\n",
       "      <td>0.515</td>\n",
       "    </tr>\n",
       "    <tr>\n",
       "      <th>4</th>\n",
       "      <td>457841</td>\n",
       "      <td>955775716</td>\n",
       "      <td>Sst-IRES-Cre/wt;Ai148(TIT2L-GC6f-ICL-tTA2)/wt</td>\n",
       "      <td>OPHYS_3_images_A</td>\n",
       "      <td>0.445</td>\n",
       "    </tr>\n",
       "  </tbody>\n",
       "</table>\n",
       "</div>"
      ],
      "text/plain": [
       "   mouse_id  ophys_session_id                                  full_genotype  \\\n",
       "0    457841         952430817  Sst-IRES-Cre/wt;Ai148(TIT2L-GC6f-ICL-tTA2)/wt   \n",
       "1    457841         954954402  Sst-IRES-Cre/wt;Ai148(TIT2L-GC6f-ICL-tTA2)/wt   \n",
       "2    457841         960475921  Sst-IRES-Cre/wt;Ai148(TIT2L-GC6f-ICL-tTA2)/wt   \n",
       "3    457841         957020350  Sst-IRES-Cre/wt;Ai148(TIT2L-GC6f-ICL-tTA2)/wt   \n",
       "4    457841         955775716  Sst-IRES-Cre/wt;Ai148(TIT2L-GC6f-ICL-tTA2)/wt   \n",
       "\n",
       "                      session_type  water  \n",
       "0         OPHYS_2_images_A_passive  0.000  \n",
       "1                 OPHYS_3_images_A  0.396  \n",
       "2  OPHYS_7_receptive_field_mapping  0.000  \n",
       "3                 OPHYS_4_images_B  0.515  \n",
       "4                 OPHYS_3_images_A  0.445  "
      ]
     },
     "execution_count": 7,
     "metadata": {},
     "output_type": "execute_result"
    }
   ],
   "source": [
    "table.head()"
   ]
  },
  {
   "cell_type": "markdown",
   "metadata": {},
   "source": [
    "## example time-series plot\n",
    "- One example per cre line, divided into VISp and VISl, with or without water"
   ]
  },
  {
   "cell_type": "code",
   "execution_count": null,
   "metadata": {},
   "outputs": [],
   "source": []
  }
 ],
 "metadata": {
  "kernelspec": {
   "display_name": "allenvisb",
   "language": "python",
   "name": "python3"
  },
  "language_info": {
   "codemirror_mode": {
    "name": "ipython",
    "version": 3
   },
   "file_extension": ".py",
   "mimetype": "text/x-python",
   "name": "python",
   "nbconvert_exporter": "python",
   "pygments_lexer": "ipython3",
   "version": "3.8.18"
  }
 },
 "nbformat": 4,
 "nbformat_minor": 2
}
