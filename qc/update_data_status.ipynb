{
 "cells": [
  {
   "cell_type": "markdown",
   "metadata": {},
   "source": [
    "# Purpose\n",
    "- Update mouse status (ophys and behavior)\n",
    "- Info list: Subject ID, Genotype, Ophys start date, Last ophys date, last training stage, number of sessions, Have U01?\n",
    "- ref: https://alleninstitute.sharepoint.com/:x:/s/NeuralDynamics-Ophys-mFISHPlatform/EWLscvITrV9FqNoMWg90yuoB5xvdE9LJixFTbGce2bJEEA?e=ydbUia\n"
   ]
  },
  {
   "cell_type": "code",
   "execution_count": 1,
   "metadata": {},
   "outputs": [],
   "source": [
    "from pathlib import Path\n",
    "import numpy as np\n",
    "import pandas as pd\n",
    "import h5py\n",
    "from brain_observatory_qc.data_access import from_lims\n",
    "\n",
    "from allensdk.brain_observatory.behavior.behavior_project_cache import VisualBehaviorOphysProjectCache as bpc\n",
    "\n",
    "from pymongo import MongoClient\n",
    "mongo = MongoClient(\"flaskapp.corp.alleninstitute.org\", 27017)"
   ]
  },
  {
   "cell_type": "code",
   "execution_count": null,
   "metadata": {},
   "outputs": [],
   "source": []
  }
 ],
 "metadata": {
  "kernelspec": {
   "display_name": "allenvisb",
   "language": "python",
   "name": "python3"
  },
  "language_info": {
   "codemirror_mode": {
    "name": "ipython",
    "version": 3
   },
   "file_extension": ".py",
   "mimetype": "text/x-python",
   "name": "python",
   "nbconvert_exporter": "python",
   "pygments_lexer": "ipython3",
   "version": "3.8.18"
  }
 },
 "nbformat": 4,
 "nbformat_minor": 2
}
