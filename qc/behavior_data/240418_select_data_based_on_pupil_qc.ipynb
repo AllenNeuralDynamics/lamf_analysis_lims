{
 "cells": [
  {
   "cell_type": "markdown",
   "metadata": {},
   "source": [
    "# Purpose:\n",
    "- Curate previous data to upload to CodeOcean, based on pupil data QC\n",
    "- Follow-up of 240327_pupil_data_qc.ipynb\n",
    "- Look at average likelihoods, proportion of pupil outside of eye, and mean pupil area\n",
    "    - \"likelihoods < 0.8\" < 0.1\n",
    "    - prop pupil outside eye < 0.1 (likely blinks)\n",
    "    - 100 < mean pupil area < 450\n",
    "    - Check the video\n"
   ]
  },
  {
   "cell_type": "code",
   "execution_count": 1,
   "metadata": {
    "metadata": {}
   },
   "outputs": [],
   "source": [
    "import pandas as pd\n",
    "import numpy as np\n",
    "from pathlib import Path\n",
    "\n",
    "pupil_qc_dir = Path(r'\\\\allen\\programs\\mindscope\\workgroups\\learning\\qc_pupil')\n",
    "load_fn = pupil_qc_dir / 'pupil_qc_metric_composite_df.pkl'\n",
    "composite_df = pd.read_pickle(load_fn)"
   ]
  },
  {
   "cell_type": "code",
   "execution_count": null,
   "metadata": {},
   "outputs": [],
   "source": []
  }
 ],
 "metadata": {
  "kernelspec": {
   "display_name": "allenvisb",
   "language": "python",
   "name": "python3"
  },
  "language_info": {
   "codemirror_mode": {
    "name": "ipython",
    "version": 3
   },
   "file_extension": ".py",
   "mimetype": "text/x-python",
   "name": "python",
   "nbconvert_exporter": "python",
   "pygments_lexer": "ipython3",
   "version": "3.8.18"
  }
 },
 "nbformat": 4,
 "nbformat_minor": 2
}
