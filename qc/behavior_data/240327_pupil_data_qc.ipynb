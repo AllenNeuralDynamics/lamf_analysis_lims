{
 "cells": [
  {
   "cell_type": "code",
   "execution_count": 1,
   "metadata": {},
   "outputs": [],
   "source": [
    "from allensdk.brain_observatory.behavior.behavior_project_cache import VisualBehaviorOphysProjectCache as bpc\n",
    "from brain_observatory_qc.data_access import from_lims\n",
    "import pandas as pd\n",
    "import numpy as np\n",
    "import matplotlib.pyplot as plt\n",
    "from brain_observatory_analysis.behavior.video_qc import annotation_tools\n",
    "import cv2\n",
    "from pathlib import Path\n",
    "from datetime import datetime\n",
    "from tqdm.notebook import tqdm\n",
    "from pprint import pprint\n",
    "import h5py\n",
    "from scipy.spatial import ConvexHull\n",
    "from matplotlib.path import Path as mplPath"
   ]
  },
  {
   "cell_type": "code",
   "execution_count": 2,
   "metadata": {},
   "outputs": [
    {
     "data": {
      "text/plain": [
       "array(['VisualBehaviorMultiscope', 'LearningmFISHDevelopment', 'U01BFCT',\n",
       "       'OpenScopeDendriteCoupling', 'VisualBehavior',\n",
       "       'VisBIntTestDatacube', 'omFISHGad2Meso', 'VisualBehaviorTask1B',\n",
       "       'MultiscopeSignalNoise', 'omFISHRbp4Meso', 'LearningmFISHTask1A',\n",
       "       'TaskTrainedNetworksMultiscope',\n",
       "       'VisualBehaviorMultiscope4areasx2d', 'omFISHSstMeso',\n",
       "       'VipAxonalV1Phase1', 'MesoscopeDevelopment', 'omFISHCux2Meso',\n",
       "       'VisualBehaviorIntegrationTest', 'VisualBehaviorDevelopment'],\n",
       "      dtype=object)"
      ]
     },
     "execution_count": 2,
     "metadata": {},
     "output_type": "execute_result"
    }
   ],
   "source": [
    "cache = bpc.from_lims()\n",
    "table = cache.get_ophys_experiment_table(passed_only=False)\n",
    "table.project_code.unique()"
   ]
  },
  {
   "cell_type": "code",
   "execution_count": 9,
   "metadata": {},
   "outputs": [
    {
     "data": {
      "text/plain": [
       "962"
      ]
     },
     "execution_count": 9,
     "metadata": {},
     "output_type": "execute_result"
    }
   ],
   "source": [
    "project_codes = ['VisualBehaviorMultiscope', 'VisualBehaviorMultiscope4areasx2d', 'LearningmFISHTask1A', 'omFISHGad2Meso']\n",
    "table = table[table.project_code.isin(project_codes)]\n",
    "last_datetime = datetime(2024, 3, 27, 0, 0, 0)\n",
    "table = table[table.date_of_acquisition < last_datetime]\n",
    "len(table.ophys_session_id.unique())"
   ]
  },
  {
   "cell_type": "code",
   "execution_count": 4,
   "metadata": {},
   "outputs": [
    {
     "data": {
      "text/plain": [
       "Index(['equipment_name', 'donor_id', 'full_genotype', 'mouse_id',\n",
       "       'reporter_line', 'driver_line', 'sex', 'age_in_days', 'foraging_id',\n",
       "       'cre_line', 'indicator', 'session_number',\n",
       "       'prior_exposures_to_session_type', 'prior_exposures_to_image_set',\n",
       "       'prior_exposures_to_omissions', 'ophys_session_id',\n",
       "       'behavior_session_id', 'ophys_container_id', 'project_code',\n",
       "       'container_workflow_state', 'experiment_workflow_state', 'session_name',\n",
       "       'isi_experiment_id', 'imaging_depth', 'targeted_structure',\n",
       "       'published_at', 'date_of_acquisition', 'session_type',\n",
       "       'experience_level', 'passive', 'image_set'],\n",
       "      dtype='object')"
      ]
     },
     "execution_count": 4,
     "metadata": {},
     "output_type": "execute_result"
    }
   ],
   "source": [
    "table.columns"
   ]
  },
  {
   "cell_type": "code",
   "execution_count": 10,
   "metadata": {},
   "outputs": [
    {
     "data": {
      "text/plain": [
       "954954402"
      ]
     },
     "execution_count": 10,
     "metadata": {},
     "output_type": "execute_result"
    }
   ],
   "source": [
    "osids = table.ophys_session_id.unique()\n",
    "osids[1]"
   ]
  },
  {
   "cell_type": "code",
   "execution_count": 66,
   "metadata": {},
   "outputs": [
    {
     "name": "stdout",
     "output_type": "stream",
     "text": [
      "loaded DLC data\n"
     ]
    }
   ],
   "source": [
    "osids = table.ophys_session_id.unique()\n",
    "osid = osids[0]\n",
    "session_dir = from_lims.get_session_h5_filepath(osid).parent\n",
    "ellipse_filepath = from_lims.get_ellipse_filepath(osid)\n",
    "eye_tracking_movie = from_lims.get_eye_tracking_avi_filepath(osid)\n",
    "\n",
    "df = annotation_tools.read_DLC_h5file(from_lims.get_deepcut_h5_filepath(osid))\n",
    "pupil_likelihood_df = df[df.bodyparts.str.contains('pupil') & (df.coords=='likelihood')].reset_index(drop=True)\n",
    "pupil_x_df = df[df.bodyparts.str.contains('pupil') & (df.coords=='x')].reset_index(drop=True)\n",
    "pupil_y_df = df[df.bodyparts.str.contains('pupil') & (df.coords=='y')].reset_index(drop=True)"
   ]
  },
  {
   "cell_type": "code",
   "execution_count": 67,
   "metadata": {},
   "outputs": [
    {
     "data": {
      "text/plain": [
       "Text(0.5, 1.0, 'osid 952430817')"
      ]
     },
     "execution_count": 67,
     "metadata": {},
     "output_type": "execute_result"
    },
    {
     "data": {
      "image/png": "[encoded data removed]",
      "text/plain": [
       "<Figure size 640x480 with 1 Axes>"
      ]
     },
     "metadata": {},
     "output_type": "display_data"
    }
   ],
   "source": [
    "bins = np.linspace(0,1,100)\n",
    "hist_vals = pupil_likelihood_df.groupby('bodyparts').apply(lambda x: np.histogram(x.value.values, bins=bins)[0]/len(x)).values\n",
    "fig, ax = plt.subplots()\n",
    "for i, hist in enumerate(hist_vals):\n",
    "    ax.plot(bins[:-1], hist, label=pupil_likelihood_df.bodyparts[i])\n",
    "ax.set_xlabel('Likelihood')\n",
    "ax.set_ylabel('Fraction of frames')\n",
    "ax.set_title(f'osid {osid}')"
   ]
  },
  {
   "cell_type": "code",
   "execution_count": 109,
   "metadata": {},
   "outputs": [],
   "source": [
    "# Takes about 15 minutes\n",
    "\n",
    "cmap = 'cool'\n",
    "colors = plt.cm.get_cmap(cmap)(np.linspace(0,1,100))*255\n",
    "save_dir = Path(r'\\\\allen\\programs\\mindscope\\workgroups\\learning\\qc_pupil'.replace('\\\\','/'))\n",
    "\n",
    "cap_eye = cv2.VideoCapture(str(eye_tracking_movie))\n",
    "width = int(cap_eye.get(cv2.CAP_PROP_FRAME_WIDTH))\n",
    "height = int(cap_eye.get(cv2.CAP_PROP_FRAME_HEIGHT))\n",
    "fps = int(cap_eye.get(cv2.CAP_PROP_FPS))\n",
    "length = int(cap_eye.get(cv2.CAP_PROP_FRAME_COUNT))\n",
    "assert length == len(pupil_likelihood_df.frame_number.unique())\n",
    "fourcc = cv2.VideoWriter_fourcc(*'mp4v')\n",
    "movie_path = save_dir / f'pupil_osid_{osid}.mp4'\n",
    "\n",
    "out_fps = 5\n",
    "total_dur = 60 # seconds\n",
    "out_num_frames = total_dur*out_fps\n",
    "frame_nums_to_capture = np.linspace(0, length-1, out_num_frames+2).astype(int)[1:-1]\n",
    "out = cv2.VideoWriter(str(movie_path), fourcc, out_fps, (width, height))\n",
    "\n",
    "# Define the circle parameters\n",
    "radius = 1\n",
    "thickness = 4\n",
    "\n",
    "for frame_number in frame_nums_to_capture:\n",
    "    cap_eye.set(cv2.CAP_PROP_POS_FRAMES, frame_number-1)\n",
    "    ret_eye, frame_eye = cap_eye.read()\n",
    "\n",
    "    cv2.rectangle(frame_eye, (0,0), (60, 482), (255,255,255), -1)\n",
    "    for bodyparts in pupil_likelihood_df.bodyparts.unique():\n",
    "        likelihood = pupil_likelihood_df[(pupil_likelihood_df.bodyparts==bodyparts) &\n",
    "                                         (pupil_likelihood_df.frame_number==frame_number)].value.values[0]\n",
    "        color = colors[max(int(np.round(likelihood*100))-1, 0)]\n",
    "        center_x = int(pupil_x_df[(pupil_x_df.bodyparts==bodyparts) &\n",
    "                                  (pupil_x_df.frame_number==frame_number)].value.values[0])\n",
    "        center_y = int(pupil_y_df[(pupil_y_df.bodyparts==bodyparts) &\n",
    "                                  (pupil_y_df.frame_number==frame_number)].value.values[0])\n",
    "        cv2.circle(frame_eye, (center_x, center_y), radius, color, thickness)\n",
    "\n",
    "    out.write(frame_eye)\n",
    "cap_eye.release()\n",
    "out.release()\n",
    "\n"
   ]
  },
  {
   "cell_type": "markdown",
   "metadata": {},
   "source": [
    "### Run using HPC\n",
    "- results: \\\\allen\\programs\\mindscope\\workgroups\\learning\\qc_pupil"
   ]
  },
  {
   "cell_type": "markdown",
   "metadata": {},
   "source": [
    "## Some sessions does not have DLC output\n"
   ]
  },
  {
   "cell_type": "code",
   "execution_count": 20,
   "metadata": {},
   "outputs": [
    {
     "name": "stdout",
     "output_type": "stream",
     "text": [
      "60\n"
     ]
    }
   ],
   "source": [
    "# job_records_dir = Path(r'\\\\allen\\programs\\mindscope\\workgroups\\learning\\ophys\\zdrift\\job_records')\n",
    "job_records_dir = Path(r'\\\\allen\\programs\\mindscope\\workgroups\\learning\\qc_pupil\\job_records')\n",
    "\n",
    "# filter by created time, if needed\n",
    "time_since = datetime(2024, 4, 1, 0, 0, 0)\n",
    "# from job_dir get files created after time_since\n",
    "files = [f for f in job_records_dir.glob('**/*') if f.is_file() and f.stat().st_ctime > time_since.timestamp()]\n",
    "\n",
    "# read and find the ones that failed\n",
    "failed_files = []\n",
    "succeeded_osids = []\n",
    "failed_osids = []\n",
    "success_word = 'total time ='\n",
    "for file in files:\n",
    "    with open(file, 'r') as f:\n",
    "        lines = f.readlines()\n",
    "        if np.array([success_word in l for l in lines]).any():\n",
    "            succeeded_osids.append(int(file.name.split('_')[-1].split('.')[0]))\n",
    "        else:\n",
    "            failed_files.append(file)\n",
    "            failed_osids.append(int(file.name.split('_')[-1].split('.')[0]))\n",
    "print(len(failed_files))\n"
   ]
  },
  {
   "cell_type": "code",
   "execution_count": 22,
   "metadata": {},
   "outputs": [
    {
     "name": "stdout",
     "output_type": "stream",
     "text": [
      "['==========================================\\n',\n",
      " 'SLURM_JOB_ID = 15552557\\n',\n",
      " 'Username = jinho.kim\\n',\n",
      " 'Group = 10513\\n',\n",
      " 'SLURM_JOB_NODELIST = n108\\n',\n",
      " '==========================================\\n',\n",
      " 'Traceback (most recent call last):\\n',\n",
      " '  File '\n",
      " '\"/home/jinho.kim/anaconda3/envs/allenhpc/lib/python3.8/site-packages/pandas/core/indexes/base.py\", '\n",
      " 'line 3803, in get_loc\\n',\n",
      " '    return self._engine.get_loc(casted_key)\\n',\n",
      " '  File \"pandas/_libs/index.pyx\", line 138, in '\n",
      " 'pandas._libs.index.IndexEngine.get_loc\\n',\n",
      " '  File \"pandas/_libs/index.pyx\", line 165, in '\n",
      " 'pandas._libs.index.IndexEngine.get_loc\\n',\n",
      " '  File \"pandas/_libs/hashtable_class_helper.pxi\", line 5745, in '\n",
      " 'pandas._libs.hashtable.PyObjectHashTable.get_item\\n',\n",
      " '  File \"pandas/_libs/hashtable_class_helper.pxi\", line 5753, in '\n",
      " 'pandas._libs.hashtable.PyObjectHashTable.get_item\\n',\n",
      " \"KeyError: 'filepath'\\n\",\n",
      " '\\n',\n",
      " 'The above exception was the direct cause of the following exception:\\n',\n",
      " '\\n',\n",
      " 'Traceback (most recent call last):\\n',\n",
      " '  File '\n",
      " '\"/home/jinho.kim/Github/lamf_ophys_analysis_dev/qc/behavior_data/save_pupil_movie_dlc_overlaid.py\", '\n",
      " 'line 82, in <module>\\n',\n",
      " '    create_save_pupil_dlc_movie(osid, save_dir)\\n',\n",
      " '  File '\n",
      " '\"/home/jinho.kim/Github/lamf_ophys_analysis_dev/qc/behavior_data/save_pupil_movie_dlc_overlaid.py\", '\n",
      " 'line 23, in create_save_pupil_dlc_movie\\n',\n",
      " '    df = '\n",
      " 'annotation_tools.read_DLC_h5file(from_lims.get_deepcut_h5_filepath(osid))\\n',\n",
      " '  File '\n",
      " '\"/home/jinho.kim/Github/mindscope_qc/brain_observatory_qc/data_access/from_lims.py\", '\n",
      " 'line 1944, in get_deepcut_h5_filepath\\n',\n",
      " '    filepath = get_well_known_file_path(\"\\'EyeDlcOutputFile\\'\", '\n",
      " 'ophys_session_id)\\n',\n",
      " '  File '\n",
      " '\"/home/jinho.kim/Github/mindscope_qc/brain_observatory_qc/data_access/from_lims.py\", '\n",
      " 'line 1473, in get_well_known_file_path\\n',\n",
      " '    filepath = get_filepath_from_realdict_object(RealDict_object)\\n',\n",
      " '  File '\n",
      " '\"/home/jinho.kim/Github/mindscope_qc/brain_observatory_qc/data_access/from_lims.py\", '\n",
      " 'line 1465, in get_filepath_from_realdict_object\\n',\n",
      " \"    filepath = realdict_object['filepath'][0]\\n\",\n",
      " '  File '\n",
      " '\"/home/jinho.kim/anaconda3/envs/allenhpc/lib/python3.8/site-packages/pandas/core/frame.py\", '\n",
      " 'line 3804, in __getitem__\\n',\n",
      " '    indexer = self.columns.get_loc(key)\\n',\n",
      " '  File '\n",
      " '\"/home/jinho.kim/anaconda3/envs/allenhpc/lib/python3.8/site-packages/pandas/core/indexes/base.py\", '\n",
      " 'line 3805, in get_loc\\n',\n",
      " '    raise KeyError(key) from err\\n',\n",
      " \"KeyError: 'filepath'\\n\"]\n"
     ]
    }
   ],
   "source": [
    "target_osid = failed_osids[0]\n",
    "fn = [f for f in failed_files if target_osid == int(f.name.split('_')[-1].split('.')[0])][0]\n",
    "with open(fn, 'r') as f:    \n",
    "    lines = f.readlines()\n",
    "pprint(lines)"
   ]
  },
  {
   "cell_type": "code",
   "execution_count": 45,
   "metadata": {},
   "outputs": [
    {
     "data": {
      "text/plain": [
       "array([ 839208243,  839514418,  840490733,  841778484,  842023261,\n",
       "        842364341,  843059122,  844469521,  845235947,  846871218,\n",
       "        847758278,  848401585,  848983781,  849304162,  850667270,\n",
       "        850894918,  851740017,  852070825,  853177377,  853416532,\n",
       "        855711263,  856201876,  863815473,  864458864,  865024413,\n",
       "        865854762,  866197765,  867027875,  868688430,  870352564,\n",
       "        870762788,  871526950,  871906231,  873247524,  874070091,\n",
       "        874616920,  875259383,  875508749,  876303107,  880498009,\n",
       "        880709154,  881094781,  882386411,  882674040,  882756028,\n",
       "        883619540,  884451806,  884613038,  885303356,  885557130,\n",
       "        885653926,  886130638,  886367984,  886806800,  887031077,\n",
       "        888009781,  888171877,  889042121,  889467038, 1240766002])"
      ]
     },
     "execution_count": 45,
     "metadata": {},
     "output_type": "execute_result"
    }
   ],
   "source": [
    "np.sort(failed_osids)"
   ]
  },
  {
   "cell_type": "code",
   "execution_count": 46,
   "metadata": {},
   "outputs": [
    {
     "name": "stdout",
     "output_type": "stream",
     "text": [
      "\\\\allen\\programs\\braintv\\production\\visualbehavior\\prod0\\specimen_837581585\\ophys_session_889467038\n"
     ]
    }
   ],
   "source": [
    "# Do they have pupil movie?\n",
    "osid = np.sort(failed_osids)[-2]\n",
    "print(from_lims.get_eye_tracking_avi_filepath(osid).parent)"
   ]
  },
  {
   "cell_type": "code",
   "execution_count": 44,
   "metadata": {},
   "outputs": [
    {
     "name": "stdout",
     "output_type": "stream",
     "text": [
      "\\\\allen\\programs\\mindscope\\production\\learning\\prod0\\specimen_1222814487\\ophys_session_1240766002\n"
     ]
    }
   ],
   "source": [
    "print(from_lims.get_session_h5_filepath(osid).parent)"
   ]
  },
  {
   "cell_type": "code",
   "execution_count": 32,
   "metadata": {},
   "outputs": [
    {
     "name": "stdout",
     "output_type": "stream",
     "text": [
      "\\\\allen\\programs\\mindscope\\production\\learning\\prod0\\specimen_1321449020\\ophys_session_1339313850\n"
     ]
    }
   ],
   "source": [
    "osid = succeeded_osids[-1]\n",
    "print(from_lims.get_eye_tracking_avi_filepath(osid).parent)"
   ]
  },
  {
   "cell_type": "code",
   "execution_count": 28,
   "metadata": {},
   "outputs": [
    {
     "data": {
      "text/plain": [
       "WindowsPath('//allen/programs/mindscope/production/learning/prod0/specimen_1149593510/ophys_session_1163132450/eye_tracking/1163132450_Eye_20220309T090246DeepCut_resnet50_universal_eye_trackingJul10shuffle1_1030000.h5')"
      ]
     },
     "execution_count": 28,
     "metadata": {},
     "output_type": "execute_result"
    }
   ],
   "source": [
    "from_lims.get_deepcut_h5_filepath(osid)"
   ]
  },
  {
   "cell_type": "code",
   "execution_count": 29,
   "metadata": {},
   "outputs": [
    {
     "ename": "KeyError",
     "evalue": "'No object named df_with_missing in the file'",
     "output_type": "error",
     "traceback": [
      "\u001b[1;31m---------------------------------------------------------------------------\u001b[0m",
      "\u001b[1;31mKeyError\u001b[0m                                  Traceback (most recent call last)",
      "Cell \u001b[1;32mIn[29], line 2\u001b[0m\n\u001b[0;32m      1\u001b[0m filepath \u001b[38;5;241m=\u001b[39m Path(\u001b[38;5;124mr\u001b[39m\u001b[38;5;124m'\u001b[39m\u001b[38;5;130;01m\\\\\u001b[39;00m\u001b[38;5;124mallen\u001b[39m\u001b[38;5;124m\\\u001b[39m\u001b[38;5;124mprograms\u001b[39m\u001b[38;5;124m\\\u001b[39m\u001b[38;5;124mbraintv\u001b[39m\u001b[38;5;124m\\\u001b[39m\u001b[38;5;124mproduction\u001b[39m\u001b[38;5;124m\\\u001b[39m\u001b[38;5;124mneuralcoding\u001b[39m\u001b[38;5;124m\\\u001b[39m\u001b[38;5;124mprod0\u001b[39m\u001b[38;5;124m\\\u001b[39m\u001b[38;5;124mspecimen_810573072\u001b[39m\u001b[38;5;124m\\\u001b[39m\u001b[38;5;124mophys_session_846871218\u001b[39m\u001b[38;5;124m\\\u001b[39m\u001b[38;5;124meye_tracking\u001b[39m\u001b[38;5;124m\\\u001b[39m\u001b[38;5;124m846871218_eyetracking_dlc_to_screen_mapping.h5\u001b[39m\u001b[38;5;124m'\u001b[39m)\n\u001b[1;32m----> 2\u001b[0m df \u001b[38;5;241m=\u001b[39m \u001b[43mannotation_tools\u001b[49m\u001b[38;5;241;43m.\u001b[39;49m\u001b[43mread_DLC_h5file\u001b[49m\u001b[43m(\u001b[49m\u001b[43mfilepath\u001b[49m\u001b[43m)\u001b[49m\n",
      "File \u001b[1;32mc:\\users\\jinho.kim\\github\\brain_observatory_analysis\\brain_observatory_analysis\\behavior\\video_qc\\annotation_tools.py:90\u001b[0m, in \u001b[0;36mread_DLC_h5file\u001b[1;34m(h5file)\u001b[0m\n\u001b[0;32m     82\u001b[0m \u001b[38;5;28;01mdef\u001b[39;00m \u001b[38;5;21mread_DLC_h5file\u001b[39m(h5file):\n\u001b[0;32m     83\u001b[0m \u001b[38;5;250m    \u001b[39m\u001b[38;5;124;03m\"\"\"\u001b[39;00m\n\u001b[0;32m     84\u001b[0m \u001b[38;5;124;03m    Read in a h5 file from DLC and return a dataframe with the DLC data wiht clean column names\u001b[39;00m\n\u001b[0;32m     85\u001b[0m \n\u001b[1;32m   (...)\u001b[0m\n\u001b[0;32m     88\u001b[0m \u001b[38;5;124;03m    h5file : str\u001b[39;00m\n\u001b[0;32m     89\u001b[0m \u001b[38;5;124;03m        full path to the h5 file\"\"\"\u001b[39;00m\n\u001b[1;32m---> 90\u001b[0m     df \u001b[38;5;241m=\u001b[39m \u001b[43mpd\u001b[49m\u001b[38;5;241;43m.\u001b[39;49m\u001b[43mread_hdf\u001b[49m\u001b[43m(\u001b[49m\u001b[43mh5file\u001b[49m\u001b[43m,\u001b[49m\u001b[43m \u001b[49m\u001b[43mkey\u001b[49m\u001b[38;5;241;43m=\u001b[39;49m\u001b[38;5;124;43m'\u001b[39;49m\u001b[38;5;124;43mdf_with_missing\u001b[39;49m\u001b[38;5;124;43m'\u001b[39;49m\u001b[43m)\u001b[49m\n\u001b[0;32m     91\u001b[0m     junk \u001b[38;5;241m=\u001b[39m df\u001b[38;5;241m.\u001b[39mkeys()[\u001b[38;5;241m0\u001b[39m][\u001b[38;5;241m0\u001b[39m]  \u001b[38;5;66;03m# this is a hack to get the right column names\u001b[39;00m\n\u001b[0;32m     92\u001b[0m     df \u001b[38;5;241m=\u001b[39m df[junk]\n",
      "File \u001b[1;32m~\\AppData\\Roaming\\Python\\Python38\\site-packages\\pandas\\io\\pytables.py:455\u001b[0m, in \u001b[0;36mread_hdf\u001b[1;34m(path_or_buf, key, mode, errors, where, start, stop, columns, iterator, chunksize, **kwargs)\u001b[0m\n\u001b[0;32m    450\u001b[0m                 \u001b[38;5;28;01mraise\u001b[39;00m \u001b[38;5;167;01mValueError\u001b[39;00m(\n\u001b[0;32m    451\u001b[0m                     \u001b[38;5;124m\"\u001b[39m\u001b[38;5;124mkey must be provided when HDF5 \u001b[39m\u001b[38;5;124m\"\u001b[39m\n\u001b[0;32m    452\u001b[0m                     \u001b[38;5;124m\"\u001b[39m\u001b[38;5;124mfile contains multiple datasets.\u001b[39m\u001b[38;5;124m\"\u001b[39m\n\u001b[0;32m    453\u001b[0m                 )\n\u001b[0;32m    454\u001b[0m         key \u001b[38;5;241m=\u001b[39m candidate_only_group\u001b[38;5;241m.\u001b[39m_v_pathname\n\u001b[1;32m--> 455\u001b[0m     \u001b[38;5;28;01mreturn\u001b[39;00m \u001b[43mstore\u001b[49m\u001b[38;5;241;43m.\u001b[39;49m\u001b[43mselect\u001b[49m\u001b[43m(\u001b[49m\n\u001b[0;32m    456\u001b[0m \u001b[43m        \u001b[49m\u001b[43mkey\u001b[49m\u001b[43m,\u001b[49m\n\u001b[0;32m    457\u001b[0m \u001b[43m        \u001b[49m\u001b[43mwhere\u001b[49m\u001b[38;5;241;43m=\u001b[39;49m\u001b[43mwhere\u001b[49m\u001b[43m,\u001b[49m\n\u001b[0;32m    458\u001b[0m \u001b[43m        \u001b[49m\u001b[43mstart\u001b[49m\u001b[38;5;241;43m=\u001b[39;49m\u001b[43mstart\u001b[49m\u001b[43m,\u001b[49m\n\u001b[0;32m    459\u001b[0m \u001b[43m        \u001b[49m\u001b[43mstop\u001b[49m\u001b[38;5;241;43m=\u001b[39;49m\u001b[43mstop\u001b[49m\u001b[43m,\u001b[49m\n\u001b[0;32m    460\u001b[0m \u001b[43m        \u001b[49m\u001b[43mcolumns\u001b[49m\u001b[38;5;241;43m=\u001b[39;49m\u001b[43mcolumns\u001b[49m\u001b[43m,\u001b[49m\n\u001b[0;32m    461\u001b[0m \u001b[43m        \u001b[49m\u001b[43miterator\u001b[49m\u001b[38;5;241;43m=\u001b[39;49m\u001b[43miterator\u001b[49m\u001b[43m,\u001b[49m\n\u001b[0;32m    462\u001b[0m \u001b[43m        \u001b[49m\u001b[43mchunksize\u001b[49m\u001b[38;5;241;43m=\u001b[39;49m\u001b[43mchunksize\u001b[49m\u001b[43m,\u001b[49m\n\u001b[0;32m    463\u001b[0m \u001b[43m        \u001b[49m\u001b[43mauto_close\u001b[49m\u001b[38;5;241;43m=\u001b[39;49m\u001b[43mauto_close\u001b[49m\u001b[43m,\u001b[49m\n\u001b[0;32m    464\u001b[0m \u001b[43m    \u001b[49m\u001b[43m)\u001b[49m\n\u001b[0;32m    465\u001b[0m \u001b[38;5;28;01mexcept\u001b[39;00m (\u001b[38;5;167;01mValueError\u001b[39;00m, \u001b[38;5;167;01mTypeError\u001b[39;00m, \u001b[38;5;167;01mKeyError\u001b[39;00m):\n\u001b[0;32m    466\u001b[0m     \u001b[38;5;28;01mif\u001b[39;00m \u001b[38;5;129;01mnot\u001b[39;00m \u001b[38;5;28misinstance\u001b[39m(path_or_buf, HDFStore):\n\u001b[0;32m    467\u001b[0m         \u001b[38;5;66;03m# if there is an error, close the store if we opened it.\u001b[39;00m\n",
      "File \u001b[1;32m~\\AppData\\Roaming\\Python\\Python38\\site-packages\\pandas\\io\\pytables.py:850\u001b[0m, in \u001b[0;36mHDFStore.select\u001b[1;34m(self, key, where, start, stop, columns, iterator, chunksize, auto_close)\u001b[0m\n\u001b[0;32m    848\u001b[0m group \u001b[38;5;241m=\u001b[39m \u001b[38;5;28mself\u001b[39m\u001b[38;5;241m.\u001b[39mget_node(key)\n\u001b[0;32m    849\u001b[0m \u001b[38;5;28;01mif\u001b[39;00m group \u001b[38;5;129;01mis\u001b[39;00m \u001b[38;5;28;01mNone\u001b[39;00m:\n\u001b[1;32m--> 850\u001b[0m     \u001b[38;5;28;01mraise\u001b[39;00m \u001b[38;5;167;01mKeyError\u001b[39;00m(\u001b[38;5;124mf\u001b[39m\u001b[38;5;124m\"\u001b[39m\u001b[38;5;124mNo object named \u001b[39m\u001b[38;5;132;01m{\u001b[39;00mkey\u001b[38;5;132;01m}\u001b[39;00m\u001b[38;5;124m in the file\u001b[39m\u001b[38;5;124m\"\u001b[39m)\n\u001b[0;32m    852\u001b[0m \u001b[38;5;66;03m# create the storer and axes\u001b[39;00m\n\u001b[0;32m    853\u001b[0m where \u001b[38;5;241m=\u001b[39m _ensure_term(where, scope_level\u001b[38;5;241m=\u001b[39m\u001b[38;5;241m1\u001b[39m)\n",
      "\u001b[1;31mKeyError\u001b[0m: 'No object named df_with_missing in the file'"
     ]
    }
   ],
   "source": [
    "filepath = Path(r'\\\\allen\\programs\\braintv\\production\\neuralcoding\\prod0\\specimen_810573072\\ophys_session_846871218\\eye_tracking\\846871218_eyetracking_dlc_to_screen_mapping.h5')\n",
    "df = annotation_tools.read_DLC_h5file(filepath)"
   ]
  },
  {
   "cell_type": "code",
   "execution_count": 31,
   "metadata": {},
   "outputs": [
    {
     "name": "stdout",
     "output_type": "stream",
     "text": [
      "['new_eye_areas', 'new_pupil_areas', 'new_screen_coordinates', 'new_screen_coordinates_spherical', 'raw_eye_areas', 'raw_pupil_areas', 'raw_screen_coordinates', 'raw_screen_coordinates_spherical', 'synced_frame_timestamps', 'version']\n"
     ]
    }
   ],
   "source": [
    "with h5py.File(filepath, 'r') as f:\n",
    "    print(list(f.keys()))"
   ]
  },
  {
   "cell_type": "markdown",
   "metadata": {},
   "source": [
    "## Failed DLC\n",
    "- One session 1240766002 was failed (16 experiments? No eye video)\n",
    "- The rest were old ones with different settings of DLC"
   ]
  },
  {
   "cell_type": "markdown",
   "metadata": {},
   "source": [
    "# Look at the distribution of pixel values\n",
    "- in the center of the image (2/3 in each dimension)\n",
    "- calculate from 100 frames"
   ]
  },
  {
   "cell_type": "code",
   "execution_count": 137,
   "metadata": {},
   "outputs": [],
   "source": [
    "cap_eye = cv2.VideoCapture(str(eye_tracking_movie))\n",
    "width = int(cap_eye.get(cv2.CAP_PROP_FRAME_WIDTH))\n",
    "height = int(cap_eye.get(cv2.CAP_PROP_FRAME_HEIGHT))\n",
    "xrange = [int(width/6), int(width/6*5)]\n",
    "yrange = [int(height/6), int(height/6*5)]\n",
    "length = int(cap_eye.get(cv2.CAP_PROP_FRAME_COUNT))\n",
    "frame_nums_to_capture = np.linspace(0, length-1, 102).astype(int)[1:-1]\n",
    "all_pix_vals = []\n",
    "for frame_number in frame_nums_to_capture:\n",
    "    cap_eye.set(cv2.CAP_PROP_POS_FRAMES, frame_number-1)\n",
    "    ret_eye, frame_eye = cap_eye.read()\n",
    "    pix_vals = frame_eye[yrange[0]:yrange[1], xrange[0]:xrange[1], 1].flatten()\n",
    "    all_pix_vals.extend(pix_vals)\n",
    "cap_eye.release()\n"
   ]
  },
  {
   "cell_type": "code",
   "execution_count": 142,
   "metadata": {},
   "outputs": [
    {
     "data": {
      "text/plain": [
       "array([  1,   2,   3,   4,   5,   6,   8,   9,  10,  11,  12,  13,  15,\n",
       "        16,  17,  18,  19,  20,  22,  23,  24,  25,  26,  27,  29,  30,\n",
       "        31,  32,  33,  34,  36,  37,  38,  39,  40,  41,  43,  44,  45,\n",
       "        46,  47,  48,  50,  51,  52,  53,  54,  55,  57,  58,  59,  60,\n",
       "        61,  62,  64,  65,  66,  67,  68,  69,  71,  72,  73,  74,  75,\n",
       "        76,  78,  79,  80,  81,  82,  83,  85,  86,  87,  88,  89,  90,\n",
       "        92,  93,  94,  95,  96,  97,  99, 100, 101, 102, 103, 104, 106,\n",
       "       107, 108, 109, 110, 111, 113, 114, 115, 116, 117, 118, 120, 121,\n",
       "       122, 123, 124, 125, 127, 128, 129, 130, 131, 132, 134, 135, 136,\n",
       "       137, 138, 139, 141, 142, 143, 144, 145, 146, 148, 149, 150, 151,\n",
       "       152, 153, 155, 156, 157, 158, 159, 160, 162, 163, 164, 165, 166,\n",
       "       167, 169, 170, 171, 172, 173, 174, 176, 177, 178, 179, 180, 181,\n",
       "       183, 184, 185, 186, 187, 188, 190, 191, 192, 193, 194, 195, 197,\n",
       "       198, 199, 200, 201, 202, 204, 205, 206, 207, 208, 209, 211, 212,\n",
       "       213, 214, 215, 216, 218, 219, 220, 221, 222, 223, 225, 226, 227,\n",
       "       228, 229, 230, 232, 233, 234, 235, 236, 237, 239, 240, 241, 242,\n",
       "       243, 244, 246, 247, 248, 249, 250, 251, 253, 254, 255], dtype=int64)"
      ]
     },
     "execution_count": 142,
     "metadata": {},
     "output_type": "execute_result"
    }
   ],
   "source": [
    "np.where(bins%7!=0)[0]"
   ]
  },
  {
   "cell_type": "code",
   "execution_count": 144,
   "metadata": {},
   "outputs": [
    {
     "data": {
      "text/plain": [
       "[<matplotlib.lines.Line2D at 0x28491090520>]"
      ]
     },
     "execution_count": 144,
     "metadata": {},
     "output_type": "execute_result"
    },
    {
     "data": {
      "image/png": "[encoded data removed]",
      "text/plain": [
       "<Figure size 640x480 with 1 Axes>"
      ]
     },
     "metadata": {},
     "output_type": "display_data"
    }
   ],
   "source": [
    "bins = np.arange(0, 256, 1)\n",
    "hist_vals = np.histogram(all_pix_vals, bins=bins)[0]/len(all_pix_vals)\n",
    "fig, ax = plt.subplots()\n",
    "bin_inds = [0, *np.where(bins%7!=0)[0][:-1]]\n",
    "ax.plot(bins[bin_inds], hist_vals[bin_inds])\n"
   ]
  },
  {
   "cell_type": "code",
   "execution_count": 140,
   "metadata": {},
   "outputs": [
    {
     "data": {
      "text/plain": [
       "array([  0,   1,   2,   3,   4,   5,   6,   7,   8,   9,  10,  11,  12,\n",
       "        13,  14,  15,  21,  28,  35,  42,  49,  56,  63,  70,  77,  84,\n",
       "        92,  99, 106, 113, 120, 127, 134, 141, 148, 155, 162, 169, 177,\n",
       "       184, 191, 198, 205, 212, 219, 226, 233, 240, 247], dtype=int64)"
      ]
     },
     "execution_count": 140,
     "metadata": {},
     "output_type": "execute_result"
    }
   ],
   "source": [
    "np.where(np.histogram(all_pix_vals, bins=bins)[0]==0)[0]"
   ]
  },
  {
   "cell_type": "code",
   "execution_count": 146,
   "metadata": {},
   "outputs": [
    {
     "data": {
      "text/plain": [
       "[<matplotlib.lines.Line2D at 0x2849118ddc0>]"
      ]
     },
     "execution_count": 146,
     "metadata": {},
     "output_type": "execute_result"
    },
    {
     "data": {
      "image/png": "[encoded data removed]",
      "text/plain": [
       "<Figure size 640x480 with 1 Axes>"
      ]
     },
     "metadata": {},
     "output_type": "display_data"
    }
   ],
   "source": [
    "bins = np.arange(0, 256+10, 10)\n",
    "hist_vals = np.histogram(all_pix_vals, bins=bins)[0]/len(all_pix_vals)\n",
    "fig, ax = plt.subplots()\n",
    "ax.plot(bins[:-1], hist_vals)\n"
   ]
  },
  {
   "cell_type": "code",
   "execution_count": 8,
   "metadata": {},
   "outputs": [],
   "source": [
    "def get_pix_values(osid):\n",
    "    eye_tracking_movie = from_lims.get_eye_tracking_avi_filepath(osid)\n",
    "    cap_eye = cv2.VideoCapture(str(eye_tracking_movie))\n",
    "    width = int(cap_eye.get(cv2.CAP_PROP_FRAME_WIDTH))\n",
    "    height = int(cap_eye.get(cv2.CAP_PROP_FRAME_HEIGHT))\n",
    "    xrange = [int(width/6), int(width/6*5)]\n",
    "    yrange = [int(height/6), int(height/6*5)]\n",
    "    length = int(cap_eye.get(cv2.CAP_PROP_FRAME_COUNT))\n",
    "    frame_nums_to_capture = np.linspace(0, length-1, 102).astype(int)[1:-1]\n",
    "    all_pix_vals = []\n",
    "    for frame_number in frame_nums_to_capture:\n",
    "        cap_eye.set(cv2.CAP_PROP_POS_FRAMES, frame_number-1)\n",
    "        _, frame_eye = cap_eye.read()\n",
    "        pix_vals = frame_eye[yrange[0]:yrange[1], xrange[0]:xrange[1], 1].flatten()\n",
    "        all_pix_vals.extend(pix_vals)\n",
    "    cap_eye.release()\n",
    "    return all_pix_vals\n",
    "\n"
   ]
  },
  {
   "cell_type": "code",
   "execution_count": null,
   "metadata": {},
   "outputs": [],
   "source": [
    "# It will take longer than 4 hours to run\n",
    "pix_val_save_dir = save_dir / 'pix_vals'\n",
    "pix_val_save_dir.mkdir(exist_ok=True)\n",
    "\n",
    "all_pix_vals = []\n",
    "pix_hist = []\n",
    "osid_run = []\n",
    "for osid in tqdm(osids):\n",
    "    try:\n",
    "        temp_apv = get_pix_values(osid)\n",
    "        all_pix_vals.append(temp_apv)\n",
    "        save_fn = pix_val_save_dir / f'pix_vals_osid_{osid}.npy'\n",
    "        np.save(save_fn, temp_apv)\n",
    "        bins = np.arange(0, 256, 1)\n",
    "        hist_vals = np.histogram(temp_apv, bins=bins)[0]/len(temp_apv)\n",
    "        pix_hist.append(hist_vals)\n",
    "        osid_run.append(osid)\n",
    "    except:\n",
    "        print(f'Error in osid {osid}')\n",
    "        continue\n",
    "\n",
    "results = {'osid': osid_run, 'pix_hist': pix_hist}\n",
    "save_fn = save_dir / 'pix_vals/pix_hist_results.npy'\n",
    "np.save(save_fn, results)\n",
    "\n"
   ]
  },
  {
   "cell_type": "markdown",
   "metadata": {},
   "source": [
    "## DLC output histogram"
   ]
  },
  {
   "cell_type": "code",
   "execution_count": 48,
   "metadata": {},
   "outputs": [],
   "source": [
    "def get_dlc_likelihood_histogram(osid, bins = np.linspace(0,1,100)):\n",
    "    df = annotation_tools.read_DLC_h5file(from_lims.get_deepcut_h5_filepath(osid))\n",
    "    pupil_likelihood_df = df[df.bodyparts.str.contains('pupil') & (df.coords=='likelihood')].reset_index(drop=True)\n",
    "    hist_vals = pupil_likelihood_df.groupby('bodyparts').apply(lambda x: np.histogram(x.value.values, bins=bins)[0]/len(x)).values\n",
    "    return hist_vals, bins"
   ]
  },
  {
   "cell_type": "code",
   "execution_count": 15,
   "metadata": {},
   "outputs": [
    {
     "name": "stdout",
     "output_type": "stream",
     "text": [
      "loaded DLC data\n"
     ]
    }
   ],
   "source": [
    "osid = osids[0]\n",
    "df = annotation_tools.read_DLC_h5file(from_lims.get_deepcut_h5_filepath(osid))\n",
    "pupil_likelihood_df = df[df.bodyparts.str.contains('pupil') & (df.coords=='likelihood')].reset_index(drop=True)\n"
   ]
  },
  {
   "cell_type": "code",
   "execution_count": 49,
   "metadata": {},
   "outputs": [
    {
     "name": "stdout",
     "output_type": "stream",
     "text": [
      "loaded DLC data\n"
     ]
    }
   ],
   "source": [
    "osid = osids[0]\n",
    "hist_vals, bins = get_dlc_likelihood_histogram(osid)"
   ]
  },
  {
   "cell_type": "code",
   "execution_count": null,
   "metadata": {},
   "outputs": [],
   "source": [
    "# Took 233 min to run them all\n",
    "\n",
    "dlc_likelihood_dir = save_dir / 'dlc_likelihood'\n",
    "dlc_likelihood_dir.mkdir(exist_ok=True)\n",
    "for osid in np.sort(osids):\n",
    "    try:\n",
    "        hist_vals, bins = get_dlc_likelihood_histogram(osid)\n",
    "        save_fn = dlc_likelihood_dir / f'dlc_likelihood_osid_{osid}.npy'\n",
    "        np.save(save_fn, hist_vals)\n",
    "    except:\n",
    "        print(f'Error in osid {osid}')\n",
    "        continue"
   ]
  },
  {
   "cell_type": "code",
   "execution_count": 54,
   "metadata": {},
   "outputs": [],
   "source": [
    "error_osids = []\n",
    "for osid in np.sort(osids):\n",
    "    load_fn = dlc_likelihood_dir / f'dlc_likelihood_osid_{osid}.npy'\n",
    "    if not load_fn.exists():\n",
    "        error_osids.append(osid)"
   ]
  },
  {
   "cell_type": "code",
   "execution_count": 56,
   "metadata": {},
   "outputs": [
    {
     "data": {
      "text/plain": [
       "60"
      ]
     },
     "execution_count": 56,
     "metadata": {},
     "output_type": "execute_result"
    }
   ],
   "source": [
    "len(error_osids) # same as the ones failed in movie saving"
   ]
  },
  {
   "cell_type": "code",
   "execution_count": 58,
   "metadata": {},
   "outputs": [],
   "source": [
    "succeeded_osids = np.setdiff1d(np.sort(osids), error_osids)\n",
    "osid = succeeded_osids[0]\n",
    "load_fn = dlc_likelihood_dir / f'dlc_likelihood_osid_{osid}.npy'\n",
    "hist_vals = np.load(load_fn, allow_pickle=True)"
   ]
  },
  {
   "cell_type": "code",
   "execution_count": 61,
   "metadata": {},
   "outputs": [
    {
     "data": {
      "text/plain": [
       "Text(0.5, 1.0, 'osid 841303580')"
      ]
     },
     "execution_count": 61,
     "metadata": {},
     "output_type": "execute_result"
    },
    {
     "data": {
      "image/png": "[encoded data removed]",
      "text/plain": [
       "<Figure size 640x480 with 1 Axes>"
      ]
     },
     "metadata": {},
     "output_type": "display_data"
    }
   ],
   "source": [
    "fig, ax = plt.subplots()\n",
    "for val in hist_vals:\n",
    "    ax.plot(bins[:-1], val)\n",
    "ax.set_xlabel('Likelihood')\n",
    "ax.set_ylabel('Fraction of frames')\n",
    "ax.set_title(f'osid {osid}')"
   ]
  },
  {
   "cell_type": "code",
   "execution_count": 62,
   "metadata": {},
   "outputs": [],
   "source": [
    "hist_vals_all = []\n",
    "for osid in succeeded_osids:\n",
    "    load_fn = dlc_likelihood_dir / f'dlc_likelihood_osid_{osid}.npy'\n",
    "    hist_vals = np.load(load_fn, allow_pickle=True)\n",
    "    hist_vals_all.append(hist_vals)"
   ]
  },
  {
   "cell_type": "code",
   "execution_count": 69,
   "metadata": {},
   "outputs": [
    {
     "data": {
      "text/plain": [
       "Text(0.5, 1.0, 'All traces from all the sessions')"
      ]
     },
     "execution_count": 69,
     "metadata": {},
     "output_type": "execute_result"
    },
    {
     "data": {
      "image/png": "[encoded data removed]",
      "text/plain": [
       "<Figure size 640x480 with 1 Axes>"
      ]
     },
     "metadata": {},
     "output_type": "display_data"
    }
   ],
   "source": [
    "fig, ax = plt.subplots()\n",
    "for vals in hist_vals_all:\n",
    "    for val in vals:\n",
    "        ax.plot(bins[:-1], val, 'k', alpha=0.01)\n",
    "ax.set_xlabel('Likelihood')\n",
    "ax.set_ylabel('Fraction of frames')\n",
    "ax.set_title(f'All traces from all the sessions')"
   ]
  },
  {
   "cell_type": "code",
   "execution_count": 84,
   "metadata": {},
   "outputs": [
    {
     "data": {
      "text/plain": [
       "(0.0, 0.2)"
      ]
     },
     "execution_count": 84,
     "metadata": {},
     "output_type": "execute_result"
    },
    {
     "data": {
      "image/png": "[encoded data removed]",
      "text/plain": [
       "<Figure size 640x480 with 1 Axes>"
      ]
     },
     "metadata": {},
     "output_type": "display_data"
    }
   ],
   "source": [
    "# osid = 982566889\n",
    "osid = 982566889\n",
    "load_fn = dlc_likelihood_dir / f'dlc_likelihood_osid_{osid}.npy'\n",
    "hist_vals = np.load(load_fn, allow_pickle=True)\n",
    "fig, ax = plt.subplots()\n",
    "for val in hist_vals:\n",
    "    ax.plot(bins[:-1], val)\n",
    "ax.set_xlabel('Likelihood')\n",
    "ax.set_ylabel('Fraction of frames')\n",
    "ax.set_title(f'osid {osid}')\n",
    "ax.set_xlim([0, 0.95])\n",
    "ax.set_ylim([0, 0.2])"
   ]
  },
  {
   "cell_type": "markdown",
   "metadata": {},
   "source": [
    "## Check if all pupil points are within the convex hull of eye points"
   ]
  },
  {
   "cell_type": "code",
   "execution_count": 86,
   "metadata": {},
   "outputs": [
    {
     "name": "stdout",
     "output_type": "stream",
     "text": [
      "loaded DLC data\n"
     ]
    }
   ],
   "source": [
    "filepath = from_lims.get_deepcut_h5_filepath(osid)\n",
    "df = annotation_tools.read_DLC_h5file(filepath)"
   ]
  },
  {
   "cell_type": "code",
   "execution_count": 90,
   "metadata": {},
   "outputs": [
    {
     "data": {
      "text/plain": [
       "array(['cr1', 'cr2', 'cr3', 'cr4', 'cr5', 'cr6', 'cr7', 'cr8', 'cr9',\n",
       "       'cr10', 'cr11', 'cr12', 'eye1', 'eye2', 'eye3', 'eye4', 'eye5',\n",
       "       'eye6', 'eye7', 'eye8', 'eye9', 'eye10', 'eye11', 'eye12',\n",
       "       'pupil1', 'pupil2', 'pupil3', 'pupil4', 'pupil5', 'pupil6',\n",
       "       'pupil7', 'pupil8', 'pupil9', 'pupil10', 'pupil11', 'pupil12'],\n",
       "      dtype=object)"
      ]
     },
     "execution_count": 90,
     "metadata": {},
     "output_type": "execute_result"
    }
   ],
   "source": [
    "df.bodyparts.unique()"
   ]
  },
  {
   "cell_type": "code",
   "execution_count": 97,
   "metadata": {},
   "outputs": [
    {
     "data": {
      "text/plain": [
       "Index(['bodyparts', 'coords', 'frame_number', 'value'], dtype='object')"
      ]
     },
     "execution_count": 97,
     "metadata": {},
     "output_type": "execute_result"
    }
   ],
   "source": [
    "df.columns"
   ]
  },
  {
   "cell_type": "code",
   "execution_count": 99,
   "metadata": {},
   "outputs": [
    {
     "data": {
      "text/html": [
       "<div>\n",
       "<style scoped>\n",
       "    .dataframe tbody tr th:only-of-type {\n",
       "        vertical-align: middle;\n",
       "    }\n",
       "\n",
       "    .dataframe tbody tr th {\n",
       "        vertical-align: top;\n",
       "    }\n",
       "\n",
       "    .dataframe thead th {\n",
       "        text-align: right;\n",
       "    }\n",
       "</style>\n",
       "<table border=\"1\" class=\"dataframe\">\n",
       "  <thead>\n",
       "    <tr style=\"text-align: right;\">\n",
       "      <th></th>\n",
       "      <th>bodyparts</th>\n",
       "      <th>coords</th>\n",
       "      <th>frame_number</th>\n",
       "      <th>value</th>\n",
       "    </tr>\n",
       "  </thead>\n",
       "  <tbody>\n",
       "    <tr>\n",
       "      <th>100</th>\n",
       "      <td>cr1</td>\n",
       "      <td>x</td>\n",
       "      <td>100</td>\n",
       "      <td>359.474846</td>\n",
       "    </tr>\n",
       "    <tr>\n",
       "      <th>136236</th>\n",
       "      <td>cr1</td>\n",
       "      <td>y</td>\n",
       "      <td>100</td>\n",
       "      <td>292.248277</td>\n",
       "    </tr>\n",
       "    <tr>\n",
       "      <th>272372</th>\n",
       "      <td>cr1</td>\n",
       "      <td>likelihood</td>\n",
       "      <td>100</td>\n",
       "      <td>0.966519</td>\n",
       "    </tr>\n",
       "    <tr>\n",
       "      <th>408508</th>\n",
       "      <td>cr2</td>\n",
       "      <td>x</td>\n",
       "      <td>100</td>\n",
       "      <td>359.259949</td>\n",
       "    </tr>\n",
       "    <tr>\n",
       "      <th>544644</th>\n",
       "      <td>cr2</td>\n",
       "      <td>y</td>\n",
       "      <td>100</td>\n",
       "      <td>296.427078</td>\n",
       "    </tr>\n",
       "    <tr>\n",
       "      <th>...</th>\n",
       "      <td>...</td>\n",
       "      <td>...</td>\n",
       "      <td>...</td>\n",
       "      <td>...</td>\n",
       "    </tr>\n",
       "    <tr>\n",
       "      <th>14022108</th>\n",
       "      <td>pupil11</td>\n",
       "      <td>y</td>\n",
       "      <td>100</td>\n",
       "      <td>209.505851</td>\n",
       "    </tr>\n",
       "    <tr>\n",
       "      <th>14158244</th>\n",
       "      <td>pupil11</td>\n",
       "      <td>likelihood</td>\n",
       "      <td>100</td>\n",
       "      <td>0.960287</td>\n",
       "    </tr>\n",
       "    <tr>\n",
       "      <th>14294380</th>\n",
       "      <td>pupil12</td>\n",
       "      <td>x</td>\n",
       "      <td>100</td>\n",
       "      <td>416.380164</td>\n",
       "    </tr>\n",
       "    <tr>\n",
       "      <th>14430516</th>\n",
       "      <td>pupil12</td>\n",
       "      <td>y</td>\n",
       "      <td>100</td>\n",
       "      <td>216.780270</td>\n",
       "    </tr>\n",
       "    <tr>\n",
       "      <th>14566652</th>\n",
       "      <td>pupil12</td>\n",
       "      <td>likelihood</td>\n",
       "      <td>100</td>\n",
       "      <td>0.917480</td>\n",
       "    </tr>\n",
       "  </tbody>\n",
       "</table>\n",
       "<p>108 rows × 4 columns</p>\n",
       "</div>"
      ],
      "text/plain": [
       "         bodyparts      coords  frame_number       value\n",
       "100            cr1           x           100  359.474846\n",
       "136236         cr1           y           100  292.248277\n",
       "272372         cr1  likelihood           100    0.966519\n",
       "408508         cr2           x           100  359.259949\n",
       "544644         cr2           y           100  296.427078\n",
       "...            ...         ...           ...         ...\n",
       "14022108   pupil11           y           100  209.505851\n",
       "14158244   pupil11  likelihood           100    0.960287\n",
       "14294380   pupil12           x           100  416.380164\n",
       "14430516   pupil12           y           100  216.780270\n",
       "14566652   pupil12  likelihood           100    0.917480\n",
       "\n",
       "[108 rows x 4 columns]"
      ]
     },
     "execution_count": 99,
     "metadata": {},
     "output_type": "execute_result"
    }
   ],
   "source": [
    "df[df.frame_number==100].apply(lambda x: x.value if (x.coords == 'x') and )"
   ]
  },
  {
   "cell_type": "code",
   "execution_count": 98,
   "metadata": {},
   "outputs": [
    {
     "data": {
      "text/html": [
       "<div>\n",
       "<style scoped>\n",
       "    .dataframe tbody tr th:only-of-type {\n",
       "        vertical-align: middle;\n",
       "    }\n",
       "\n",
       "    .dataframe tbody tr th {\n",
       "        vertical-align: top;\n",
       "    }\n",
       "\n",
       "    .dataframe thead th {\n",
       "        text-align: right;\n",
       "    }\n",
       "</style>\n",
       "<table border=\"1\" class=\"dataframe\">\n",
       "  <thead>\n",
       "    <tr style=\"text-align: right;\">\n",
       "      <th></th>\n",
       "      <th>bodyparts</th>\n",
       "      <th>coords</th>\n",
       "      <th>frame_number</th>\n",
       "      <th>value</th>\n",
       "    </tr>\n",
       "  </thead>\n",
       "  <tbody>\n",
       "    <tr>\n",
       "      <th>9801892</th>\n",
       "      <td>pupil1</td>\n",
       "      <td>x</td>\n",
       "      <td>100</td>\n",
       "      <td>431.879766</td>\n",
       "    </tr>\n",
       "    <tr>\n",
       "      <th>9938028</th>\n",
       "      <td>pupil1</td>\n",
       "      <td>y</td>\n",
       "      <td>100</td>\n",
       "      <td>238.398129</td>\n",
       "    </tr>\n",
       "    <tr>\n",
       "      <th>10210300</th>\n",
       "      <td>pupil2</td>\n",
       "      <td>x</td>\n",
       "      <td>100</td>\n",
       "      <td>437.189143</td>\n",
       "    </tr>\n",
       "    <tr>\n",
       "      <th>10346436</th>\n",
       "      <td>pupil2</td>\n",
       "      <td>y</td>\n",
       "      <td>100</td>\n",
       "      <td>269.663077</td>\n",
       "    </tr>\n",
       "    <tr>\n",
       "      <th>10618708</th>\n",
       "      <td>pupil3</td>\n",
       "      <td>x</td>\n",
       "      <td>100</td>\n",
       "      <td>417.372088</td>\n",
       "    </tr>\n",
       "    <tr>\n",
       "      <th>10754844</th>\n",
       "      <td>pupil3</td>\n",
       "      <td>y</td>\n",
       "      <td>100</td>\n",
       "      <td>335.093864</td>\n",
       "    </tr>\n",
       "    <tr>\n",
       "      <th>11027116</th>\n",
       "      <td>pupil4</td>\n",
       "      <td>x</td>\n",
       "      <td>100</td>\n",
       "      <td>398.839577</td>\n",
       "    </tr>\n",
       "    <tr>\n",
       "      <th>11163252</th>\n",
       "      <td>pupil4</td>\n",
       "      <td>y</td>\n",
       "      <td>100</td>\n",
       "      <td>357.543428</td>\n",
       "    </tr>\n",
       "    <tr>\n",
       "      <th>11435524</th>\n",
       "      <td>pupil5</td>\n",
       "      <td>x</td>\n",
       "      <td>100</td>\n",
       "      <td>352.197606</td>\n",
       "    </tr>\n",
       "    <tr>\n",
       "      <th>11571660</th>\n",
       "      <td>pupil5</td>\n",
       "      <td>y</td>\n",
       "      <td>100</td>\n",
       "      <td>375.303398</td>\n",
       "    </tr>\n",
       "    <tr>\n",
       "      <th>11843932</th>\n",
       "      <td>pupil6</td>\n",
       "      <td>x</td>\n",
       "      <td>100</td>\n",
       "      <td>326.512955</td>\n",
       "    </tr>\n",
       "    <tr>\n",
       "      <th>11980068</th>\n",
       "      <td>pupil6</td>\n",
       "      <td>y</td>\n",
       "      <td>100</td>\n",
       "      <td>379.688895</td>\n",
       "    </tr>\n",
       "    <tr>\n",
       "      <th>12252340</th>\n",
       "      <td>pupil7</td>\n",
       "      <td>x</td>\n",
       "      <td>100</td>\n",
       "      <td>304.330821</td>\n",
       "    </tr>\n",
       "    <tr>\n",
       "      <th>12388476</th>\n",
       "      <td>pupil7</td>\n",
       "      <td>y</td>\n",
       "      <td>100</td>\n",
       "      <td>361.125452</td>\n",
       "    </tr>\n",
       "    <tr>\n",
       "      <th>12660748</th>\n",
       "      <td>pupil8</td>\n",
       "      <td>x</td>\n",
       "      <td>100</td>\n",
       "      <td>289.295017</td>\n",
       "    </tr>\n",
       "    <tr>\n",
       "      <th>12796884</th>\n",
       "      <td>pupil8</td>\n",
       "      <td>y</td>\n",
       "      <td>100</td>\n",
       "      <td>199.189791</td>\n",
       "    </tr>\n",
       "    <tr>\n",
       "      <th>13069156</th>\n",
       "      <td>pupil9</td>\n",
       "      <td>x</td>\n",
       "      <td>100</td>\n",
       "      <td>372.293967</td>\n",
       "    </tr>\n",
       "    <tr>\n",
       "      <th>13205292</th>\n",
       "      <td>pupil9</td>\n",
       "      <td>y</td>\n",
       "      <td>100</td>\n",
       "      <td>214.771472</td>\n",
       "    </tr>\n",
       "    <tr>\n",
       "      <th>13477564</th>\n",
       "      <td>pupil10</td>\n",
       "      <td>x</td>\n",
       "      <td>100</td>\n",
       "      <td>386.053388</td>\n",
       "    </tr>\n",
       "    <tr>\n",
       "      <th>13613700</th>\n",
       "      <td>pupil10</td>\n",
       "      <td>y</td>\n",
       "      <td>100</td>\n",
       "      <td>210.970039</td>\n",
       "    </tr>\n",
       "    <tr>\n",
       "      <th>13885972</th>\n",
       "      <td>pupil11</td>\n",
       "      <td>x</td>\n",
       "      <td>100</td>\n",
       "      <td>402.052677</td>\n",
       "    </tr>\n",
       "    <tr>\n",
       "      <th>14022108</th>\n",
       "      <td>pupil11</td>\n",
       "      <td>y</td>\n",
       "      <td>100</td>\n",
       "      <td>209.505851</td>\n",
       "    </tr>\n",
       "    <tr>\n",
       "      <th>14294380</th>\n",
       "      <td>pupil12</td>\n",
       "      <td>x</td>\n",
       "      <td>100</td>\n",
       "      <td>416.380164</td>\n",
       "    </tr>\n",
       "    <tr>\n",
       "      <th>14430516</th>\n",
       "      <td>pupil12</td>\n",
       "      <td>y</td>\n",
       "      <td>100</td>\n",
       "      <td>216.780270</td>\n",
       "    </tr>\n",
       "  </tbody>\n",
       "</table>\n",
       "</div>"
      ],
      "text/plain": [
       "         bodyparts coords  frame_number       value\n",
       "9801892     pupil1      x           100  431.879766\n",
       "9938028     pupil1      y           100  238.398129\n",
       "10210300    pupil2      x           100  437.189143\n",
       "10346436    pupil2      y           100  269.663077\n",
       "10618708    pupil3      x           100  417.372088\n",
       "10754844    pupil3      y           100  335.093864\n",
       "11027116    pupil4      x           100  398.839577\n",
       "11163252    pupil4      y           100  357.543428\n",
       "11435524    pupil5      x           100  352.197606\n",
       "11571660    pupil5      y           100  375.303398\n",
       "11843932    pupil6      x           100  326.512955\n",
       "11980068    pupil6      y           100  379.688895\n",
       "12252340    pupil7      x           100  304.330821\n",
       "12388476    pupil7      y           100  361.125452\n",
       "12660748    pupil8      x           100  289.295017\n",
       "12796884    pupil8      y           100  199.189791\n",
       "13069156    pupil9      x           100  372.293967\n",
       "13205292    pupil9      y           100  214.771472\n",
       "13477564   pupil10      x           100  386.053388\n",
       "13613700   pupil10      y           100  210.970039\n",
       "13885972   pupil11      x           100  402.052677\n",
       "14022108   pupil11      y           100  209.505851\n",
       "14294380   pupil12      x           100  416.380164\n",
       "14430516   pupil12      y           100  216.780270"
      ]
     },
     "execution_count": 98,
     "metadata": {},
     "output_type": "execute_result"
    }
   ],
   "source": [
    "df[(df.bodyparts.str.contains('pupil')) & ((df.coords=='x') | (df.coords=='y')) & (df.frame_number==100)]"
   ]
  },
  {
   "cell_type": "code",
   "execution_count": 100,
   "metadata": {},
   "outputs": [],
   "source": [
    "pupil_df = df[(df.bodyparts.str.contains('pupil')) & ((df.coords=='x') | (df.coords=='y')) & (df.frame_number==100)]\n",
    "pupil_bodyparts = pupil_df.bodyparts.unique()\n",
    "x_vals = []\n",
    "y_vals = []\n",
    "for bp in pupil_bodyparts:\n",
    "    x_val = pupil_df[(pupil_df.bodyparts==bp) & (pupil_df.coords=='x')].value.values[0]\n",
    "    y_val = pupil_df[(pupil_df.bodyparts==bp) & (pupil_df.coords=='y')].value.values[0]\n",
    "    x_vals.append(x_val)\n",
    "    y_vals.append(y_val)\n",
    "    "
   ]
  },
  {
   "cell_type": "code",
   "execution_count": 110,
   "metadata": {},
   "outputs": [
    {
     "data": {
      "text/plain": [
       "array([[431.87976551, 238.39812899],\n",
       "       [386.05338788, 210.97003853],\n",
       "       [402.05267727, 209.50585079],\n",
       "       [416.38016415, 216.78026962],\n",
       "       [437.1891433 , 269.66307688],\n",
       "       [417.37208843, 335.09386396],\n",
       "       [398.8395772 , 357.54342771],\n",
       "       [352.19760609, 375.30339789],\n",
       "       [326.51295471, 379.68889481],\n",
       "       [304.33082128, 361.1254518 ],\n",
       "       [289.29501724, 199.18979096],\n",
       "       [372.29396731, 214.77147245]])"
      ]
     },
     "execution_count": 110,
     "metadata": {},
     "output_type": "execute_result"
    }
   ],
   "source": [
    "hull = ConvexHull(pupil_points)"
   ]
  },
  {
   "cell_type": "code",
   "execution_count": 113,
   "metadata": {},
   "outputs": [],
   "source": []
  },
  {
   "cell_type": "code",
   "execution_count": 118,
   "metadata": {},
   "outputs": [
    {
     "data": {
      "text/plain": [
       "1.0"
      ]
     },
     "execution_count": 118,
     "metadata": {},
     "output_type": "execute_result"
    }
   ],
   "source": [
    "# eye_df = df[(df.bodyparts.str.contains('eye')) & ((df.coords=='x') | (df.coords=='y')) & (df.frame_number==100)]\n",
    "# eye_points = np.stack(eye_df.groupby('bodyparts').apply(lambda x: np.array([x[x['coords']=='x'].value.values[0], x[x['coords']=='y'].value.values[0]])).values)\n",
    "# hull = ConvexHull(eye_points)\n",
    "# hull_path = mplPath(eye_points[hull.vertices])\n",
    "# pupil_points = np.stack(pupil_df.groupby('bodyparts').apply(lambda x: np.array([x[x['coords']=='x'].value.values[0], x[x['coords']=='y'].value.values[0]])).values)\n",
    "inside=0\n",
    "for pupil_point in pupil_points:\n",
    "    inside += hull_path.contains_point(pupil_point)\n",
    "inside/len(pupil_points)"
   ]
  },
  {
   "cell_type": "code",
   "execution_count": 120,
   "metadata": {},
   "outputs": [
    {
     "data": {
      "text/plain": [
       "frame_number\n",
       "0         1.0\n",
       "1         1.0\n",
       "2         1.0\n",
       "3         1.0\n",
       "4         1.0\n",
       "         ... \n",
       "136131    1.0\n",
       "136132    1.0\n",
       "136133    1.0\n",
       "136134    1.0\n",
       "136135    1.0\n",
       "Length: 136136, dtype: float64"
      ]
     },
     "execution_count": 120,
     "metadata": {},
     "output_type": "execute_result"
    }
   ],
   "source": [
    "def _get_pupil_inside_ratio(df):\n",
    "    eye_df = df[(df.bodyparts.str.contains('eye')) & ((df.coords=='x') | (df.coords=='y'))]\n",
    "    eye_points = np.stack(eye_df.groupby('bodyparts').apply(lambda x: np.array([x[x['coords']=='x'].value.values[0], x[x['coords']=='y'].value.values[0]])).values)\n",
    "    hull = ConvexHull(eye_points)\n",
    "    hull_path = mplPath(eye_points[hull.vertices])\n",
    "    pupil_points = np.stack(pupil_df.groupby('bodyparts').apply(lambda x: np.array([x[x['coords']=='x'].value.values[0], x[x['coords']=='y'].value.values[0]])).values)\n",
    "    inside=0\n",
    "    for pupil_point in pupil_points:\n",
    "        inside += hull_path.contains_point(pupil_point)\n",
    "    return inside/len(pupil_points)\n",
    "\n"
   ]
  },
  {
   "cell_type": "code",
   "execution_count": null,
   "metadata": {},
   "outputs": [],
   "source": [
    "df.groupby('frame_number').apply(_get_pupil_inside_ratio)\n",
    "# takes about 45 min for 136k frames (one session)"
   ]
  },
  {
   "cell_type": "markdown",
   "metadata": {},
   "source": [
    "## Run pupil being inside of eye points in HPC"
   ]
  },
  {
   "cell_type": "code",
   "execution_count": null,
   "metadata": {},
   "outputs": [],
   "source": []
  }
 ],
 "metadata": {
  "kernelspec": {
   "display_name": "allenvisb",
   "language": "python",
   "name": "python3"
  },
  "language_info": {
   "codemirror_mode": {
    "name": "ipython",
    "version": 3
   },
   "file_extension": ".py",
   "mimetype": "text/x-python",
   "name": "python",
   "nbconvert_exporter": "python",
   "pygments_lexer": "ipython3",
   "version": "3.8.18"
  }
 },
 "nbformat": 4,
 "nbformat_minor": 2
}
