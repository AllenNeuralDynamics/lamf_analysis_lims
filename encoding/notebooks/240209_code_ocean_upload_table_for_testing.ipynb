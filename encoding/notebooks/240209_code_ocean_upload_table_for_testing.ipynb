{
 "cells": [
  {
   "cell_type": "code",
   "execution_count": 1,
   "metadata": {},
   "outputs": [],
   "source": [
    "import pandas as pd\n",
    "from pathlib import Path\n",
    "\n",
    "alex_result_dir = Path(r'\\\\allen\\programs\\braintv\\workgroups\\nc-ophys\\visual_behavior\\ophys_glm\\v_24_events_all_L2_optimize_by_session')\n",
    "alex_result_df = pd.read_pickle(alex_result_dir / 'results.pkl')\n",
    "gad2_glm_dir = Path(r'\\\\allen\\programs\\braintv\\workgroups\\nc-ophys\\mFish_glm\\ophys_glm\\v_version_07_events')\n",
    "gad2_table = pd.read_csv(gad2_glm_dir / 'experiment_table_v_version_07_events.csv')"
   ]
  },
  {
   "cell_type": "code",
   "execution_count": 7,
   "metadata": {},
   "outputs": [
    {
     "data": {
      "text/plain": [
       "Index(['dropout', 'absolute_change_from_full', 'avg_L2_regularization',\n",
       "       'variance_explained', 'variance_explained_full',\n",
       "       'avg_cv_var_test_full_comparison_raw', 'avg_cv_var_test_raw',\n",
       "       'avg_cv_var_test_sem', 'cell_L2_regularization',\n",
       "       'fraction_change_from_full', 'shuffle_cells', 'shuffle_time',\n",
       "       'cell_specimen_id', 'adj_fraction_change_from_full', 'adj_dropout_raw',\n",
       "       'adj_variance_explained', 'adj_variance_explained_full',\n",
       "       'avg_cv_adjvar_test_full_comparison_raw', 'avg_cv_adjvar_test_raw',\n",
       "       'cell_roi_id', 'glm_version', 'ophys_experiment_id', 'ophys_session_id',\n",
       "       'entry_time_utc', 'equipment_name', 'full_genotype', 'mouse_id',\n",
       "       'reporter_line', 'driver_line', 'sex', 'age_in_days', 'cre_line',\n",
       "       'indicator', 'session_number', 'prior_exposures_to_session_type',\n",
       "       'prior_exposures_to_image_set', 'prior_exposures_to_omissions',\n",
       "       'behavior_session_id', 'ophys_container_id', 'project_code',\n",
       "       'imaging_depth', 'targeted_structure', 'date_of_acquisition',\n",
       "       'session_type', 'experience_level', 'passive', 'image_set', 'file_id',\n",
       "       'identifier'],\n",
       "      dtype='object')"
      ]
     },
     "execution_count": 7,
     "metadata": {},
     "output_type": "execute_result"
    }
   ],
   "source": [
    "alex_result_df.columns"
   ]
  },
  {
   "cell_type": "code",
   "execution_count": null,
   "metadata": {},
   "outputs": [],
   "source": []
  },
  {
   "cell_type": "code",
   "execution_count": 25,
   "metadata": {},
   "outputs": [],
   "source": [
    "vbp_table = alex_result_df.query('equipment_name == \"MESO.1\"')[['mouse_id', 'cre_line', 'session_type','ophys_session_id']].drop_duplicates()\n",
    "gad2_table_simplified = gad2_table[['mouse_id', 'cre_line', 'session_type','ophys_session_id']].drop_duplicates()\n",
    "all_table = pd.concat([vbp_table, gad2_table_simplified], axis=0)"
   ]
  },
  {
   "cell_type": "code",
   "execution_count": 26,
   "metadata": {},
   "outputs": [
    {
     "data": {
      "text/plain": [
       "147"
      ]
     },
     "execution_count": 26,
     "metadata": {},
     "output_type": "execute_result"
    }
   ],
   "source": [
    "len(gad2_table_simplified)"
   ]
  },
  {
   "cell_type": "code",
   "execution_count": 27,
   "metadata": {},
   "outputs": [
    {
     "data": {
      "text/html": [
       "<div>\n",
       "<style scoped>\n",
       "    .dataframe tbody tr th:only-of-type {\n",
       "        vertical-align: middle;\n",
       "    }\n",
       "\n",
       "    .dataframe tbody tr th {\n",
       "        vertical-align: top;\n",
       "    }\n",
       "\n",
       "    .dataframe thead th {\n",
       "        text-align: right;\n",
       "    }\n",
       "</style>\n",
       "<table border=\"1\" class=\"dataframe\">\n",
       "  <thead>\n",
       "    <tr style=\"text-align: right;\">\n",
       "      <th></th>\n",
       "      <th>mouse_id</th>\n",
       "      <th>cre_line</th>\n",
       "      <th>session_type</th>\n",
       "      <th>ophys_session_id</th>\n",
       "    </tr>\n",
       "  </thead>\n",
       "  <tbody>\n",
       "    <tr>\n",
       "      <th>15812</th>\n",
       "      <td>451787</td>\n",
       "      <td>Slc17a7-IRES2-Cre</td>\n",
       "      <td>OPHYS_2_images_A_passive</td>\n",
       "      <td>886367984</td>\n",
       "    </tr>\n",
       "    <tr>\n",
       "      <th>24524</th>\n",
       "      <td>456915</td>\n",
       "      <td>Slc17a7-IRES2-Cre</td>\n",
       "      <td>OPHYS_3_images_A</td>\n",
       "      <td>904771513</td>\n",
       "    </tr>\n",
       "    <tr>\n",
       "      <th>25964</th>\n",
       "      <td>457841</td>\n",
       "      <td>Sst-IRES-Cre</td>\n",
       "      <td>OPHYS_1_images_A</td>\n",
       "      <td>951410079</td>\n",
       "    </tr>\n",
       "    <tr>\n",
       "      <th>28124</th>\n",
       "      <td>457841</td>\n",
       "      <td>Sst-IRES-Cre</td>\n",
       "      <td>OPHYS_2_images_A_passive</td>\n",
       "      <td>952430817</td>\n",
       "    </tr>\n",
       "    <tr>\n",
       "      <th>30384</th>\n",
       "      <td>457841</td>\n",
       "      <td>Sst-IRES-Cre</td>\n",
       "      <td>OPHYS_4_images_B</td>\n",
       "      <td>957020350</td>\n",
       "    </tr>\n",
       "    <tr>\n",
       "      <th>...</th>\n",
       "      <td>...</td>\n",
       "      <td>...</td>\n",
       "      <td>...</td>\n",
       "      <td>...</td>\n",
       "    </tr>\n",
       "    <tr>\n",
       "      <th>1135</th>\n",
       "      <td>646883</td>\n",
       "      <td>Gad2-IRES-Cre</td>\n",
       "      <td>TRAINING_4_images_A_training</td>\n",
       "      <td>1230663936</td>\n",
       "    </tr>\n",
       "    <tr>\n",
       "      <th>1143</th>\n",
       "      <td>646883</td>\n",
       "      <td>Gad2-IRES-Cre</td>\n",
       "      <td>TRAINING_4_images_A_training</td>\n",
       "      <td>1230890037</td>\n",
       "    </tr>\n",
       "    <tr>\n",
       "      <th>1151</th>\n",
       "      <td>646883</td>\n",
       "      <td>Gad2-IRES-Cre</td>\n",
       "      <td>TRAINING_4_images_A_training</td>\n",
       "      <td>1231139212</td>\n",
       "    </tr>\n",
       "    <tr>\n",
       "      <th>1159</th>\n",
       "      <td>646883</td>\n",
       "      <td>Gad2-IRES-Cre</td>\n",
       "      <td>TRAINING_4_images_A_training</td>\n",
       "      <td>1231421272</td>\n",
       "    </tr>\n",
       "    <tr>\n",
       "      <th>1167</th>\n",
       "      <td>646883</td>\n",
       "      <td>Gad2-IRES-Cre</td>\n",
       "      <td>TRAINING_4_images_A_training</td>\n",
       "      <td>1231714765</td>\n",
       "    </tr>\n",
       "  </tbody>\n",
       "</table>\n",
       "<p>310 rows × 4 columns</p>\n",
       "</div>"
      ],
      "text/plain": [
       "       mouse_id           cre_line                  session_type  \\\n",
       "15812    451787  Slc17a7-IRES2-Cre      OPHYS_2_images_A_passive   \n",
       "24524    456915  Slc17a7-IRES2-Cre              OPHYS_3_images_A   \n",
       "25964    457841       Sst-IRES-Cre              OPHYS_1_images_A   \n",
       "28124    457841       Sst-IRES-Cre      OPHYS_2_images_A_passive   \n",
       "30384    457841       Sst-IRES-Cre              OPHYS_4_images_B   \n",
       "...         ...                ...                           ...   \n",
       "1135     646883      Gad2-IRES-Cre  TRAINING_4_images_A_training   \n",
       "1143     646883      Gad2-IRES-Cre  TRAINING_4_images_A_training   \n",
       "1151     646883      Gad2-IRES-Cre  TRAINING_4_images_A_training   \n",
       "1159     646883      Gad2-IRES-Cre  TRAINING_4_images_A_training   \n",
       "1167     646883      Gad2-IRES-Cre  TRAINING_4_images_A_training   \n",
       "\n",
       "       ophys_session_id  \n",
       "15812         886367984  \n",
       "24524         904771513  \n",
       "25964         951410079  \n",
       "28124         952430817  \n",
       "30384         957020350  \n",
       "...                 ...  \n",
       "1135         1230663936  \n",
       "1143         1230890037  \n",
       "1151         1231139212  \n",
       "1159         1231421272  \n",
       "1167         1231714765  \n",
       "\n",
       "[310 rows x 4 columns]"
      ]
     },
     "execution_count": 27,
     "metadata": {},
     "output_type": "execute_result"
    }
   ],
   "source": [
    "all_table"
   ]
  },
  {
   "cell_type": "code",
   "execution_count": 28,
   "metadata": {},
   "outputs": [],
   "source": []
  },
  {
   "cell_type": "code",
   "execution_count": 29,
   "metadata": {},
   "outputs": [],
   "source": [
    "vbp_table_oeid = alex_result_df.query('equipment_name == \"MESO.1\"')[['mouse_id', 'cre_line', 'session_type','ophys_session_id', 'ophys_experiment_id']].drop_duplicates()\n",
    "gad2_table_simplified_oeid = gad2_table[['mouse_id', 'cre_line', 'session_type','ophys_session_id', 'ophys_experiment_id']].drop_duplicates()\n",
    "all_table_oeid = pd.concat([vbp_table_oeid, gad2_table_simplified_oeid], axis=0)\n"
   ]
  },
  {
   "cell_type": "code",
   "execution_count": 41,
   "metadata": {},
   "outputs": [],
   "source": [
    "base_dir = Path(r'\\\\allen\\programs\\mindscope\\workgroups\\learning\\pilots\\boosting')\n",
    "selected_oeids = pd.read_csv(base_dir / 'boosting_test_oeids.csv', index_col=0)\n"
   ]
  },
  {
   "cell_type": "code",
   "execution_count": 42,
   "metadata": {},
   "outputs": [],
   "source": [
    "priority_osid = []\n",
    "for oeid in selected_oeids.index.values:\n",
    "    priority_osid.append(all_table_oeid.query('ophys_experiment_id == @oeid')['ophys_session_id'].values[0])"
   ]
  },
  {
   "cell_type": "code",
   "execution_count": 44,
   "metadata": {},
   "outputs": [],
   "source": [
    "all_table.priority = False"
   ]
  },
  {
   "cell_type": "code",
   "execution_count": 45,
   "metadata": {},
   "outputs": [],
   "source": [
    "for osid in priority_osid:\n",
    "    all_table.loc[all_table.ophys_session_id == osid, 'priority'] = True"
   ]
  },
  {
   "cell_type": "code",
   "execution_count": 46,
   "metadata": {},
   "outputs": [],
   "source": [
    "save_dir  = Path(r'\\\\allen\\programs\\mindscope\\workgroups\\learning')\n",
    "save_fn = 'code_ocean_upload_vbp_gad2_SAC2023.csv'\n",
    "all_table.to_csv(save_dir / save_fn, index=False)"
   ]
  }
 ],
 "metadata": {
  "kernelspec": {
   "display_name": "glm_boosting",
   "language": "python",
   "name": "python3"
  },
  "language_info": {
   "codemirror_mode": {
    "name": "ipython",
    "version": 3
   },
   "file_extension": ".py",
   "mimetype": "text/x-python",
   "name": "python",
   "nbconvert_exporter": "python",
   "pygments_lexer": "ipython3",
   "version": "3.8.18"
  }
 },
 "nbformat": 4,
 "nbformat_minor": 2
}
