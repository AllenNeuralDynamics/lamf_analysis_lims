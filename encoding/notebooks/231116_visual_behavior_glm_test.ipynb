{
 "cells": [
  {
   "cell_type": "markdown",
   "metadata": {},
   "source": [
    "# Purpose:\n",
    "- Test if results pkl files of visual behavior glm has enough information for me to run my own analysis\n",
    "    - Design matrix\n",
    "    - Variance explained\n",
    "    - Importance of each predictor"
   ]
  },
  {
   "cell_type": "code",
   "execution_count": 1,
   "metadata": {},
   "outputs": [],
   "source": [
    "from pathlib import Path\n",
    "import pandas as pd\n",
    "import numpy as np\n",
    "import matplotlib.pyplot as plt\n",
    "\n",
    "result_dir = Path(r'\\\\allen\\programs\\braintv\\workgroups\\nc-ophys\\visual_behavior\\ophys_glm\\v_24_events_all_L2_optimize_by_session')"
   ]
  },
  {
   "cell_type": "code",
   "execution_count": 2,
   "metadata": {},
   "outputs": [],
   "source": [
    "result_fn = result_dir / 'results.pkl'\n",
    "results = pd.read_pickle(result_fn)"
   ]
  },
  {
   "cell_type": "code",
   "execution_count": 5,
   "metadata": {},
   "outputs": [
    {
     "data": {
      "text/plain": [
       "Index(['dropout', 'absolute_change_from_full', 'avg_L2_regularization',\n",
       "       'variance_explained', 'variance_explained_full',\n",
       "       'avg_cv_var_test_full_comparison_raw', 'avg_cv_var_test_raw',\n",
       "       'avg_cv_var_test_sem', 'cell_L2_regularization',\n",
       "       'fraction_change_from_full', 'shuffle_cells', 'shuffle_time',\n",
       "       'cell_specimen_id', 'adj_fraction_change_from_full', 'adj_dropout_raw',\n",
       "       'adj_variance_explained', 'adj_variance_explained_full',\n",
       "       'avg_cv_adjvar_test_full_comparison_raw', 'avg_cv_adjvar_test_raw',\n",
       "       'cell_roi_id', 'glm_version', 'ophys_experiment_id', 'ophys_session_id',\n",
       "       'entry_time_utc', 'equipment_name', 'full_genotype', 'mouse_id',\n",
       "       'reporter_line', 'driver_line', 'sex', 'age_in_days', 'cre_line',\n",
       "       'indicator', 'session_number', 'prior_exposures_to_session_type',\n",
       "       'prior_exposures_to_image_set', 'prior_exposures_to_omissions',\n",
       "       'behavior_session_id', 'ophys_container_id', 'project_code',\n",
       "       'imaging_depth', 'targeted_structure', 'date_of_acquisition',\n",
       "       'session_type', 'experience_level', 'passive', 'image_set', 'file_id',\n",
       "       'identifier'],\n",
       "      dtype='object')"
      ]
     },
     "execution_count": 5,
     "metadata": {},
     "output_type": "execute_result"
    }
   ],
   "source": [
    "results.columns"
   ]
  },
  {
   "cell_type": "code",
   "execution_count": 8,
   "metadata": {},
   "outputs": [],
   "source": [
    "weight_fn = result_dir / 'weights_df.pkl'\n",
    "weights = pd.read_pickle(weight_fn)\n"
   ]
  },
  {
   "cell_type": "code",
   "execution_count": 9,
   "metadata": {},
   "outputs": [
    {
     "data": {
      "text/plain": [
       "Index(['cell_specimen_id', 'ophys_experiment_id', 'intercept_weights',\n",
       "       'hits_weights', 'misses_weights', 'omissions_weights',\n",
       "       'running_weights', 'pupil_weights', 'licks_weights', 'image0_weights',\n",
       "       'image1_weights', 'image2_weights', 'image3_weights', 'image4_weights',\n",
       "       'image5_weights', 'image6_weights', 'image7_weights',\n",
       "       'passive_change_weights', 'identifier', 'Full', 'all-images',\n",
       "       'all-omissions', 'behavioral', 'hits', 'image0', 'image1', 'image2',\n",
       "       'image3', 'image4', 'image5', 'image6', 'image7', 'intercept', 'licks',\n",
       "       'misses', 'omissions', 'passive_change', 'pupil', 'running',\n",
       "       'single-all-images', 'single-all-omissions', 'single-behavioral',\n",
       "       'single-hits', 'single-image0', 'single-image1', 'single-image2',\n",
       "       'single-image3', 'single-image4', 'single-image5', 'single-image6',\n",
       "       'single-image7', 'single-licks', 'single-misses', 'single-omissions',\n",
       "       'single-passive_change', 'single-pupil', 'single-running',\n",
       "       'single-task', 'single-visual', 'task', 'visual',\n",
       "       'variance_explained_full', 'cell_roi_id', 'glm_version',\n",
       "       'ophys_session_id', 'equipment_name', 'full_genotype', 'mouse_id',\n",
       "       'reporter_line', 'sex', 'age_in_days', 'cre_line', 'indicator',\n",
       "       'session_number', 'prior_exposures_to_session_type',\n",
       "       'prior_exposures_to_image_set', 'prior_exposures_to_omissions',\n",
       "       'behavior_session_id', 'ophys_container_id', 'project_code',\n",
       "       'imaging_depth', 'targeted_structure', 'date_of_acquisition',\n",
       "       'session_type', 'experience_level', 'passive', 'image_set', 'file_id',\n",
       "       'all-images_weights', 'preferred_image_weights', 'task_weights',\n",
       "       'omissions_excited', 'hits_excited', 'misses_excited', 'task_excited',\n",
       "       'all-images_excited'],\n",
       "      dtype='object')"
      ]
     },
     "execution_count": 9,
     "metadata": {},
     "output_type": "execute_result"
    }
   ],
   "source": [
    "weights.columns"
   ]
  },
  {
   "cell_type": "markdown",
   "metadata": {},
   "source": [
    "# Found variance explained and feature importance,\n",
    "- but no design matrix (including cross validation sets)"
   ]
  },
  {
   "cell_type": "code",
   "execution_count": 14,
   "metadata": {},
   "outputs": [
    {
     "ename": "ModuleNotFoundError",
     "evalue": "No module named 'dask'",
     "output_type": "error",
     "traceback": [
      "\u001b[1;31m---------------------------------------------------------------------------\u001b[0m",
      "\u001b[1;31mModuleNotFoundError\u001b[0m                       Traceback (most recent call last)",
      "\u001b[1;32mc:\\Users\\jinho.kim\\Github\\jinho_data_analysis\\notebooks\\231116_visual_behavior_glm_test.ipynb Cell 8\u001b[0m line \u001b[0;36m3\n\u001b[0;32m      <a href='vscode-notebook-cell:/c%3A/Users/jinho.kim/Github/jinho_data_analysis/notebooks/231116_visual_behavior_glm_test.ipynb#X13sZmlsZQ%3D%3D?line=0'>1</a>\u001b[0m \u001b[39mimport\u001b[39;00m \u001b[39msys\u001b[39;00m\n\u001b[0;32m      <a href='vscode-notebook-cell:/c%3A/Users/jinho.kim/Github/jinho_data_analysis/notebooks/231116_visual_behavior_glm_test.ipynb#X13sZmlsZQ%3D%3D?line=1'>2</a>\u001b[0m sys\u001b[39m.\u001b[39mpath\u001b[39m.\u001b[39mappend(\u001b[39mr\u001b[39m\u001b[39m'\u001b[39m\u001b[39mC:\u001b[39m\u001b[39m\\\u001b[39m\u001b[39mUsers\u001b[39m\u001b[39m\\\u001b[39m\u001b[39mjinho.kim\u001b[39m\u001b[39m\\\u001b[39m\u001b[39mGithub\u001b[39m\u001b[39m\\\u001b[39m\u001b[39mvisual_behavior_glm\u001b[39m\u001b[39m'\u001b[39m)\n\u001b[1;32m----> <a href='vscode-notebook-cell:/c%3A/Users/jinho.kim/Github/jinho_data_analysis/notebooks/231116_visual_behavior_glm_test.ipynb#X13sZmlsZQ%3D%3D?line=2'>3</a>\u001b[0m \u001b[39mfrom\u001b[39;00m \u001b[39mvisual_behavior_glm\u001b[39;00m \u001b[39mimport\u001b[39;00m GLM_analysis_tools \u001b[39mas\u001b[39;00m gat\n",
      "File \u001b[1;32m~\\Github\\visual_behavior_glm\\visual_behavior_glm\\GLM_analysis_tools.py:10\u001b[0m\n\u001b[0;32m      8\u001b[0m \u001b[39mimport\u001b[39;00m \u001b[39mpandas\u001b[39;00m \u001b[39mas\u001b[39;00m \u001b[39mpd\u001b[39;00m\n\u001b[0;32m      9\u001b[0m \u001b[39mimport\u001b[39;00m \u001b[39mseaborn\u001b[39;00m \u001b[39mas\u001b[39;00m \u001b[39msns\u001b[39;00m\n\u001b[1;32m---> 10\u001b[0m \u001b[39mimport\u001b[39;00m \u001b[39mxarray_mongodb\u001b[39;00m\n\u001b[0;32m     11\u001b[0m \u001b[39mfrom\u001b[39;00m \u001b[39mtqdm\u001b[39;00m \u001b[39mimport\u001b[39;00m tqdm\n\u001b[0;32m     12\u001b[0m \u001b[39mimport\u001b[39;00m \u001b[39mmatplotlib\u001b[39;00m\u001b[39m.\u001b[39;00m\u001b[39mpyplot\u001b[39;00m \u001b[39mas\u001b[39;00m \u001b[39mplt\u001b[39;00m\n",
      "File \u001b[1;32m~\\AppData\\Roaming\\Python\\Python38\\site-packages\\xarray_mongodb\\__init__.py:5\u001b[0m\n\u001b[0;32m      3\u001b[0m \u001b[39mfrom\u001b[39;00m \u001b[39m.\u001b[39;00m \u001b[39mimport\u001b[39;00m patch_pymongo\n\u001b[0;32m      4\u001b[0m \u001b[39mfrom\u001b[39;00m \u001b[39m.\u001b[39;00m\u001b[39merrors\u001b[39;00m \u001b[39mimport\u001b[39;00m DocumentNotFoundError  \u001b[39m# noqa: F401\u001b[39;00m\n\u001b[1;32m----> 5\u001b[0m \u001b[39mfrom\u001b[39;00m \u001b[39m.\u001b[39;00m\u001b[39msync\u001b[39;00m \u001b[39mimport\u001b[39;00m XarrayMongoDB  \u001b[39m# noqa: F401\u001b[39;00m\n\u001b[0;32m      7\u001b[0m \u001b[39mtry\u001b[39;00m:\n\u001b[0;32m      8\u001b[0m     __version__ \u001b[39m=\u001b[39m pkg_resources\u001b[39m.\u001b[39mget_distribution(\u001b[39m\"\u001b[39m\u001b[39mxarray_mongodb\u001b[39m\u001b[39m\"\u001b[39m)\u001b[39m.\u001b[39mversion\n",
      "File \u001b[1;32m~\\AppData\\Roaming\\Python\\Python38\\site-packages\\xarray_mongodb\\sync.py:8\u001b[0m\n\u001b[0;32m      6\u001b[0m \u001b[39mimport\u001b[39;00m \u001b[39mpymongo\u001b[39;00m\u001b[39m.\u001b[39;00m\u001b[39mdatabase\u001b[39;00m\n\u001b[0;32m      7\u001b[0m \u001b[39mimport\u001b[39;00m \u001b[39mxarray\u001b[39;00m\n\u001b[1;32m----> 8\u001b[0m \u001b[39mfrom\u001b[39;00m \u001b[39mdask\u001b[39;00m\u001b[39m.\u001b[39;00m\u001b[39mdelayed\u001b[39;00m \u001b[39mimport\u001b[39;00m Delayed\n\u001b[0;32m     10\u001b[0m \u001b[39mfrom\u001b[39;00m \u001b[39m.\u001b[39;00m\u001b[39mcommon\u001b[39;00m \u001b[39mimport\u001b[39;00m (\n\u001b[0;32m     11\u001b[0m     CHUNK_SIZE_BYTES_DEFAULT,\n\u001b[0;32m     12\u001b[0m     CHUNKS_INDEX,\n\u001b[0;32m     13\u001b[0m     EMBED_THRESHOLD_BYTES_DEFAULT,\n\u001b[0;32m     14\u001b[0m     XarrayMongoDBCommon,\n\u001b[0;32m     15\u001b[0m )\n\u001b[0;32m     16\u001b[0m \u001b[39mfrom\u001b[39;00m \u001b[39m.\u001b[39;00m\u001b[39merrors\u001b[39;00m \u001b[39mimport\u001b[39;00m DocumentNotFoundError\n",
      "\u001b[1;31mModuleNotFoundError\u001b[0m: No module named 'dask'"
     ]
    }
   ],
   "source": [
    "import sys\n",
    "sys.path.append(r'C:\\Users\\jinho.kim\\Github\\visual_behavior_glm')\n",
    "from visual_behavior_glm import GLM_analysis_tools as gat"
   ]
  },
  {
   "cell_type": "markdown",
   "metadata": {},
   "source": [
    "### Cannot just import functions from visual_behavior_glm"
   ]
  }
 ],
 "metadata": {
  "kernelspec": {
   "display_name": "allenvisb",
   "language": "python",
   "name": "python3"
  },
  "language_info": {
   "codemirror_mode": {
    "name": "ipython",
    "version": 3
   },
   "file_extension": ".py",
   "mimetype": "text/x-python",
   "name": "python",
   "nbconvert_exporter": "python",
   "pygments_lexer": "ipython3",
   "version": "3.8.18"
  }
 },
 "nbformat": 4,
 "nbformat_minor": 2
}
