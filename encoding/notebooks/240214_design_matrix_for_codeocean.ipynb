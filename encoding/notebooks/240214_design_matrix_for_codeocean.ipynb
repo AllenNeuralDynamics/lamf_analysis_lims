{
 "cells": [
  {
   "cell_type": "markdown",
   "metadata": {},
   "source": [
    "# Purpose:\n",
    "- Develop design matrix repo that can work in codeocean.\n",
    "- Use data from allen drive for now.\n",
    "- The design matrix can be used for multiple downstream repos for encoding.\n",
    "- Ref: visual behavior glm repo.\n",
    "- Requires behavior annotation to stimulus presentations table.\n",
    "- Requires interpolation of dff or events data to stimulus presentations table."
   ]
  },
  {
   "cell_type": "code",
   "execution_count": null,
   "metadata": {},
   "outputs": [],
   "source": []
  }
 ],
 "metadata": {
  "kernelspec": {
   "display_name": "napari-matplotlib",
   "language": "python",
   "name": "python3"
  },
  "language_info": {
   "name": "python",
   "version": "3.9.17"
  }
 },
 "nbformat": 4,
 "nbformat_minor": 2
}
